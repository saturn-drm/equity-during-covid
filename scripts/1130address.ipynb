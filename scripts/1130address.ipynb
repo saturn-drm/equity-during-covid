{
 "metadata": {
  "language_info": {
   "codemirror_mode": {
    "name": "ipython",
    "version": 3
   },
   "file_extension": ".py",
   "mimetype": "text/x-python",
   "name": "python",
   "nbconvert_exporter": "python",
   "pygments_lexer": "ipython3",
   "version": "3.7.7-final"
  },
  "orig_nbformat": 2,
  "kernelspec": {
   "name": "python37664bit12f9c6bab4384a7f877256d950d8a987",
   "display_name": "Python 3.7.6 64-bit"
  }
 },
 "nbformat": 4,
 "nbformat_minor": 2,
 "cells": [
  {
   "source": [
    "# convert the address to lat and lon"
   ],
   "cell_type": "markdown",
   "metadata": {}
  },
  {
   "source": [
    "## final heads intended: name, lat, lon, class, address, district"
   ],
   "cell_type": "markdown",
   "metadata": {}
  },
  {
   "source": [
    "import pandas\n",
    "import os\n",
    "basepath = '../datas/05-physical'\n",
    "csvlist = []\n",
    "for root, subfolders, subfiles in os.walk(basepath):\n",
    "    for subfile in subfiles:\n",
    "        csvlist.append(os.path.join(root, subfile))\n",
    "csvlist"
   ],
   "cell_type": "code",
   "metadata": {},
   "execution_count": 13,
   "outputs": [
    {
     "output_type": "execute_result",
     "data": {
      "text/plain": [
       "['../datas/05-physical/community-healthcare-centers.csv',\n",
       " '../datas/05-physical/diagnostic-treatment-centers.csv',\n",
       " '../datas/05-physical/covid-19-testing-sites.csv',\n",
       " '../datas/05-physical/long-term-care-facilities.csv',\n",
       " '../datas/05-physical/hospitals.csv']"
      ]
     },
     "metadata": {},
     "execution_count": 13
    }
   ]
  },
  {
   "cell_type": "code",
   "execution_count": 14,
   "metadata": {},
   "outputs": [
    {
     "output_type": "execute_result",
     "data": {
      "text/plain": [
       "'community-healthcare-centers.csv'"
      ]
     },
     "metadata": {},
     "execution_count": 14
    }
   ],
   "source": [
    "os.path.split(csvlist[0])[1]"
   ]
  },
  {
   "cell_type": "code",
   "execution_count": 36,
   "metadata": {},
   "outputs": [],
   "source": [
    "data0 = pandas.read_csv(csvlist[0])\n",
    "data0['CLASS'] = 'community-healthcare-centers'\n",
    "data0.to_csv('../datas/05-physical/community-healthcare-centers.csv', index=False)"
   ]
  },
  {
   "cell_type": "code",
   "execution_count": 39,
   "metadata": {},
   "outputs": [],
   "source": [
    "data1 = pandas.read_csv(csvlist[1])\n",
    "data1['CLASS'] = 'diagnostic-treatment-centers'\n",
    "data1.to_csv(csvlist[1], index=False)"
   ]
  },
  {
   "cell_type": "code",
   "execution_count": 40,
   "metadata": {},
   "outputs": [],
   "source": [
    "data3 = pandas.read_csv(csvlist[3])\n",
    "data3['CLASS'] = 'long-term-care-facilities'\n",
    "data3.to_csv(csvlist[3], index=False)"
   ]
  },
  {
   "cell_type": "code",
   "execution_count": 41,
   "metadata": {},
   "outputs": [],
   "source": [
    "data4 = pandas.read_csv(csvlist[4])\n",
    "data4['CLASS'] = 'hospitals'\n",
    "data4.to_csv(csvlist[4], index=False)"
   ]
  },
  {
   "cell_type": "code",
   "execution_count": 42,
   "metadata": {},
   "outputs": [
    {
     "output_type": "execute_result",
     "data": {
      "text/plain": [
       "49"
      ]
     },
     "metadata": {},
     "execution_count": 42
    }
   ],
   "source": [
    "len(data0) + len(data1) + len(data3) + len(data4)"
   ]
  },
  {
   "cell_type": "code",
   "execution_count": 48,
   "metadata": {},
   "outputs": [],
   "source": [
    "dfall = pandas.concat([data0, data1, data3, data4], ignore_index=True)\n",
    "dfall['lat'] = 0\n",
    "dfall['lng'] = 0"
   ]
  },
  {
   "cell_type": "code",
   "execution_count": 55,
   "metadata": {},
   "outputs": [
    {
     "output_type": "execute_result",
     "data": {
      "text/plain": [
       "NAME         object\n",
       "ADDRESS      object\n",
       "DISTRICT     object\n",
       "CLASS        object\n",
       "lat         float64\n",
       "lng         float64\n",
       "dtype: object"
      ]
     },
     "metadata": {},
     "execution_count": 55
    }
   ],
   "source": [
    "dfall.astype({'lat': 'float64', 'lng': 'float64'}).dtypes"
   ]
  },
  {
   "cell_type": "code",
   "execution_count": 56,
   "metadata": {},
   "outputs": [],
   "source": [
    "dfall.to_csv('../datas/medical-facilities.csv', index=False)"
   ]
  },
  {
   "cell_type": "code",
   "execution_count": 62,
   "metadata": {},
   "outputs": [
    {
     "output_type": "execute_result",
     "data": {
      "text/plain": [
       "0"
      ]
     },
     "metadata": {},
     "execution_count": 62
    }
   ],
   "source": [
    "dfall.loc[0, 'lat']"
   ]
  },
  {
   "cell_type": "code",
   "execution_count": 64,
   "metadata": {},
   "outputs": [
    {
     "output_type": "execute_result",
     "data": {
      "text/plain": [
       "                                                 NAME  \\\n",
       "0       NYC Health + Hospitals/Gotham Health, Gunhill   \n",
       "1       NYC Health + Hospitals/Gotham Health, Tremont   \n",
       "2        NYC Health + Hospitals/Gotham Health, Judson   \n",
       "3   NYC Health + Hospitals/Gotham Health, Roberto ...   \n",
       "4   NYC Health + Hospitals/Gotham Health, La Clini...   \n",
       "5   NYC Health + Hospitals/Gotham Health, St. Nich...   \n",
       "6   NYC Health + Hospitals/Gotham Health, Dyckman-...   \n",
       "7   NYC Health + Hospitals/Gotham Health, Jackson ...   \n",
       "8   NYC Health + Hospitals/Gotham Health, Women’s ...   \n",
       "9     NYC Health + Hospitals/Gotham Health, Ridgewood   \n",
       "10      NYC Health + Hospitals/Gotham Health, Parsons   \n",
       "11  NYC Health + Hospitals/Gotham Health, Springfi...   \n",
       "12  NYC Health + Hospitals/Gotham Health, South Qu...   \n",
       "13     NYC Health + Hospitals/Gotham Health, Woodside   \n",
       "14      NYC Health + Hospitals/Gotham Health, Bedford   \n",
       "15     NYC Health + Hospitals/Gotham Health, Bushwick   \n",
       "16   NYC Health + Hospitals/Gotham Health, Greenpoint   \n",
       "17  NYC Health + Hospitals/Gotham Health, Williams...   \n",
       "18  NYC Health + Hospitals/Gotham Health, Fort Greene   \n",
       "19       NYC Health + Hospitals/Gotham Health, Sumner   \n",
       "20  NYC Health + Hospitals/Gotham Health, Jonathan...   \n",
       "21  NYC Health + Hospitals/Gotham Health, Brownsville   \n",
       "22  NYC Health + Hospitals/Gotham Health, Crown He...   \n",
       "23  NYC Health + Hospitals/Gotham Health, Ida G. I...   \n",
       "24    NYC Health + Hospitals/Gotham Health, Homecrest   \n",
       "25  NYC Health + Hospitals/Gotham Health, Mariner’...   \n",
       "26   NYC Health + Hospitals/Gotham Health, Morrisania   \n",
       "27       NYC Health + Hospitals/Gotham Health, Belvis   \n",
       "28   NYC Health + Hospitals/Gotham Health, Cumberland   \n",
       "29  NYC Health + Hospitals/Gotham Health, East New...   \n",
       "30   NYC Health + Hospitals/Gotham Health, Gouverneur   \n",
       "31     NYC Health + Hospitals/Gotham Health, Sydenham   \n",
       "32   NYC Health + Hospitals/Gotham Health, Vanderbilt   \n",
       "33                       NYC Health + Hospitals/Coler   \n",
       "34                  NYC Health + Hospitals/Gouverneur   \n",
       "35                      NYC Health + Hospitals/Carter   \n",
       "36                    NYC Health + Hospitals/McKinney   \n",
       "37                    NYC Health + Hospitals/Sea View   \n",
       "38                      NYC Health + Hospitals/Jacobi   \n",
       "39                     NYC Health + Hospitals/Lincoln   \n",
       "40         NYC Health + Hospitals/North Central Bronx   \n",
       "41                NYC Health + Hospitals/Coney Island   \n",
       "42                NYC Health + Hospitals/Kings County   \n",
       "43                    NYC Health + Hospitals/Woodhull   \n",
       "44                    NYC Health + Hospitals/Bellevue   \n",
       "45                      NYC Health + Hospitals/Harlem   \n",
       "46                NYC Health + Hospitals/Metropolitan   \n",
       "47                    NYC Health + Hospitals/Elmhurst   \n",
       "48                      NYC Health + Hospitals/Queens   \n",
       "\n",
       "                                              ADDRESS       DISTRICT  \\\n",
       "0             1012 East Gunhill Road, Bronx, NY 10469          BRONX   \n",
       "1                                  1826 Arthur Avenue          BRONX   \n",
       "2                34 Spring Street, New York, NY 10012      MANHATTAN   \n",
       "3            540 East 13th Street, New York, NY 10009      MANHATTAN   \n",
       "4           413 East 120th Street, New York, NY 10035      MANHATTAN   \n",
       "5           281 West 127th Street, New York, NY 10027      MANHATTAN   \n",
       "6                175 Nagle Avenue, New York, NY 10034      MANHATTAN   \n",
       "7          34-33 Junction Boulevard, Queens, NY 11372         QUEENS   \n",
       "8          59-17 Junction Boulevard, Queens, NY 11368         QUEENS   \n",
       "9              769 Onderdonk Avenue, Queens, NY 11385         QUEENS   \n",
       "10          90-37 Parsons Boulevard, Queens, NY 11432         QUEENS   \n",
       "11     134-64 Springfield Boulevard, Queens, NY 11413         QUEENS   \n",
       "12   114-02 Guy R. Brewer Boulevard, Queens, NY 11434         QUEENS   \n",
       "13               50-53 Newtown Road, Queens, NY 11377         QUEENS   \n",
       "14        485 Throop Avenue, Brooklyn, New York 11221       BROOKLYN   \n",
       "15             335 Central Avenue, Brooklyn, NY 11221       BROOKLYN   \n",
       "16           875 Manhattan Avenue, Brooklyn, NY 11222       BROOKLYN   \n",
       "17              279 Graham Avenue, Brooklyn, NY 11211       BROOKLYN   \n",
       "18  295 Flatbush Avenue Extension, Brooklyn, NY 11201       BROOKLYN   \n",
       "19     47 Marcus Garvey Boulevard, Brooklyn, NY 11206       BROOKLYN   \n",
       "20            333 Roebling Street, Brooklyn, NY 11211       BROOKLYN   \n",
       "21             259 Bristol Street, Brooklyn, NY 11212       BROOKLYN   \n",
       "22            1218 Prospect Place, Brooklyn, NY 11213       BROOKLYN   \n",
       "23          2925 West 19th Street, Brooklyn, NY 11224       BROOKLYN   \n",
       "24                  1601 Avenue S, Brooklyn, NY 11229       BROOKLYN   \n",
       "25        2040 Forest Avenue, Staten Island, NY 10303  STATEN ISLAND   \n",
       "26          1225 Gerard Avenue, Bronx, New York 10452          BRONX   \n",
       "27       545 East 142nd Street, Bronx, New York 10454          BRONX   \n",
       "28  100 North Portland Avenue, Brooklyn, New York ...       BROOKLYN   \n",
       "29       2094 Pitkin Avenue, Brooklyn, New York 11207       BROOKLYN   \n",
       "30       227 Madison Street, New York, New York 10002      MANHATTAN   \n",
       "31    264 West 118th Street, New York, New York 10026      MANHATTAN   \n",
       "32    165 Vanderbilt Avenue, Staten Island, NY, 10304  STATEN ISLAND   \n",
       "33        900 Main Street, Roosevelt Island, NY 10044      MANHATTAN   \n",
       "34       227 Madison Street, New York, New York 10002      MANHATTAN   \n",
       "35         1752 Park Avenue, New York, New York 10035      MANHATTAN   \n",
       "36       594 Albany Avenue, Brooklyn, New York, 11203       BROOKLYN   \n",
       "37  460 Brielle Avenue, Staten Island, New York 10314  STATEN ISLAND   \n",
       "38   1400 Pelham Parkway South, Bronx, New York 10461          BRONX   \n",
       "39       234 East 149th Street, Bronx, New York 10451          BRONX   \n",
       "40         3424 Kossuth Avenue, Bronx, New York 10467          BRONX   \n",
       "41       2601 Ocean Parkway, Brooklyn, New York 11235       BROOKLYN   \n",
       "42      451 Clarkson Avenue, Brooklyn, New York 11203       BROOKLYN   \n",
       "43             760 Broadway, Brooklyn, New York 11206       BROOKLYN   \n",
       "44         462 First Avenue, New York, New York 10016      MANHATTAN   \n",
       "45         506 Lenox Avenue, New York, New York 10037      MANHATTAN   \n",
       "46        1901 First Avenue, New York, New York 10029      MANHATTAN   \n",
       "47           79-01 Broadway, Elmhurst, New York 11373         QUEENS   \n",
       "48        82-68 164th Street, Jamaica, New York 11432         QUEENS   \n",
       "\n",
       "                           CLASS  lat   lng  \n",
       "0   community-healthcare-centers   10  11.1  \n",
       "1   community-healthcare-centers   10  11.1  \n",
       "2   community-healthcare-centers   10  11.1  \n",
       "3   community-healthcare-centers   10  11.1  \n",
       "4   community-healthcare-centers   10  11.1  \n",
       "5   community-healthcare-centers   10  11.1  \n",
       "6   community-healthcare-centers   10  11.1  \n",
       "7   community-healthcare-centers   10  11.1  \n",
       "8   community-healthcare-centers   10  11.1  \n",
       "9   community-healthcare-centers   10  11.1  \n",
       "10  community-healthcare-centers   10  11.1  \n",
       "11  community-healthcare-centers   10  11.1  \n",
       "12  community-healthcare-centers   10  11.1  \n",
       "13  community-healthcare-centers   10  11.1  \n",
       "14  community-healthcare-centers   10  11.1  \n",
       "15  community-healthcare-centers   10  11.1  \n",
       "16  community-healthcare-centers   10  11.1  \n",
       "17  community-healthcare-centers   10  11.1  \n",
       "18  community-healthcare-centers   10  11.1  \n",
       "19  community-healthcare-centers   10  11.1  \n",
       "20  community-healthcare-centers   10  11.1  \n",
       "21  community-healthcare-centers   10  11.1  \n",
       "22  community-healthcare-centers   10  11.1  \n",
       "23  community-healthcare-centers   10  11.1  \n",
       "24  community-healthcare-centers   10  11.1  \n",
       "25  community-healthcare-centers   10  11.1  \n",
       "26  diagnostic-treatment-centers   10  11.1  \n",
       "27  diagnostic-treatment-centers   10  11.1  \n",
       "28  diagnostic-treatment-centers   10  11.1  \n",
       "29  diagnostic-treatment-centers   10  11.1  \n",
       "30  diagnostic-treatment-centers   10  11.1  \n",
       "31  diagnostic-treatment-centers   10  11.1  \n",
       "32  diagnostic-treatment-centers   10  11.1  \n",
       "33     long-term-care-facilities   10  11.1  \n",
       "34     long-term-care-facilities   10  11.1  \n",
       "35     long-term-care-facilities   10  11.1  \n",
       "36     long-term-care-facilities   10  11.1  \n",
       "37     long-term-care-facilities   10  11.1  \n",
       "38                     hospitals   10  11.1  \n",
       "39                     hospitals   10  11.1  \n",
       "40                     hospitals   10  11.1  \n",
       "41                     hospitals   10  11.1  \n",
       "42                     hospitals   10  11.1  \n",
       "43                     hospitals   10  11.1  \n",
       "44                     hospitals   10  11.1  \n",
       "45                     hospitals   10  11.1  \n",
       "46                     hospitals   10  11.1  \n",
       "47                     hospitals   10  11.1  \n",
       "48                     hospitals   10  11.1  "
      ],
      "text/html": "<div>\n<style scoped>\n    .dataframe tbody tr th:only-of-type {\n        vertical-align: middle;\n    }\n\n    .dataframe tbody tr th {\n        vertical-align: top;\n    }\n\n    .dataframe thead th {\n        text-align: right;\n    }\n</style>\n<table border=\"1\" class=\"dataframe\">\n  <thead>\n    <tr style=\"text-align: right;\">\n      <th></th>\n      <th>NAME</th>\n      <th>ADDRESS</th>\n      <th>DISTRICT</th>\n      <th>CLASS</th>\n      <th>lat</th>\n      <th>lng</th>\n    </tr>\n  </thead>\n  <tbody>\n    <tr>\n      <th>0</th>\n      <td>NYC Health + Hospitals/Gotham Health, Gunhill</td>\n      <td>1012 East Gunhill Road, Bronx, NY 10469</td>\n      <td>BRONX</td>\n      <td>community-healthcare-centers</td>\n      <td>10</td>\n      <td>11.1</td>\n    </tr>\n    <tr>\n      <th>1</th>\n      <td>NYC Health + Hospitals/Gotham Health, Tremont</td>\n      <td>1826 Arthur Avenue</td>\n      <td>BRONX</td>\n      <td>community-healthcare-centers</td>\n      <td>10</td>\n      <td>11.1</td>\n    </tr>\n    <tr>\n      <th>2</th>\n      <td>NYC Health + Hospitals/Gotham Health, Judson</td>\n      <td>34 Spring Street, New York, NY 10012</td>\n      <td>MANHATTAN</td>\n      <td>community-healthcare-centers</td>\n      <td>10</td>\n      <td>11.1</td>\n    </tr>\n    <tr>\n      <th>3</th>\n      <td>NYC Health + Hospitals/Gotham Health, Roberto ...</td>\n      <td>540 East 13th Street, New York, NY 10009</td>\n      <td>MANHATTAN</td>\n      <td>community-healthcare-centers</td>\n      <td>10</td>\n      <td>11.1</td>\n    </tr>\n    <tr>\n      <th>4</th>\n      <td>NYC Health + Hospitals/Gotham Health, La Clini...</td>\n      <td>413 East 120th Street, New York, NY 10035</td>\n      <td>MANHATTAN</td>\n      <td>community-healthcare-centers</td>\n      <td>10</td>\n      <td>11.1</td>\n    </tr>\n    <tr>\n      <th>5</th>\n      <td>NYC Health + Hospitals/Gotham Health, St. Nich...</td>\n      <td>281 West 127th Street, New York, NY 10027</td>\n      <td>MANHATTAN</td>\n      <td>community-healthcare-centers</td>\n      <td>10</td>\n      <td>11.1</td>\n    </tr>\n    <tr>\n      <th>6</th>\n      <td>NYC Health + Hospitals/Gotham Health, Dyckman-...</td>\n      <td>175 Nagle Avenue, New York, NY 10034</td>\n      <td>MANHATTAN</td>\n      <td>community-healthcare-centers</td>\n      <td>10</td>\n      <td>11.1</td>\n    </tr>\n    <tr>\n      <th>7</th>\n      <td>NYC Health + Hospitals/Gotham Health, Jackson ...</td>\n      <td>34-33 Junction Boulevard, Queens, NY 11372</td>\n      <td>QUEENS</td>\n      <td>community-healthcare-centers</td>\n      <td>10</td>\n      <td>11.1</td>\n    </tr>\n    <tr>\n      <th>8</th>\n      <td>NYC Health + Hospitals/Gotham Health, Women’s ...</td>\n      <td>59-17 Junction Boulevard, Queens, NY 11368</td>\n      <td>QUEENS</td>\n      <td>community-healthcare-centers</td>\n      <td>10</td>\n      <td>11.1</td>\n    </tr>\n    <tr>\n      <th>9</th>\n      <td>NYC Health + Hospitals/Gotham Health, Ridgewood</td>\n      <td>769 Onderdonk Avenue, Queens, NY 11385</td>\n      <td>QUEENS</td>\n      <td>community-healthcare-centers</td>\n      <td>10</td>\n      <td>11.1</td>\n    </tr>\n    <tr>\n      <th>10</th>\n      <td>NYC Health + Hospitals/Gotham Health, Parsons</td>\n      <td>90-37 Parsons Boulevard, Queens, NY 11432</td>\n      <td>QUEENS</td>\n      <td>community-healthcare-centers</td>\n      <td>10</td>\n      <td>11.1</td>\n    </tr>\n    <tr>\n      <th>11</th>\n      <td>NYC Health + Hospitals/Gotham Health, Springfi...</td>\n      <td>134-64 Springfield Boulevard, Queens, NY 11413</td>\n      <td>QUEENS</td>\n      <td>community-healthcare-centers</td>\n      <td>10</td>\n      <td>11.1</td>\n    </tr>\n    <tr>\n      <th>12</th>\n      <td>NYC Health + Hospitals/Gotham Health, South Qu...</td>\n      <td>114-02 Guy R. Brewer Boulevard, Queens, NY 11434</td>\n      <td>QUEENS</td>\n      <td>community-healthcare-centers</td>\n      <td>10</td>\n      <td>11.1</td>\n    </tr>\n    <tr>\n      <th>13</th>\n      <td>NYC Health + Hospitals/Gotham Health, Woodside</td>\n      <td>50-53 Newtown Road, Queens, NY 11377</td>\n      <td>QUEENS</td>\n      <td>community-healthcare-centers</td>\n      <td>10</td>\n      <td>11.1</td>\n    </tr>\n    <tr>\n      <th>14</th>\n      <td>NYC Health + Hospitals/Gotham Health, Bedford</td>\n      <td>485 Throop Avenue, Brooklyn, New York 11221</td>\n      <td>BROOKLYN</td>\n      <td>community-healthcare-centers</td>\n      <td>10</td>\n      <td>11.1</td>\n    </tr>\n    <tr>\n      <th>15</th>\n      <td>NYC Health + Hospitals/Gotham Health, Bushwick</td>\n      <td>335 Central Avenue, Brooklyn, NY 11221</td>\n      <td>BROOKLYN</td>\n      <td>community-healthcare-centers</td>\n      <td>10</td>\n      <td>11.1</td>\n    </tr>\n    <tr>\n      <th>16</th>\n      <td>NYC Health + Hospitals/Gotham Health, Greenpoint</td>\n      <td>875 Manhattan Avenue, Brooklyn, NY 11222</td>\n      <td>BROOKLYN</td>\n      <td>community-healthcare-centers</td>\n      <td>10</td>\n      <td>11.1</td>\n    </tr>\n    <tr>\n      <th>17</th>\n      <td>NYC Health + Hospitals/Gotham Health, Williams...</td>\n      <td>279 Graham Avenue, Brooklyn, NY 11211</td>\n      <td>BROOKLYN</td>\n      <td>community-healthcare-centers</td>\n      <td>10</td>\n      <td>11.1</td>\n    </tr>\n    <tr>\n      <th>18</th>\n      <td>NYC Health + Hospitals/Gotham Health, Fort Greene</td>\n      <td>295 Flatbush Avenue Extension, Brooklyn, NY 11201</td>\n      <td>BROOKLYN</td>\n      <td>community-healthcare-centers</td>\n      <td>10</td>\n      <td>11.1</td>\n    </tr>\n    <tr>\n      <th>19</th>\n      <td>NYC Health + Hospitals/Gotham Health, Sumner</td>\n      <td>47 Marcus Garvey Boulevard, Brooklyn, NY 11206</td>\n      <td>BROOKLYN</td>\n      <td>community-healthcare-centers</td>\n      <td>10</td>\n      <td>11.1</td>\n    </tr>\n    <tr>\n      <th>20</th>\n      <td>NYC Health + Hospitals/Gotham Health, Jonathan...</td>\n      <td>333 Roebling Street, Brooklyn, NY 11211</td>\n      <td>BROOKLYN</td>\n      <td>community-healthcare-centers</td>\n      <td>10</td>\n      <td>11.1</td>\n    </tr>\n    <tr>\n      <th>21</th>\n      <td>NYC Health + Hospitals/Gotham Health, Brownsville</td>\n      <td>259 Bristol Street, Brooklyn, NY 11212</td>\n      <td>BROOKLYN</td>\n      <td>community-healthcare-centers</td>\n      <td>10</td>\n      <td>11.1</td>\n    </tr>\n    <tr>\n      <th>22</th>\n      <td>NYC Health + Hospitals/Gotham Health, Crown He...</td>\n      <td>1218 Prospect Place, Brooklyn, NY 11213</td>\n      <td>BROOKLYN</td>\n      <td>community-healthcare-centers</td>\n      <td>10</td>\n      <td>11.1</td>\n    </tr>\n    <tr>\n      <th>23</th>\n      <td>NYC Health + Hospitals/Gotham Health, Ida G. I...</td>\n      <td>2925 West 19th Street, Brooklyn, NY 11224</td>\n      <td>BROOKLYN</td>\n      <td>community-healthcare-centers</td>\n      <td>10</td>\n      <td>11.1</td>\n    </tr>\n    <tr>\n      <th>24</th>\n      <td>NYC Health + Hospitals/Gotham Health, Homecrest</td>\n      <td>1601 Avenue S, Brooklyn, NY 11229</td>\n      <td>BROOKLYN</td>\n      <td>community-healthcare-centers</td>\n      <td>10</td>\n      <td>11.1</td>\n    </tr>\n    <tr>\n      <th>25</th>\n      <td>NYC Health + Hospitals/Gotham Health, Mariner’...</td>\n      <td>2040 Forest Avenue, Staten Island, NY 10303</td>\n      <td>STATEN ISLAND</td>\n      <td>community-healthcare-centers</td>\n      <td>10</td>\n      <td>11.1</td>\n    </tr>\n    <tr>\n      <th>26</th>\n      <td>NYC Health + Hospitals/Gotham Health, Morrisania</td>\n      <td>1225 Gerard Avenue, Bronx, New York 10452</td>\n      <td>BRONX</td>\n      <td>diagnostic-treatment-centers</td>\n      <td>10</td>\n      <td>11.1</td>\n    </tr>\n    <tr>\n      <th>27</th>\n      <td>NYC Health + Hospitals/Gotham Health, Belvis</td>\n      <td>545 East 142nd Street, Bronx, New York 10454</td>\n      <td>BRONX</td>\n      <td>diagnostic-treatment-centers</td>\n      <td>10</td>\n      <td>11.1</td>\n    </tr>\n    <tr>\n      <th>28</th>\n      <td>NYC Health + Hospitals/Gotham Health, Cumberland</td>\n      <td>100 North Portland Avenue, Brooklyn, New York ...</td>\n      <td>BROOKLYN</td>\n      <td>diagnostic-treatment-centers</td>\n      <td>10</td>\n      <td>11.1</td>\n    </tr>\n    <tr>\n      <th>29</th>\n      <td>NYC Health + Hospitals/Gotham Health, East New...</td>\n      <td>2094 Pitkin Avenue, Brooklyn, New York 11207</td>\n      <td>BROOKLYN</td>\n      <td>diagnostic-treatment-centers</td>\n      <td>10</td>\n      <td>11.1</td>\n    </tr>\n    <tr>\n      <th>30</th>\n      <td>NYC Health + Hospitals/Gotham Health, Gouverneur</td>\n      <td>227 Madison Street, New York, New York 10002</td>\n      <td>MANHATTAN</td>\n      <td>diagnostic-treatment-centers</td>\n      <td>10</td>\n      <td>11.1</td>\n    </tr>\n    <tr>\n      <th>31</th>\n      <td>NYC Health + Hospitals/Gotham Health, Sydenham</td>\n      <td>264 West 118th Street, New York, New York 10026</td>\n      <td>MANHATTAN</td>\n      <td>diagnostic-treatment-centers</td>\n      <td>10</td>\n      <td>11.1</td>\n    </tr>\n    <tr>\n      <th>32</th>\n      <td>NYC Health + Hospitals/Gotham Health, Vanderbilt</td>\n      <td>165 Vanderbilt Avenue, Staten Island, NY, 10304</td>\n      <td>STATEN ISLAND</td>\n      <td>diagnostic-treatment-centers</td>\n      <td>10</td>\n      <td>11.1</td>\n    </tr>\n    <tr>\n      <th>33</th>\n      <td>NYC Health + Hospitals/Coler</td>\n      <td>900 Main Street, Roosevelt Island, NY 10044</td>\n      <td>MANHATTAN</td>\n      <td>long-term-care-facilities</td>\n      <td>10</td>\n      <td>11.1</td>\n    </tr>\n    <tr>\n      <th>34</th>\n      <td>NYC Health + Hospitals/Gouverneur</td>\n      <td>227 Madison Street, New York, New York 10002</td>\n      <td>MANHATTAN</td>\n      <td>long-term-care-facilities</td>\n      <td>10</td>\n      <td>11.1</td>\n    </tr>\n    <tr>\n      <th>35</th>\n      <td>NYC Health + Hospitals/Carter</td>\n      <td>1752 Park Avenue, New York, New York 10035</td>\n      <td>MANHATTAN</td>\n      <td>long-term-care-facilities</td>\n      <td>10</td>\n      <td>11.1</td>\n    </tr>\n    <tr>\n      <th>36</th>\n      <td>NYC Health + Hospitals/McKinney</td>\n      <td>594 Albany Avenue, Brooklyn, New York, 11203</td>\n      <td>BROOKLYN</td>\n      <td>long-term-care-facilities</td>\n      <td>10</td>\n      <td>11.1</td>\n    </tr>\n    <tr>\n      <th>37</th>\n      <td>NYC Health + Hospitals/Sea View</td>\n      <td>460 Brielle Avenue, Staten Island, New York 10314</td>\n      <td>STATEN ISLAND</td>\n      <td>long-term-care-facilities</td>\n      <td>10</td>\n      <td>11.1</td>\n    </tr>\n    <tr>\n      <th>38</th>\n      <td>NYC Health + Hospitals/Jacobi</td>\n      <td>1400 Pelham Parkway South, Bronx, New York 10461</td>\n      <td>BRONX</td>\n      <td>hospitals</td>\n      <td>10</td>\n      <td>11.1</td>\n    </tr>\n    <tr>\n      <th>39</th>\n      <td>NYC Health + Hospitals/Lincoln</td>\n      <td>234 East 149th Street, Bronx, New York 10451</td>\n      <td>BRONX</td>\n      <td>hospitals</td>\n      <td>10</td>\n      <td>11.1</td>\n    </tr>\n    <tr>\n      <th>40</th>\n      <td>NYC Health + Hospitals/North Central Bronx</td>\n      <td>3424 Kossuth Avenue, Bronx, New York 10467</td>\n      <td>BRONX</td>\n      <td>hospitals</td>\n      <td>10</td>\n      <td>11.1</td>\n    </tr>\n    <tr>\n      <th>41</th>\n      <td>NYC Health + Hospitals/Coney Island</td>\n      <td>2601 Ocean Parkway, Brooklyn, New York 11235</td>\n      <td>BROOKLYN</td>\n      <td>hospitals</td>\n      <td>10</td>\n      <td>11.1</td>\n    </tr>\n    <tr>\n      <th>42</th>\n      <td>NYC Health + Hospitals/Kings County</td>\n      <td>451 Clarkson Avenue, Brooklyn, New York 11203</td>\n      <td>BROOKLYN</td>\n      <td>hospitals</td>\n      <td>10</td>\n      <td>11.1</td>\n    </tr>\n    <tr>\n      <th>43</th>\n      <td>NYC Health + Hospitals/Woodhull</td>\n      <td>760 Broadway, Brooklyn, New York 11206</td>\n      <td>BROOKLYN</td>\n      <td>hospitals</td>\n      <td>10</td>\n      <td>11.1</td>\n    </tr>\n    <tr>\n      <th>44</th>\n      <td>NYC Health + Hospitals/Bellevue</td>\n      <td>462 First Avenue, New York, New York 10016</td>\n      <td>MANHATTAN</td>\n      <td>hospitals</td>\n      <td>10</td>\n      <td>11.1</td>\n    </tr>\n    <tr>\n      <th>45</th>\n      <td>NYC Health + Hospitals/Harlem</td>\n      <td>506 Lenox Avenue, New York, New York 10037</td>\n      <td>MANHATTAN</td>\n      <td>hospitals</td>\n      <td>10</td>\n      <td>11.1</td>\n    </tr>\n    <tr>\n      <th>46</th>\n      <td>NYC Health + Hospitals/Metropolitan</td>\n      <td>1901 First Avenue, New York, New York 10029</td>\n      <td>MANHATTAN</td>\n      <td>hospitals</td>\n      <td>10</td>\n      <td>11.1</td>\n    </tr>\n    <tr>\n      <th>47</th>\n      <td>NYC Health + Hospitals/Elmhurst</td>\n      <td>79-01 Broadway, Elmhurst, New York 11373</td>\n      <td>QUEENS</td>\n      <td>hospitals</td>\n      <td>10</td>\n      <td>11.1</td>\n    </tr>\n    <tr>\n      <th>48</th>\n      <td>NYC Health + Hospitals/Queens</td>\n      <td>82-68 164th Street, Jamaica, New York 11432</td>\n      <td>QUEENS</td>\n      <td>hospitals</td>\n      <td>10</td>\n      <td>11.1</td>\n    </tr>\n  </tbody>\n</table>\n</div>"
     },
     "metadata": {},
     "execution_count": 64
    }
   ],
   "source": [
    "for index, row in dfall.iterrows():\n",
    "    dfall.loc[index, 'lat'] = 10.0\n",
    "    dfall.loc[index, 'lng'] = 11.1\n",
    "dfall"
   ]
  },
  {
   "cell_type": "code",
   "execution_count": 16,
   "metadata": {},
   "outputs": [],
   "source": [
    "import geopandas\n",
    "import geopy"
   ]
  },
  {
   "cell_type": "code",
   "execution_count": 52,
   "metadata": {},
   "outputs": [
    {
     "output_type": "error",
     "ename": "GeocoderUnavailable",
     "evalue": "HTTPSConnectionPool(host='nominatim.openstreetmap.org', port=443): Max retries exceeded with url: /search?q=34+Spring+Street%2C+New+York%2C+NY+10012&format=json&limit=1 (Caused by ProxyError('Cannot connect to proxy.', timeout('_ssl.c:1059: The handshake operation timed out')))",
     "traceback": [
      "\u001b[0;31m---------------------------------------------------------------------------\u001b[0m",
      "\u001b[0;31mtimeout\u001b[0m                                   Traceback (most recent call last)",
      "\u001b[0;32m/usr/local/lib/python3.7/site-packages/urllib3/connectionpool.py\u001b[0m in \u001b[0;36murlopen\u001b[0;34m(self, method, url, body, headers, retries, redirect, assert_same_host, timeout, pool_timeout, release_conn, chunked, body_pos, **response_kw)\u001b[0m\n\u001b[1;32m    695\u001b[0m             \u001b[0;32mif\u001b[0m \u001b[0mis_new_proxy_conn\u001b[0m \u001b[0;32mand\u001b[0m \u001b[0mhttp_tunnel_required\u001b[0m\u001b[0;34m:\u001b[0m\u001b[0;34m\u001b[0m\u001b[0;34m\u001b[0m\u001b[0m\n\u001b[0;32m--> 696\u001b[0;31m                 \u001b[0mself\u001b[0m\u001b[0;34m.\u001b[0m\u001b[0m_prepare_proxy\u001b[0m\u001b[0;34m(\u001b[0m\u001b[0mconn\u001b[0m\u001b[0;34m)\u001b[0m\u001b[0;34m\u001b[0m\u001b[0;34m\u001b[0m\u001b[0m\n\u001b[0m\u001b[1;32m    697\u001b[0m \u001b[0;34m\u001b[0m\u001b[0m\n",
      "\u001b[0;32m/usr/local/lib/python3.7/site-packages/urllib3/connectionpool.py\u001b[0m in \u001b[0;36m_prepare_proxy\u001b[0;34m(self, conn)\u001b[0m\n\u001b[1;32m    963\u001b[0m \u001b[0;34m\u001b[0m\u001b[0m\n\u001b[0;32m--> 964\u001b[0;31m         \u001b[0mconn\u001b[0m\u001b[0;34m.\u001b[0m\u001b[0mconnect\u001b[0m\u001b[0;34m(\u001b[0m\u001b[0;34m)\u001b[0m\u001b[0;34m\u001b[0m\u001b[0;34m\u001b[0m\u001b[0m\n\u001b[0m\u001b[1;32m    965\u001b[0m \u001b[0;34m\u001b[0m\u001b[0m\n",
      "\u001b[0;32m/usr/local/lib/python3.7/site-packages/urllib3/connection.py\u001b[0m in \u001b[0;36mconnect\u001b[0;34m(self)\u001b[0m\n\u001b[1;32m    420\u001b[0m             \u001b[0mssl_context\u001b[0m\u001b[0;34m=\u001b[0m\u001b[0mcontext\u001b[0m\u001b[0;34m,\u001b[0m\u001b[0;34m\u001b[0m\u001b[0;34m\u001b[0m\u001b[0m\n\u001b[0;32m--> 421\u001b[0;31m             \u001b[0mtls_in_tls\u001b[0m\u001b[0;34m=\u001b[0m\u001b[0mtls_in_tls\u001b[0m\u001b[0;34m,\u001b[0m\u001b[0;34m\u001b[0m\u001b[0;34m\u001b[0m\u001b[0m\n\u001b[0m\u001b[1;32m    422\u001b[0m         )\n",
      "\u001b[0;32m/usr/local/lib/python3.7/site-packages/urllib3/util/ssl_.py\u001b[0m in \u001b[0;36mssl_wrap_socket\u001b[0;34m(sock, keyfile, certfile, cert_reqs, ca_certs, server_hostname, ssl_version, ciphers, ssl_context, ca_cert_dir, key_password, ca_cert_data, tls_in_tls)\u001b[0m\n\u001b[1;32m    428\u001b[0m         ssl_sock = _ssl_wrap_socket_impl(\n\u001b[0;32m--> 429\u001b[0;31m             \u001b[0msock\u001b[0m\u001b[0;34m,\u001b[0m \u001b[0mcontext\u001b[0m\u001b[0;34m,\u001b[0m \u001b[0mtls_in_tls\u001b[0m\u001b[0;34m,\u001b[0m \u001b[0mserver_hostname\u001b[0m\u001b[0;34m=\u001b[0m\u001b[0mserver_hostname\u001b[0m\u001b[0;34m\u001b[0m\u001b[0;34m\u001b[0m\u001b[0m\n\u001b[0m\u001b[1;32m    430\u001b[0m         )\n",
      "\u001b[0;32m/usr/local/lib/python3.7/site-packages/urllib3/util/ssl_.py\u001b[0m in \u001b[0;36m_ssl_wrap_socket_impl\u001b[0;34m(sock, ssl_context, tls_in_tls, server_hostname)\u001b[0m\n\u001b[1;32m    471\u001b[0m     \u001b[0;32mif\u001b[0m \u001b[0mserver_hostname\u001b[0m\u001b[0;34m:\u001b[0m\u001b[0;34m\u001b[0m\u001b[0;34m\u001b[0m\u001b[0m\n\u001b[0;32m--> 472\u001b[0;31m         \u001b[0;32mreturn\u001b[0m \u001b[0mssl_context\u001b[0m\u001b[0;34m.\u001b[0m\u001b[0mwrap_socket\u001b[0m\u001b[0;34m(\u001b[0m\u001b[0msock\u001b[0m\u001b[0;34m,\u001b[0m \u001b[0mserver_hostname\u001b[0m\u001b[0;34m=\u001b[0m\u001b[0mserver_hostname\u001b[0m\u001b[0;34m)\u001b[0m\u001b[0;34m\u001b[0m\u001b[0;34m\u001b[0m\u001b[0m\n\u001b[0m\u001b[1;32m    473\u001b[0m     \u001b[0;32melse\u001b[0m\u001b[0;34m:\u001b[0m\u001b[0;34m\u001b[0m\u001b[0;34m\u001b[0m\u001b[0m\n",
      "\u001b[0;32m/usr/local/Cellar/python/3.7.7/Frameworks/Python.framework/Versions/3.7/lib/python3.7/ssl.py\u001b[0m in \u001b[0;36mwrap_socket\u001b[0;34m(self, sock, server_side, do_handshake_on_connect, suppress_ragged_eofs, server_hostname, session)\u001b[0m\n\u001b[1;32m    422\u001b[0m             \u001b[0mcontext\u001b[0m\u001b[0;34m=\u001b[0m\u001b[0mself\u001b[0m\u001b[0;34m,\u001b[0m\u001b[0;34m\u001b[0m\u001b[0;34m\u001b[0m\u001b[0m\n\u001b[0;32m--> 423\u001b[0;31m             \u001b[0msession\u001b[0m\u001b[0;34m=\u001b[0m\u001b[0msession\u001b[0m\u001b[0;34m\u001b[0m\u001b[0;34m\u001b[0m\u001b[0m\n\u001b[0m\u001b[1;32m    424\u001b[0m         )\n",
      "\u001b[0;32m/usr/local/Cellar/python/3.7.7/Frameworks/Python.framework/Versions/3.7/lib/python3.7/ssl.py\u001b[0m in \u001b[0;36m_create\u001b[0;34m(cls, sock, server_side, do_handshake_on_connect, suppress_ragged_eofs, server_hostname, context, session)\u001b[0m\n\u001b[1;32m    869\u001b[0m                         \u001b[0;32mraise\u001b[0m \u001b[0mValueError\u001b[0m\u001b[0;34m(\u001b[0m\u001b[0;34m\"do_handshake_on_connect should not be specified for non-blocking sockets\"\u001b[0m\u001b[0;34m)\u001b[0m\u001b[0;34m\u001b[0m\u001b[0;34m\u001b[0m\u001b[0m\n\u001b[0;32m--> 870\u001b[0;31m                     \u001b[0mself\u001b[0m\u001b[0;34m.\u001b[0m\u001b[0mdo_handshake\u001b[0m\u001b[0;34m(\u001b[0m\u001b[0;34m)\u001b[0m\u001b[0;34m\u001b[0m\u001b[0;34m\u001b[0m\u001b[0m\n\u001b[0m\u001b[1;32m    871\u001b[0m             \u001b[0;32mexcept\u001b[0m \u001b[0;34m(\u001b[0m\u001b[0mOSError\u001b[0m\u001b[0;34m,\u001b[0m \u001b[0mValueError\u001b[0m\u001b[0;34m)\u001b[0m\u001b[0;34m:\u001b[0m\u001b[0;34m\u001b[0m\u001b[0;34m\u001b[0m\u001b[0m\n",
      "\u001b[0;32m/usr/local/Cellar/python/3.7.7/Frameworks/Python.framework/Versions/3.7/lib/python3.7/ssl.py\u001b[0m in \u001b[0;36mdo_handshake\u001b[0;34m(self, block)\u001b[0m\n\u001b[1;32m   1138\u001b[0m                 \u001b[0mself\u001b[0m\u001b[0;34m.\u001b[0m\u001b[0msettimeout\u001b[0m\u001b[0;34m(\u001b[0m\u001b[0;32mNone\u001b[0m\u001b[0;34m)\u001b[0m\u001b[0;34m\u001b[0m\u001b[0;34m\u001b[0m\u001b[0m\n\u001b[0;32m-> 1139\u001b[0;31m             \u001b[0mself\u001b[0m\u001b[0;34m.\u001b[0m\u001b[0m_sslobj\u001b[0m\u001b[0;34m.\u001b[0m\u001b[0mdo_handshake\u001b[0m\u001b[0;34m(\u001b[0m\u001b[0;34m)\u001b[0m\u001b[0;34m\u001b[0m\u001b[0;34m\u001b[0m\u001b[0m\n\u001b[0m\u001b[1;32m   1140\u001b[0m         \u001b[0;32mfinally\u001b[0m\u001b[0;34m:\u001b[0m\u001b[0;34m\u001b[0m\u001b[0;34m\u001b[0m\u001b[0m\n",
      "\u001b[0;31mtimeout\u001b[0m: _ssl.c:1059: The handshake operation timed out",
      "\nDuring handling of the above exception, another exception occurred:\n",
      "\u001b[0;31mMaxRetryError\u001b[0m                             Traceback (most recent call last)",
      "\u001b[0;32m/usr/local/lib/python3.7/site-packages/requests/adapters.py\u001b[0m in \u001b[0;36msend\u001b[0;34m(self, request, stream, timeout, verify, cert, proxies)\u001b[0m\n\u001b[1;32m    448\u001b[0m                     \u001b[0mretries\u001b[0m\u001b[0;34m=\u001b[0m\u001b[0mself\u001b[0m\u001b[0;34m.\u001b[0m\u001b[0mmax_retries\u001b[0m\u001b[0;34m,\u001b[0m\u001b[0;34m\u001b[0m\u001b[0;34m\u001b[0m\u001b[0m\n\u001b[0;32m--> 449\u001b[0;31m                     \u001b[0mtimeout\u001b[0m\u001b[0;34m=\u001b[0m\u001b[0mtimeout\u001b[0m\u001b[0;34m\u001b[0m\u001b[0;34m\u001b[0m\u001b[0m\n\u001b[0m\u001b[1;32m    450\u001b[0m                 )\n",
      "\u001b[0;32m/usr/local/lib/python3.7/site-packages/urllib3/connectionpool.py\u001b[0m in \u001b[0;36murlopen\u001b[0;34m(self, method, url, body, headers, retries, redirect, assert_same_host, timeout, pool_timeout, release_conn, chunked, body_pos, **response_kw)\u001b[0m\n\u001b[1;32m    795\u001b[0m                 \u001b[0mbody_pos\u001b[0m\u001b[0;34m=\u001b[0m\u001b[0mbody_pos\u001b[0m\u001b[0;34m,\u001b[0m\u001b[0;34m\u001b[0m\u001b[0;34m\u001b[0m\u001b[0m\n\u001b[0;32m--> 796\u001b[0;31m                 \u001b[0;34m**\u001b[0m\u001b[0mresponse_kw\u001b[0m\u001b[0;34m\u001b[0m\u001b[0;34m\u001b[0m\u001b[0m\n\u001b[0m\u001b[1;32m    797\u001b[0m             )\n",
      "\u001b[0;32m/usr/local/lib/python3.7/site-packages/urllib3/connectionpool.py\u001b[0m in \u001b[0;36murlopen\u001b[0;34m(self, method, url, body, headers, retries, redirect, assert_same_host, timeout, pool_timeout, release_conn, chunked, body_pos, **response_kw)\u001b[0m\n\u001b[1;32m    795\u001b[0m                 \u001b[0mbody_pos\u001b[0m\u001b[0;34m=\u001b[0m\u001b[0mbody_pos\u001b[0m\u001b[0;34m,\u001b[0m\u001b[0;34m\u001b[0m\u001b[0;34m\u001b[0m\u001b[0m\n\u001b[0;32m--> 796\u001b[0;31m                 \u001b[0;34m**\u001b[0m\u001b[0mresponse_kw\u001b[0m\u001b[0;34m\u001b[0m\u001b[0;34m\u001b[0m\u001b[0m\n\u001b[0m\u001b[1;32m    797\u001b[0m             )\n",
      "\u001b[0;32m/usr/local/lib/python3.7/site-packages/urllib3/connectionpool.py\u001b[0m in \u001b[0;36murlopen\u001b[0;34m(self, method, url, body, headers, retries, redirect, assert_same_host, timeout, pool_timeout, release_conn, chunked, body_pos, **response_kw)\u001b[0m\n\u001b[1;32m    755\u001b[0m             retries = retries.increment(\n\u001b[0;32m--> 756\u001b[0;31m                 \u001b[0mmethod\u001b[0m\u001b[0;34m,\u001b[0m \u001b[0murl\u001b[0m\u001b[0;34m,\u001b[0m \u001b[0merror\u001b[0m\u001b[0;34m=\u001b[0m\u001b[0me\u001b[0m\u001b[0;34m,\u001b[0m \u001b[0m_pool\u001b[0m\u001b[0;34m=\u001b[0m\u001b[0mself\u001b[0m\u001b[0;34m,\u001b[0m \u001b[0m_stacktrace\u001b[0m\u001b[0;34m=\u001b[0m\u001b[0msys\u001b[0m\u001b[0;34m.\u001b[0m\u001b[0mexc_info\u001b[0m\u001b[0;34m(\u001b[0m\u001b[0;34m)\u001b[0m\u001b[0;34m[\u001b[0m\u001b[0;36m2\u001b[0m\u001b[0;34m]\u001b[0m\u001b[0;34m\u001b[0m\u001b[0;34m\u001b[0m\u001b[0m\n\u001b[0m\u001b[1;32m    757\u001b[0m             )\n",
      "\u001b[0;32m/usr/local/lib/python3.7/site-packages/urllib3/util/retry.py\u001b[0m in \u001b[0;36mincrement\u001b[0;34m(self, method, url, response, error, _pool, _stacktrace)\u001b[0m\n\u001b[1;32m    572\u001b[0m         \u001b[0;32mif\u001b[0m \u001b[0mnew_retry\u001b[0m\u001b[0;34m.\u001b[0m\u001b[0mis_exhausted\u001b[0m\u001b[0;34m(\u001b[0m\u001b[0;34m)\u001b[0m\u001b[0;34m:\u001b[0m\u001b[0;34m\u001b[0m\u001b[0;34m\u001b[0m\u001b[0m\n\u001b[0;32m--> 573\u001b[0;31m             \u001b[0;32mraise\u001b[0m \u001b[0mMaxRetryError\u001b[0m\u001b[0;34m(\u001b[0m\u001b[0m_pool\u001b[0m\u001b[0;34m,\u001b[0m \u001b[0murl\u001b[0m\u001b[0;34m,\u001b[0m \u001b[0merror\u001b[0m \u001b[0;32mor\u001b[0m \u001b[0mResponseError\u001b[0m\u001b[0;34m(\u001b[0m\u001b[0mcause\u001b[0m\u001b[0;34m)\u001b[0m\u001b[0;34m)\u001b[0m\u001b[0;34m\u001b[0m\u001b[0;34m\u001b[0m\u001b[0m\n\u001b[0m\u001b[1;32m    574\u001b[0m \u001b[0;34m\u001b[0m\u001b[0m\n",
      "\u001b[0;31mMaxRetryError\u001b[0m: HTTPSConnectionPool(host='nominatim.openstreetmap.org', port=443): Max retries exceeded with url: /search?q=34+Spring+Street%2C+New+York%2C+NY+10012&format=json&limit=1 (Caused by ProxyError('Cannot connect to proxy.', timeout('_ssl.c:1059: The handshake operation timed out')))",
      "\nDuring handling of the above exception, another exception occurred:\n",
      "\u001b[0;31mProxyError\u001b[0m                                Traceback (most recent call last)",
      "\u001b[0;32m/usr/local/lib/python3.7/site-packages/geopy/adapters.py\u001b[0m in \u001b[0;36m_request\u001b[0;34m(self, url, timeout, headers)\u001b[0m\n\u001b[1;32m    382\u001b[0m         \u001b[0;32mtry\u001b[0m\u001b[0;34m:\u001b[0m\u001b[0;34m\u001b[0m\u001b[0;34m\u001b[0m\u001b[0m\n\u001b[0;32m--> 383\u001b[0;31m             \u001b[0mresp\u001b[0m \u001b[0;34m=\u001b[0m \u001b[0mself\u001b[0m\u001b[0;34m.\u001b[0m\u001b[0msession\u001b[0m\u001b[0;34m.\u001b[0m\u001b[0mget\u001b[0m\u001b[0;34m(\u001b[0m\u001b[0murl\u001b[0m\u001b[0;34m,\u001b[0m \u001b[0mtimeout\u001b[0m\u001b[0;34m=\u001b[0m\u001b[0mtimeout\u001b[0m\u001b[0;34m,\u001b[0m \u001b[0mheaders\u001b[0m\u001b[0;34m=\u001b[0m\u001b[0mheaders\u001b[0m\u001b[0;34m)\u001b[0m\u001b[0;34m\u001b[0m\u001b[0;34m\u001b[0m\u001b[0m\n\u001b[0m\u001b[1;32m    384\u001b[0m         \u001b[0;32mexcept\u001b[0m \u001b[0mException\u001b[0m \u001b[0;32mas\u001b[0m \u001b[0merror\u001b[0m\u001b[0;34m:\u001b[0m\u001b[0;34m\u001b[0m\u001b[0;34m\u001b[0m\u001b[0m\n",
      "\u001b[0;32m/usr/local/lib/python3.7/site-packages/requests/sessions.py\u001b[0m in \u001b[0;36mget\u001b[0;34m(self, url, **kwargs)\u001b[0m\n\u001b[1;32m    554\u001b[0m         \u001b[0mkwargs\u001b[0m\u001b[0;34m.\u001b[0m\u001b[0msetdefault\u001b[0m\u001b[0;34m(\u001b[0m\u001b[0;34m'allow_redirects'\u001b[0m\u001b[0;34m,\u001b[0m \u001b[0;32mTrue\u001b[0m\u001b[0;34m)\u001b[0m\u001b[0;34m\u001b[0m\u001b[0;34m\u001b[0m\u001b[0m\n\u001b[0;32m--> 555\u001b[0;31m         \u001b[0;32mreturn\u001b[0m \u001b[0mself\u001b[0m\u001b[0;34m.\u001b[0m\u001b[0mrequest\u001b[0m\u001b[0;34m(\u001b[0m\u001b[0;34m'GET'\u001b[0m\u001b[0;34m,\u001b[0m \u001b[0murl\u001b[0m\u001b[0;34m,\u001b[0m \u001b[0;34m**\u001b[0m\u001b[0mkwargs\u001b[0m\u001b[0;34m)\u001b[0m\u001b[0;34m\u001b[0m\u001b[0;34m\u001b[0m\u001b[0m\n\u001b[0m\u001b[1;32m    556\u001b[0m \u001b[0;34m\u001b[0m\u001b[0m\n",
      "\u001b[0;32m/usr/local/lib/python3.7/site-packages/requests/sessions.py\u001b[0m in \u001b[0;36mrequest\u001b[0;34m(self, method, url, params, data, headers, cookies, files, auth, timeout, allow_redirects, proxies, hooks, stream, verify, cert, json)\u001b[0m\n\u001b[1;32m    541\u001b[0m         \u001b[0msend_kwargs\u001b[0m\u001b[0;34m.\u001b[0m\u001b[0mupdate\u001b[0m\u001b[0;34m(\u001b[0m\u001b[0msettings\u001b[0m\u001b[0;34m)\u001b[0m\u001b[0;34m\u001b[0m\u001b[0;34m\u001b[0m\u001b[0m\n\u001b[0;32m--> 542\u001b[0;31m         \u001b[0mresp\u001b[0m \u001b[0;34m=\u001b[0m \u001b[0mself\u001b[0m\u001b[0;34m.\u001b[0m\u001b[0msend\u001b[0m\u001b[0;34m(\u001b[0m\u001b[0mprep\u001b[0m\u001b[0;34m,\u001b[0m \u001b[0;34m**\u001b[0m\u001b[0msend_kwargs\u001b[0m\u001b[0;34m)\u001b[0m\u001b[0;34m\u001b[0m\u001b[0;34m\u001b[0m\u001b[0m\n\u001b[0m\u001b[1;32m    543\u001b[0m \u001b[0;34m\u001b[0m\u001b[0m\n",
      "\u001b[0;32m/usr/local/lib/python3.7/site-packages/requests/sessions.py\u001b[0m in \u001b[0;36msend\u001b[0;34m(self, request, **kwargs)\u001b[0m\n\u001b[1;32m    654\u001b[0m         \u001b[0;31m# Send the request\u001b[0m\u001b[0;34m\u001b[0m\u001b[0;34m\u001b[0m\u001b[0;34m\u001b[0m\u001b[0m\n\u001b[0;32m--> 655\u001b[0;31m         \u001b[0mr\u001b[0m \u001b[0;34m=\u001b[0m \u001b[0madapter\u001b[0m\u001b[0;34m.\u001b[0m\u001b[0msend\u001b[0m\u001b[0;34m(\u001b[0m\u001b[0mrequest\u001b[0m\u001b[0;34m,\u001b[0m \u001b[0;34m**\u001b[0m\u001b[0mkwargs\u001b[0m\u001b[0;34m)\u001b[0m\u001b[0;34m\u001b[0m\u001b[0;34m\u001b[0m\u001b[0m\n\u001b[0m\u001b[1;32m    656\u001b[0m \u001b[0;34m\u001b[0m\u001b[0m\n",
      "\u001b[0;32m/usr/local/lib/python3.7/site-packages/requests/adapters.py\u001b[0m in \u001b[0;36msend\u001b[0;34m(self, request, stream, timeout, verify, cert, proxies)\u001b[0m\n\u001b[1;32m    509\u001b[0m             \u001b[0;32mif\u001b[0m \u001b[0misinstance\u001b[0m\u001b[0;34m(\u001b[0m\u001b[0me\u001b[0m\u001b[0;34m.\u001b[0m\u001b[0mreason\u001b[0m\u001b[0;34m,\u001b[0m \u001b[0m_ProxyError\u001b[0m\u001b[0;34m)\u001b[0m\u001b[0;34m:\u001b[0m\u001b[0;34m\u001b[0m\u001b[0;34m\u001b[0m\u001b[0m\n\u001b[0;32m--> 510\u001b[0;31m                 \u001b[0;32mraise\u001b[0m \u001b[0mProxyError\u001b[0m\u001b[0;34m(\u001b[0m\u001b[0me\u001b[0m\u001b[0;34m,\u001b[0m \u001b[0mrequest\u001b[0m\u001b[0;34m=\u001b[0m\u001b[0mrequest\u001b[0m\u001b[0;34m)\u001b[0m\u001b[0;34m\u001b[0m\u001b[0;34m\u001b[0m\u001b[0m\n\u001b[0m\u001b[1;32m    511\u001b[0m \u001b[0;34m\u001b[0m\u001b[0m\n",
      "\u001b[0;31mProxyError\u001b[0m: HTTPSConnectionPool(host='nominatim.openstreetmap.org', port=443): Max retries exceeded with url: /search?q=34+Spring+Street%2C+New+York%2C+NY+10012&format=json&limit=1 (Caused by ProxyError('Cannot connect to proxy.', timeout('_ssl.c:1059: The handshake operation timed out')))",
      "\nDuring handling of the above exception, another exception occurred:\n",
      "\u001b[0;31mGeocoderUnavailable\u001b[0m                       Traceback (most recent call last)",
      "\u001b[0;32m<ipython-input-52-eaf31bcd96d8>\u001b[0m in \u001b[0;36m<module>\u001b[0;34m\u001b[0m\n\u001b[1;32m      1\u001b[0m \u001b[0mlocator\u001b[0m \u001b[0;34m=\u001b[0m \u001b[0mgeopy\u001b[0m\u001b[0;34m.\u001b[0m\u001b[0mNominatim\u001b[0m\u001b[0;34m(\u001b[0m\u001b[0muser_agent\u001b[0m\u001b[0;34m=\u001b[0m\u001b[0;34m'myGeocoder'\u001b[0m\u001b[0;34m)\u001b[0m\u001b[0;34m\u001b[0m\u001b[0;34m\u001b[0m\u001b[0m\n\u001b[0;32m----> 2\u001b[0;31m \u001b[0mlocation\u001b[0m \u001b[0;34m=\u001b[0m \u001b[0mlocator\u001b[0m\u001b[0;34m.\u001b[0m\u001b[0mgeocode\u001b[0m\u001b[0;34m(\u001b[0m\u001b[0;34m'34 Spring Street, New York, NY 10012'\u001b[0m\u001b[0;34m)\u001b[0m\u001b[0;34m\u001b[0m\u001b[0;34m\u001b[0m\u001b[0m\n\u001b[0m\u001b[1;32m      3\u001b[0m \u001b[0mlocation\u001b[0m\u001b[0;34m\u001b[0m\u001b[0;34m\u001b[0m\u001b[0m\n",
      "\u001b[0;32m/usr/local/lib/python3.7/site-packages/geopy/geocoders/nominatim.py\u001b[0m in \u001b[0;36mgeocode\u001b[0;34m(self, query, exactly_one, timeout, limit, addressdetails, language, geometry, extratags, country_codes, viewbox, bounded, featuretype, namedetails)\u001b[0m\n\u001b[1;32m    292\u001b[0m         \u001b[0mlogger\u001b[0m\u001b[0;34m.\u001b[0m\u001b[0mdebug\u001b[0m\u001b[0;34m(\u001b[0m\u001b[0;34m\"%s.geocode: %s\"\u001b[0m\u001b[0;34m,\u001b[0m \u001b[0mself\u001b[0m\u001b[0;34m.\u001b[0m\u001b[0m__class__\u001b[0m\u001b[0;34m.\u001b[0m\u001b[0m__name__\u001b[0m\u001b[0;34m,\u001b[0m \u001b[0murl\u001b[0m\u001b[0;34m)\u001b[0m\u001b[0;34m\u001b[0m\u001b[0;34m\u001b[0m\u001b[0m\n\u001b[1;32m    293\u001b[0m         \u001b[0mcallback\u001b[0m \u001b[0;34m=\u001b[0m \u001b[0mpartial\u001b[0m\u001b[0;34m(\u001b[0m\u001b[0mself\u001b[0m\u001b[0;34m.\u001b[0m\u001b[0m_parse_json\u001b[0m\u001b[0;34m,\u001b[0m \u001b[0mexactly_one\u001b[0m\u001b[0;34m=\u001b[0m\u001b[0mexactly_one\u001b[0m\u001b[0;34m)\u001b[0m\u001b[0;34m\u001b[0m\u001b[0;34m\u001b[0m\u001b[0m\n\u001b[0;32m--> 294\u001b[0;31m         \u001b[0;32mreturn\u001b[0m \u001b[0mself\u001b[0m\u001b[0;34m.\u001b[0m\u001b[0m_call_geocoder\u001b[0m\u001b[0;34m(\u001b[0m\u001b[0murl\u001b[0m\u001b[0;34m,\u001b[0m \u001b[0mcallback\u001b[0m\u001b[0;34m,\u001b[0m \u001b[0mtimeout\u001b[0m\u001b[0;34m=\u001b[0m\u001b[0mtimeout\u001b[0m\u001b[0;34m)\u001b[0m\u001b[0;34m\u001b[0m\u001b[0;34m\u001b[0m\u001b[0m\n\u001b[0m\u001b[1;32m    295\u001b[0m \u001b[0;34m\u001b[0m\u001b[0m\n\u001b[1;32m    296\u001b[0m     def reverse(\n",
      "\u001b[0;32m/usr/local/lib/python3.7/site-packages/geopy/geocoders/base.py\u001b[0m in \u001b[0;36m_call_geocoder\u001b[0;34m(self, url, callback, timeout, is_json, headers)\u001b[0m\n\u001b[1;32m    358\u001b[0m         \u001b[0;32mtry\u001b[0m\u001b[0;34m:\u001b[0m\u001b[0;34m\u001b[0m\u001b[0;34m\u001b[0m\u001b[0m\n\u001b[1;32m    359\u001b[0m             \u001b[0;32mif\u001b[0m \u001b[0mis_json\u001b[0m\u001b[0;34m:\u001b[0m\u001b[0;34m\u001b[0m\u001b[0;34m\u001b[0m\u001b[0m\n\u001b[0;32m--> 360\u001b[0;31m                 \u001b[0mresult\u001b[0m \u001b[0;34m=\u001b[0m \u001b[0mself\u001b[0m\u001b[0;34m.\u001b[0m\u001b[0madapter\u001b[0m\u001b[0;34m.\u001b[0m\u001b[0mget_json\u001b[0m\u001b[0;34m(\u001b[0m\u001b[0murl\u001b[0m\u001b[0;34m,\u001b[0m \u001b[0mtimeout\u001b[0m\u001b[0;34m=\u001b[0m\u001b[0mtimeout\u001b[0m\u001b[0;34m,\u001b[0m \u001b[0mheaders\u001b[0m\u001b[0;34m=\u001b[0m\u001b[0mreq_headers\u001b[0m\u001b[0;34m)\u001b[0m\u001b[0;34m\u001b[0m\u001b[0;34m\u001b[0m\u001b[0m\n\u001b[0m\u001b[1;32m    361\u001b[0m             \u001b[0;32melse\u001b[0m\u001b[0;34m:\u001b[0m\u001b[0;34m\u001b[0m\u001b[0;34m\u001b[0m\u001b[0m\n\u001b[1;32m    362\u001b[0m                 \u001b[0mresult\u001b[0m \u001b[0;34m=\u001b[0m \u001b[0mself\u001b[0m\u001b[0;34m.\u001b[0m\u001b[0madapter\u001b[0m\u001b[0;34m.\u001b[0m\u001b[0mget_text\u001b[0m\u001b[0;34m(\u001b[0m\u001b[0murl\u001b[0m\u001b[0;34m,\u001b[0m \u001b[0mtimeout\u001b[0m\u001b[0;34m=\u001b[0m\u001b[0mtimeout\u001b[0m\u001b[0;34m,\u001b[0m \u001b[0mheaders\u001b[0m\u001b[0;34m=\u001b[0m\u001b[0mreq_headers\u001b[0m\u001b[0;34m)\u001b[0m\u001b[0;34m\u001b[0m\u001b[0;34m\u001b[0m\u001b[0m\n",
      "\u001b[0;32m/usr/local/lib/python3.7/site-packages/geopy/adapters.py\u001b[0m in \u001b[0;36mget_json\u001b[0;34m(self, url, timeout, headers)\u001b[0m\n\u001b[1;32m    371\u001b[0m \u001b[0;34m\u001b[0m\u001b[0m\n\u001b[1;32m    372\u001b[0m     \u001b[0;32mdef\u001b[0m \u001b[0mget_json\u001b[0m\u001b[0;34m(\u001b[0m\u001b[0mself\u001b[0m\u001b[0;34m,\u001b[0m \u001b[0murl\u001b[0m\u001b[0;34m,\u001b[0m \u001b[0;34m*\u001b[0m\u001b[0;34m,\u001b[0m \u001b[0mtimeout\u001b[0m\u001b[0;34m,\u001b[0m \u001b[0mheaders\u001b[0m\u001b[0;34m)\u001b[0m\u001b[0;34m:\u001b[0m\u001b[0;34m\u001b[0m\u001b[0;34m\u001b[0m\u001b[0m\n\u001b[0;32m--> 373\u001b[0;31m         \u001b[0mresp\u001b[0m \u001b[0;34m=\u001b[0m \u001b[0mself\u001b[0m\u001b[0;34m.\u001b[0m\u001b[0m_request\u001b[0m\u001b[0;34m(\u001b[0m\u001b[0murl\u001b[0m\u001b[0;34m,\u001b[0m \u001b[0mtimeout\u001b[0m\u001b[0;34m=\u001b[0m\u001b[0mtimeout\u001b[0m\u001b[0;34m,\u001b[0m \u001b[0mheaders\u001b[0m\u001b[0;34m=\u001b[0m\u001b[0mheaders\u001b[0m\u001b[0;34m)\u001b[0m\u001b[0;34m\u001b[0m\u001b[0;34m\u001b[0m\u001b[0m\n\u001b[0m\u001b[1;32m    374\u001b[0m         \u001b[0;32mtry\u001b[0m\u001b[0;34m:\u001b[0m\u001b[0;34m\u001b[0m\u001b[0;34m\u001b[0m\u001b[0m\n\u001b[1;32m    375\u001b[0m             \u001b[0;32mreturn\u001b[0m \u001b[0mresp\u001b[0m\u001b[0;34m.\u001b[0m\u001b[0mjson\u001b[0m\u001b[0;34m(\u001b[0m\u001b[0;34m)\u001b[0m\u001b[0;34m\u001b[0m\u001b[0;34m\u001b[0m\u001b[0m\n",
      "\u001b[0;32m/usr/local/lib/python3.7/site-packages/geopy/adapters.py\u001b[0m in \u001b[0;36m_request\u001b[0;34m(self, url, timeout, headers)\u001b[0m\n\u001b[1;32m    393\u001b[0m                     \u001b[0;32mraise\u001b[0m \u001b[0mGeocoderServiceError\u001b[0m\u001b[0;34m(\u001b[0m\u001b[0mmessage\u001b[0m\u001b[0;34m)\u001b[0m\u001b[0;34m\u001b[0m\u001b[0;34m\u001b[0m\u001b[0m\n\u001b[1;32m    394\u001b[0m                 \u001b[0;32melse\u001b[0m\u001b[0;34m:\u001b[0m\u001b[0;34m\u001b[0m\u001b[0;34m\u001b[0m\u001b[0m\n\u001b[0;32m--> 395\u001b[0;31m                     \u001b[0;32mraise\u001b[0m \u001b[0mGeocoderUnavailable\u001b[0m\u001b[0;34m(\u001b[0m\u001b[0mmessage\u001b[0m\u001b[0;34m)\u001b[0m\u001b[0;34m\u001b[0m\u001b[0;34m\u001b[0m\u001b[0m\n\u001b[0m\u001b[1;32m    396\u001b[0m             \u001b[0;32melif\u001b[0m \u001b[0misinstance\u001b[0m\u001b[0;34m(\u001b[0m\u001b[0merror\u001b[0m\u001b[0;34m,\u001b[0m \u001b[0mrequests\u001b[0m\u001b[0;34m.\u001b[0m\u001b[0mTimeout\u001b[0m\u001b[0;34m)\u001b[0m\u001b[0;34m:\u001b[0m\u001b[0;34m\u001b[0m\u001b[0;34m\u001b[0m\u001b[0m\n\u001b[1;32m    397\u001b[0m                 \u001b[0;32mraise\u001b[0m \u001b[0mGeocoderTimedOut\u001b[0m\u001b[0;34m(\u001b[0m\u001b[0;34m\"Service timed out\"\u001b[0m\u001b[0;34m)\u001b[0m\u001b[0;34m\u001b[0m\u001b[0;34m\u001b[0m\u001b[0m\n",
      "\u001b[0;31mGeocoderUnavailable\u001b[0m: HTTPSConnectionPool(host='nominatim.openstreetmap.org', port=443): Max retries exceeded with url: /search?q=34+Spring+Street%2C+New+York%2C+NY+10012&format=json&limit=1 (Caused by ProxyError('Cannot connect to proxy.', timeout('_ssl.c:1059: The handshake operation timed out')))"
     ]
    }
   ],
   "source": [
    "locator = geopy.Nominatim(user_agent='myGeocoder')\n",
    "location = locator.geocode('34 Spring Street, New York, NY 10012')\n",
    "location"
   ]
  },
  {
   "source": [
    "# converting testing points"
   ],
   "cell_type": "markdown",
   "metadata": {}
  },
  {
   "cell_type": "code",
   "execution_count": 1,
   "metadata": {},
   "outputs": [
    {
     "output_type": "execute_result",
     "data": {
      "text/plain": [
       "(27, 4)"
      ]
     },
     "metadata": {},
     "execution_count": 1
    }
   ],
   "source": [
    "import pandas\n",
    "data = pandas.read_csv('../datas/05-physical/covid-19-testing-sites.csv')\n",
    "data.shape"
   ]
  },
  {
   "cell_type": "code",
   "execution_count": 3,
   "metadata": {},
   "outputs": [
    {
     "output_type": "execute_result",
     "data": {
      "text/plain": [
       "NAME         object\n",
       "ADDRESS      object\n",
       "DISTRICT    float64\n",
       "CLASS        object\n",
       "lat         float64\n",
       "lng         float64\n",
       "location     object\n",
       "dtype: object"
      ]
     },
     "metadata": {},
     "execution_count": 3
    }
   ],
   "source": [
    "data['lat'] = 0.0\n",
    "data['lng'] = 0.0\n",
    "data['location'] = ''\n",
    "data.dtypes"
   ]
  },
  {
   "cell_type": "code",
   "execution_count": 5,
   "metadata": {},
   "outputs": [],
   "source": [
    "data.to_csv('../datas/05-physical/covid-19-testing-sites.csv', index=False)"
   ]
  },
  {
   "source": [
    "# calculate the numbers of each kind of medical resources within half-an-hour drive distance"
   ],
   "cell_type": "markdown",
   "metadata": {}
  },
  {
   "cell_type": "code",
   "execution_count": 23,
   "metadata": {},
   "outputs": [
    {
     "output_type": "execute_result",
     "data": {
      "text/plain": [
       "          label  ...                                           geometry\n",
       "0  10001, 10118  ...  MULTIPOLYGON (((-73.98774 40.74407, -73.98819 ...\n",
       "1         10002  ...  MULTIPOLYGON (((-73.99750 40.71407, -73.99709 ...\n",
       "2         10003  ...  MULTIPOLYGON (((-73.98864 40.72293, -73.98876 ...\n",
       "3         10004  ...  MULTIPOLYGON (((-74.00827 40.70772, -74.00937 ...\n",
       "4         10005  ...  MULTIPOLYGON (((-74.00783 40.70309, -74.00786 ...\n",
       "\n",
       "[5 rows x 5 columns]"
      ],
      "text/html": "<div>\n<style scoped>\n    .dataframe tbody tr th:only-of-type {\n        vertical-align: middle;\n    }\n\n    .dataframe tbody tr th {\n        vertical-align: top;\n    }\n\n    .dataframe thead th {\n        text-align: right;\n    }\n</style>\n<table border=\"1\" class=\"dataframe\">\n  <thead>\n    <tr style=\"text-align: right;\">\n      <th></th>\n      <th>label</th>\n      <th>modzcta</th>\n      <th>pop_est</th>\n      <th>zcta</th>\n      <th>geometry</th>\n    </tr>\n  </thead>\n  <tbody>\n    <tr>\n      <th>0</th>\n      <td>10001, 10118</td>\n      <td>10001</td>\n      <td>23072</td>\n      <td>10001, 10119, 10199</td>\n      <td>MULTIPOLYGON (((-73.98774 40.74407, -73.98819 ...</td>\n    </tr>\n    <tr>\n      <th>1</th>\n      <td>10002</td>\n      <td>10002</td>\n      <td>74993</td>\n      <td>10002</td>\n      <td>MULTIPOLYGON (((-73.99750 40.71407, -73.99709 ...</td>\n    </tr>\n    <tr>\n      <th>2</th>\n      <td>10003</td>\n      <td>10003</td>\n      <td>54682</td>\n      <td>10003</td>\n      <td>MULTIPOLYGON (((-73.98864 40.72293, -73.98876 ...</td>\n    </tr>\n    <tr>\n      <th>3</th>\n      <td>10004</td>\n      <td>10004</td>\n      <td>3028</td>\n      <td>10004</td>\n      <td>MULTIPOLYGON (((-74.00827 40.70772, -74.00937 ...</td>\n    </tr>\n    <tr>\n      <th>4</th>\n      <td>10005</td>\n      <td>10005</td>\n      <td>8831</td>\n      <td>10005, 10271</td>\n      <td>MULTIPOLYGON (((-74.00783 40.70309, -74.00786 ...</td>\n    </tr>\n  </tbody>\n</table>\n</div>"
     },
     "metadata": {},
     "execution_count": 23
    }
   ],
   "source": [
    "import geopandas\n",
    "shapes = geopandas.read_file('../datas/00-tractTOzcta/Modified Zip Code Tabulation Areas (MODZCTA).geojson')\n",
    "shapes.head()"
   ]
  },
  {
   "cell_type": "code",
   "execution_count": 24,
   "metadata": {},
   "outputs": [
    {
     "output_type": "execute_result",
     "data": {
      "text/plain": [
       "-73.99713787189704"
      ]
     },
     "metadata": {},
     "execution_count": 24
    }
   ],
   "source": [
    "shapes['geometry'][0].centroid.x"
   ]
  },
  {
   "cell_type": "code",
   "execution_count": 12,
   "metadata": {},
   "outputs": [
    {
     "output_type": "execute_result",
     "data": {
      "text/plain": [
       "shapely.geometry.point.Point"
      ]
     },
     "metadata": {},
     "execution_count": 12
    }
   ],
   "source": [
    "type(shapes['geometry'][0].centroid)"
   ]
  },
  {
   "cell_type": "code",
   "execution_count": 25,
   "metadata": {},
   "outputs": [
    {
     "output_type": "execute_result",
     "data": {
      "text/plain": [
       "label         object\n",
       "modzcta       object\n",
       "pop_est       object\n",
       "zcta          object\n",
       "geometry    geometry\n",
       "lat          float64\n",
       "lng          float64\n",
       "dtype: object"
      ]
     },
     "metadata": {},
     "execution_count": 25
    }
   ],
   "source": [
    "shapes['lat'] = 0.0\n",
    "shapes['lng'] = 0.0\n",
    "shapes.dtypes"
   ]
  },
  {
   "cell_type": "code",
   "execution_count": 26,
   "metadata": {},
   "outputs": [
    {
     "output_type": "execute_result",
     "data": {
      "text/plain": [
       "label         object\n",
       "modzcta       object\n",
       "pop_est       object\n",
       "zcta          object\n",
       "geometry    geometry\n",
       "lat          float64\n",
       "lng          float64\n",
       "dtype: object"
      ]
     },
     "metadata": {},
     "execution_count": 26
    }
   ],
   "source": [
    "for index, row in shapes.iterrows():\n",
    "    shapes.loc[index, 'lat'] = row['geometry'].centroid.y\n",
    "    shapes.loc[index, 'lng'] = row['geometry'].centroid.x\n",
    "shapes.dtypes"
   ]
  },
  {
   "cell_type": "code",
   "execution_count": 27,
   "metadata": {},
   "outputs": [
    {
     "output_type": "execute_result",
     "data": {
      "text/plain": [
       "          label modzcta  ...        lat        lng\n",
       "0  10001, 10118   10001  ...  40.750688 -73.997138\n",
       "1         10002   10002  ...  40.715780 -73.986174\n",
       "2         10003   10003  ...  40.731826 -73.989159\n",
       "3         10004   10004  ...  40.703747 -74.013032\n",
       "4         10005   10005  ...  40.706100 -74.008870\n",
       "\n",
       "[5 rows x 7 columns]"
      ],
      "text/html": "<div>\n<style scoped>\n    .dataframe tbody tr th:only-of-type {\n        vertical-align: middle;\n    }\n\n    .dataframe tbody tr th {\n        vertical-align: top;\n    }\n\n    .dataframe thead th {\n        text-align: right;\n    }\n</style>\n<table border=\"1\" class=\"dataframe\">\n  <thead>\n    <tr style=\"text-align: right;\">\n      <th></th>\n      <th>label</th>\n      <th>modzcta</th>\n      <th>pop_est</th>\n      <th>zcta</th>\n      <th>geometry</th>\n      <th>lat</th>\n      <th>lng</th>\n    </tr>\n  </thead>\n  <tbody>\n    <tr>\n      <th>0</th>\n      <td>10001, 10118</td>\n      <td>10001</td>\n      <td>23072</td>\n      <td>10001, 10119, 10199</td>\n      <td>MULTIPOLYGON (((-73.98774 40.74407, -73.98819 ...</td>\n      <td>40.750688</td>\n      <td>-73.997138</td>\n    </tr>\n    <tr>\n      <th>1</th>\n      <td>10002</td>\n      <td>10002</td>\n      <td>74993</td>\n      <td>10002</td>\n      <td>MULTIPOLYGON (((-73.99750 40.71407, -73.99709 ...</td>\n      <td>40.715780</td>\n      <td>-73.986174</td>\n    </tr>\n    <tr>\n      <th>2</th>\n      <td>10003</td>\n      <td>10003</td>\n      <td>54682</td>\n      <td>10003</td>\n      <td>MULTIPOLYGON (((-73.98864 40.72293, -73.98876 ...</td>\n      <td>40.731826</td>\n      <td>-73.989159</td>\n    </tr>\n    <tr>\n      <th>3</th>\n      <td>10004</td>\n      <td>10004</td>\n      <td>3028</td>\n      <td>10004</td>\n      <td>MULTIPOLYGON (((-74.00827 40.70772, -74.00937 ...</td>\n      <td>40.703747</td>\n      <td>-74.013032</td>\n    </tr>\n    <tr>\n      <th>4</th>\n      <td>10005</td>\n      <td>10005</td>\n      <td>8831</td>\n      <td>10005, 10271</td>\n      <td>MULTIPOLYGON (((-74.00783 40.70309, -74.00786 ...</td>\n      <td>40.706100</td>\n      <td>-74.008870</td>\n    </tr>\n  </tbody>\n</table>\n</div>"
     },
     "metadata": {},
     "execution_count": 27
    }
   ],
   "source": [
    "shapes.head()"
   ]
  },
  {
   "cell_type": "code",
   "execution_count": 28,
   "metadata": {},
   "outputs": [],
   "source": [
    "shapes['centroid'] = shapes['geometry'].centroid"
   ]
  },
  {
   "cell_type": "code",
   "execution_count": 33,
   "metadata": {},
   "outputs": [
    {
     "output_type": "execute_result",
     "data": {
      "text/plain": [
       "          label modzcta  ...        lng                    centroid\n",
       "0  10001, 10118   10001  ... -73.997138  POINT (-73.99714 40.75069)\n",
       "1         10002   10002  ... -73.986174  POINT (-73.98617 40.71578)\n",
       "2         10003   10003  ... -73.989159  POINT (-73.98916 40.73183)\n",
       "3         10004   10004  ... -74.013032  POINT (-74.01303 40.70375)\n",
       "4         10005   10005  ... -74.008870  POINT (-74.00887 40.70610)\n",
       "\n",
       "[5 rows x 8 columns]"
      ],
      "text/html": "<div>\n<style scoped>\n    .dataframe tbody tr th:only-of-type {\n        vertical-align: middle;\n    }\n\n    .dataframe tbody tr th {\n        vertical-align: top;\n    }\n\n    .dataframe thead th {\n        text-align: right;\n    }\n</style>\n<table border=\"1\" class=\"dataframe\">\n  <thead>\n    <tr style=\"text-align: right;\">\n      <th></th>\n      <th>label</th>\n      <th>modzcta</th>\n      <th>pop_est</th>\n      <th>zcta</th>\n      <th>geometry</th>\n      <th>lat</th>\n      <th>lng</th>\n      <th>centroid</th>\n    </tr>\n  </thead>\n  <tbody>\n    <tr>\n      <th>0</th>\n      <td>10001, 10118</td>\n      <td>10001</td>\n      <td>23072</td>\n      <td>10001, 10119, 10199</td>\n      <td>MULTIPOLYGON (((-73.98774 40.74407, -73.98819 ...</td>\n      <td>40.750688</td>\n      <td>-73.997138</td>\n      <td>POINT (-73.99714 40.75069)</td>\n    </tr>\n    <tr>\n      <th>1</th>\n      <td>10002</td>\n      <td>10002</td>\n      <td>74993</td>\n      <td>10002</td>\n      <td>MULTIPOLYGON (((-73.99750 40.71407, -73.99709 ...</td>\n      <td>40.715780</td>\n      <td>-73.986174</td>\n      <td>POINT (-73.98617 40.71578)</td>\n    </tr>\n    <tr>\n      <th>2</th>\n      <td>10003</td>\n      <td>10003</td>\n      <td>54682</td>\n      <td>10003</td>\n      <td>MULTIPOLYGON (((-73.98864 40.72293, -73.98876 ...</td>\n      <td>40.731826</td>\n      <td>-73.989159</td>\n      <td>POINT (-73.98916 40.73183)</td>\n    </tr>\n    <tr>\n      <th>3</th>\n      <td>10004</td>\n      <td>10004</td>\n      <td>3028</td>\n      <td>10004</td>\n      <td>MULTIPOLYGON (((-74.00827 40.70772, -74.00937 ...</td>\n      <td>40.703747</td>\n      <td>-74.013032</td>\n      <td>POINT (-74.01303 40.70375)</td>\n    </tr>\n    <tr>\n      <th>4</th>\n      <td>10005</td>\n      <td>10005</td>\n      <td>8831</td>\n      <td>10005, 10271</td>\n      <td>MULTIPOLYGON (((-74.00783 40.70309, -74.00786 ...</td>\n      <td>40.706100</td>\n      <td>-74.008870</td>\n      <td>POINT (-74.00887 40.70610)</td>\n    </tr>\n  </tbody>\n</table>\n</div>"
     },
     "metadata": {},
     "execution_count": 33
    }
   ],
   "source": [
    "shapes.head()"
   ]
  },
  {
   "cell_type": "code",
   "execution_count": 35,
   "metadata": {},
   "outputs": [
    {
     "output_type": "execute_result",
     "data": {
      "text/plain": [
       "7164.108221982077"
      ]
     },
     "metadata": {},
     "execution_count": 35
    }
   ],
   "source": [
    "import geopy.distance\n",
    "geopy.distance.geodesic((40.750688, -73.997138), (40.696427, -73.9512709)).meters"
   ]
  },
  {
   "cell_type": "code",
   "execution_count": 38,
   "metadata": {},
   "outputs": [
    {
     "output_type": "execute_result",
     "data": {
      "text/plain": [
       "          label modzcta  ... long-term-care-facilities hospitals\n",
       "0  10001, 10118   10001  ...                       0.0       0.0\n",
       "1         10002   10002  ...                       0.0       0.0\n",
       "2         10003   10003  ...                       0.0       0.0\n",
       "3         10004   10004  ...                       0.0       0.0\n",
       "4         10005   10005  ...                       0.0       0.0\n",
       "\n",
       "[5 rows x 12 columns]"
      ],
      "text/html": "<div>\n<style scoped>\n    .dataframe tbody tr th:only-of-type {\n        vertical-align: middle;\n    }\n\n    .dataframe tbody tr th {\n        vertical-align: top;\n    }\n\n    .dataframe thead th {\n        text-align: right;\n    }\n</style>\n<table border=\"1\" class=\"dataframe\">\n  <thead>\n    <tr style=\"text-align: right;\">\n      <th></th>\n      <th>label</th>\n      <th>modzcta</th>\n      <th>pop_est</th>\n      <th>zcta</th>\n      <th>geometry</th>\n      <th>lat</th>\n      <th>lng</th>\n      <th>centroid</th>\n      <th>community-healthcare-centers</th>\n      <th>diagnostic-treatment-centers</th>\n      <th>long-term-care-facilities</th>\n      <th>hospitals</th>\n    </tr>\n  </thead>\n  <tbody>\n    <tr>\n      <th>0</th>\n      <td>10001, 10118</td>\n      <td>10001</td>\n      <td>23072</td>\n      <td>10001, 10119, 10199</td>\n      <td>MULTIPOLYGON (((-73.98774 40.74407, -73.98819 ...</td>\n      <td>40.750688</td>\n      <td>-73.997138</td>\n      <td>POINT (-73.99714 40.75069)</td>\n      <td>0.0</td>\n      <td>0.0</td>\n      <td>0.0</td>\n      <td>0.0</td>\n    </tr>\n    <tr>\n      <th>1</th>\n      <td>10002</td>\n      <td>10002</td>\n      <td>74993</td>\n      <td>10002</td>\n      <td>MULTIPOLYGON (((-73.99750 40.71407, -73.99709 ...</td>\n      <td>40.715780</td>\n      <td>-73.986174</td>\n      <td>POINT (-73.98617 40.71578)</td>\n      <td>0.0</td>\n      <td>0.0</td>\n      <td>0.0</td>\n      <td>0.0</td>\n    </tr>\n    <tr>\n      <th>2</th>\n      <td>10003</td>\n      <td>10003</td>\n      <td>54682</td>\n      <td>10003</td>\n      <td>MULTIPOLYGON (((-73.98864 40.72293, -73.98876 ...</td>\n      <td>40.731826</td>\n      <td>-73.989159</td>\n      <td>POINT (-73.98916 40.73183)</td>\n      <td>0.0</td>\n      <td>0.0</td>\n      <td>0.0</td>\n      <td>0.0</td>\n    </tr>\n    <tr>\n      <th>3</th>\n      <td>10004</td>\n      <td>10004</td>\n      <td>3028</td>\n      <td>10004</td>\n      <td>MULTIPOLYGON (((-74.00827 40.70772, -74.00937 ...</td>\n      <td>40.703747</td>\n      <td>-74.013032</td>\n      <td>POINT (-74.01303 40.70375)</td>\n      <td>0.0</td>\n      <td>0.0</td>\n      <td>0.0</td>\n      <td>0.0</td>\n    </tr>\n    <tr>\n      <th>4</th>\n      <td>10005</td>\n      <td>10005</td>\n      <td>8831</td>\n      <td>10005, 10271</td>\n      <td>MULTIPOLYGON (((-74.00783 40.70309, -74.00786 ...</td>\n      <td>40.706100</td>\n      <td>-74.008870</td>\n      <td>POINT (-74.00887 40.70610)</td>\n      <td>0.0</td>\n      <td>0.0</td>\n      <td>0.0</td>\n      <td>0.0</td>\n    </tr>\n  </tbody>\n</table>\n</div>"
     },
     "metadata": {},
     "execution_count": 38
    }
   ],
   "source": [
    "facilities = pandas.read_csv('../datas/05-physical/medical-facilities-converted.csv')\n",
    "for kind in facilities['CLASS'].unique():\n",
    "    shapes[kind] = 0.0\n",
    "shapes.head()"
   ]
  },
  {
   "cell_type": "code",
   "execution_count": 43,
   "metadata": {},
   "outputs": [
    {
     "output_type": "execute_result",
     "data": {
      "text/plain": [
       "                                                 NAME  ...                                           location\n",
       "26   NYC Health + Hospitals/Gotham Health, Morrisania  ...  NYC Health + Hospitals/Gotham Health, Morrisan...\n",
       "27       NYC Health + Hospitals/Gotham Health, Belvis  ...  NYC Health + Hospitals/Gotham Health, Belvis, ...\n",
       "28   NYC Health + Hospitals/Gotham Health, Cumberland  ...  NYC Health + Hospitals/Gotham Health, Cumberla...\n",
       "29  NYC Health + Hospitals/Gotham Health, East New...  ...  2094, Pitkin Avenue, City Line, Brooklyn, King...\n",
       "30   NYC Health + Hospitals/Gotham Health, Gouverneur  ...  Gouverneur Health Medical Center, 227, Madison...\n",
       "31     NYC Health + Hospitals/Gotham Health, Sydenham  ...  NYC Health + Hospitals/Gotham Health, Sydenham...\n",
       "32   NYC Health + Hospitals/Gotham Health, Vanderbilt  ...  165, Vanderbilt Avenue, Staten Island, Richmon...\n",
       "\n",
       "[7 rows x 7 columns]"
      ],
      "text/html": "<div>\n<style scoped>\n    .dataframe tbody tr th:only-of-type {\n        vertical-align: middle;\n    }\n\n    .dataframe tbody tr th {\n        vertical-align: top;\n    }\n\n    .dataframe thead th {\n        text-align: right;\n    }\n</style>\n<table border=\"1\" class=\"dataframe\">\n  <thead>\n    <tr style=\"text-align: right;\">\n      <th></th>\n      <th>NAME</th>\n      <th>ADDRESS</th>\n      <th>DISTRICT</th>\n      <th>CLASS</th>\n      <th>lat</th>\n      <th>lng</th>\n      <th>location</th>\n    </tr>\n  </thead>\n  <tbody>\n    <tr>\n      <th>26</th>\n      <td>NYC Health + Hospitals/Gotham Health, Morrisania</td>\n      <td>1225 Gerard Avenue, Bronx, New York 10452</td>\n      <td>BRONX</td>\n      <td>diagnostic-treatment-centers</td>\n      <td>40.836222</td>\n      <td>-73.920093</td>\n      <td>NYC Health + Hospitals/Gotham Health, Morrisan...</td>\n    </tr>\n    <tr>\n      <th>27</th>\n      <td>NYC Health + Hospitals/Gotham Health, Belvis</td>\n      <td>545 East 142nd Street, Bronx, New York 10454</td>\n      <td>BRONX</td>\n      <td>diagnostic-treatment-centers</td>\n      <td>40.810136</td>\n      <td>-73.915788</td>\n      <td>NYC Health + Hospitals/Gotham Health, Belvis, ...</td>\n    </tr>\n    <tr>\n      <th>28</th>\n      <td>NYC Health + Hospitals/Gotham Health, Cumberland</td>\n      <td>100 North Portland Avenue, Brooklyn, New York ...</td>\n      <td>BROOKLYN</td>\n      <td>diagnostic-treatment-centers</td>\n      <td>40.695297</td>\n      <td>-73.976824</td>\n      <td>NYC Health + Hospitals/Gotham Health, Cumberla...</td>\n    </tr>\n    <tr>\n      <th>29</th>\n      <td>NYC Health + Hospitals/Gotham Health, East New...</td>\n      <td>2094 Pitkin Avenue, Brooklyn, New York 11207</td>\n      <td>BROOKLYN</td>\n      <td>diagnostic-treatment-centers</td>\n      <td>40.671845</td>\n      <td>-73.895313</td>\n      <td>2094, Pitkin Avenue, City Line, Brooklyn, King...</td>\n    </tr>\n    <tr>\n      <th>30</th>\n      <td>NYC Health + Hospitals/Gotham Health, Gouverneur</td>\n      <td>227 Madison Street, New York, New York 10002</td>\n      <td>MANHATTAN</td>\n      <td>diagnostic-treatment-centers</td>\n      <td>40.713132</td>\n      <td>-73.987825</td>\n      <td>Gouverneur Health Medical Center, 227, Madison...</td>\n    </tr>\n    <tr>\n      <th>31</th>\n      <td>NYC Health + Hospitals/Gotham Health, Sydenham</td>\n      <td>264 West 118th Street, New York, New York 10026</td>\n      <td>MANHATTAN</td>\n      <td>diagnostic-treatment-centers</td>\n      <td>40.805186</td>\n      <td>-73.953619</td>\n      <td>NYC Health + Hospitals/Gotham Health, Sydenham...</td>\n    </tr>\n    <tr>\n      <th>32</th>\n      <td>NYC Health + Hospitals/Gotham Health, Vanderbilt</td>\n      <td>165 Vanderbilt Avenue, Staten Island, NY, 10304</td>\n      <td>STATEN ISLAND</td>\n      <td>diagnostic-treatment-centers</td>\n      <td>40.619768</td>\n      <td>-74.077896</td>\n      <td>165, Vanderbilt Avenue, Staten Island, Richmon...</td>\n    </tr>\n  </tbody>\n</table>\n</div>"
     },
     "metadata": {},
     "execution_count": 43
    }
   ],
   "source": [
    "facilities[facilities['CLASS'] == 'diagnostic-treatment-centers']"
   ]
  },
  {
   "cell_type": "code",
   "execution_count": 48,
   "metadata": {},
   "outputs": [
    {
     "output_type": "execute_result",
     "data": {
      "text/plain": [
       "            label modzcta  ... long-term-care-facilities     hospitals\n",
       "0    10001, 10118   10001  ...               4244.158636   7323.623171\n",
       "1           10002   10002  ...                325.521726   4099.114902\n",
       "2           10003   10003  ...               2079.090836   5328.927916\n",
       "3           10004   10004  ...               2371.392258   5960.186070\n",
       "4           10005   10005  ...               1942.271324   5638.462696\n",
       "..            ...     ...  ...                       ...           ...\n",
       "173         11692   11692  ...              14542.398949  13937.950205\n",
       "174         11693   11693  ...              12570.221444  12594.989484\n",
       "175         11694   11694  ...              12170.321076  10226.683223\n",
       "176         11697   11697  ...              11497.132088   5719.471378\n",
       "177                 99999  ...               4088.833250   1162.019306\n",
       "\n",
       "[178 rows x 12 columns]"
      ],
      "text/html": "<div>\n<style scoped>\n    .dataframe tbody tr th:only-of-type {\n        vertical-align: middle;\n    }\n\n    .dataframe tbody tr th {\n        vertical-align: top;\n    }\n\n    .dataframe thead th {\n        text-align: right;\n    }\n</style>\n<table border=\"1\" class=\"dataframe\">\n  <thead>\n    <tr style=\"text-align: right;\">\n      <th></th>\n      <th>label</th>\n      <th>modzcta</th>\n      <th>pop_est</th>\n      <th>zcta</th>\n      <th>geometry</th>\n      <th>lat</th>\n      <th>lng</th>\n      <th>centroid</th>\n      <th>community-healthcare-centers</th>\n      <th>diagnostic-treatment-centers</th>\n      <th>long-term-care-facilities</th>\n      <th>hospitals</th>\n    </tr>\n  </thead>\n  <tbody>\n    <tr>\n      <th>0</th>\n      <td>10001, 10118</td>\n      <td>10001</td>\n      <td>23072</td>\n      <td>10001, 10119, 10199</td>\n      <td>MULTIPOLYGON (((-73.98774 40.74407, -73.98819 ...</td>\n      <td>40.750688</td>\n      <td>-73.997138</td>\n      <td>POINT (-73.99714 40.75069)</td>\n      <td>2859.212963</td>\n      <td>4244.158636</td>\n      <td>4244.158636</td>\n      <td>7323.623171</td>\n    </tr>\n    <tr>\n      <th>1</th>\n      <td>10002</td>\n      <td>10002</td>\n      <td>74993</td>\n      <td>10002</td>\n      <td>MULTIPOLYGON (((-73.99750 40.71407, -73.99709 ...</td>\n      <td>40.715780</td>\n      <td>-73.986174</td>\n      <td>POINT (-73.98617 40.71578)</td>\n      <td>1030.894027</td>\n      <td>325.521726</td>\n      <td>325.521726</td>\n      <td>4099.114902</td>\n    </tr>\n    <tr>\n      <th>2</th>\n      <td>10003</td>\n      <td>10003</td>\n      <td>54682</td>\n      <td>10003</td>\n      <td>MULTIPOLYGON (((-73.98864 40.72293, -73.98876 ...</td>\n      <td>40.731826</td>\n      <td>-73.989159</td>\n      <td>POINT (-73.98916 40.73183)</td>\n      <td>899.585186</td>\n      <td>2079.090836</td>\n      <td>2079.090836</td>\n      <td>5328.927916</td>\n    </tr>\n    <tr>\n      <th>3</th>\n      <td>10004</td>\n      <td>10004</td>\n      <td>3028</td>\n      <td>10004</td>\n      <td>MULTIPOLYGON (((-74.00827 40.70772, -74.00937 ...</td>\n      <td>40.703747</td>\n      <td>-74.013032</td>\n      <td>POINT (-74.01303 40.70375)</td>\n      <td>2460.496569</td>\n      <td>2371.392258</td>\n      <td>2371.392258</td>\n      <td>5960.186070</td>\n    </tr>\n    <tr>\n      <th>4</th>\n      <td>10005</td>\n      <td>10005</td>\n      <td>8831</td>\n      <td>10005, 10271</td>\n      <td>MULTIPOLYGON (((-74.00783 40.70309, -74.00786 ...</td>\n      <td>40.706100</td>\n      <td>-74.008870</td>\n      <td>POINT (-74.00887 40.70610)</td>\n      <td>2045.259225</td>\n      <td>1942.271324</td>\n      <td>1942.271324</td>\n      <td>5638.462696</td>\n    </tr>\n    <tr>\n      <th>...</th>\n      <td>...</td>\n      <td>...</td>\n      <td>...</td>\n      <td>...</td>\n      <td>...</td>\n      <td>...</td>\n      <td>...</td>\n      <td>...</td>\n      <td>...</td>\n      <td>...</td>\n      <td>...</td>\n      <td>...</td>\n    </tr>\n    <tr>\n      <th>173</th>\n      <td>11692</td>\n      <td>11692</td>\n      <td>20991</td>\n      <td>11692</td>\n      <td>MULTIPOLYGON (((-73.80276 40.59262, -73.80244 ...</td>\n      <td>40.592797</td>\n      <td>-73.792196</td>\n      <td>POINT (-73.79220 40.59280)</td>\n      <td>9451.049595</td>\n      <td>12375.678038</td>\n      <td>14542.398949</td>\n      <td>13937.950205</td>\n    </tr>\n    <tr>\n      <th>174</th>\n      <td>11693</td>\n      <td>11693</td>\n      <td>12919</td>\n      <td>11693</td>\n      <td>MULTIPOLYGON (((-73.82010 40.58700, -73.81943 ...</td>\n      <td>40.596457</td>\n      <td>-73.816711</td>\n      <td>POINT (-73.81671 40.59646)</td>\n      <td>9958.602467</td>\n      <td>10691.131151</td>\n      <td>12570.221444</td>\n      <td>12594.989484</td>\n    </tr>\n    <tr>\n      <th>175</th>\n      <td>11694</td>\n      <td>11694</td>\n      <td>21354</td>\n      <td>11694</td>\n      <td>MULTIPOLYGON (((-73.86496 40.56663, -73.86558 ...</td>\n      <td>40.577599</td>\n      <td>-73.844551</td>\n      <td>POINT (-73.84455 40.57760)</td>\n      <td>9886.798887</td>\n      <td>11312.717449</td>\n      <td>12170.321076</td>\n      <td>10226.683223</td>\n    </tr>\n    <tr>\n      <th>176</th>\n      <td>11697</td>\n      <td>11697</td>\n      <td>3540</td>\n      <td>11697</td>\n      <td>MULTIPOLYGON (((-73.86289 40.57606, -73.86281 ...</td>\n      <td>40.559067</td>\n      <td>-73.907198</td>\n      <td>POINT (-73.90720 40.55907)</td>\n      <td>6473.327074</td>\n      <td>12563.872968</td>\n      <td>11497.132088</td>\n      <td>5719.471378</td>\n    </tr>\n    <tr>\n      <th>177</th>\n      <td></td>\n      <td>99999</td>\n      <td>0</td>\n      <td>99999</td>\n      <td>MULTIPOLYGON (((-74.21417 40.55659, -74.21409 ...</td>\n      <td>40.709534</td>\n      <td>-73.939669</td>\n      <td>POINT (-73.93967 40.70953)</td>\n      <td>471.722055</td>\n      <td>3515.640188</td>\n      <td>4088.833250</td>\n      <td>1162.019306</td>\n    </tr>\n  </tbody>\n</table>\n<p>178 rows × 12 columns</p>\n</div>"
     },
     "metadata": {},
     "execution_count": 48
    }
   ],
   "source": [
    "for index, row in shapes.iterrows():\n",
    "    for kind in facilities['CLASS'].unique():\n",
    "        dists = []\n",
    "        tardata = facilities[facilities['CLASS'] == kind]\n",
    "        for i, r in tardata.iterrows():\n",
    "            dists.append(geopy.distance.geodesic((r['lat'], r['lng']), (row['lat'], row['lng'])).meters)\n",
    "        shapes.loc[index, kind] = min(dists)\n",
    "shapes"
   ]
  },
  {
   "cell_type": "code",
   "execution_count": 47,
   "metadata": {},
   "outputs": [
    {
     "output_type": "execute_result",
     "data": {
      "text/plain": [
       "16227.222756579697"
      ]
     },
     "metadata": {},
     "execution_count": 47
    }
   ],
   "source": [
    "geopy.distance.geodesic((shapes.loc[1]['lat'], shapes.loc[1]['lng']), (facilities.loc[1]['lat'], facilities.loc[1]['lng'])).meters"
   ]
  },
  {
   "cell_type": "code",
   "execution_count": 53,
   "metadata": {},
   "outputs": [
    {
     "output_type": "execute_result",
     "data": {
      "text/plain": [
       "    modzcta  ...     hospitals\n",
       "0     10001  ...   7323.623171\n",
       "1     10002  ...   4099.114902\n",
       "2     10003  ...   5328.927916\n",
       "3     10004  ...   5960.186070\n",
       "4     10005  ...   5638.462696\n",
       "..      ...  ...           ...\n",
       "173   11692  ...  13937.950205\n",
       "174   11693  ...  12594.989484\n",
       "175   11694  ...  10226.683223\n",
       "176   11697  ...   5719.471378\n",
       "177   99999  ...   1162.019306\n",
       "\n",
       "[178 rows x 5 columns]"
      ],
      "text/html": "<div>\n<style scoped>\n    .dataframe tbody tr th:only-of-type {\n        vertical-align: middle;\n    }\n\n    .dataframe tbody tr th {\n        vertical-align: top;\n    }\n\n    .dataframe thead th {\n        text-align: right;\n    }\n</style>\n<table border=\"1\" class=\"dataframe\">\n  <thead>\n    <tr style=\"text-align: right;\">\n      <th></th>\n      <th>modzcta</th>\n      <th>community-healthcare-centers</th>\n      <th>diagnostic-treatment-centers</th>\n      <th>long-term-care-facilities</th>\n      <th>hospitals</th>\n    </tr>\n  </thead>\n  <tbody>\n    <tr>\n      <th>0</th>\n      <td>10001</td>\n      <td>2859.212963</td>\n      <td>4244.158636</td>\n      <td>4244.158636</td>\n      <td>7323.623171</td>\n    </tr>\n    <tr>\n      <th>1</th>\n      <td>10002</td>\n      <td>1030.894027</td>\n      <td>325.521726</td>\n      <td>325.521726</td>\n      <td>4099.114902</td>\n    </tr>\n    <tr>\n      <th>2</th>\n      <td>10003</td>\n      <td>899.585186</td>\n      <td>2079.090836</td>\n      <td>2079.090836</td>\n      <td>5328.927916</td>\n    </tr>\n    <tr>\n      <th>3</th>\n      <td>10004</td>\n      <td>2460.496569</td>\n      <td>2371.392258</td>\n      <td>2371.392258</td>\n      <td>5960.186070</td>\n    </tr>\n    <tr>\n      <th>4</th>\n      <td>10005</td>\n      <td>2045.259225</td>\n      <td>1942.271324</td>\n      <td>1942.271324</td>\n      <td>5638.462696</td>\n    </tr>\n    <tr>\n      <th>...</th>\n      <td>...</td>\n      <td>...</td>\n      <td>...</td>\n      <td>...</td>\n      <td>...</td>\n    </tr>\n    <tr>\n      <th>173</th>\n      <td>11692</td>\n      <td>9451.049595</td>\n      <td>12375.678038</td>\n      <td>14542.398949</td>\n      <td>13937.950205</td>\n    </tr>\n    <tr>\n      <th>174</th>\n      <td>11693</td>\n      <td>9958.602467</td>\n      <td>10691.131151</td>\n      <td>12570.221444</td>\n      <td>12594.989484</td>\n    </tr>\n    <tr>\n      <th>175</th>\n      <td>11694</td>\n      <td>9886.798887</td>\n      <td>11312.717449</td>\n      <td>12170.321076</td>\n      <td>10226.683223</td>\n    </tr>\n    <tr>\n      <th>176</th>\n      <td>11697</td>\n      <td>6473.327074</td>\n      <td>12563.872968</td>\n      <td>11497.132088</td>\n      <td>5719.471378</td>\n    </tr>\n    <tr>\n      <th>177</th>\n      <td>99999</td>\n      <td>471.722055</td>\n      <td>3515.640188</td>\n      <td>4088.833250</td>\n      <td>1162.019306</td>\n    </tr>\n  </tbody>\n</table>\n<p>178 rows × 5 columns</p>\n</div>"
     },
     "metadata": {},
     "execution_count": 53
    }
   ],
   "source": [
    "shapessel = shapes[['modzcta'] + facilities['CLASS'].unique().tolist()]\n",
    "shapessel"
   ]
  },
  {
   "cell_type": "code",
   "execution_count": 62,
   "metadata": {},
   "outputs": [
    {
     "output_type": "execute_result",
     "data": {
      "text/plain": [
       "  modzcta  community-healthcare-centers  ...    hospitals          avg\n",
       "0   10001                   2859.212963  ...  7323.623171  4667.788351\n",
       "1   10002                   1030.894027  ...  4099.114902  1445.263095\n",
       "2   10003                    899.585186  ...  5328.927916  2596.673694\n",
       "3   10004                   2460.496569  ...  5960.186070  3290.866789\n",
       "4   10005                   2045.259225  ...  5638.462696  2892.066142\n",
       "\n",
       "[5 rows x 6 columns]"
      ],
      "text/html": "<div>\n<style scoped>\n    .dataframe tbody tr th:only-of-type {\n        vertical-align: middle;\n    }\n\n    .dataframe tbody tr th {\n        vertical-align: top;\n    }\n\n    .dataframe thead th {\n        text-align: right;\n    }\n</style>\n<table border=\"1\" class=\"dataframe\">\n  <thead>\n    <tr style=\"text-align: right;\">\n      <th></th>\n      <th>modzcta</th>\n      <th>community-healthcare-centers</th>\n      <th>diagnostic-treatment-centers</th>\n      <th>long-term-care-facilities</th>\n      <th>hospitals</th>\n      <th>avg</th>\n    </tr>\n  </thead>\n  <tbody>\n    <tr>\n      <th>0</th>\n      <td>10001</td>\n      <td>2859.212963</td>\n      <td>4244.158636</td>\n      <td>4244.158636</td>\n      <td>7323.623171</td>\n      <td>4667.788351</td>\n    </tr>\n    <tr>\n      <th>1</th>\n      <td>10002</td>\n      <td>1030.894027</td>\n      <td>325.521726</td>\n      <td>325.521726</td>\n      <td>4099.114902</td>\n      <td>1445.263095</td>\n    </tr>\n    <tr>\n      <th>2</th>\n      <td>10003</td>\n      <td>899.585186</td>\n      <td>2079.090836</td>\n      <td>2079.090836</td>\n      <td>5328.927916</td>\n      <td>2596.673694</td>\n    </tr>\n    <tr>\n      <th>3</th>\n      <td>10004</td>\n      <td>2460.496569</td>\n      <td>2371.392258</td>\n      <td>2371.392258</td>\n      <td>5960.186070</td>\n      <td>3290.866789</td>\n    </tr>\n    <tr>\n      <th>4</th>\n      <td>10005</td>\n      <td>2045.259225</td>\n      <td>1942.271324</td>\n      <td>1942.271324</td>\n      <td>5638.462696</td>\n      <td>2892.066142</td>\n    </tr>\n  </tbody>\n</table>\n</div>"
     },
     "metadata": {},
     "execution_count": 62
    }
   ],
   "source": [
    "shapessel['avg'] = 0.0\n",
    "for index, row in shapessel.iterrows():\n",
    "    shapessel.loc[index, 'avg'] = (row['community-healthcare-centers'] + row['diagnostic-treatment-centers'] + row['long-term-care-facilities'] + row['hospitals']) / 4\n",
    "shapessel.head()"
   ]
  },
  {
   "cell_type": "code",
   "execution_count": 63,
   "metadata": {},
   "outputs": [],
   "source": [
    "shapessel.to_csv('../datas/05-physical/medical-facilities-dist.csv', index=False)"
   ]
  },
  {
   "cell_type": "code",
   "execution_count": 56,
   "metadata": {},
   "outputs": [
    {
     "output_type": "execute_result",
     "data": {
      "text/plain": [
       "14891.581296961444"
      ]
     },
     "metadata": {},
     "execution_count": 56
    }
   ],
   "source": [
    "shapessel['community-healthcare-centers'].max()"
   ]
  },
  {
   "cell_type": "code",
   "execution_count": 57,
   "metadata": {},
   "outputs": [
    {
     "output_type": "execute_result",
     "data": {
      "text/plain": [
       "18484.353641928305"
      ]
     },
     "metadata": {},
     "execution_count": 57
    }
   ],
   "source": [
    "shapessel['diagnostic-treatment-centers'].max()"
   ]
  },
  {
   "cell_type": "code",
   "execution_count": 58,
   "metadata": {},
   "outputs": [
    {
     "output_type": "execute_result",
     "data": {
      "text/plain": [
       "19697.00610491038"
      ]
     },
     "metadata": {},
     "execution_count": 58
    }
   ],
   "source": [
    "shapessel['long-term-care-facilities'].max()"
   ]
  },
  {
   "cell_type": "code",
   "execution_count": 59,
   "metadata": {},
   "outputs": [
    {
     "output_type": "execute_result",
     "data": {
      "text/plain": [
       "24815.73487198893"
      ]
     },
     "metadata": {},
     "execution_count": 59
    }
   ],
   "source": [
    "shapessel['hospitals'].max()"
   ]
  },
  {
   "cell_type": "code",
   "execution_count": 60,
   "metadata": {},
   "outputs": [
    {
     "output_type": "execute_result",
     "data": {
      "text/plain": [
       "62.03933717997233"
      ]
     },
     "metadata": {},
     "execution_count": 60
    }
   ],
   "source": [
    "24815.73487198893 / 400"
   ]
  },
  {
   "cell_type": "code",
   "execution_count": 64,
   "metadata": {},
   "outputs": [
    {
     "output_type": "execute_result",
     "data": {
      "text/plain": [
       "17797.723626337454"
      ]
     },
     "metadata": {},
     "execution_count": 64
    }
   ],
   "source": [
    "shapessel['avg'].max()"
   ]
  },
  {
   "cell_type": "code",
   "execution_count": 65,
   "metadata": {},
   "outputs": [
    {
     "output_type": "execute_result",
     "data": {
      "text/plain": [
       "917.5688810647273"
      ]
     },
     "metadata": {},
     "execution_count": 65
    }
   ],
   "source": [
    "shapessel['avg'].min()"
   ]
  },
  {
   "cell_type": "code",
   "execution_count": null,
   "metadata": {},
   "outputs": [],
   "source": []
  }
 ]
}