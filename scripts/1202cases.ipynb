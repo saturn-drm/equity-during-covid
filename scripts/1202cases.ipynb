{
 "metadata": {
  "language_info": {
   "codemirror_mode": {
    "name": "ipython",
    "version": 3
   },
   "file_extension": ".py",
   "mimetype": "text/x-python",
   "name": "python",
   "nbconvert_exporter": "python",
   "pygments_lexer": "ipython3",
   "version": "3.7.7-final"
  },
  "orig_nbformat": 2,
  "kernelspec": {
   "name": "python37664bit12f9c6bab4384a7f877256d950d8a987",
   "display_name": "Python 3.7.6 64-bit"
  }
 },
 "nbformat": 4,
 "nbformat_minor": 2,
 "cells": [
  {
   "source": [
    "# deal with cases by modzcta"
   ],
   "cell_type": "markdown",
   "metadata": {}
  },
  {
   "cell_type": "code",
   "execution_count": 1,
   "metadata": {},
   "outputs": [],
   "source": [
    "import pandas"
   ]
  },
  {
   "cell_type": "code",
   "execution_count": 2,
   "metadata": {},
   "outputs": [
    {
     "output_type": "execute_result",
     "data": {
      "text/plain": [
       "(177, 10)"
      ]
     },
     "metadata": {},
     "execution_count": 2
    }
   ],
   "source": [
    "data = pandas.read_csv('../datas/06-cases/data-by-modzcta.csv')\n",
    "data.shape"
   ]
  },
  {
   "cell_type": "code",
   "execution_count": 3,
   "metadata": {},
   "outputs": [
    {
     "output_type": "execute_result",
     "data": {
      "text/plain": [
       "   MODIFIED_ZCTA                        NEIGHBORHOOD_NAME BOROUGH_GROUP  \\\n",
       "0          10001               Chelsea/NoMad/West Chelsea     Manhattan   \n",
       "1          10002                Chinatown/Lower East Side     Manhattan   \n",
       "2          10003  East Village/Gramercy/Greenwich Village     Manhattan   \n",
       "3          10004                       Financial District     Manhattan   \n",
       "4          10005                       Financial District     Manhattan   \n",
       "\n",
       "   COVID_CASE_COUNT  COVID_CASE_RATE  POP_DENOMINATOR  COVID_DEATH_COUNT  \\\n",
       "0               608          2201.85         27613.09                 28   \n",
       "1              1756          2331.30         75322.71                161   \n",
       "2               944          1748.87         53977.81                 35   \n",
       "3                70          2355.22          2972.12                  1   \n",
       "4               140          1598.68          8757.23                  2   \n",
       "\n",
       "   COVID_DEATH_RATE  PERCENT_POSITIVE  TOTAL_COVID_TESTS  \n",
       "0            101.40              4.30              12409  \n",
       "1            213.75              5.85              29657  \n",
       "2             64.84              3.04              30400  \n",
       "3             33.65              3.53               2014  \n",
       "4             22.84              3.36               3934  "
      ],
      "text/html": "<div>\n<style scoped>\n    .dataframe tbody tr th:only-of-type {\n        vertical-align: middle;\n    }\n\n    .dataframe tbody tr th {\n        vertical-align: top;\n    }\n\n    .dataframe thead th {\n        text-align: right;\n    }\n</style>\n<table border=\"1\" class=\"dataframe\">\n  <thead>\n    <tr style=\"text-align: right;\">\n      <th></th>\n      <th>MODIFIED_ZCTA</th>\n      <th>NEIGHBORHOOD_NAME</th>\n      <th>BOROUGH_GROUP</th>\n      <th>COVID_CASE_COUNT</th>\n      <th>COVID_CASE_RATE</th>\n      <th>POP_DENOMINATOR</th>\n      <th>COVID_DEATH_COUNT</th>\n      <th>COVID_DEATH_RATE</th>\n      <th>PERCENT_POSITIVE</th>\n      <th>TOTAL_COVID_TESTS</th>\n    </tr>\n  </thead>\n  <tbody>\n    <tr>\n      <th>0</th>\n      <td>10001</td>\n      <td>Chelsea/NoMad/West Chelsea</td>\n      <td>Manhattan</td>\n      <td>608</td>\n      <td>2201.85</td>\n      <td>27613.09</td>\n      <td>28</td>\n      <td>101.40</td>\n      <td>4.30</td>\n      <td>12409</td>\n    </tr>\n    <tr>\n      <th>1</th>\n      <td>10002</td>\n      <td>Chinatown/Lower East Side</td>\n      <td>Manhattan</td>\n      <td>1756</td>\n      <td>2331.30</td>\n      <td>75322.71</td>\n      <td>161</td>\n      <td>213.75</td>\n      <td>5.85</td>\n      <td>29657</td>\n    </tr>\n    <tr>\n      <th>2</th>\n      <td>10003</td>\n      <td>East Village/Gramercy/Greenwich Village</td>\n      <td>Manhattan</td>\n      <td>944</td>\n      <td>1748.87</td>\n      <td>53977.81</td>\n      <td>35</td>\n      <td>64.84</td>\n      <td>3.04</td>\n      <td>30400</td>\n    </tr>\n    <tr>\n      <th>3</th>\n      <td>10004</td>\n      <td>Financial District</td>\n      <td>Manhattan</td>\n      <td>70</td>\n      <td>2355.22</td>\n      <td>2972.12</td>\n      <td>1</td>\n      <td>33.65</td>\n      <td>3.53</td>\n      <td>2014</td>\n    </tr>\n    <tr>\n      <th>4</th>\n      <td>10005</td>\n      <td>Financial District</td>\n      <td>Manhattan</td>\n      <td>140</td>\n      <td>1598.68</td>\n      <td>8757.23</td>\n      <td>2</td>\n      <td>22.84</td>\n      <td>3.36</td>\n      <td>3934</td>\n    </tr>\n  </tbody>\n</table>\n</div>"
     },
     "metadata": {},
     "execution_count": 3
    }
   ],
   "source": [
    "data.head()"
   ]
  },
  {
   "cell_type": "code",
   "execution_count": 4,
   "metadata": {},
   "outputs": [
    {
     "output_type": "execute_result",
     "data": {
      "text/plain": [
       "(177, 4)"
      ]
     },
     "metadata": {},
     "execution_count": 4
    }
   ],
   "source": [
    "data = data[['MODIFIED_ZCTA', 'NEIGHBORHOOD_NAME', 'COVID_CASE_RATE', 'COVID_DEATH_RATE']]\n",
    "data.shape"
   ]
  },
  {
   "cell_type": "code",
   "execution_count": 5,
   "metadata": {},
   "outputs": [
    {
     "output_type": "execute_result",
     "data": {
      "text/plain": [
       "   MODIFIED_ZCTA                        NEIGHBORHOOD_NAME  COVID_CASE_RATE  \\\n",
       "0          10001               Chelsea/NoMad/West Chelsea          2201.85   \n",
       "1          10002                Chinatown/Lower East Side          2331.30   \n",
       "2          10003  East Village/Gramercy/Greenwich Village          1748.87   \n",
       "3          10004                       Financial District          2355.22   \n",
       "4          10005                       Financial District          1598.68   \n",
       "\n",
       "   COVID_DEATH_RATE  \n",
       "0            101.40  \n",
       "1            213.75  \n",
       "2             64.84  \n",
       "3             33.65  \n",
       "4             22.84  "
      ],
      "text/html": "<div>\n<style scoped>\n    .dataframe tbody tr th:only-of-type {\n        vertical-align: middle;\n    }\n\n    .dataframe tbody tr th {\n        vertical-align: top;\n    }\n\n    .dataframe thead th {\n        text-align: right;\n    }\n</style>\n<table border=\"1\" class=\"dataframe\">\n  <thead>\n    <tr style=\"text-align: right;\">\n      <th></th>\n      <th>MODIFIED_ZCTA</th>\n      <th>NEIGHBORHOOD_NAME</th>\n      <th>COVID_CASE_RATE</th>\n      <th>COVID_DEATH_RATE</th>\n    </tr>\n  </thead>\n  <tbody>\n    <tr>\n      <th>0</th>\n      <td>10001</td>\n      <td>Chelsea/NoMad/West Chelsea</td>\n      <td>2201.85</td>\n      <td>101.40</td>\n    </tr>\n    <tr>\n      <th>1</th>\n      <td>10002</td>\n      <td>Chinatown/Lower East Side</td>\n      <td>2331.30</td>\n      <td>213.75</td>\n    </tr>\n    <tr>\n      <th>2</th>\n      <td>10003</td>\n      <td>East Village/Gramercy/Greenwich Village</td>\n      <td>1748.87</td>\n      <td>64.84</td>\n    </tr>\n    <tr>\n      <th>3</th>\n      <td>10004</td>\n      <td>Financial District</td>\n      <td>2355.22</td>\n      <td>33.65</td>\n    </tr>\n    <tr>\n      <th>4</th>\n      <td>10005</td>\n      <td>Financial District</td>\n      <td>1598.68</td>\n      <td>22.84</td>\n    </tr>\n  </tbody>\n</table>\n</div>"
     },
     "metadata": {},
     "execution_count": 5
    }
   ],
   "source": [
    "data.head()"
   ]
  },
  {
   "cell_type": "code",
   "execution_count": 6,
   "metadata": {},
   "outputs": [
    {
     "output_type": "execute_result",
     "data": {
      "text/plain": [
       "     MODIFIED_ZCTA                        NEIGHBORHOOD_NAME  COVID_CASE_RATE  \\\n",
       "0            10001               Chelsea/NoMad/West Chelsea          2201.85   \n",
       "1            10002                Chinatown/Lower East Side          2331.30   \n",
       "2            10003  East Village/Gramercy/Greenwich Village          1748.87   \n",
       "3            10004                       Financial District          2355.22   \n",
       "4            10005                       Financial District          1598.68   \n",
       "..             ...                                      ...              ...   \n",
       "172          11691                    Edgemere/Far Rockaway          5137.88   \n",
       "173          11692                         Arverne/Edgemere          3851.80   \n",
       "174          11693                    Arverne/Broad Channel          3519.53   \n",
       "175          11694      Belle Harbor-Neponsit/Rockaway Park          4788.40   \n",
       "176          11697                             Breezy Point          5983.58   \n",
       "\n",
       "     COVID_DEATH_RATE  deathtocase  \n",
       "0              101.40     0.046052  \n",
       "1              213.75     0.091687  \n",
       "2               64.84     0.037075  \n",
       "3               33.65     0.014287  \n",
       "4               22.84     0.014287  \n",
       "..                ...          ...  \n",
       "172            569.88     0.110917  \n",
       "173            451.75     0.117283  \n",
       "174            228.85     0.065023  \n",
       "175            433.12     0.090452  \n",
       "176            147.38     0.024631  \n",
       "\n",
       "[177 rows x 5 columns]"
      ],
      "text/html": "<div>\n<style scoped>\n    .dataframe tbody tr th:only-of-type {\n        vertical-align: middle;\n    }\n\n    .dataframe tbody tr th {\n        vertical-align: top;\n    }\n\n    .dataframe thead th {\n        text-align: right;\n    }\n</style>\n<table border=\"1\" class=\"dataframe\">\n  <thead>\n    <tr style=\"text-align: right;\">\n      <th></th>\n      <th>MODIFIED_ZCTA</th>\n      <th>NEIGHBORHOOD_NAME</th>\n      <th>COVID_CASE_RATE</th>\n      <th>COVID_DEATH_RATE</th>\n      <th>deathtocase</th>\n    </tr>\n  </thead>\n  <tbody>\n    <tr>\n      <th>0</th>\n      <td>10001</td>\n      <td>Chelsea/NoMad/West Chelsea</td>\n      <td>2201.85</td>\n      <td>101.40</td>\n      <td>0.046052</td>\n    </tr>\n    <tr>\n      <th>1</th>\n      <td>10002</td>\n      <td>Chinatown/Lower East Side</td>\n      <td>2331.30</td>\n      <td>213.75</td>\n      <td>0.091687</td>\n    </tr>\n    <tr>\n      <th>2</th>\n      <td>10003</td>\n      <td>East Village/Gramercy/Greenwich Village</td>\n      <td>1748.87</td>\n      <td>64.84</td>\n      <td>0.037075</td>\n    </tr>\n    <tr>\n      <th>3</th>\n      <td>10004</td>\n      <td>Financial District</td>\n      <td>2355.22</td>\n      <td>33.65</td>\n      <td>0.014287</td>\n    </tr>\n    <tr>\n      <th>4</th>\n      <td>10005</td>\n      <td>Financial District</td>\n      <td>1598.68</td>\n      <td>22.84</td>\n      <td>0.014287</td>\n    </tr>\n    <tr>\n      <th>...</th>\n      <td>...</td>\n      <td>...</td>\n      <td>...</td>\n      <td>...</td>\n      <td>...</td>\n    </tr>\n    <tr>\n      <th>172</th>\n      <td>11691</td>\n      <td>Edgemere/Far Rockaway</td>\n      <td>5137.88</td>\n      <td>569.88</td>\n      <td>0.110917</td>\n    </tr>\n    <tr>\n      <th>173</th>\n      <td>11692</td>\n      <td>Arverne/Edgemere</td>\n      <td>3851.80</td>\n      <td>451.75</td>\n      <td>0.117283</td>\n    </tr>\n    <tr>\n      <th>174</th>\n      <td>11693</td>\n      <td>Arverne/Broad Channel</td>\n      <td>3519.53</td>\n      <td>228.85</td>\n      <td>0.065023</td>\n    </tr>\n    <tr>\n      <th>175</th>\n      <td>11694</td>\n      <td>Belle Harbor-Neponsit/Rockaway Park</td>\n      <td>4788.40</td>\n      <td>433.12</td>\n      <td>0.090452</td>\n    </tr>\n    <tr>\n      <th>176</th>\n      <td>11697</td>\n      <td>Breezy Point</td>\n      <td>5983.58</td>\n      <td>147.38</td>\n      <td>0.024631</td>\n    </tr>\n  </tbody>\n</table>\n<p>177 rows × 5 columns</p>\n</div>"
     },
     "metadata": {},
     "execution_count": 6
    }
   ],
   "source": [
    "data['deathtocase'] = data['COVID_DEATH_RATE'] / data['COVID_CASE_RATE']\n",
    "data"
   ]
  },
  {
   "cell_type": "code",
   "execution_count": 36,
   "metadata": {},
   "outputs": [],
   "source": [
    "data.to_csv('../datas/06-cases/data-by-modzcta-merged.csv', index=False)"
   ]
  },
  {
   "source": [
    "# add lat and lng"
   ],
   "cell_type": "markdown",
   "metadata": {}
  },
  {
   "cell_type": "code",
   "execution_count": 8,
   "metadata": {},
   "outputs": [],
   "source": [
    "import geopandas"
   ]
  },
  {
   "cell_type": "code",
   "execution_count": 9,
   "metadata": {},
   "outputs": [
    {
     "output_type": "execute_result",
     "data": {
      "text/plain": [
       "(178, 5)"
      ]
     },
     "metadata": {},
     "execution_count": 9
    }
   ],
   "source": [
    "geodata = geopandas.read_file('../datas/00-tractTOzcta/Modified Zip Code Tabulation Areas (MODZCTA).geojson')\n",
    "geodata.shape"
   ]
  },
  {
   "cell_type": "code",
   "execution_count": 10,
   "metadata": {},
   "outputs": [
    {
     "output_type": "execute_result",
     "data": {
      "text/plain": [
       "          label modzcta pop_est                 zcta  \\\n",
       "0  10001, 10118   10001   23072  10001, 10119, 10199   \n",
       "1         10002   10002   74993                10002   \n",
       "2         10003   10003   54682                10003   \n",
       "3         10004   10004    3028                10004   \n",
       "4         10005   10005    8831         10005, 10271   \n",
       "\n",
       "                                            geometry  \n",
       "0  MULTIPOLYGON (((-73.98774 40.74407, -73.98819 ...  \n",
       "1  MULTIPOLYGON (((-73.99750 40.71407, -73.99709 ...  \n",
       "2  MULTIPOLYGON (((-73.98864 40.72293, -73.98876 ...  \n",
       "3  MULTIPOLYGON (((-74.00827 40.70772, -74.00937 ...  \n",
       "4  MULTIPOLYGON (((-74.00783 40.70309, -74.00786 ...  "
      ],
      "text/html": "<div>\n<style scoped>\n    .dataframe tbody tr th:only-of-type {\n        vertical-align: middle;\n    }\n\n    .dataframe tbody tr th {\n        vertical-align: top;\n    }\n\n    .dataframe thead th {\n        text-align: right;\n    }\n</style>\n<table border=\"1\" class=\"dataframe\">\n  <thead>\n    <tr style=\"text-align: right;\">\n      <th></th>\n      <th>label</th>\n      <th>modzcta</th>\n      <th>pop_est</th>\n      <th>zcta</th>\n      <th>geometry</th>\n    </tr>\n  </thead>\n  <tbody>\n    <tr>\n      <th>0</th>\n      <td>10001, 10118</td>\n      <td>10001</td>\n      <td>23072</td>\n      <td>10001, 10119, 10199</td>\n      <td>MULTIPOLYGON (((-73.98774 40.74407, -73.98819 ...</td>\n    </tr>\n    <tr>\n      <th>1</th>\n      <td>10002</td>\n      <td>10002</td>\n      <td>74993</td>\n      <td>10002</td>\n      <td>MULTIPOLYGON (((-73.99750 40.71407, -73.99709 ...</td>\n    </tr>\n    <tr>\n      <th>2</th>\n      <td>10003</td>\n      <td>10003</td>\n      <td>54682</td>\n      <td>10003</td>\n      <td>MULTIPOLYGON (((-73.98864 40.72293, -73.98876 ...</td>\n    </tr>\n    <tr>\n      <th>3</th>\n      <td>10004</td>\n      <td>10004</td>\n      <td>3028</td>\n      <td>10004</td>\n      <td>MULTIPOLYGON (((-74.00827 40.70772, -74.00937 ...</td>\n    </tr>\n    <tr>\n      <th>4</th>\n      <td>10005</td>\n      <td>10005</td>\n      <td>8831</td>\n      <td>10005, 10271</td>\n      <td>MULTIPOLYGON (((-74.00783 40.70309, -74.00786 ...</td>\n    </tr>\n  </tbody>\n</table>\n</div>"
     },
     "metadata": {},
     "execution_count": 10
    }
   ],
   "source": [
    "geodata.head()"
   ]
  },
  {
   "cell_type": "code",
   "execution_count": 13,
   "metadata": {},
   "outputs": [
    {
     "output_type": "execute_result",
     "data": {
      "text/plain": [
       "label         object\n",
       "modzcta        int64\n",
       "pop_est       object\n",
       "zcta          object\n",
       "geometry    geometry\n",
       "dtype: object"
      ]
     },
     "metadata": {},
     "execution_count": 13
    }
   ],
   "source": [
    "geodata = geodata.astype({'modzcta': 'int64'})\n",
    "geodata.dtypes"
   ]
  },
  {
   "cell_type": "code",
   "execution_count": 34,
   "metadata": {},
   "outputs": [
    {
     "output_type": "execute_result",
     "data": {
      "text/plain": [
       "0    MULTIPOLYGON (((-73.98774 40.74407, -73.98819 ...\n",
       "Name: geometry, dtype: geometry"
      ]
     },
     "metadata": {},
     "execution_count": 34
    }
   ],
   "source": [
    "geodata[geodata['modzcta'] == 10001]['geometry']"
   ]
  },
  {
   "cell_type": "code",
   "execution_count": 25,
   "metadata": {},
   "outputs": [
    {
     "output_type": "execute_result",
     "data": {
      "text/plain": [
       "0.0"
      ]
     },
     "metadata": {},
     "execution_count": 25
    }
   ],
   "source": [
    "data['lat'] = 0.0\n",
    "data['lng'] = 0.0\n",
    "data.loc[0, 'lat']"
   ]
  },
  {
   "cell_type": "code",
   "execution_count": 35,
   "metadata": {},
   "outputs": [
    {
     "output_type": "execute_result",
     "data": {
      "text/plain": [
       "     MODIFIED_ZCTA                        NEIGHBORHOOD_NAME  COVID_CASE_RATE  \\\n",
       "0            10001               Chelsea/NoMad/West Chelsea          2201.85   \n",
       "1            10002                Chinatown/Lower East Side          2331.30   \n",
       "2            10003  East Village/Gramercy/Greenwich Village          1748.87   \n",
       "3            10004                       Financial District          2355.22   \n",
       "4            10005                       Financial District          1598.68   \n",
       "..             ...                                      ...              ...   \n",
       "172          11691                    Edgemere/Far Rockaway          5137.88   \n",
       "173          11692                         Arverne/Edgemere          3851.80   \n",
       "174          11693                    Arverne/Broad Channel          3519.53   \n",
       "175          11694      Belle Harbor-Neponsit/Rockaway Park          4788.40   \n",
       "176          11697                             Breezy Point          5983.58   \n",
       "\n",
       "     COVID_DEATH_RATE  deathtocase        lat        lng  \n",
       "0              101.40     0.046052  40.750688 -73.997138  \n",
       "1              213.75     0.091687  40.715780 -73.986174  \n",
       "2               64.84     0.037075  40.731826 -73.989159  \n",
       "3               33.65     0.014287  40.703747 -74.013032  \n",
       "4               22.84     0.014287  40.706100 -74.008870  \n",
       "..                ...          ...        ...        ...  \n",
       "172            569.88     0.110917  40.601329 -73.761359  \n",
       "173            451.75     0.117283  40.592797 -73.792196  \n",
       "174            228.85     0.065023  40.596457 -73.816711  \n",
       "175            433.12     0.090452  40.577599 -73.844551  \n",
       "176            147.38     0.024631  40.559067 -73.907198  \n",
       "\n",
       "[177 rows x 7 columns]"
      ],
      "text/html": "<div>\n<style scoped>\n    .dataframe tbody tr th:only-of-type {\n        vertical-align: middle;\n    }\n\n    .dataframe tbody tr th {\n        vertical-align: top;\n    }\n\n    .dataframe thead th {\n        text-align: right;\n    }\n</style>\n<table border=\"1\" class=\"dataframe\">\n  <thead>\n    <tr style=\"text-align: right;\">\n      <th></th>\n      <th>MODIFIED_ZCTA</th>\n      <th>NEIGHBORHOOD_NAME</th>\n      <th>COVID_CASE_RATE</th>\n      <th>COVID_DEATH_RATE</th>\n      <th>deathtocase</th>\n      <th>lat</th>\n      <th>lng</th>\n    </tr>\n  </thead>\n  <tbody>\n    <tr>\n      <th>0</th>\n      <td>10001</td>\n      <td>Chelsea/NoMad/West Chelsea</td>\n      <td>2201.85</td>\n      <td>101.40</td>\n      <td>0.046052</td>\n      <td>40.750688</td>\n      <td>-73.997138</td>\n    </tr>\n    <tr>\n      <th>1</th>\n      <td>10002</td>\n      <td>Chinatown/Lower East Side</td>\n      <td>2331.30</td>\n      <td>213.75</td>\n      <td>0.091687</td>\n      <td>40.715780</td>\n      <td>-73.986174</td>\n    </tr>\n    <tr>\n      <th>2</th>\n      <td>10003</td>\n      <td>East Village/Gramercy/Greenwich Village</td>\n      <td>1748.87</td>\n      <td>64.84</td>\n      <td>0.037075</td>\n      <td>40.731826</td>\n      <td>-73.989159</td>\n    </tr>\n    <tr>\n      <th>3</th>\n      <td>10004</td>\n      <td>Financial District</td>\n      <td>2355.22</td>\n      <td>33.65</td>\n      <td>0.014287</td>\n      <td>40.703747</td>\n      <td>-74.013032</td>\n    </tr>\n    <tr>\n      <th>4</th>\n      <td>10005</td>\n      <td>Financial District</td>\n      <td>1598.68</td>\n      <td>22.84</td>\n      <td>0.014287</td>\n      <td>40.706100</td>\n      <td>-74.008870</td>\n    </tr>\n    <tr>\n      <th>...</th>\n      <td>...</td>\n      <td>...</td>\n      <td>...</td>\n      <td>...</td>\n      <td>...</td>\n      <td>...</td>\n      <td>...</td>\n    </tr>\n    <tr>\n      <th>172</th>\n      <td>11691</td>\n      <td>Edgemere/Far Rockaway</td>\n      <td>5137.88</td>\n      <td>569.88</td>\n      <td>0.110917</td>\n      <td>40.601329</td>\n      <td>-73.761359</td>\n    </tr>\n    <tr>\n      <th>173</th>\n      <td>11692</td>\n      <td>Arverne/Edgemere</td>\n      <td>3851.80</td>\n      <td>451.75</td>\n      <td>0.117283</td>\n      <td>40.592797</td>\n      <td>-73.792196</td>\n    </tr>\n    <tr>\n      <th>174</th>\n      <td>11693</td>\n      <td>Arverne/Broad Channel</td>\n      <td>3519.53</td>\n      <td>228.85</td>\n      <td>0.065023</td>\n      <td>40.596457</td>\n      <td>-73.816711</td>\n    </tr>\n    <tr>\n      <th>175</th>\n      <td>11694</td>\n      <td>Belle Harbor-Neponsit/Rockaway Park</td>\n      <td>4788.40</td>\n      <td>433.12</td>\n      <td>0.090452</td>\n      <td>40.577599</td>\n      <td>-73.844551</td>\n    </tr>\n    <tr>\n      <th>176</th>\n      <td>11697</td>\n      <td>Breezy Point</td>\n      <td>5983.58</td>\n      <td>147.38</td>\n      <td>0.024631</td>\n      <td>40.559067</td>\n      <td>-73.907198</td>\n    </tr>\n  </tbody>\n</table>\n<p>177 rows × 7 columns</p>\n</div>"
     },
     "metadata": {},
     "execution_count": 35
    }
   ],
   "source": [
    "for index, row in data.iterrows():\n",
    "    point = geodata[geodata['modzcta'] == row['MODIFIED_ZCTA']]['geometry'].centroid\n",
    "    data.loc[index, 'lat'] = float(point.y)\n",
    "    data.loc[index, 'lng'] = float(point.x)\n",
    "data"
   ]
  },
  {
   "cell_type": "code",
   "execution_count": 37,
   "metadata": {},
   "outputs": [
    {
     "output_type": "execute_result",
     "data": {
      "text/plain": [
       "0.0"
      ]
     },
     "metadata": {},
     "execution_count": 37
    }
   ],
   "source": [
    "data['deathtocase'].min()"
   ]
  },
  {
   "cell_type": "code",
   "execution_count": 38,
   "metadata": {},
   "outputs": [
    {
     "output_type": "execute_result",
     "data": {
      "text/plain": [
       "0.17742744940591948"
      ]
     },
     "metadata": {},
     "execution_count": 38
    }
   ],
   "source": [
    "data['deathtocase'].max()"
   ]
  },
  {
   "cell_type": "code",
   "execution_count": null,
   "metadata": {},
   "outputs": [],
   "source": []
  }
 ]
}