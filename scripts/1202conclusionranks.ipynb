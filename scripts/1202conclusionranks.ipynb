{
 "metadata": {
  "language_info": {
   "codemirror_mode": {
    "name": "ipython",
    "version": 3
   },
   "file_extension": ".py",
   "mimetype": "text/x-python",
   "name": "python",
   "nbconvert_exporter": "python",
   "pygments_lexer": "ipython3",
   "version": "3.7.7-final"
  },
  "orig_nbformat": 2,
  "kernelspec": {
   "name": "python37664bit12f9c6bab4384a7f877256d950d8a987",
   "display_name": "Python 3.7.6 64-bit"
  }
 },
 "nbformat": 4,
 "nbformat_minor": 2,
 "cells": [
  {
   "source": [
    "# rank the info and phys part"
   ],
   "cell_type": "markdown",
   "metadata": {}
  },
  {
   "cell_type": "code",
   "execution_count": 46,
   "metadata": {},
   "outputs": [],
   "source": [
    "import pandas"
   ]
  },
  {
   "cell_type": "code",
   "execution_count": 47,
   "metadata": {},
   "outputs": [],
   "source": [
    "info = pandas.read_csv('../datas/2-InternetMerged.csv')\n",
    "phys = pandas.read_csv('../datas/05-physical/medical-facilities-dist.csv')"
   ]
  },
  {
   "cell_type": "code",
   "execution_count": 48,
   "metadata": {},
   "outputs": [
    {
     "output_type": "execute_result",
     "data": {
      "text/plain": [
       "   modzcta      perc  no highschool  highschool   college\n",
       "0    10473  0.205641       0.186111    0.535966  0.277922\n",
       "1    10454  0.330787       0.241479    0.578220  0.180301\n",
       "2    10455  0.276181       0.414125    0.499723  0.086152\n",
       "3    10472  0.257344       0.366078    0.496865  0.137058\n",
       "4    10451  0.276997       0.373730    0.502283  0.123987"
      ],
      "text/html": "<div>\n<style scoped>\n    .dataframe tbody tr th:only-of-type {\n        vertical-align: middle;\n    }\n\n    .dataframe tbody tr th {\n        vertical-align: top;\n    }\n\n    .dataframe thead th {\n        text-align: right;\n    }\n</style>\n<table border=\"1\" class=\"dataframe\">\n  <thead>\n    <tr style=\"text-align: right;\">\n      <th></th>\n      <th>modzcta</th>\n      <th>perc</th>\n      <th>no highschool</th>\n      <th>highschool</th>\n      <th>college</th>\n    </tr>\n  </thead>\n  <tbody>\n    <tr>\n      <th>0</th>\n      <td>10473</td>\n      <td>0.205641</td>\n      <td>0.186111</td>\n      <td>0.535966</td>\n      <td>0.277922</td>\n    </tr>\n    <tr>\n      <th>1</th>\n      <td>10454</td>\n      <td>0.330787</td>\n      <td>0.241479</td>\n      <td>0.578220</td>\n      <td>0.180301</td>\n    </tr>\n    <tr>\n      <th>2</th>\n      <td>10455</td>\n      <td>0.276181</td>\n      <td>0.414125</td>\n      <td>0.499723</td>\n      <td>0.086152</td>\n    </tr>\n    <tr>\n      <th>3</th>\n      <td>10472</td>\n      <td>0.257344</td>\n      <td>0.366078</td>\n      <td>0.496865</td>\n      <td>0.137058</td>\n    </tr>\n    <tr>\n      <th>4</th>\n      <td>10451</td>\n      <td>0.276997</td>\n      <td>0.373730</td>\n      <td>0.502283</td>\n      <td>0.123987</td>\n    </tr>\n  </tbody>\n</table>\n</div>"
     },
     "metadata": {},
     "execution_count": 48
    }
   ],
   "source": [
    "info.head()"
   ]
  },
  {
   "cell_type": "code",
   "execution_count": 49,
   "metadata": {},
   "outputs": [
    {
     "output_type": "execute_result",
     "data": {
      "text/plain": [
       "   modzcta  community-healthcare-centers  diagnostic-treatment-centers  \\\n",
       "0    10001                   2859.212963                   4244.158636   \n",
       "1    10002                   1030.894027                    325.521726   \n",
       "2    10003                    899.585186                   2079.090836   \n",
       "3    10004                   2460.496569                   2371.392258   \n",
       "4    10005                   2045.259225                   1942.271324   \n",
       "\n",
       "   long-term-care-facilities    hospitals          avg  \n",
       "0                4244.158636  7323.623171  4667.788351  \n",
       "1                 325.521726  4099.114902  1445.263095  \n",
       "2                2079.090836  5328.927916  2596.673694  \n",
       "3                2371.392258  5960.186070  3290.866789  \n",
       "4                1942.271324  5638.462696  2892.066142  "
      ],
      "text/html": "<div>\n<style scoped>\n    .dataframe tbody tr th:only-of-type {\n        vertical-align: middle;\n    }\n\n    .dataframe tbody tr th {\n        vertical-align: top;\n    }\n\n    .dataframe thead th {\n        text-align: right;\n    }\n</style>\n<table border=\"1\" class=\"dataframe\">\n  <thead>\n    <tr style=\"text-align: right;\">\n      <th></th>\n      <th>modzcta</th>\n      <th>community-healthcare-centers</th>\n      <th>diagnostic-treatment-centers</th>\n      <th>long-term-care-facilities</th>\n      <th>hospitals</th>\n      <th>avg</th>\n    </tr>\n  </thead>\n  <tbody>\n    <tr>\n      <th>0</th>\n      <td>10001</td>\n      <td>2859.212963</td>\n      <td>4244.158636</td>\n      <td>4244.158636</td>\n      <td>7323.623171</td>\n      <td>4667.788351</td>\n    </tr>\n    <tr>\n      <th>1</th>\n      <td>10002</td>\n      <td>1030.894027</td>\n      <td>325.521726</td>\n      <td>325.521726</td>\n      <td>4099.114902</td>\n      <td>1445.263095</td>\n    </tr>\n    <tr>\n      <th>2</th>\n      <td>10003</td>\n      <td>899.585186</td>\n      <td>2079.090836</td>\n      <td>2079.090836</td>\n      <td>5328.927916</td>\n      <td>2596.673694</td>\n    </tr>\n    <tr>\n      <th>3</th>\n      <td>10004</td>\n      <td>2460.496569</td>\n      <td>2371.392258</td>\n      <td>2371.392258</td>\n      <td>5960.186070</td>\n      <td>3290.866789</td>\n    </tr>\n    <tr>\n      <th>4</th>\n      <td>10005</td>\n      <td>2045.259225</td>\n      <td>1942.271324</td>\n      <td>1942.271324</td>\n      <td>5638.462696</td>\n      <td>2892.066142</td>\n    </tr>\n  </tbody>\n</table>\n</div>"
     },
     "metadata": {},
     "execution_count": 49
    }
   ],
   "source": [
    "phys.head()"
   ]
  },
  {
   "cell_type": "code",
   "execution_count": 50,
   "metadata": {},
   "outputs": [
    {
     "output_type": "execute_result",
     "data": {
      "text/plain": [
       "     modzcta  community-healthcare-centers  diagnostic-treatment-centers  \\\n",
       "177    99999                    471.722055                   3515.640188   \n",
       "\n",
       "     long-term-care-facilities    hospitals        avg  \n",
       "177                 4088.83325  1162.019306  2309.5537  "
      ],
      "text/html": "<div>\n<style scoped>\n    .dataframe tbody tr th:only-of-type {\n        vertical-align: middle;\n    }\n\n    .dataframe tbody tr th {\n        vertical-align: top;\n    }\n\n    .dataframe thead th {\n        text-align: right;\n    }\n</style>\n<table border=\"1\" class=\"dataframe\">\n  <thead>\n    <tr style=\"text-align: right;\">\n      <th></th>\n      <th>modzcta</th>\n      <th>community-healthcare-centers</th>\n      <th>diagnostic-treatment-centers</th>\n      <th>long-term-care-facilities</th>\n      <th>hospitals</th>\n      <th>avg</th>\n    </tr>\n  </thead>\n  <tbody>\n    <tr>\n      <th>177</th>\n      <td>99999</td>\n      <td>471.722055</td>\n      <td>3515.640188</td>\n      <td>4088.83325</td>\n      <td>1162.019306</td>\n      <td>2309.5537</td>\n    </tr>\n  </tbody>\n</table>\n</div>"
     },
     "metadata": {},
     "execution_count": 50
    }
   ],
   "source": [
    "phys[phys['modzcta'] == 99999]"
   ]
  },
  {
   "cell_type": "code",
   "execution_count": 51,
   "metadata": {},
   "outputs": [],
   "source": [
    "phys.drop([177], inplace=True)"
   ]
  },
  {
   "cell_type": "code",
   "execution_count": 52,
   "metadata": {},
   "outputs": [
    {
     "output_type": "execute_result",
     "data": {
      "text/plain": [
       "(177, 6)"
      ]
     },
     "metadata": {},
     "execution_count": 52
    }
   ],
   "source": [
    "phys.shape"
   ]
  },
  {
   "cell_type": "code",
   "execution_count": 53,
   "metadata": {},
   "outputs": [
    {
     "output_type": "execute_result",
     "data": {
      "text/plain": [
       "(177, 5)"
      ]
     },
     "metadata": {},
     "execution_count": 53
    }
   ],
   "source": [
    "phys.drop(columns=['avg'], inplace=True)\n",
    "phys.shape"
   ]
  },
  {
   "cell_type": "code",
   "execution_count": 54,
   "metadata": {},
   "outputs": [
    {
     "output_type": "execute_result",
     "data": {
      "text/plain": [
       "2859.212962559317"
      ]
     },
     "metadata": {},
     "execution_count": 54
    }
   ],
   "source": [
    "phys.iloc[0][['community-healthcare-centers','diagnostic-treatment-centers','long-term-care-facilities','hospitals']].min()"
   ]
  },
  {
   "cell_type": "code",
   "execution_count": 55,
   "metadata": {},
   "outputs": [
    {
     "output_type": "execute_result",
     "data": {
      "text/plain": [
       "   modzcta  community-healthcare-centers  diagnostic-treatment-centers  \\\n",
       "0    10001                   2859.212963                   4244.158636   \n",
       "1    10002                   1030.894027                    325.521726   \n",
       "2    10003                    899.585186                   2079.090836   \n",
       "3    10004                   2460.496569                   2371.392258   \n",
       "4    10005                   2045.259225                   1942.271324   \n",
       "\n",
       "   long-term-care-facilities    hospitals      mindist  \n",
       "0                4244.158636  7323.623171  2859.212963  \n",
       "1                 325.521726  4099.114902   325.521726  \n",
       "2                2079.090836  5328.927916   899.585186  \n",
       "3                2371.392258  5960.186070  2371.392258  \n",
       "4                1942.271324  5638.462696  1942.271324  "
      ],
      "text/html": "<div>\n<style scoped>\n    .dataframe tbody tr th:only-of-type {\n        vertical-align: middle;\n    }\n\n    .dataframe tbody tr th {\n        vertical-align: top;\n    }\n\n    .dataframe thead th {\n        text-align: right;\n    }\n</style>\n<table border=\"1\" class=\"dataframe\">\n  <thead>\n    <tr style=\"text-align: right;\">\n      <th></th>\n      <th>modzcta</th>\n      <th>community-healthcare-centers</th>\n      <th>diagnostic-treatment-centers</th>\n      <th>long-term-care-facilities</th>\n      <th>hospitals</th>\n      <th>mindist</th>\n    </tr>\n  </thead>\n  <tbody>\n    <tr>\n      <th>0</th>\n      <td>10001</td>\n      <td>2859.212963</td>\n      <td>4244.158636</td>\n      <td>4244.158636</td>\n      <td>7323.623171</td>\n      <td>2859.212963</td>\n    </tr>\n    <tr>\n      <th>1</th>\n      <td>10002</td>\n      <td>1030.894027</td>\n      <td>325.521726</td>\n      <td>325.521726</td>\n      <td>4099.114902</td>\n      <td>325.521726</td>\n    </tr>\n    <tr>\n      <th>2</th>\n      <td>10003</td>\n      <td>899.585186</td>\n      <td>2079.090836</td>\n      <td>2079.090836</td>\n      <td>5328.927916</td>\n      <td>899.585186</td>\n    </tr>\n    <tr>\n      <th>3</th>\n      <td>10004</td>\n      <td>2460.496569</td>\n      <td>2371.392258</td>\n      <td>2371.392258</td>\n      <td>5960.186070</td>\n      <td>2371.392258</td>\n    </tr>\n    <tr>\n      <th>4</th>\n      <td>10005</td>\n      <td>2045.259225</td>\n      <td>1942.271324</td>\n      <td>1942.271324</td>\n      <td>5638.462696</td>\n      <td>1942.271324</td>\n    </tr>\n  </tbody>\n</table>\n</div>"
     },
     "metadata": {},
     "execution_count": 55
    }
   ],
   "source": [
    "phys['mindist'] = 0.0\n",
    "for index, row in phys.iterrows():\n",
    "    mindist = row[['community-healthcare-centers','diagnostic-treatment-centers','long-term-care-facilities','hospitals']].min()\n",
    "    phys.loc[index, 'mindist'] = mindist\n",
    "phys.head()"
   ]
  },
  {
   "cell_type": "code",
   "execution_count": 56,
   "metadata": {},
   "outputs": [
    {
     "output_type": "execute_result",
     "data": {
      "text/plain": [
       "     modzcta       mindist\n",
       "143    11373    128.100127\n",
       "94     11207    145.296484\n",
       "33     10037    249.179902\n",
       "99     11212    253.512454\n",
       "111    11224    254.704805\n",
       "..       ...           ...\n",
       "173    11692   9451.049595\n",
       "175    11694   9886.798887\n",
       "174    11693   9958.602467\n",
       "52     10309  10034.029252\n",
       "50     10307  12999.224694\n",
       "\n",
       "[177 rows x 2 columns]"
      ],
      "text/html": "<div>\n<style scoped>\n    .dataframe tbody tr th:only-of-type {\n        vertical-align: middle;\n    }\n\n    .dataframe tbody tr th {\n        vertical-align: top;\n    }\n\n    .dataframe thead th {\n        text-align: right;\n    }\n</style>\n<table border=\"1\" class=\"dataframe\">\n  <thead>\n    <tr style=\"text-align: right;\">\n      <th></th>\n      <th>modzcta</th>\n      <th>mindist</th>\n    </tr>\n  </thead>\n  <tbody>\n    <tr>\n      <th>143</th>\n      <td>11373</td>\n      <td>128.100127</td>\n    </tr>\n    <tr>\n      <th>94</th>\n      <td>11207</td>\n      <td>145.296484</td>\n    </tr>\n    <tr>\n      <th>33</th>\n      <td>10037</td>\n      <td>249.179902</td>\n    </tr>\n    <tr>\n      <th>99</th>\n      <td>11212</td>\n      <td>253.512454</td>\n    </tr>\n    <tr>\n      <th>111</th>\n      <td>11224</td>\n      <td>254.704805</td>\n    </tr>\n    <tr>\n      <th>...</th>\n      <td>...</td>\n      <td>...</td>\n    </tr>\n    <tr>\n      <th>173</th>\n      <td>11692</td>\n      <td>9451.049595</td>\n    </tr>\n    <tr>\n      <th>175</th>\n      <td>11694</td>\n      <td>9886.798887</td>\n    </tr>\n    <tr>\n      <th>174</th>\n      <td>11693</td>\n      <td>9958.602467</td>\n    </tr>\n    <tr>\n      <th>52</th>\n      <td>10309</td>\n      <td>10034.029252</td>\n    </tr>\n    <tr>\n      <th>50</th>\n      <td>10307</td>\n      <td>12999.224694</td>\n    </tr>\n  </tbody>\n</table>\n<p>177 rows × 2 columns</p>\n</div>"
     },
     "metadata": {},
     "execution_count": 56
    }
   ],
   "source": [
    "phys = phys[['modzcta', 'mindist']]\n",
    "phys.sort_values(by=['mindist'], inplace=True)\n",
    "phys"
   ]
  },
  {
   "cell_type": "code",
   "execution_count": 57,
   "metadata": {},
   "outputs": [
    {
     "output_type": "execute_result",
     "data": {
      "text/plain": [
       "     modzcta       mindist\n",
       "0      11373    128.100127\n",
       "1      11207    145.296484\n",
       "2      10037    249.179902\n",
       "3      11212    253.512454\n",
       "4      11224    254.704805\n",
       "..       ...           ...\n",
       "172    11692   9451.049595\n",
       "173    11694   9886.798887\n",
       "174    11693   9958.602467\n",
       "175    10309  10034.029252\n",
       "176    10307  12999.224694\n",
       "\n",
       "[177 rows x 2 columns]"
      ],
      "text/html": "<div>\n<style scoped>\n    .dataframe tbody tr th:only-of-type {\n        vertical-align: middle;\n    }\n\n    .dataframe tbody tr th {\n        vertical-align: top;\n    }\n\n    .dataframe thead th {\n        text-align: right;\n    }\n</style>\n<table border=\"1\" class=\"dataframe\">\n  <thead>\n    <tr style=\"text-align: right;\">\n      <th></th>\n      <th>modzcta</th>\n      <th>mindist</th>\n    </tr>\n  </thead>\n  <tbody>\n    <tr>\n      <th>0</th>\n      <td>11373</td>\n      <td>128.100127</td>\n    </tr>\n    <tr>\n      <th>1</th>\n      <td>11207</td>\n      <td>145.296484</td>\n    </tr>\n    <tr>\n      <th>2</th>\n      <td>10037</td>\n      <td>249.179902</td>\n    </tr>\n    <tr>\n      <th>3</th>\n      <td>11212</td>\n      <td>253.512454</td>\n    </tr>\n    <tr>\n      <th>4</th>\n      <td>11224</td>\n      <td>254.704805</td>\n    </tr>\n    <tr>\n      <th>...</th>\n      <td>...</td>\n      <td>...</td>\n    </tr>\n    <tr>\n      <th>172</th>\n      <td>11692</td>\n      <td>9451.049595</td>\n    </tr>\n    <tr>\n      <th>173</th>\n      <td>11694</td>\n      <td>9886.798887</td>\n    </tr>\n    <tr>\n      <th>174</th>\n      <td>11693</td>\n      <td>9958.602467</td>\n    </tr>\n    <tr>\n      <th>175</th>\n      <td>10309</td>\n      <td>10034.029252</td>\n    </tr>\n    <tr>\n      <th>176</th>\n      <td>10307</td>\n      <td>12999.224694</td>\n    </tr>\n  </tbody>\n</table>\n<p>177 rows × 2 columns</p>\n</div>"
     },
     "metadata": {},
     "execution_count": 57
    }
   ],
   "source": [
    "phys.reset_index(drop=True, inplace=True)\n",
    "phys"
   ]
  },
  {
   "cell_type": "code",
   "execution_count": 58,
   "metadata": {},
   "outputs": [
    {
     "output_type": "execute_result",
     "data": {
      "text/plain": [
       "     index  modzcta       mindist\n",
       "0        0    11373    128.100127\n",
       "1        1    11207    145.296484\n",
       "2        2    10037    249.179902\n",
       "3        3    11212    253.512454\n",
       "4        4    11224    254.704805\n",
       "..     ...      ...           ...\n",
       "172    172    11692   9451.049595\n",
       "173    173    11694   9886.798887\n",
       "174    174    11693   9958.602467\n",
       "175    175    10309  10034.029252\n",
       "176    176    10307  12999.224694\n",
       "\n",
       "[177 rows x 3 columns]"
      ],
      "text/html": "<div>\n<style scoped>\n    .dataframe tbody tr th:only-of-type {\n        vertical-align: middle;\n    }\n\n    .dataframe tbody tr th {\n        vertical-align: top;\n    }\n\n    .dataframe thead th {\n        text-align: right;\n    }\n</style>\n<table border=\"1\" class=\"dataframe\">\n  <thead>\n    <tr style=\"text-align: right;\">\n      <th></th>\n      <th>index</th>\n      <th>modzcta</th>\n      <th>mindist</th>\n    </tr>\n  </thead>\n  <tbody>\n    <tr>\n      <th>0</th>\n      <td>0</td>\n      <td>11373</td>\n      <td>128.100127</td>\n    </tr>\n    <tr>\n      <th>1</th>\n      <td>1</td>\n      <td>11207</td>\n      <td>145.296484</td>\n    </tr>\n    <tr>\n      <th>2</th>\n      <td>2</td>\n      <td>10037</td>\n      <td>249.179902</td>\n    </tr>\n    <tr>\n      <th>3</th>\n      <td>3</td>\n      <td>11212</td>\n      <td>253.512454</td>\n    </tr>\n    <tr>\n      <th>4</th>\n      <td>4</td>\n      <td>11224</td>\n      <td>254.704805</td>\n    </tr>\n    <tr>\n      <th>...</th>\n      <td>...</td>\n      <td>...</td>\n      <td>...</td>\n    </tr>\n    <tr>\n      <th>172</th>\n      <td>172</td>\n      <td>11692</td>\n      <td>9451.049595</td>\n    </tr>\n    <tr>\n      <th>173</th>\n      <td>173</td>\n      <td>11694</td>\n      <td>9886.798887</td>\n    </tr>\n    <tr>\n      <th>174</th>\n      <td>174</td>\n      <td>11693</td>\n      <td>9958.602467</td>\n    </tr>\n    <tr>\n      <th>175</th>\n      <td>175</td>\n      <td>10309</td>\n      <td>10034.029252</td>\n    </tr>\n    <tr>\n      <th>176</th>\n      <td>176</td>\n      <td>10307</td>\n      <td>12999.224694</td>\n    </tr>\n  </tbody>\n</table>\n<p>177 rows × 3 columns</p>\n</div>"
     },
     "metadata": {},
     "execution_count": 58
    }
   ],
   "source": [
    "phys.reset_index(drop=False, inplace=True)\n",
    "phys"
   ]
  },
  {
   "cell_type": "code",
   "execution_count": 59,
   "metadata": {},
   "outputs": [
    {
     "output_type": "execute_result",
     "data": {
      "text/plain": [
       "     physrnk  modzcta       mindist\n",
       "0          0    11373    128.100127\n",
       "1          1    11207    145.296484\n",
       "2          2    10037    249.179902\n",
       "3          3    11212    253.512454\n",
       "4          4    11224    254.704805\n",
       "..       ...      ...           ...\n",
       "172      172    11692   9451.049595\n",
       "173      173    11694   9886.798887\n",
       "174      174    11693   9958.602467\n",
       "175      175    10309  10034.029252\n",
       "176      176    10307  12999.224694\n",
       "\n",
       "[177 rows x 3 columns]"
      ],
      "text/html": "<div>\n<style scoped>\n    .dataframe tbody tr th:only-of-type {\n        vertical-align: middle;\n    }\n\n    .dataframe tbody tr th {\n        vertical-align: top;\n    }\n\n    .dataframe thead th {\n        text-align: right;\n    }\n</style>\n<table border=\"1\" class=\"dataframe\">\n  <thead>\n    <tr style=\"text-align: right;\">\n      <th></th>\n      <th>physrnk</th>\n      <th>modzcta</th>\n      <th>mindist</th>\n    </tr>\n  </thead>\n  <tbody>\n    <tr>\n      <th>0</th>\n      <td>0</td>\n      <td>11373</td>\n      <td>128.100127</td>\n    </tr>\n    <tr>\n      <th>1</th>\n      <td>1</td>\n      <td>11207</td>\n      <td>145.296484</td>\n    </tr>\n    <tr>\n      <th>2</th>\n      <td>2</td>\n      <td>10037</td>\n      <td>249.179902</td>\n    </tr>\n    <tr>\n      <th>3</th>\n      <td>3</td>\n      <td>11212</td>\n      <td>253.512454</td>\n    </tr>\n    <tr>\n      <th>4</th>\n      <td>4</td>\n      <td>11224</td>\n      <td>254.704805</td>\n    </tr>\n    <tr>\n      <th>...</th>\n      <td>...</td>\n      <td>...</td>\n      <td>...</td>\n    </tr>\n    <tr>\n      <th>172</th>\n      <td>172</td>\n      <td>11692</td>\n      <td>9451.049595</td>\n    </tr>\n    <tr>\n      <th>173</th>\n      <td>173</td>\n      <td>11694</td>\n      <td>9886.798887</td>\n    </tr>\n    <tr>\n      <th>174</th>\n      <td>174</td>\n      <td>11693</td>\n      <td>9958.602467</td>\n    </tr>\n    <tr>\n      <th>175</th>\n      <td>175</td>\n      <td>10309</td>\n      <td>10034.029252</td>\n    </tr>\n    <tr>\n      <th>176</th>\n      <td>176</td>\n      <td>10307</td>\n      <td>12999.224694</td>\n    </tr>\n  </tbody>\n</table>\n<p>177 rows × 3 columns</p>\n</div>"
     },
     "metadata": {},
     "execution_count": 59
    }
   ],
   "source": [
    "phys.rename(columns={'index':'physrnk'}, inplace=True)\n",
    "phys"
   ]
  },
  {
   "cell_type": "code",
   "execution_count": 60,
   "metadata": {},
   "outputs": [
    {
     "output_type": "execute_result",
     "data": {
      "text/plain": [
       "   modzcta      perc  no highschool  highschool   college\n",
       "0    10473  0.205641       0.186111    0.535966  0.277922\n",
       "1    10454  0.330787       0.241479    0.578220  0.180301\n",
       "2    10455  0.276181       0.414125    0.499723  0.086152\n",
       "3    10472  0.257344       0.366078    0.496865  0.137058\n",
       "4    10451  0.276997       0.373730    0.502283  0.123987"
      ],
      "text/html": "<div>\n<style scoped>\n    .dataframe tbody tr th:only-of-type {\n        vertical-align: middle;\n    }\n\n    .dataframe tbody tr th {\n        vertical-align: top;\n    }\n\n    .dataframe thead th {\n        text-align: right;\n    }\n</style>\n<table border=\"1\" class=\"dataframe\">\n  <thead>\n    <tr style=\"text-align: right;\">\n      <th></th>\n      <th>modzcta</th>\n      <th>perc</th>\n      <th>no highschool</th>\n      <th>highschool</th>\n      <th>college</th>\n    </tr>\n  </thead>\n  <tbody>\n    <tr>\n      <th>0</th>\n      <td>10473</td>\n      <td>0.205641</td>\n      <td>0.186111</td>\n      <td>0.535966</td>\n      <td>0.277922</td>\n    </tr>\n    <tr>\n      <th>1</th>\n      <td>10454</td>\n      <td>0.330787</td>\n      <td>0.241479</td>\n      <td>0.578220</td>\n      <td>0.180301</td>\n    </tr>\n    <tr>\n      <th>2</th>\n      <td>10455</td>\n      <td>0.276181</td>\n      <td>0.414125</td>\n      <td>0.499723</td>\n      <td>0.086152</td>\n    </tr>\n    <tr>\n      <th>3</th>\n      <td>10472</td>\n      <td>0.257344</td>\n      <td>0.366078</td>\n      <td>0.496865</td>\n      <td>0.137058</td>\n    </tr>\n    <tr>\n      <th>4</th>\n      <td>10451</td>\n      <td>0.276997</td>\n      <td>0.373730</td>\n      <td>0.502283</td>\n      <td>0.123987</td>\n    </tr>\n  </tbody>\n</table>\n</div>"
     },
     "metadata": {},
     "execution_count": 60
    }
   ],
   "source": [
    "info.head()"
   ]
  },
  {
   "cell_type": "code",
   "execution_count": 61,
   "metadata": {},
   "outputs": [
    {
     "output_type": "execute_result",
     "data": {
      "text/plain": [
       "     modzcta      perc\n",
       "108    10282  0.000000\n",
       "69     10006  0.000000\n",
       "110    11109  0.010000\n",
       "107    10280  0.010937\n",
       "67     10005  0.013202"
      ],
      "text/html": "<div>\n<style scoped>\n    .dataframe tbody tr th:only-of-type {\n        vertical-align: middle;\n    }\n\n    .dataframe tbody tr th {\n        vertical-align: top;\n    }\n\n    .dataframe thead th {\n        text-align: right;\n    }\n</style>\n<table border=\"1\" class=\"dataframe\">\n  <thead>\n    <tr style=\"text-align: right;\">\n      <th></th>\n      <th>modzcta</th>\n      <th>perc</th>\n    </tr>\n  </thead>\n  <tbody>\n    <tr>\n      <th>108</th>\n      <td>10282</td>\n      <td>0.000000</td>\n    </tr>\n    <tr>\n      <th>69</th>\n      <td>10006</td>\n      <td>0.000000</td>\n    </tr>\n    <tr>\n      <th>110</th>\n      <td>11109</td>\n      <td>0.010000</td>\n    </tr>\n    <tr>\n      <th>107</th>\n      <td>10280</td>\n      <td>0.010937</td>\n    </tr>\n    <tr>\n      <th>67</th>\n      <td>10005</td>\n      <td>0.013202</td>\n    </tr>\n  </tbody>\n</table>\n</div>"
     },
     "metadata": {},
     "execution_count": 61
    }
   ],
   "source": [
    "info = info[['modzcta', 'perc']]\n",
    "info.sort_values(by=['perc'], inplace=True)\n",
    "info.head()"
   ]
  },
  {
   "cell_type": "code",
   "execution_count": 62,
   "metadata": {},
   "outputs": [
    {
     "output_type": "execute_result",
     "data": {
      "text/plain": [
       "     index  modzcta      perc\n",
       "0        0    10282  0.000000\n",
       "1        1    10006  0.000000\n",
       "2        2    11109  0.010000\n",
       "3        3    10280  0.010937\n",
       "4        4    10005  0.013202\n",
       "..     ...      ...       ...\n",
       "172    172    10460  0.294444\n",
       "173    173    10035  0.299391\n",
       "174    174    10454  0.330787\n",
       "175    175    10002  0.340227\n",
       "176    176    11219  0.342007\n",
       "\n",
       "[177 rows x 3 columns]"
      ],
      "text/html": "<div>\n<style scoped>\n    .dataframe tbody tr th:only-of-type {\n        vertical-align: middle;\n    }\n\n    .dataframe tbody tr th {\n        vertical-align: top;\n    }\n\n    .dataframe thead th {\n        text-align: right;\n    }\n</style>\n<table border=\"1\" class=\"dataframe\">\n  <thead>\n    <tr style=\"text-align: right;\">\n      <th></th>\n      <th>index</th>\n      <th>modzcta</th>\n      <th>perc</th>\n    </tr>\n  </thead>\n  <tbody>\n    <tr>\n      <th>0</th>\n      <td>0</td>\n      <td>10282</td>\n      <td>0.000000</td>\n    </tr>\n    <tr>\n      <th>1</th>\n      <td>1</td>\n      <td>10006</td>\n      <td>0.000000</td>\n    </tr>\n    <tr>\n      <th>2</th>\n      <td>2</td>\n      <td>11109</td>\n      <td>0.010000</td>\n    </tr>\n    <tr>\n      <th>3</th>\n      <td>3</td>\n      <td>10280</td>\n      <td>0.010937</td>\n    </tr>\n    <tr>\n      <th>4</th>\n      <td>4</td>\n      <td>10005</td>\n      <td>0.013202</td>\n    </tr>\n    <tr>\n      <th>...</th>\n      <td>...</td>\n      <td>...</td>\n      <td>...</td>\n    </tr>\n    <tr>\n      <th>172</th>\n      <td>172</td>\n      <td>10460</td>\n      <td>0.294444</td>\n    </tr>\n    <tr>\n      <th>173</th>\n      <td>173</td>\n      <td>10035</td>\n      <td>0.299391</td>\n    </tr>\n    <tr>\n      <th>174</th>\n      <td>174</td>\n      <td>10454</td>\n      <td>0.330787</td>\n    </tr>\n    <tr>\n      <th>175</th>\n      <td>175</td>\n      <td>10002</td>\n      <td>0.340227</td>\n    </tr>\n    <tr>\n      <th>176</th>\n      <td>176</td>\n      <td>11219</td>\n      <td>0.342007</td>\n    </tr>\n  </tbody>\n</table>\n<p>177 rows × 3 columns</p>\n</div>"
     },
     "metadata": {},
     "execution_count": 62
    }
   ],
   "source": [
    "info.reset_index(drop=True, inplace=True)\n",
    "info.reset_index(drop=False, inplace=True)\n",
    "info"
   ]
  },
  {
   "cell_type": "code",
   "execution_count": 63,
   "metadata": {},
   "outputs": [
    {
     "output_type": "execute_result",
     "data": {
      "text/plain": [
       "     infornk  modzcta      perc\n",
       "0          0    10282  0.000000\n",
       "1          1    10006  0.000000\n",
       "2          2    11109  0.010000\n",
       "3          3    10280  0.010937\n",
       "4          4    10005  0.013202\n",
       "..       ...      ...       ...\n",
       "172      172    10460  0.294444\n",
       "173      173    10035  0.299391\n",
       "174      174    10454  0.330787\n",
       "175      175    10002  0.340227\n",
       "176      176    11219  0.342007\n",
       "\n",
       "[177 rows x 3 columns]"
      ],
      "text/html": "<div>\n<style scoped>\n    .dataframe tbody tr th:only-of-type {\n        vertical-align: middle;\n    }\n\n    .dataframe tbody tr th {\n        vertical-align: top;\n    }\n\n    .dataframe thead th {\n        text-align: right;\n    }\n</style>\n<table border=\"1\" class=\"dataframe\">\n  <thead>\n    <tr style=\"text-align: right;\">\n      <th></th>\n      <th>infornk</th>\n      <th>modzcta</th>\n      <th>perc</th>\n    </tr>\n  </thead>\n  <tbody>\n    <tr>\n      <th>0</th>\n      <td>0</td>\n      <td>10282</td>\n      <td>0.000000</td>\n    </tr>\n    <tr>\n      <th>1</th>\n      <td>1</td>\n      <td>10006</td>\n      <td>0.000000</td>\n    </tr>\n    <tr>\n      <th>2</th>\n      <td>2</td>\n      <td>11109</td>\n      <td>0.010000</td>\n    </tr>\n    <tr>\n      <th>3</th>\n      <td>3</td>\n      <td>10280</td>\n      <td>0.010937</td>\n    </tr>\n    <tr>\n      <th>4</th>\n      <td>4</td>\n      <td>10005</td>\n      <td>0.013202</td>\n    </tr>\n    <tr>\n      <th>...</th>\n      <td>...</td>\n      <td>...</td>\n      <td>...</td>\n    </tr>\n    <tr>\n      <th>172</th>\n      <td>172</td>\n      <td>10460</td>\n      <td>0.294444</td>\n    </tr>\n    <tr>\n      <th>173</th>\n      <td>173</td>\n      <td>10035</td>\n      <td>0.299391</td>\n    </tr>\n    <tr>\n      <th>174</th>\n      <td>174</td>\n      <td>10454</td>\n      <td>0.330787</td>\n    </tr>\n    <tr>\n      <th>175</th>\n      <td>175</td>\n      <td>10002</td>\n      <td>0.340227</td>\n    </tr>\n    <tr>\n      <th>176</th>\n      <td>176</td>\n      <td>11219</td>\n      <td>0.342007</td>\n    </tr>\n  </tbody>\n</table>\n<p>177 rows × 3 columns</p>\n</div>"
     },
     "metadata": {},
     "execution_count": 63
    }
   ],
   "source": [
    "info.rename(columns={'index':'infornk'}, inplace=True)\n",
    "info"
   ]
  },
  {
   "cell_type": "code",
   "execution_count": 64,
   "metadata": {},
   "outputs": [
    {
     "output_type": "execute_result",
     "data": {
      "text/plain": [
       "     physrnk  modzcta       mindist\n",
       "0          1    11373    128.100127\n",
       "1          2    11207    145.296484\n",
       "2          3    10037    249.179902\n",
       "3          4    11212    253.512454\n",
       "4          5    11224    254.704805\n",
       "..       ...      ...           ...\n",
       "172      173    11692   9451.049595\n",
       "173      174    11694   9886.798887\n",
       "174      175    11693   9958.602467\n",
       "175      176    10309  10034.029252\n",
       "176      177    10307  12999.224694\n",
       "\n",
       "[177 rows x 3 columns]"
      ],
      "text/html": "<div>\n<style scoped>\n    .dataframe tbody tr th:only-of-type {\n        vertical-align: middle;\n    }\n\n    .dataframe tbody tr th {\n        vertical-align: top;\n    }\n\n    .dataframe thead th {\n        text-align: right;\n    }\n</style>\n<table border=\"1\" class=\"dataframe\">\n  <thead>\n    <tr style=\"text-align: right;\">\n      <th></th>\n      <th>physrnk</th>\n      <th>modzcta</th>\n      <th>mindist</th>\n    </tr>\n  </thead>\n  <tbody>\n    <tr>\n      <th>0</th>\n      <td>1</td>\n      <td>11373</td>\n      <td>128.100127</td>\n    </tr>\n    <tr>\n      <th>1</th>\n      <td>2</td>\n      <td>11207</td>\n      <td>145.296484</td>\n    </tr>\n    <tr>\n      <th>2</th>\n      <td>3</td>\n      <td>10037</td>\n      <td>249.179902</td>\n    </tr>\n    <tr>\n      <th>3</th>\n      <td>4</td>\n      <td>11212</td>\n      <td>253.512454</td>\n    </tr>\n    <tr>\n      <th>4</th>\n      <td>5</td>\n      <td>11224</td>\n      <td>254.704805</td>\n    </tr>\n    <tr>\n      <th>...</th>\n      <td>...</td>\n      <td>...</td>\n      <td>...</td>\n    </tr>\n    <tr>\n      <th>172</th>\n      <td>173</td>\n      <td>11692</td>\n      <td>9451.049595</td>\n    </tr>\n    <tr>\n      <th>173</th>\n      <td>174</td>\n      <td>11694</td>\n      <td>9886.798887</td>\n    </tr>\n    <tr>\n      <th>174</th>\n      <td>175</td>\n      <td>11693</td>\n      <td>9958.602467</td>\n    </tr>\n    <tr>\n      <th>175</th>\n      <td>176</td>\n      <td>10309</td>\n      <td>10034.029252</td>\n    </tr>\n    <tr>\n      <th>176</th>\n      <td>177</td>\n      <td>10307</td>\n      <td>12999.224694</td>\n    </tr>\n  </tbody>\n</table>\n<p>177 rows × 3 columns</p>\n</div>"
     },
     "metadata": {},
     "execution_count": 64
    }
   ],
   "source": [
    "phys['physrnk'] += 1\n",
    "phys"
   ]
  },
  {
   "cell_type": "code",
   "execution_count": 65,
   "metadata": {},
   "outputs": [],
   "source": [
    "info['infornk'] += 1"
   ]
  },
  {
   "cell_type": "code",
   "execution_count": 66,
   "metadata": {},
   "outputs": [
    {
     "output_type": "execute_result",
     "data": {
      "text/plain": [
       "     infornk  modzcta      perc\n",
       "0          1    10282  0.000000\n",
       "1          2    10006  0.000000\n",
       "2          3    11109  0.010000\n",
       "3          4    10280  0.010937\n",
       "4          5    10005  0.013202\n",
       "..       ...      ...       ...\n",
       "172      173    10460  0.294444\n",
       "173      174    10035  0.299391\n",
       "174      175    10454  0.330787\n",
       "175      176    10002  0.340227\n",
       "176      177    11219  0.342007\n",
       "\n",
       "[177 rows x 3 columns]"
      ],
      "text/html": "<div>\n<style scoped>\n    .dataframe tbody tr th:only-of-type {\n        vertical-align: middle;\n    }\n\n    .dataframe tbody tr th {\n        vertical-align: top;\n    }\n\n    .dataframe thead th {\n        text-align: right;\n    }\n</style>\n<table border=\"1\" class=\"dataframe\">\n  <thead>\n    <tr style=\"text-align: right;\">\n      <th></th>\n      <th>infornk</th>\n      <th>modzcta</th>\n      <th>perc</th>\n    </tr>\n  </thead>\n  <tbody>\n    <tr>\n      <th>0</th>\n      <td>1</td>\n      <td>10282</td>\n      <td>0.000000</td>\n    </tr>\n    <tr>\n      <th>1</th>\n      <td>2</td>\n      <td>10006</td>\n      <td>0.000000</td>\n    </tr>\n    <tr>\n      <th>2</th>\n      <td>3</td>\n      <td>11109</td>\n      <td>0.010000</td>\n    </tr>\n    <tr>\n      <th>3</th>\n      <td>4</td>\n      <td>10280</td>\n      <td>0.010937</td>\n    </tr>\n    <tr>\n      <th>4</th>\n      <td>5</td>\n      <td>10005</td>\n      <td>0.013202</td>\n    </tr>\n    <tr>\n      <th>...</th>\n      <td>...</td>\n      <td>...</td>\n      <td>...</td>\n    </tr>\n    <tr>\n      <th>172</th>\n      <td>173</td>\n      <td>10460</td>\n      <td>0.294444</td>\n    </tr>\n    <tr>\n      <th>173</th>\n      <td>174</td>\n      <td>10035</td>\n      <td>0.299391</td>\n    </tr>\n    <tr>\n      <th>174</th>\n      <td>175</td>\n      <td>10454</td>\n      <td>0.330787</td>\n    </tr>\n    <tr>\n      <th>175</th>\n      <td>176</td>\n      <td>10002</td>\n      <td>0.340227</td>\n    </tr>\n    <tr>\n      <th>176</th>\n      <td>177</td>\n      <td>11219</td>\n      <td>0.342007</td>\n    </tr>\n  </tbody>\n</table>\n<p>177 rows × 3 columns</p>\n</div>"
     },
     "metadata": {},
     "execution_count": 66
    }
   ],
   "source": [
    "info"
   ]
  },
  {
   "cell_type": "code",
   "execution_count": 67,
   "metadata": {},
   "outputs": [
    {
     "output_type": "execute_result",
     "data": {
      "text/plain": [
       "     infornk  modzcta      perc  physrnk      mindist\n",
       "0          1    10282  0.000000       77  1732.685445\n",
       "1          2    10006  0.000000       84  1972.741822\n",
       "2          3    11109  0.010000       80  1855.948870\n",
       "3          4    10280  0.010937      100  2230.114147\n",
       "4          5    10005  0.013202       83  1942.271324\n",
       "..       ...      ...       ...      ...          ...\n",
       "172      173    10460  0.294444       52  1255.409248\n",
       "173      174    10035  0.299391       13   405.073052\n",
       "174      175    10454  0.330787       18   520.604711\n",
       "175      176    10002  0.340227       12   325.521726\n",
       "176      177    11219  0.342007      154  4690.067147\n",
       "\n",
       "[177 rows x 5 columns]"
      ],
      "text/html": "<div>\n<style scoped>\n    .dataframe tbody tr th:only-of-type {\n        vertical-align: middle;\n    }\n\n    .dataframe tbody tr th {\n        vertical-align: top;\n    }\n\n    .dataframe thead th {\n        text-align: right;\n    }\n</style>\n<table border=\"1\" class=\"dataframe\">\n  <thead>\n    <tr style=\"text-align: right;\">\n      <th></th>\n      <th>infornk</th>\n      <th>modzcta</th>\n      <th>perc</th>\n      <th>physrnk</th>\n      <th>mindist</th>\n    </tr>\n  </thead>\n  <tbody>\n    <tr>\n      <th>0</th>\n      <td>1</td>\n      <td>10282</td>\n      <td>0.000000</td>\n      <td>77</td>\n      <td>1732.685445</td>\n    </tr>\n    <tr>\n      <th>1</th>\n      <td>2</td>\n      <td>10006</td>\n      <td>0.000000</td>\n      <td>84</td>\n      <td>1972.741822</td>\n    </tr>\n    <tr>\n      <th>2</th>\n      <td>3</td>\n      <td>11109</td>\n      <td>0.010000</td>\n      <td>80</td>\n      <td>1855.948870</td>\n    </tr>\n    <tr>\n      <th>3</th>\n      <td>4</td>\n      <td>10280</td>\n      <td>0.010937</td>\n      <td>100</td>\n      <td>2230.114147</td>\n    </tr>\n    <tr>\n      <th>4</th>\n      <td>5</td>\n      <td>10005</td>\n      <td>0.013202</td>\n      <td>83</td>\n      <td>1942.271324</td>\n    </tr>\n    <tr>\n      <th>...</th>\n      <td>...</td>\n      <td>...</td>\n      <td>...</td>\n      <td>...</td>\n      <td>...</td>\n    </tr>\n    <tr>\n      <th>172</th>\n      <td>173</td>\n      <td>10460</td>\n      <td>0.294444</td>\n      <td>52</td>\n      <td>1255.409248</td>\n    </tr>\n    <tr>\n      <th>173</th>\n      <td>174</td>\n      <td>10035</td>\n      <td>0.299391</td>\n      <td>13</td>\n      <td>405.073052</td>\n    </tr>\n    <tr>\n      <th>174</th>\n      <td>175</td>\n      <td>10454</td>\n      <td>0.330787</td>\n      <td>18</td>\n      <td>520.604711</td>\n    </tr>\n    <tr>\n      <th>175</th>\n      <td>176</td>\n      <td>10002</td>\n      <td>0.340227</td>\n      <td>12</td>\n      <td>325.521726</td>\n    </tr>\n    <tr>\n      <th>176</th>\n      <td>177</td>\n      <td>11219</td>\n      <td>0.342007</td>\n      <td>154</td>\n      <td>4690.067147</td>\n    </tr>\n  </tbody>\n</table>\n<p>177 rows × 5 columns</p>\n</div>"
     },
     "metadata": {},
     "execution_count": 67
    }
   ],
   "source": [
    "final = info.join(phys.set_index('modzcta'), on='modzcta')\n",
    "final"
   ]
  },
  {
   "cell_type": "code",
   "execution_count": 68,
   "metadata": {},
   "outputs": [
    {
     "output_type": "execute_result",
     "data": {
      "text/plain": [
       "     infornk  modzcta      perc  physrnk      mindist\n",
       "22        23    10001  0.088226      122  2859.212963\n",
       "175      176    10002  0.340227       12   325.521726\n",
       "17        18    10003  0.076624       31   899.585186\n",
       "5          6    10004  0.013412      106  2371.392258\n",
       "4          5    10005  0.013202       83  1942.271324\n",
       "..       ...      ...       ...      ...          ...\n",
       "145      146    11691  0.218807      171  8009.689690\n",
       "126      127    11692  0.195215      173  9451.049595\n",
       "110      111    11693  0.179829      175  9958.602467\n",
       "92        93    11694  0.156592      174  9886.798887\n",
       "52        53    11697  0.121378      163  5719.471378\n",
       "\n",
       "[177 rows x 5 columns]"
      ],
      "text/html": "<div>\n<style scoped>\n    .dataframe tbody tr th:only-of-type {\n        vertical-align: middle;\n    }\n\n    .dataframe tbody tr th {\n        vertical-align: top;\n    }\n\n    .dataframe thead th {\n        text-align: right;\n    }\n</style>\n<table border=\"1\" class=\"dataframe\">\n  <thead>\n    <tr style=\"text-align: right;\">\n      <th></th>\n      <th>infornk</th>\n      <th>modzcta</th>\n      <th>perc</th>\n      <th>physrnk</th>\n      <th>mindist</th>\n    </tr>\n  </thead>\n  <tbody>\n    <tr>\n      <th>22</th>\n      <td>23</td>\n      <td>10001</td>\n      <td>0.088226</td>\n      <td>122</td>\n      <td>2859.212963</td>\n    </tr>\n    <tr>\n      <th>175</th>\n      <td>176</td>\n      <td>10002</td>\n      <td>0.340227</td>\n      <td>12</td>\n      <td>325.521726</td>\n    </tr>\n    <tr>\n      <th>17</th>\n      <td>18</td>\n      <td>10003</td>\n      <td>0.076624</td>\n      <td>31</td>\n      <td>899.585186</td>\n    </tr>\n    <tr>\n      <th>5</th>\n      <td>6</td>\n      <td>10004</td>\n      <td>0.013412</td>\n      <td>106</td>\n      <td>2371.392258</td>\n    </tr>\n    <tr>\n      <th>4</th>\n      <td>5</td>\n      <td>10005</td>\n      <td>0.013202</td>\n      <td>83</td>\n      <td>1942.271324</td>\n    </tr>\n    <tr>\n      <th>...</th>\n      <td>...</td>\n      <td>...</td>\n      <td>...</td>\n      <td>...</td>\n      <td>...</td>\n    </tr>\n    <tr>\n      <th>145</th>\n      <td>146</td>\n      <td>11691</td>\n      <td>0.218807</td>\n      <td>171</td>\n      <td>8009.689690</td>\n    </tr>\n    <tr>\n      <th>126</th>\n      <td>127</td>\n      <td>11692</td>\n      <td>0.195215</td>\n      <td>173</td>\n      <td>9451.049595</td>\n    </tr>\n    <tr>\n      <th>110</th>\n      <td>111</td>\n      <td>11693</td>\n      <td>0.179829</td>\n      <td>175</td>\n      <td>9958.602467</td>\n    </tr>\n    <tr>\n      <th>92</th>\n      <td>93</td>\n      <td>11694</td>\n      <td>0.156592</td>\n      <td>174</td>\n      <td>9886.798887</td>\n    </tr>\n    <tr>\n      <th>52</th>\n      <td>53</td>\n      <td>11697</td>\n      <td>0.121378</td>\n      <td>163</td>\n      <td>5719.471378</td>\n    </tr>\n  </tbody>\n</table>\n<p>177 rows × 5 columns</p>\n</div>"
     },
     "metadata": {},
     "execution_count": 68
    }
   ],
   "source": [
    "final.sort_values(by=['modzcta'], inplace=True)\n",
    "final"
   ]
  },
  {
   "cell_type": "code",
   "execution_count": 34,
   "metadata": {},
   "outputs": [],
   "source": [
    "final.to_csv('../datas/7-conclusionrnks.csv', index=False)"
   ]
  },
  {
   "source": [
    "# combine ranks with svi"
   ],
   "cell_type": "markdown",
   "metadata": {}
  },
  {
   "cell_type": "code",
   "execution_count": 35,
   "metadata": {},
   "outputs": [
    {
     "output_type": "execute_result",
     "data": {
      "text/plain": [
       "     infornk  modzcta      perc  physrnk      mindist\n",
       "0         23    10001  0.088226      122  2859.212963\n",
       "1        176    10002  0.340227       12   325.521726\n",
       "2         18    10003  0.076624       31   899.585186\n",
       "3          6    10004  0.013412      106  2371.392258\n",
       "4          5    10005  0.013202       83  1942.271324\n",
       "..       ...      ...       ...      ...          ...\n",
       "172      146    11691  0.218807      171  8009.689690\n",
       "173      127    11692  0.195215      173  9451.049595\n",
       "174      111    11693  0.179829      175  9958.602467\n",
       "175       93    11694  0.156592      174  9886.798887\n",
       "176       53    11697  0.121378      163  5719.471378\n",
       "\n",
       "[177 rows x 5 columns]"
      ],
      "text/html": "<div>\n<style scoped>\n    .dataframe tbody tr th:only-of-type {\n        vertical-align: middle;\n    }\n\n    .dataframe tbody tr th {\n        vertical-align: top;\n    }\n\n    .dataframe thead th {\n        text-align: right;\n    }\n</style>\n<table border=\"1\" class=\"dataframe\">\n  <thead>\n    <tr style=\"text-align: right;\">\n      <th></th>\n      <th>infornk</th>\n      <th>modzcta</th>\n      <th>perc</th>\n      <th>physrnk</th>\n      <th>mindist</th>\n    </tr>\n  </thead>\n  <tbody>\n    <tr>\n      <th>0</th>\n      <td>23</td>\n      <td>10001</td>\n      <td>0.088226</td>\n      <td>122</td>\n      <td>2859.212963</td>\n    </tr>\n    <tr>\n      <th>1</th>\n      <td>176</td>\n      <td>10002</td>\n      <td>0.340227</td>\n      <td>12</td>\n      <td>325.521726</td>\n    </tr>\n    <tr>\n      <th>2</th>\n      <td>18</td>\n      <td>10003</td>\n      <td>0.076624</td>\n      <td>31</td>\n      <td>899.585186</td>\n    </tr>\n    <tr>\n      <th>3</th>\n      <td>6</td>\n      <td>10004</td>\n      <td>0.013412</td>\n      <td>106</td>\n      <td>2371.392258</td>\n    </tr>\n    <tr>\n      <th>4</th>\n      <td>5</td>\n      <td>10005</td>\n      <td>0.013202</td>\n      <td>83</td>\n      <td>1942.271324</td>\n    </tr>\n    <tr>\n      <th>...</th>\n      <td>...</td>\n      <td>...</td>\n      <td>...</td>\n      <td>...</td>\n      <td>...</td>\n    </tr>\n    <tr>\n      <th>172</th>\n      <td>146</td>\n      <td>11691</td>\n      <td>0.218807</td>\n      <td>171</td>\n      <td>8009.689690</td>\n    </tr>\n    <tr>\n      <th>173</th>\n      <td>127</td>\n      <td>11692</td>\n      <td>0.195215</td>\n      <td>173</td>\n      <td>9451.049595</td>\n    </tr>\n    <tr>\n      <th>174</th>\n      <td>111</td>\n      <td>11693</td>\n      <td>0.179829</td>\n      <td>175</td>\n      <td>9958.602467</td>\n    </tr>\n    <tr>\n      <th>175</th>\n      <td>93</td>\n      <td>11694</td>\n      <td>0.156592</td>\n      <td>174</td>\n      <td>9886.798887</td>\n    </tr>\n    <tr>\n      <th>176</th>\n      <td>53</td>\n      <td>11697</td>\n      <td>0.121378</td>\n      <td>163</td>\n      <td>5719.471378</td>\n    </tr>\n  </tbody>\n</table>\n<p>177 rows × 5 columns</p>\n</div>"
     },
     "metadata": {},
     "execution_count": 35
    }
   ],
   "source": [
    "rnks = pandas.read_csv('../datas/7-conclusionrnks.csv')\n",
    "rnks"
   ]
  },
  {
   "cell_type": "code",
   "execution_count": 36,
   "metadata": {},
   "outputs": [
    {
     "output_type": "execute_result",
     "data": {
      "text/plain": [
       "     modzcta    avgsvi\n",
       "0      10473  0.821064\n",
       "1      10454  0.975442\n",
       "2      10455  0.961394\n",
       "3      10472  0.956680\n",
       "4      10451  0.938777\n",
       "..       ...       ...\n",
       "172    10312  0.233494\n",
       "173    10314  0.410404\n",
       "174    10307  0.215775\n",
       "175    10309  0.208712\n",
       "176    10303  0.694758\n",
       "\n",
       "[177 rows x 2 columns]"
      ],
      "text/html": "<div>\n<style scoped>\n    .dataframe tbody tr th:only-of-type {\n        vertical-align: middle;\n    }\n\n    .dataframe tbody tr th {\n        vertical-align: top;\n    }\n\n    .dataframe thead th {\n        text-align: right;\n    }\n</style>\n<table border=\"1\" class=\"dataframe\">\n  <thead>\n    <tr style=\"text-align: right;\">\n      <th></th>\n      <th>modzcta</th>\n      <th>avgsvi</th>\n    </tr>\n  </thead>\n  <tbody>\n    <tr>\n      <th>0</th>\n      <td>10473</td>\n      <td>0.821064</td>\n    </tr>\n    <tr>\n      <th>1</th>\n      <td>10454</td>\n      <td>0.975442</td>\n    </tr>\n    <tr>\n      <th>2</th>\n      <td>10455</td>\n      <td>0.961394</td>\n    </tr>\n    <tr>\n      <th>3</th>\n      <td>10472</td>\n      <td>0.956680</td>\n    </tr>\n    <tr>\n      <th>4</th>\n      <td>10451</td>\n      <td>0.938777</td>\n    </tr>\n    <tr>\n      <th>...</th>\n      <td>...</td>\n      <td>...</td>\n    </tr>\n    <tr>\n      <th>172</th>\n      <td>10312</td>\n      <td>0.233494</td>\n    </tr>\n    <tr>\n      <th>173</th>\n      <td>10314</td>\n      <td>0.410404</td>\n    </tr>\n    <tr>\n      <th>174</th>\n      <td>10307</td>\n      <td>0.215775</td>\n    </tr>\n    <tr>\n      <th>175</th>\n      <td>10309</td>\n      <td>0.208712</td>\n    </tr>\n    <tr>\n      <th>176</th>\n      <td>10303</td>\n      <td>0.694758</td>\n    </tr>\n  </tbody>\n</table>\n<p>177 rows × 2 columns</p>\n</div>"
     },
     "metadata": {},
     "execution_count": 36
    }
   ],
   "source": [
    "svi = pandas.read_csv('../datas/04-svi/svi-merged.csv')\n",
    "svi"
   ]
  },
  {
   "cell_type": "code",
   "execution_count": 37,
   "metadata": {},
   "outputs": [
    {
     "output_type": "execute_result",
     "data": {
      "text/plain": [
       "     infornk  modzcta      perc  physrnk      mindist    avgsvi\n",
       "0         23    10001  0.088226      122  2859.212963  0.373329\n",
       "1        176    10002  0.340227       12   325.521726  0.779647\n",
       "2         18    10003  0.076624       31   899.585186  0.323569\n",
       "3          6    10004  0.013412      106  2371.392258  0.178840\n",
       "4          5    10005  0.013202       83  1942.271324  0.192400\n",
       "..       ...      ...       ...      ...          ...       ...\n",
       "172      146    11691  0.218807      171  8009.689690  0.906325\n",
       "173      127    11692  0.195215      173  9451.049595  0.906629\n",
       "174      111    11693  0.179829      175  9958.602467  0.620375\n",
       "175       93    11694  0.156592      174  9886.798887  0.477767\n",
       "176       53    11697  0.121378      163  5719.471378  0.246600\n",
       "\n",
       "[177 rows x 6 columns]"
      ],
      "text/html": "<div>\n<style scoped>\n    .dataframe tbody tr th:only-of-type {\n        vertical-align: middle;\n    }\n\n    .dataframe tbody tr th {\n        vertical-align: top;\n    }\n\n    .dataframe thead th {\n        text-align: right;\n    }\n</style>\n<table border=\"1\" class=\"dataframe\">\n  <thead>\n    <tr style=\"text-align: right;\">\n      <th></th>\n      <th>infornk</th>\n      <th>modzcta</th>\n      <th>perc</th>\n      <th>physrnk</th>\n      <th>mindist</th>\n      <th>avgsvi</th>\n    </tr>\n  </thead>\n  <tbody>\n    <tr>\n      <th>0</th>\n      <td>23</td>\n      <td>10001</td>\n      <td>0.088226</td>\n      <td>122</td>\n      <td>2859.212963</td>\n      <td>0.373329</td>\n    </tr>\n    <tr>\n      <th>1</th>\n      <td>176</td>\n      <td>10002</td>\n      <td>0.340227</td>\n      <td>12</td>\n      <td>325.521726</td>\n      <td>0.779647</td>\n    </tr>\n    <tr>\n      <th>2</th>\n      <td>18</td>\n      <td>10003</td>\n      <td>0.076624</td>\n      <td>31</td>\n      <td>899.585186</td>\n      <td>0.323569</td>\n    </tr>\n    <tr>\n      <th>3</th>\n      <td>6</td>\n      <td>10004</td>\n      <td>0.013412</td>\n      <td>106</td>\n      <td>2371.392258</td>\n      <td>0.178840</td>\n    </tr>\n    <tr>\n      <th>4</th>\n      <td>5</td>\n      <td>10005</td>\n      <td>0.013202</td>\n      <td>83</td>\n      <td>1942.271324</td>\n      <td>0.192400</td>\n    </tr>\n    <tr>\n      <th>...</th>\n      <td>...</td>\n      <td>...</td>\n      <td>...</td>\n      <td>...</td>\n      <td>...</td>\n      <td>...</td>\n    </tr>\n    <tr>\n      <th>172</th>\n      <td>146</td>\n      <td>11691</td>\n      <td>0.218807</td>\n      <td>171</td>\n      <td>8009.689690</td>\n      <td>0.906325</td>\n    </tr>\n    <tr>\n      <th>173</th>\n      <td>127</td>\n      <td>11692</td>\n      <td>0.195215</td>\n      <td>173</td>\n      <td>9451.049595</td>\n      <td>0.906629</td>\n    </tr>\n    <tr>\n      <th>174</th>\n      <td>111</td>\n      <td>11693</td>\n      <td>0.179829</td>\n      <td>175</td>\n      <td>9958.602467</td>\n      <td>0.620375</td>\n    </tr>\n    <tr>\n      <th>175</th>\n      <td>93</td>\n      <td>11694</td>\n      <td>0.156592</td>\n      <td>174</td>\n      <td>9886.798887</td>\n      <td>0.477767</td>\n    </tr>\n    <tr>\n      <th>176</th>\n      <td>53</td>\n      <td>11697</td>\n      <td>0.121378</td>\n      <td>163</td>\n      <td>5719.471378</td>\n      <td>0.246600</td>\n    </tr>\n  </tbody>\n</table>\n<p>177 rows × 6 columns</p>\n</div>"
     },
     "metadata": {},
     "execution_count": 37
    }
   ],
   "source": [
    "svirnk = rnks.join(svi.set_index('modzcta'), on='modzcta')\n",
    "svirnk"
   ]
  },
  {
   "cell_type": "code",
   "execution_count": 42,
   "metadata": {},
   "outputs": [],
   "source": [
    "svirnk.to_csv('../datas/8-svi_rnks.csv', index=False)"
   ]
  },
  {
   "cell_type": "code",
   "execution_count": 39,
   "metadata": {},
   "outputs": [
    {
     "output_type": "execute_result",
     "data": {
      "text/plain": [
       "      infornk  modzcta      perc  physrnk      mindist    avgsvi\n",
       "0    0.129944    10001  0.088226      122  2859.212963  0.373329\n",
       "1    0.994350    10002  0.340227       12   325.521726  0.779647\n",
       "2    0.101695    10003  0.076624       31   899.585186  0.323569\n",
       "3    0.033898    10004  0.013412      106  2371.392258  0.178840\n",
       "4    0.028249    10005  0.013202       83  1942.271324  0.192400\n",
       "..        ...      ...       ...      ...          ...       ...\n",
       "172  0.824859    11691  0.218807      171  8009.689690  0.906325\n",
       "173  0.717514    11692  0.195215      173  9451.049595  0.906629\n",
       "174  0.627119    11693  0.179829      175  9958.602467  0.620375\n",
       "175  0.525424    11694  0.156592      174  9886.798887  0.477767\n",
       "176  0.299435    11697  0.121378      163  5719.471378  0.246600\n",
       "\n",
       "[177 rows x 6 columns]"
      ],
      "text/html": "<div>\n<style scoped>\n    .dataframe tbody tr th:only-of-type {\n        vertical-align: middle;\n    }\n\n    .dataframe tbody tr th {\n        vertical-align: top;\n    }\n\n    .dataframe thead th {\n        text-align: right;\n    }\n</style>\n<table border=\"1\" class=\"dataframe\">\n  <thead>\n    <tr style=\"text-align: right;\">\n      <th></th>\n      <th>infornk</th>\n      <th>modzcta</th>\n      <th>perc</th>\n      <th>physrnk</th>\n      <th>mindist</th>\n      <th>avgsvi</th>\n    </tr>\n  </thead>\n  <tbody>\n    <tr>\n      <th>0</th>\n      <td>0.129944</td>\n      <td>10001</td>\n      <td>0.088226</td>\n      <td>122</td>\n      <td>2859.212963</td>\n      <td>0.373329</td>\n    </tr>\n    <tr>\n      <th>1</th>\n      <td>0.994350</td>\n      <td>10002</td>\n      <td>0.340227</td>\n      <td>12</td>\n      <td>325.521726</td>\n      <td>0.779647</td>\n    </tr>\n    <tr>\n      <th>2</th>\n      <td>0.101695</td>\n      <td>10003</td>\n      <td>0.076624</td>\n      <td>31</td>\n      <td>899.585186</td>\n      <td>0.323569</td>\n    </tr>\n    <tr>\n      <th>3</th>\n      <td>0.033898</td>\n      <td>10004</td>\n      <td>0.013412</td>\n      <td>106</td>\n      <td>2371.392258</td>\n      <td>0.178840</td>\n    </tr>\n    <tr>\n      <th>4</th>\n      <td>0.028249</td>\n      <td>10005</td>\n      <td>0.013202</td>\n      <td>83</td>\n      <td>1942.271324</td>\n      <td>0.192400</td>\n    </tr>\n    <tr>\n      <th>...</th>\n      <td>...</td>\n      <td>...</td>\n      <td>...</td>\n      <td>...</td>\n      <td>...</td>\n      <td>...</td>\n    </tr>\n    <tr>\n      <th>172</th>\n      <td>0.824859</td>\n      <td>11691</td>\n      <td>0.218807</td>\n      <td>171</td>\n      <td>8009.689690</td>\n      <td>0.906325</td>\n    </tr>\n    <tr>\n      <th>173</th>\n      <td>0.717514</td>\n      <td>11692</td>\n      <td>0.195215</td>\n      <td>173</td>\n      <td>9451.049595</td>\n      <td>0.906629</td>\n    </tr>\n    <tr>\n      <th>174</th>\n      <td>0.627119</td>\n      <td>11693</td>\n      <td>0.179829</td>\n      <td>175</td>\n      <td>9958.602467</td>\n      <td>0.620375</td>\n    </tr>\n    <tr>\n      <th>175</th>\n      <td>0.525424</td>\n      <td>11694</td>\n      <td>0.156592</td>\n      <td>174</td>\n      <td>9886.798887</td>\n      <td>0.477767</td>\n    </tr>\n    <tr>\n      <th>176</th>\n      <td>0.299435</td>\n      <td>11697</td>\n      <td>0.121378</td>\n      <td>163</td>\n      <td>5719.471378</td>\n      <td>0.246600</td>\n    </tr>\n  </tbody>\n</table>\n<p>177 rows × 6 columns</p>\n</div>"
     },
     "metadata": {},
     "execution_count": 39
    }
   ],
   "source": [
    "svirnk['infornk'] = svirnk['infornk'] / 177\n",
    "svirnk"
   ]
  },
  {
   "cell_type": "code",
   "execution_count": 40,
   "metadata": {},
   "outputs": [],
   "source": [
    "svirnk['physrnk'] = svirnk['physrnk'] / 177"
   ]
  },
  {
   "cell_type": "code",
   "execution_count": 41,
   "metadata": {},
   "outputs": [
    {
     "output_type": "execute_result",
     "data": {
      "text/plain": [
       "      infornk  modzcta      perc   physrnk      mindist    avgsvi\n",
       "0    0.129944    10001  0.088226  0.689266  2859.212963  0.373329\n",
       "1    0.994350    10002  0.340227  0.067797   325.521726  0.779647\n",
       "2    0.101695    10003  0.076624  0.175141   899.585186  0.323569\n",
       "3    0.033898    10004  0.013412  0.598870  2371.392258  0.178840\n",
       "4    0.028249    10005  0.013202  0.468927  1942.271324  0.192400\n",
       "..        ...      ...       ...       ...          ...       ...\n",
       "172  0.824859    11691  0.218807  0.966102  8009.689690  0.906325\n",
       "173  0.717514    11692  0.195215  0.977401  9451.049595  0.906629\n",
       "174  0.627119    11693  0.179829  0.988701  9958.602467  0.620375\n",
       "175  0.525424    11694  0.156592  0.983051  9886.798887  0.477767\n",
       "176  0.299435    11697  0.121378  0.920904  5719.471378  0.246600\n",
       "\n",
       "[177 rows x 6 columns]"
      ],
      "text/html": "<div>\n<style scoped>\n    .dataframe tbody tr th:only-of-type {\n        vertical-align: middle;\n    }\n\n    .dataframe tbody tr th {\n        vertical-align: top;\n    }\n\n    .dataframe thead th {\n        text-align: right;\n    }\n</style>\n<table border=\"1\" class=\"dataframe\">\n  <thead>\n    <tr style=\"text-align: right;\">\n      <th></th>\n      <th>infornk</th>\n      <th>modzcta</th>\n      <th>perc</th>\n      <th>physrnk</th>\n      <th>mindist</th>\n      <th>avgsvi</th>\n    </tr>\n  </thead>\n  <tbody>\n    <tr>\n      <th>0</th>\n      <td>0.129944</td>\n      <td>10001</td>\n      <td>0.088226</td>\n      <td>0.689266</td>\n      <td>2859.212963</td>\n      <td>0.373329</td>\n    </tr>\n    <tr>\n      <th>1</th>\n      <td>0.994350</td>\n      <td>10002</td>\n      <td>0.340227</td>\n      <td>0.067797</td>\n      <td>325.521726</td>\n      <td>0.779647</td>\n    </tr>\n    <tr>\n      <th>2</th>\n      <td>0.101695</td>\n      <td>10003</td>\n      <td>0.076624</td>\n      <td>0.175141</td>\n      <td>899.585186</td>\n      <td>0.323569</td>\n    </tr>\n    <tr>\n      <th>3</th>\n      <td>0.033898</td>\n      <td>10004</td>\n      <td>0.013412</td>\n      <td>0.598870</td>\n      <td>2371.392258</td>\n      <td>0.178840</td>\n    </tr>\n    <tr>\n      <th>4</th>\n      <td>0.028249</td>\n      <td>10005</td>\n      <td>0.013202</td>\n      <td>0.468927</td>\n      <td>1942.271324</td>\n      <td>0.192400</td>\n    </tr>\n    <tr>\n      <th>...</th>\n      <td>...</td>\n      <td>...</td>\n      <td>...</td>\n      <td>...</td>\n      <td>...</td>\n      <td>...</td>\n    </tr>\n    <tr>\n      <th>172</th>\n      <td>0.824859</td>\n      <td>11691</td>\n      <td>0.218807</td>\n      <td>0.966102</td>\n      <td>8009.689690</td>\n      <td>0.906325</td>\n    </tr>\n    <tr>\n      <th>173</th>\n      <td>0.717514</td>\n      <td>11692</td>\n      <td>0.195215</td>\n      <td>0.977401</td>\n      <td>9451.049595</td>\n      <td>0.906629</td>\n    </tr>\n    <tr>\n      <th>174</th>\n      <td>0.627119</td>\n      <td>11693</td>\n      <td>0.179829</td>\n      <td>0.988701</td>\n      <td>9958.602467</td>\n      <td>0.620375</td>\n    </tr>\n    <tr>\n      <th>175</th>\n      <td>0.525424</td>\n      <td>11694</td>\n      <td>0.156592</td>\n      <td>0.983051</td>\n      <td>9886.798887</td>\n      <td>0.477767</td>\n    </tr>\n    <tr>\n      <th>176</th>\n      <td>0.299435</td>\n      <td>11697</td>\n      <td>0.121378</td>\n      <td>0.920904</td>\n      <td>5719.471378</td>\n      <td>0.246600</td>\n    </tr>\n  </tbody>\n</table>\n<p>177 rows × 6 columns</p>\n</div>"
     },
     "metadata": {},
     "execution_count": 41
    }
   ],
   "source": [
    "svirnk"
   ]
  },
  {
   "cell_type": "code",
   "execution_count": 43,
   "metadata": {},
   "outputs": [],
   "source": [
    "test = pandas.read_csv('../datas/06-cases/data-by-modzcta.csv')"
   ]
  },
  {
   "cell_type": "code",
   "execution_count": 44,
   "metadata": {},
   "outputs": [
    {
     "output_type": "execute_result",
     "data": {
      "text/plain": [
       "0.0"
      ]
     },
     "metadata": {},
     "execution_count": 44
    }
   ],
   "source": [
    "test['COVID_DEATH_RATE'].min()"
   ]
  },
  {
   "cell_type": "code",
   "execution_count": 45,
   "metadata": {},
   "outputs": [
    {
     "output_type": "execute_result",
     "data": {
      "text/plain": [
       "721.84"
      ]
     },
     "metadata": {},
     "execution_count": 45
    }
   ],
   "source": [
    "test['COVID_DEATH_RATE'].max()"
   ]
  },
  {
   "cell_type": "code",
   "execution_count": null,
   "metadata": {},
   "outputs": [],
   "source": []
  }
 ]
}