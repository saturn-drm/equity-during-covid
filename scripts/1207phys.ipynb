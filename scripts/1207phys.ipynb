{
 "metadata": {
  "language_info": {
   "codemirror_mode": {
    "name": "ipython",
    "version": 3
   },
   "file_extension": ".py",
   "mimetype": "text/x-python",
   "name": "python",
   "nbconvert_exporter": "python",
   "pygments_lexer": "ipython3",
   "version": "3.7.7-final"
  },
  "orig_nbformat": 2,
  "kernelspec": {
   "name": "python3",
   "display_name": "Python 3"
  }
 },
 "nbformat": 4,
 "nbformat_minor": 2,
 "cells": [
  {
   "source": [
    "# understading hospital POI"
   ],
   "cell_type": "markdown",
   "metadata": {}
  },
  {
   "cell_type": "code",
   "execution_count": 1,
   "metadata": {},
   "outputs": [],
   "source": [
    "import geopandas\n",
    "import pandas"
   ]
  },
  {
   "cell_type": "code",
   "execution_count": 2,
   "metadata": {},
   "outputs": [
    {
     "output_type": "execute_result",
     "data": {
      "text/plain": [
       "                               name source complexid saftype pri_add  \\\n",
       "0       HRD RAMP TO GWB OVER HRD SB    DCP       401       N       0   \n",
       "1                          GOETHALS    DCP         0       N       0   \n",
       "2  KOCH BR PEDESTRIAN AND BIKE PATH  DoITT         0       N       0   \n",
       "3       KOCH BR PEDESTRIAN AND BIKE  DoITT         0       N       0   \n",
       "4      14 AV OV BELT CROSS ISL PKWY    DCP         0       N       0   \n",
       "\n",
       "                    modified faci_dom facility_t     b7_sc  placeid bin sos  \\\n",
       "0  2020-03-12T00:00:00+00:00        8          6  11095502  1031153   0   1   \n",
       "1  2020-03-16T00:00:00+00:00        8          6  59703501    19954   0   1   \n",
       "2  2020-03-16T00:00:00+00:00        8          6  19792015  1026908   0   1   \n",
       "3  2020-03-16T00:00:00+00:00        8          6  49734017  1026909   0   1   \n",
       "4  2018-04-19T00:00:00+00:00        8          6  40074101  1031297   0   2   \n",
       "\n",
       "  segmentid borough                    created                    geometry  \n",
       "0    193927       1  2018-04-12T00:00:00+00:00  POINT (-73.93149 40.84419)  \n",
       "1    321726       5  2008-03-15T00:00:00+00:00  POINT (-74.19673 40.63526)  \n",
       "2    138896       1  2015-10-20T00:00:00+00:00  POINT (-73.95802 40.75849)  \n",
       "3    139388       4  2015-10-20T00:00:00+00:00  POINT (-73.95062 40.75530)  \n",
       "4    179357       4  2018-04-13T00:00:00+00:00  POINT (-73.81678 40.78815)  "
      ],
      "text/html": "<div>\n<style scoped>\n    .dataframe tbody tr th:only-of-type {\n        vertical-align: middle;\n    }\n\n    .dataframe tbody tr th {\n        vertical-align: top;\n    }\n\n    .dataframe thead th {\n        text-align: right;\n    }\n</style>\n<table border=\"1\" class=\"dataframe\">\n  <thead>\n    <tr style=\"text-align: right;\">\n      <th></th>\n      <th>name</th>\n      <th>source</th>\n      <th>complexid</th>\n      <th>saftype</th>\n      <th>pri_add</th>\n      <th>modified</th>\n      <th>faci_dom</th>\n      <th>facility_t</th>\n      <th>b7_sc</th>\n      <th>placeid</th>\n      <th>bin</th>\n      <th>sos</th>\n      <th>segmentid</th>\n      <th>borough</th>\n      <th>created</th>\n      <th>geometry</th>\n    </tr>\n  </thead>\n  <tbody>\n    <tr>\n      <th>0</th>\n      <td>HRD RAMP TO GWB OVER HRD SB</td>\n      <td>DCP</td>\n      <td>401</td>\n      <td>N</td>\n      <td>0</td>\n      <td>2020-03-12T00:00:00+00:00</td>\n      <td>8</td>\n      <td>6</td>\n      <td>11095502</td>\n      <td>1031153</td>\n      <td>0</td>\n      <td>1</td>\n      <td>193927</td>\n      <td>1</td>\n      <td>2018-04-12T00:00:00+00:00</td>\n      <td>POINT (-73.93149 40.84419)</td>\n    </tr>\n    <tr>\n      <th>1</th>\n      <td>GOETHALS</td>\n      <td>DCP</td>\n      <td>0</td>\n      <td>N</td>\n      <td>0</td>\n      <td>2020-03-16T00:00:00+00:00</td>\n      <td>8</td>\n      <td>6</td>\n      <td>59703501</td>\n      <td>19954</td>\n      <td>0</td>\n      <td>1</td>\n      <td>321726</td>\n      <td>5</td>\n      <td>2008-03-15T00:00:00+00:00</td>\n      <td>POINT (-74.19673 40.63526)</td>\n    </tr>\n    <tr>\n      <th>2</th>\n      <td>KOCH BR PEDESTRIAN AND BIKE PATH</td>\n      <td>DoITT</td>\n      <td>0</td>\n      <td>N</td>\n      <td>0</td>\n      <td>2020-03-16T00:00:00+00:00</td>\n      <td>8</td>\n      <td>6</td>\n      <td>19792015</td>\n      <td>1026908</td>\n      <td>0</td>\n      <td>1</td>\n      <td>138896</td>\n      <td>1</td>\n      <td>2015-10-20T00:00:00+00:00</td>\n      <td>POINT (-73.95802 40.75849)</td>\n    </tr>\n    <tr>\n      <th>3</th>\n      <td>KOCH BR PEDESTRIAN AND BIKE</td>\n      <td>DoITT</td>\n      <td>0</td>\n      <td>N</td>\n      <td>0</td>\n      <td>2020-03-16T00:00:00+00:00</td>\n      <td>8</td>\n      <td>6</td>\n      <td>49734017</td>\n      <td>1026909</td>\n      <td>0</td>\n      <td>1</td>\n      <td>139388</td>\n      <td>4</td>\n      <td>2015-10-20T00:00:00+00:00</td>\n      <td>POINT (-73.95062 40.75530)</td>\n    </tr>\n    <tr>\n      <th>4</th>\n      <td>14 AV OV BELT CROSS ISL PKWY</td>\n      <td>DCP</td>\n      <td>0</td>\n      <td>N</td>\n      <td>0</td>\n      <td>2018-04-19T00:00:00+00:00</td>\n      <td>8</td>\n      <td>6</td>\n      <td>40074101</td>\n      <td>1031297</td>\n      <td>0</td>\n      <td>2</td>\n      <td>179357</td>\n      <td>4</td>\n      <td>2018-04-13T00:00:00+00:00</td>\n      <td>POINT (-73.81678 40.78815)</td>\n    </tr>\n  </tbody>\n</table>\n</div>"
     },
     "metadata": {},
     "execution_count": 2
    }
   ],
   "source": [
    "raw = geopandas.read_file('../datas/05-physical/Points Of Interest.geojson')\n",
    "raw.head()"
   ]
  },
  {
   "cell_type": "code",
   "execution_count": 3,
   "metadata": {},
   "outputs": [
    {
     "output_type": "execute_result",
     "data": {
      "text/plain": [
       "                                                NAME  facility_t        lat  \\\n",
       "0  SOUTH BRONX MENTAL HEALTH COUNCIL COMMUNITY ME...          10  40.807560   \n",
       "1                            SUNY DOWNSTATE BAYRIDGE          10  40.615185   \n",
       "2            DAVITA SOUTH BROOKLYN NEPHROLOGY CENTER          10  40.606788   \n",
       "3                       BX PSYCH CTR CNTRL SVCS BLDG          10  40.847280   \n",
       "4               MOUNT SINAI ADOLESCENT HEALTH CENTER          10  40.782397   \n",
       "\n",
       "         lng  \n",
       "0 -73.908954  \n",
       "1 -74.022900  \n",
       "2 -73.923538  \n",
       "3 -73.840016  \n",
       "4 -73.947191  "
      ],
      "text/html": "<div>\n<style scoped>\n    .dataframe tbody tr th:only-of-type {\n        vertical-align: middle;\n    }\n\n    .dataframe tbody tr th {\n        vertical-align: top;\n    }\n\n    .dataframe thead th {\n        text-align: right;\n    }\n</style>\n<table border=\"1\" class=\"dataframe\">\n  <thead>\n    <tr style=\"text-align: right;\">\n      <th></th>\n      <th>NAME</th>\n      <th>facility_t</th>\n      <th>lat</th>\n      <th>lng</th>\n    </tr>\n  </thead>\n  <tbody>\n    <tr>\n      <th>0</th>\n      <td>SOUTH BRONX MENTAL HEALTH COUNCIL COMMUNITY ME...</td>\n      <td>10</td>\n      <td>40.807560</td>\n      <td>-73.908954</td>\n    </tr>\n    <tr>\n      <th>1</th>\n      <td>SUNY DOWNSTATE BAYRIDGE</td>\n      <td>10</td>\n      <td>40.615185</td>\n      <td>-74.022900</td>\n    </tr>\n    <tr>\n      <th>2</th>\n      <td>DAVITA SOUTH BROOKLYN NEPHROLOGY CENTER</td>\n      <td>10</td>\n      <td>40.606788</td>\n      <td>-73.923538</td>\n    </tr>\n    <tr>\n      <th>3</th>\n      <td>BX PSYCH CTR CNTRL SVCS BLDG</td>\n      <td>10</td>\n      <td>40.847280</td>\n      <td>-73.840016</td>\n    </tr>\n    <tr>\n      <th>4</th>\n      <td>MOUNT SINAI ADOLESCENT HEALTH CENTER</td>\n      <td>10</td>\n      <td>40.782397</td>\n      <td>-73.947191</td>\n    </tr>\n  </tbody>\n</table>\n</div>"
     },
     "metadata": {},
     "execution_count": 3
    }
   ],
   "source": [
    "data = pandas.read_csv('../201206_POI/POI_med.csv')\n",
    "data.head()"
   ]
  },
  {
   "cell_type": "code",
   "execution_count": 4,
   "metadata": {},
   "outputs": [
    {
     "output_type": "execute_result",
     "data": {
      "text/plain": [
       "(78, 15)"
      ]
     },
     "metadata": {},
     "execution_count": 4
    }
   ],
   "source": [
    "data = pandas.read_csv('../datas/07-physical-new/NYC_Health___Hospitals_patient_care_locations_-_2011.csv')\n",
    "data.shape"
   ]
  },
  {
   "cell_type": "code",
   "execution_count": 5,
   "metadata": {},
   "outputs": [
    {
     "output_type": "execute_result",
     "data": {
      "text/plain": [
       "                   Facility Type   Borough  \\\n",
       "0            Child Health Center  Brooklyn   \n",
       "1            Child Health Center    Queens   \n",
       "2            Child Health Center     Bronx   \n",
       "3            Child Health Center     Bronx   \n",
       "4  Diagnostic & Treatment Center     Bronx   \n",
       "\n",
       "                                       Facility Name  \\\n",
       "0              Ida G. Israel Community Health Center   \n",
       "1               South Queens Community Health Center   \n",
       "2                 Melrose Houses Child Health Clinic   \n",
       "3          Daniel Webster Houses Child Health Clinic   \n",
       "4  Segundo Ruiz Belvis Diagnostic & Treatment Center   \n",
       "\n",
       "                           Cross Streets         Phone  \\\n",
       "0              W. 22nd St. & W. 23rd St.  718-946-3400   \n",
       "1                                    NaN  718-883-6699   \n",
       "2  between Morris Ave. & Courtlandt Ave.  718-292-2820   \n",
       "3                 corner of Webster Ave.  718-538-2147   \n",
       "4                                    NaN  718-579-4000   \n",
       "\n",
       "                                          Location 1  Postcode   Latitude  \\\n",
       "0  2201 Neptune Avenue Brooklyn, NY 11224 (40.578...   11224.0  40.578468   \n",
       "1  114 02 Guy R Brewer Blvd Jamaica, NY 11434 (40...   11434.0  40.688615   \n",
       "2  348 156th Street Bronx, NY 10451 (40.821301194...       NaN        NaN   \n",
       "3  401 168th Street Bronx, NY 10456 (40.832279848...       NaN        NaN   \n",
       "4  545 142nd Street Bronx, NY 10454 (40.810121864...       NaN        NaN   \n",
       "\n",
       "   Longitude  Community Board  Council District  Census Tract        BIN  \\\n",
       "0 -73.989614             13.0              47.0         348.0  3188417.0   \n",
       "1 -73.785593             12.0              28.0         276.0  4264631.0   \n",
       "2        NaN              NaN               NaN           NaN        NaN   \n",
       "3        NaN              NaN               NaN           NaN        NaN   \n",
       "4        NaN              NaN               NaN           NaN        NaN   \n",
       "\n",
       "            BBL                   NTA  \n",
       "0  3.069900e+09  Seagate-Coney Island  \n",
       "1  4.122000e+09          Baisley Park  \n",
       "2           NaN                   NaN  \n",
       "3           NaN                   NaN  \n",
       "4           NaN                   NaN  "
      ],
      "text/html": "<div>\n<style scoped>\n    .dataframe tbody tr th:only-of-type {\n        vertical-align: middle;\n    }\n\n    .dataframe tbody tr th {\n        vertical-align: top;\n    }\n\n    .dataframe thead th {\n        text-align: right;\n    }\n</style>\n<table border=\"1\" class=\"dataframe\">\n  <thead>\n    <tr style=\"text-align: right;\">\n      <th></th>\n      <th>Facility Type</th>\n      <th>Borough</th>\n      <th>Facility Name</th>\n      <th>Cross Streets</th>\n      <th>Phone</th>\n      <th>Location 1</th>\n      <th>Postcode</th>\n      <th>Latitude</th>\n      <th>Longitude</th>\n      <th>Community Board</th>\n      <th>Council District</th>\n      <th>Census Tract</th>\n      <th>BIN</th>\n      <th>BBL</th>\n      <th>NTA</th>\n    </tr>\n  </thead>\n  <tbody>\n    <tr>\n      <th>0</th>\n      <td>Child Health Center</td>\n      <td>Brooklyn</td>\n      <td>Ida G. Israel Community Health Center</td>\n      <td>W. 22nd St. &amp; W. 23rd St.</td>\n      <td>718-946-3400</td>\n      <td>2201 Neptune Avenue Brooklyn, NY 11224 (40.578...</td>\n      <td>11224.0</td>\n      <td>40.578468</td>\n      <td>-73.989614</td>\n      <td>13.0</td>\n      <td>47.0</td>\n      <td>348.0</td>\n      <td>3188417.0</td>\n      <td>3.069900e+09</td>\n      <td>Seagate-Coney Island</td>\n    </tr>\n    <tr>\n      <th>1</th>\n      <td>Child Health Center</td>\n      <td>Queens</td>\n      <td>South Queens Community Health Center</td>\n      <td>NaN</td>\n      <td>718-883-6699</td>\n      <td>114 02 Guy R Brewer Blvd Jamaica, NY 11434 (40...</td>\n      <td>11434.0</td>\n      <td>40.688615</td>\n      <td>-73.785593</td>\n      <td>12.0</td>\n      <td>28.0</td>\n      <td>276.0</td>\n      <td>4264631.0</td>\n      <td>4.122000e+09</td>\n      <td>Baisley Park</td>\n    </tr>\n    <tr>\n      <th>2</th>\n      <td>Child Health Center</td>\n      <td>Bronx</td>\n      <td>Melrose Houses Child Health Clinic</td>\n      <td>between Morris Ave. &amp; Courtlandt Ave.</td>\n      <td>718-292-2820</td>\n      <td>348 156th Street Bronx, NY 10451 (40.821301194...</td>\n      <td>NaN</td>\n      <td>NaN</td>\n      <td>NaN</td>\n      <td>NaN</td>\n      <td>NaN</td>\n      <td>NaN</td>\n      <td>NaN</td>\n      <td>NaN</td>\n      <td>NaN</td>\n    </tr>\n    <tr>\n      <th>3</th>\n      <td>Child Health Center</td>\n      <td>Bronx</td>\n      <td>Daniel Webster Houses Child Health Clinic</td>\n      <td>corner of Webster Ave.</td>\n      <td>718-538-2147</td>\n      <td>401 168th Street Bronx, NY 10456 (40.832279848...</td>\n      <td>NaN</td>\n      <td>NaN</td>\n      <td>NaN</td>\n      <td>NaN</td>\n      <td>NaN</td>\n      <td>NaN</td>\n      <td>NaN</td>\n      <td>NaN</td>\n      <td>NaN</td>\n    </tr>\n    <tr>\n      <th>4</th>\n      <td>Diagnostic &amp; Treatment Center</td>\n      <td>Bronx</td>\n      <td>Segundo Ruiz Belvis Diagnostic &amp; Treatment Center</td>\n      <td>NaN</td>\n      <td>718-579-4000</td>\n      <td>545 142nd Street Bronx, NY 10454 (40.810121864...</td>\n      <td>NaN</td>\n      <td>NaN</td>\n      <td>NaN</td>\n      <td>NaN</td>\n      <td>NaN</td>\n      <td>NaN</td>\n      <td>NaN</td>\n      <td>NaN</td>\n      <td>NaN</td>\n    </tr>\n  </tbody>\n</table>\n</div>"
     },
     "metadata": {},
     "execution_count": 5
    }
   ],
   "source": [
    "data.head()"
   ]
  },
  {
   "cell_type": "code",
   "execution_count": 6,
   "metadata": {},
   "outputs": [
    {
     "output_type": "execute_result",
     "data": {
      "text/plain": [
       "array(['Child Health Center', 'Diagnostic & Treatment Center',\n",
       "       'Acute Care Hospital', 'Nursing Home'], dtype=object)"
      ]
     },
     "metadata": {},
     "execution_count": 6
    }
   ],
   "source": [
    "data['Facility Type'].unique()"
   ]
  },
  {
   "cell_type": "code",
   "execution_count": 14,
   "metadata": {},
   "outputs": [
    {
     "output_type": "execute_result",
     "data": {
      "text/plain": [
       "['40.578488319967', '-73.989497148121']"
      ]
     },
     "metadata": {},
     "execution_count": 14
    }
   ],
   "source": [
    "teststr = data.loc[0, 'Location 1']\n",
    "teststr.split('(')[-1].split(')')[0].split(', ')"
   ]
  },
  {
   "cell_type": "code",
   "execution_count": 15,
   "metadata": {},
   "outputs": [
    {
     "output_type": "execute_result",
     "data": {
      "text/plain": [
       "40.578468"
      ]
     },
     "metadata": {},
     "execution_count": 15
    }
   ],
   "source": [
    "data.loc[0, 'Latitude']"
   ]
  },
  {
   "cell_type": "code",
   "execution_count": 16,
   "metadata": {},
   "outputs": [
    {
     "output_type": "execute_result",
     "data": {
      "text/plain": [
       "                   Facility Type   Borough  \\\n",
       "0            Child Health Center  Brooklyn   \n",
       "1            Child Health Center    Queens   \n",
       "2            Child Health Center     Bronx   \n",
       "3            Child Health Center     Bronx   \n",
       "4  Diagnostic & Treatment Center     Bronx   \n",
       "\n",
       "                                       Facility Name  \\\n",
       "0              Ida G. Israel Community Health Center   \n",
       "1               South Queens Community Health Center   \n",
       "2                 Melrose Houses Child Health Clinic   \n",
       "3          Daniel Webster Houses Child Health Clinic   \n",
       "4  Segundo Ruiz Belvis Diagnostic & Treatment Center   \n",
       "\n",
       "                           Cross Streets         Phone  \\\n",
       "0              W. 22nd St. & W. 23rd St.  718-946-3400   \n",
       "1                                    NaN  718-883-6699   \n",
       "2  between Morris Ave. & Courtlandt Ave.  718-292-2820   \n",
       "3                 corner of Webster Ave.  718-538-2147   \n",
       "4                                    NaN  718-579-4000   \n",
       "\n",
       "                                          Location 1  Postcode  \\\n",
       "0  2201 Neptune Avenue Brooklyn, NY 11224 (40.578...   11224.0   \n",
       "1  114 02 Guy R Brewer Blvd Jamaica, NY 11434 (40...   11434.0   \n",
       "2  348 156th Street Bronx, NY 10451 (40.821301194...       NaN   \n",
       "3  401 168th Street Bronx, NY 10456 (40.832279848...       NaN   \n",
       "4  545 142nd Street Bronx, NY 10454 (40.810121864...       NaN   \n",
       "\n",
       "          Latitude         Longitude  Community Board  Council District  \\\n",
       "0  40.578488319967  -73.989497148121             13.0              47.0   \n",
       "1  40.676945262114  -73.775306901692             12.0              28.0   \n",
       "2  40.821301194646  -73.917709787212              NaN               NaN   \n",
       "3  40.832279848967  -73.909534601874              NaN               NaN   \n",
       "4  40.810121864043  -73.916811846348              NaN               NaN   \n",
       "\n",
       "   Census Tract        BIN           BBL                   NTA  \n",
       "0         348.0  3188417.0  3.069900e+09  Seagate-Coney Island  \n",
       "1         276.0  4264631.0  4.122000e+09          Baisley Park  \n",
       "2           NaN        NaN           NaN                   NaN  \n",
       "3           NaN        NaN           NaN                   NaN  \n",
       "4           NaN        NaN           NaN                   NaN  "
      ],
      "text/html": "<div>\n<style scoped>\n    .dataframe tbody tr th:only-of-type {\n        vertical-align: middle;\n    }\n\n    .dataframe tbody tr th {\n        vertical-align: top;\n    }\n\n    .dataframe thead th {\n        text-align: right;\n    }\n</style>\n<table border=\"1\" class=\"dataframe\">\n  <thead>\n    <tr style=\"text-align: right;\">\n      <th></th>\n      <th>Facility Type</th>\n      <th>Borough</th>\n      <th>Facility Name</th>\n      <th>Cross Streets</th>\n      <th>Phone</th>\n      <th>Location 1</th>\n      <th>Postcode</th>\n      <th>Latitude</th>\n      <th>Longitude</th>\n      <th>Community Board</th>\n      <th>Council District</th>\n      <th>Census Tract</th>\n      <th>BIN</th>\n      <th>BBL</th>\n      <th>NTA</th>\n    </tr>\n  </thead>\n  <tbody>\n    <tr>\n      <th>0</th>\n      <td>Child Health Center</td>\n      <td>Brooklyn</td>\n      <td>Ida G. Israel Community Health Center</td>\n      <td>W. 22nd St. &amp; W. 23rd St.</td>\n      <td>718-946-3400</td>\n      <td>2201 Neptune Avenue Brooklyn, NY 11224 (40.578...</td>\n      <td>11224.0</td>\n      <td>40.578488319967</td>\n      <td>-73.989497148121</td>\n      <td>13.0</td>\n      <td>47.0</td>\n      <td>348.0</td>\n      <td>3188417.0</td>\n      <td>3.069900e+09</td>\n      <td>Seagate-Coney Island</td>\n    </tr>\n    <tr>\n      <th>1</th>\n      <td>Child Health Center</td>\n      <td>Queens</td>\n      <td>South Queens Community Health Center</td>\n      <td>NaN</td>\n      <td>718-883-6699</td>\n      <td>114 02 Guy R Brewer Blvd Jamaica, NY 11434 (40...</td>\n      <td>11434.0</td>\n      <td>40.676945262114</td>\n      <td>-73.775306901692</td>\n      <td>12.0</td>\n      <td>28.0</td>\n      <td>276.0</td>\n      <td>4264631.0</td>\n      <td>4.122000e+09</td>\n      <td>Baisley Park</td>\n    </tr>\n    <tr>\n      <th>2</th>\n      <td>Child Health Center</td>\n      <td>Bronx</td>\n      <td>Melrose Houses Child Health Clinic</td>\n      <td>between Morris Ave. &amp; Courtlandt Ave.</td>\n      <td>718-292-2820</td>\n      <td>348 156th Street Bronx, NY 10451 (40.821301194...</td>\n      <td>NaN</td>\n      <td>40.821301194646</td>\n      <td>-73.917709787212</td>\n      <td>NaN</td>\n      <td>NaN</td>\n      <td>NaN</td>\n      <td>NaN</td>\n      <td>NaN</td>\n      <td>NaN</td>\n    </tr>\n    <tr>\n      <th>3</th>\n      <td>Child Health Center</td>\n      <td>Bronx</td>\n      <td>Daniel Webster Houses Child Health Clinic</td>\n      <td>corner of Webster Ave.</td>\n      <td>718-538-2147</td>\n      <td>401 168th Street Bronx, NY 10456 (40.832279848...</td>\n      <td>NaN</td>\n      <td>40.832279848967</td>\n      <td>-73.909534601874</td>\n      <td>NaN</td>\n      <td>NaN</td>\n      <td>NaN</td>\n      <td>NaN</td>\n      <td>NaN</td>\n      <td>NaN</td>\n    </tr>\n    <tr>\n      <th>4</th>\n      <td>Diagnostic &amp; Treatment Center</td>\n      <td>Bronx</td>\n      <td>Segundo Ruiz Belvis Diagnostic &amp; Treatment Center</td>\n      <td>NaN</td>\n      <td>718-579-4000</td>\n      <td>545 142nd Street Bronx, NY 10454 (40.810121864...</td>\n      <td>NaN</td>\n      <td>40.810121864043</td>\n      <td>-73.916811846348</td>\n      <td>NaN</td>\n      <td>NaN</td>\n      <td>NaN</td>\n      <td>NaN</td>\n      <td>NaN</td>\n      <td>NaN</td>\n    </tr>\n  </tbody>\n</table>\n</div>"
     },
     "metadata": {},
     "execution_count": 16
    }
   ],
   "source": [
    "for index, row in data.iterrows():\n",
    "    data.loc[index, 'Latitude'] = row['Location 1'].split('(')[-1].split(')')[0].split(', ')[0]\n",
    "    data.loc[index, 'Longitude'] = row['Location 1'].split('(')[-1].split(')')[0].split(', ')[1]\n",
    "data.head()"
   ]
  },
  {
   "cell_type": "code",
   "execution_count": 17,
   "metadata": {},
   "outputs": [
    {
     "output_type": "execute_result",
     "data": {
      "text/plain": [
       "                   Facility Type  \\\n",
       "0            Child Health Center   \n",
       "1            Child Health Center   \n",
       "2            Child Health Center   \n",
       "3            Child Health Center   \n",
       "4  Diagnostic & Treatment Center   \n",
       "\n",
       "                                       Facility Name  \\\n",
       "0              Ida G. Israel Community Health Center   \n",
       "1               South Queens Community Health Center   \n",
       "2                 Melrose Houses Child Health Clinic   \n",
       "3          Daniel Webster Houses Child Health Clinic   \n",
       "4  Segundo Ruiz Belvis Diagnostic & Treatment Center   \n",
       "\n",
       "                                          Location 1         Latitude  \\\n",
       "0  2201 Neptune Avenue Brooklyn, NY 11224 (40.578...  40.578488319967   \n",
       "1  114 02 Guy R Brewer Blvd Jamaica, NY 11434 (40...  40.676945262114   \n",
       "2  348 156th Street Bronx, NY 10451 (40.821301194...  40.821301194646   \n",
       "3  401 168th Street Bronx, NY 10456 (40.832279848...  40.832279848967   \n",
       "4  545 142nd Street Bronx, NY 10454 (40.810121864...  40.810121864043   \n",
       "\n",
       "          Longitude   Borough  \n",
       "0  -73.989497148121  Brooklyn  \n",
       "1  -73.775306901692    Queens  \n",
       "2  -73.917709787212     Bronx  \n",
       "3  -73.909534601874     Bronx  \n",
       "4  -73.916811846348     Bronx  "
      ],
      "text/html": "<div>\n<style scoped>\n    .dataframe tbody tr th:only-of-type {\n        vertical-align: middle;\n    }\n\n    .dataframe tbody tr th {\n        vertical-align: top;\n    }\n\n    .dataframe thead th {\n        text-align: right;\n    }\n</style>\n<table border=\"1\" class=\"dataframe\">\n  <thead>\n    <tr style=\"text-align: right;\">\n      <th></th>\n      <th>Facility Type</th>\n      <th>Facility Name</th>\n      <th>Location 1</th>\n      <th>Latitude</th>\n      <th>Longitude</th>\n      <th>Borough</th>\n    </tr>\n  </thead>\n  <tbody>\n    <tr>\n      <th>0</th>\n      <td>Child Health Center</td>\n      <td>Ida G. Israel Community Health Center</td>\n      <td>2201 Neptune Avenue Brooklyn, NY 11224 (40.578...</td>\n      <td>40.578488319967</td>\n      <td>-73.989497148121</td>\n      <td>Brooklyn</td>\n    </tr>\n    <tr>\n      <th>1</th>\n      <td>Child Health Center</td>\n      <td>South Queens Community Health Center</td>\n      <td>114 02 Guy R Brewer Blvd Jamaica, NY 11434 (40...</td>\n      <td>40.676945262114</td>\n      <td>-73.775306901692</td>\n      <td>Queens</td>\n    </tr>\n    <tr>\n      <th>2</th>\n      <td>Child Health Center</td>\n      <td>Melrose Houses Child Health Clinic</td>\n      <td>348 156th Street Bronx, NY 10451 (40.821301194...</td>\n      <td>40.821301194646</td>\n      <td>-73.917709787212</td>\n      <td>Bronx</td>\n    </tr>\n    <tr>\n      <th>3</th>\n      <td>Child Health Center</td>\n      <td>Daniel Webster Houses Child Health Clinic</td>\n      <td>401 168th Street Bronx, NY 10456 (40.832279848...</td>\n      <td>40.832279848967</td>\n      <td>-73.909534601874</td>\n      <td>Bronx</td>\n    </tr>\n    <tr>\n      <th>4</th>\n      <td>Diagnostic &amp; Treatment Center</td>\n      <td>Segundo Ruiz Belvis Diagnostic &amp; Treatment Center</td>\n      <td>545 142nd Street Bronx, NY 10454 (40.810121864...</td>\n      <td>40.810121864043</td>\n      <td>-73.916811846348</td>\n      <td>Bronx</td>\n    </tr>\n  </tbody>\n</table>\n</div>"
     },
     "metadata": {},
     "execution_count": 17
    }
   ],
   "source": [
    "data_sel = data[['Facility Type', 'Facility Name', 'Location 1', 'Latitude', 'Longitude', 'Borough']]\n",
    "data_sel.head()"
   ]
  },
  {
   "cell_type": "code",
   "execution_count": 18,
   "metadata": {},
   "outputs": [
    {
     "output_type": "execute_result",
     "data": {
      "text/plain": [
       "                           CLASS  \\\n",
       "0            Child Health Center   \n",
       "1            Child Health Center   \n",
       "2            Child Health Center   \n",
       "3            Child Health Center   \n",
       "4  Diagnostic & Treatment Center   \n",
       "\n",
       "                                                NAME  \\\n",
       "0              Ida G. Israel Community Health Center   \n",
       "1               South Queens Community Health Center   \n",
       "2                 Melrose Houses Child Health Clinic   \n",
       "3          Daniel Webster Houses Child Health Clinic   \n",
       "4  Segundo Ruiz Belvis Diagnostic & Treatment Center   \n",
       "\n",
       "                                             ADDRESS              lat  \\\n",
       "0  2201 Neptune Avenue Brooklyn, NY 11224 (40.578...  40.578488319967   \n",
       "1  114 02 Guy R Brewer Blvd Jamaica, NY 11434 (40...  40.676945262114   \n",
       "2  348 156th Street Bronx, NY 10451 (40.821301194...  40.821301194646   \n",
       "3  401 168th Street Bronx, NY 10456 (40.832279848...  40.832279848967   \n",
       "4  545 142nd Street Bronx, NY 10454 (40.810121864...  40.810121864043   \n",
       "\n",
       "                lng  DISTRICT  \n",
       "0  -73.989497148121  Brooklyn  \n",
       "1  -73.775306901692    Queens  \n",
       "2  -73.917709787212     Bronx  \n",
       "3  -73.909534601874     Bronx  \n",
       "4  -73.916811846348     Bronx  "
      ],
      "text/html": "<div>\n<style scoped>\n    .dataframe tbody tr th:only-of-type {\n        vertical-align: middle;\n    }\n\n    .dataframe tbody tr th {\n        vertical-align: top;\n    }\n\n    .dataframe thead th {\n        text-align: right;\n    }\n</style>\n<table border=\"1\" class=\"dataframe\">\n  <thead>\n    <tr style=\"text-align: right;\">\n      <th></th>\n      <th>CLASS</th>\n      <th>NAME</th>\n      <th>ADDRESS</th>\n      <th>lat</th>\n      <th>lng</th>\n      <th>DISTRICT</th>\n    </tr>\n  </thead>\n  <tbody>\n    <tr>\n      <th>0</th>\n      <td>Child Health Center</td>\n      <td>Ida G. Israel Community Health Center</td>\n      <td>2201 Neptune Avenue Brooklyn, NY 11224 (40.578...</td>\n      <td>40.578488319967</td>\n      <td>-73.989497148121</td>\n      <td>Brooklyn</td>\n    </tr>\n    <tr>\n      <th>1</th>\n      <td>Child Health Center</td>\n      <td>South Queens Community Health Center</td>\n      <td>114 02 Guy R Brewer Blvd Jamaica, NY 11434 (40...</td>\n      <td>40.676945262114</td>\n      <td>-73.775306901692</td>\n      <td>Queens</td>\n    </tr>\n    <tr>\n      <th>2</th>\n      <td>Child Health Center</td>\n      <td>Melrose Houses Child Health Clinic</td>\n      <td>348 156th Street Bronx, NY 10451 (40.821301194...</td>\n      <td>40.821301194646</td>\n      <td>-73.917709787212</td>\n      <td>Bronx</td>\n    </tr>\n    <tr>\n      <th>3</th>\n      <td>Child Health Center</td>\n      <td>Daniel Webster Houses Child Health Clinic</td>\n      <td>401 168th Street Bronx, NY 10456 (40.832279848...</td>\n      <td>40.832279848967</td>\n      <td>-73.909534601874</td>\n      <td>Bronx</td>\n    </tr>\n    <tr>\n      <th>4</th>\n      <td>Diagnostic &amp; Treatment Center</td>\n      <td>Segundo Ruiz Belvis Diagnostic &amp; Treatment Center</td>\n      <td>545 142nd Street Bronx, NY 10454 (40.810121864...</td>\n      <td>40.810121864043</td>\n      <td>-73.916811846348</td>\n      <td>Bronx</td>\n    </tr>\n  </tbody>\n</table>\n</div>"
     },
     "metadata": {},
     "execution_count": 18
    }
   ],
   "source": [
    "data_sel.rename(columns={'Facility Type': 'CLASS', 'Facility Name': 'NAME', 'Location 1': 'ADDRESS', 'Latitude': 'lat', 'Longitude': 'lng', 'Borough': 'DISTRICT'}, inplace=True)\n",
    "data_sel.head()"
   ]
  },
  {
   "cell_type": "code",
   "execution_count": 19,
   "metadata": {},
   "outputs": [
    {
     "output_type": "execute_result",
     "data": {
      "text/plain": [
       "(78, 6)"
      ]
     },
     "metadata": {},
     "execution_count": 19
    }
   ],
   "source": [
    "data_sel.shape"
   ]
  },
  {
   "cell_type": "code",
   "execution_count": 21,
   "metadata": {},
   "outputs": [],
   "source": [
    "data_sel.to_csv('../datas/07-physical-new/medical-loc.csv', index=False)"
   ]
  },
  {
   "cell_type": "code",
   "execution_count": 22,
   "metadata": {},
   "outputs": [
    {
     "output_type": "execute_result",
     "data": {
      "text/plain": [
       "CLASS       object\n",
       "NAME        object\n",
       "ADDRESS     object\n",
       "lat         object\n",
       "lng         object\n",
       "DISTRICT    object\n",
       "dtype: object"
      ]
     },
     "metadata": {},
     "execution_count": 22
    }
   ],
   "source": [
    "data_sel.dtypes"
   ]
  },
  {
   "cell_type": "code",
   "execution_count": 24,
   "metadata": {},
   "outputs": [
    {
     "output_type": "execute_result",
     "data": {
      "text/plain": [
       "CLASS        object\n",
       "NAME         object\n",
       "ADDRESS      object\n",
       "lat         float64\n",
       "lng         float64\n",
       "DISTRICT     object\n",
       "dtype: object"
      ]
     },
     "metadata": {},
     "execution_count": 24
    }
   ],
   "source": [
    "data_sel = data_sel.astype({'lat': 'float64', 'lng': 'float64'})\n",
    "data_sel.dtypes"
   ]
  },
  {
   "cell_type": "code",
   "execution_count": 25,
   "metadata": {},
   "outputs": [],
   "source": [
    "data_sel.to_csv('../datas/07-physical-new/medical-loc.csv', index=False)"
   ]
  },
  {
   "cell_type": "code",
   "execution_count": 26,
   "metadata": {},
   "outputs": [
    {
     "output_type": "execute_result",
     "data": {
      "text/plain": [
       "CLASS        object\n",
       "NAME         object\n",
       "ADDRESS      object\n",
       "lat         float64\n",
       "lng         float64\n",
       "DISTRICT     object\n",
       "dtype: object"
      ]
     },
     "metadata": {},
     "execution_count": 26
    }
   ],
   "source": [
    "test = pandas.read_csv('../datas/07-physical-new/medical-loc.csv')\n",
    "test.dtypes"
   ]
  },
  {
   "source": [
    "# distance calculation"
   ],
   "cell_type": "markdown",
   "metadata": {}
  },
  {
   "cell_type": "code",
   "execution_count": 27,
   "metadata": {},
   "outputs": [
    {
     "output_type": "execute_result",
     "data": {
      "text/plain": [
       "          label modzcta pop_est                 zcta  \\\n",
       "0  10001, 10118   10001   23072  10001, 10119, 10199   \n",
       "1         10002   10002   74993                10002   \n",
       "2         10003   10003   54682                10003   \n",
       "3         10004   10004    3028                10004   \n",
       "4         10005   10005    8831         10005, 10271   \n",
       "\n",
       "                                            geometry  \n",
       "0  MULTIPOLYGON (((-73.98774 40.74407, -73.98819 ...  \n",
       "1  MULTIPOLYGON (((-73.99750 40.71407, -73.99709 ...  \n",
       "2  MULTIPOLYGON (((-73.98864 40.72293, -73.98876 ...  \n",
       "3  MULTIPOLYGON (((-74.00827 40.70772, -74.00937 ...  \n",
       "4  MULTIPOLYGON (((-74.00783 40.70309, -74.00786 ...  "
      ],
      "text/html": "<div>\n<style scoped>\n    .dataframe tbody tr th:only-of-type {\n        vertical-align: middle;\n    }\n\n    .dataframe tbody tr th {\n        vertical-align: top;\n    }\n\n    .dataframe thead th {\n        text-align: right;\n    }\n</style>\n<table border=\"1\" class=\"dataframe\">\n  <thead>\n    <tr style=\"text-align: right;\">\n      <th></th>\n      <th>label</th>\n      <th>modzcta</th>\n      <th>pop_est</th>\n      <th>zcta</th>\n      <th>geometry</th>\n    </tr>\n  </thead>\n  <tbody>\n    <tr>\n      <th>0</th>\n      <td>10001, 10118</td>\n      <td>10001</td>\n      <td>23072</td>\n      <td>10001, 10119, 10199</td>\n      <td>MULTIPOLYGON (((-73.98774 40.74407, -73.98819 ...</td>\n    </tr>\n    <tr>\n      <th>1</th>\n      <td>10002</td>\n      <td>10002</td>\n      <td>74993</td>\n      <td>10002</td>\n      <td>MULTIPOLYGON (((-73.99750 40.71407, -73.99709 ...</td>\n    </tr>\n    <tr>\n      <th>2</th>\n      <td>10003</td>\n      <td>10003</td>\n      <td>54682</td>\n      <td>10003</td>\n      <td>MULTIPOLYGON (((-73.98864 40.72293, -73.98876 ...</td>\n    </tr>\n    <tr>\n      <th>3</th>\n      <td>10004</td>\n      <td>10004</td>\n      <td>3028</td>\n      <td>10004</td>\n      <td>MULTIPOLYGON (((-74.00827 40.70772, -74.00937 ...</td>\n    </tr>\n    <tr>\n      <th>4</th>\n      <td>10005</td>\n      <td>10005</td>\n      <td>8831</td>\n      <td>10005, 10271</td>\n      <td>MULTIPOLYGON (((-74.00783 40.70309, -74.00786 ...</td>\n    </tr>\n  </tbody>\n</table>\n</div>"
     },
     "metadata": {},
     "execution_count": 27
    }
   ],
   "source": [
    "geodata = geopandas.read_file('../datas/00-tractTOzcta/Modified Zip Code Tabulation Areas (MODZCTA).geojson')\n",
    "geodata.head()"
   ]
  },
  {
   "cell_type": "code",
   "execution_count": 28,
   "metadata": {},
   "outputs": [
    {
     "output_type": "execute_result",
     "data": {
      "text/plain": [
       "          label modzcta pop_est                 zcta  \\\n",
       "0  10001, 10118   10001   23072  10001, 10119, 10199   \n",
       "1         10002   10002   74993                10002   \n",
       "2         10003   10003   54682                10003   \n",
       "3         10004   10004    3028                10004   \n",
       "4         10005   10005    8831         10005, 10271   \n",
       "\n",
       "                                            geometry  \\\n",
       "0  MULTIPOLYGON (((-73.98774 40.74407, -73.98819 ...   \n",
       "1  MULTIPOLYGON (((-73.99750 40.71407, -73.99709 ...   \n",
       "2  MULTIPOLYGON (((-73.98864 40.72293, -73.98876 ...   \n",
       "3  MULTIPOLYGON (((-74.00827 40.70772, -74.00937 ...   \n",
       "4  MULTIPOLYGON (((-74.00783 40.70309, -74.00786 ...   \n",
       "\n",
       "                     centroid  \n",
       "0  POINT (-73.99714 40.75069)  \n",
       "1  POINT (-73.98617 40.71578)  \n",
       "2  POINT (-73.98916 40.73183)  \n",
       "3  POINT (-74.01303 40.70375)  \n",
       "4  POINT (-74.00887 40.70610)  "
      ],
      "text/html": "<div>\n<style scoped>\n    .dataframe tbody tr th:only-of-type {\n        vertical-align: middle;\n    }\n\n    .dataframe tbody tr th {\n        vertical-align: top;\n    }\n\n    .dataframe thead th {\n        text-align: right;\n    }\n</style>\n<table border=\"1\" class=\"dataframe\">\n  <thead>\n    <tr style=\"text-align: right;\">\n      <th></th>\n      <th>label</th>\n      <th>modzcta</th>\n      <th>pop_est</th>\n      <th>zcta</th>\n      <th>geometry</th>\n      <th>centroid</th>\n    </tr>\n  </thead>\n  <tbody>\n    <tr>\n      <th>0</th>\n      <td>10001, 10118</td>\n      <td>10001</td>\n      <td>23072</td>\n      <td>10001, 10119, 10199</td>\n      <td>MULTIPOLYGON (((-73.98774 40.74407, -73.98819 ...</td>\n      <td>POINT (-73.99714 40.75069)</td>\n    </tr>\n    <tr>\n      <th>1</th>\n      <td>10002</td>\n      <td>10002</td>\n      <td>74993</td>\n      <td>10002</td>\n      <td>MULTIPOLYGON (((-73.99750 40.71407, -73.99709 ...</td>\n      <td>POINT (-73.98617 40.71578)</td>\n    </tr>\n    <tr>\n      <th>2</th>\n      <td>10003</td>\n      <td>10003</td>\n      <td>54682</td>\n      <td>10003</td>\n      <td>MULTIPOLYGON (((-73.98864 40.72293, -73.98876 ...</td>\n      <td>POINT (-73.98916 40.73183)</td>\n    </tr>\n    <tr>\n      <th>3</th>\n      <td>10004</td>\n      <td>10004</td>\n      <td>3028</td>\n      <td>10004</td>\n      <td>MULTIPOLYGON (((-74.00827 40.70772, -74.00937 ...</td>\n      <td>POINT (-74.01303 40.70375)</td>\n    </tr>\n    <tr>\n      <th>4</th>\n      <td>10005</td>\n      <td>10005</td>\n      <td>8831</td>\n      <td>10005, 10271</td>\n      <td>MULTIPOLYGON (((-74.00783 40.70309, -74.00786 ...</td>\n      <td>POINT (-74.00887 40.70610)</td>\n    </tr>\n  </tbody>\n</table>\n</div>"
     },
     "metadata": {},
     "execution_count": 28
    }
   ],
   "source": [
    "geodata['centroid'] = geodata['geometry'].centroid\n",
    "geodata.head()"
   ]
  },
  {
   "cell_type": "code",
   "execution_count": 29,
   "metadata": {},
   "outputs": [],
   "source": [
    "import geopy.distance"
   ]
  },
  {
   "cell_type": "code",
   "execution_count": 30,
   "metadata": {},
   "outputs": [
    {
     "output_type": "execute_result",
     "data": {
      "text/plain": [
       "          label modzcta pop_est                 zcta  \\\n",
       "0  10001, 10118   10001   23072  10001, 10119, 10199   \n",
       "1         10002   10002   74993                10002   \n",
       "2         10003   10003   54682                10003   \n",
       "3         10004   10004    3028                10004   \n",
       "4         10005   10005    8831         10005, 10271   \n",
       "\n",
       "                                            geometry  \\\n",
       "0  MULTIPOLYGON (((-73.98774 40.74407, -73.98819 ...   \n",
       "1  MULTIPOLYGON (((-73.99750 40.71407, -73.99709 ...   \n",
       "2  MULTIPOLYGON (((-73.98864 40.72293, -73.98876 ...   \n",
       "3  MULTIPOLYGON (((-74.00827 40.70772, -74.00937 ...   \n",
       "4  MULTIPOLYGON (((-74.00783 40.70309, -74.00786 ...   \n",
       "\n",
       "                     centroid  Child Health Center  \\\n",
       "0  POINT (-73.99714 40.75069)                  0.0   \n",
       "1  POINT (-73.98617 40.71578)                  0.0   \n",
       "2  POINT (-73.98916 40.73183)                  0.0   \n",
       "3  POINT (-74.01303 40.70375)                  0.0   \n",
       "4  POINT (-74.00887 40.70610)                  0.0   \n",
       "\n",
       "   Diagnostic & Treatment Center  Acute Care Hospital  Nursing Home  \n",
       "0                            0.0                  0.0           0.0  \n",
       "1                            0.0                  0.0           0.0  \n",
       "2                            0.0                  0.0           0.0  \n",
       "3                            0.0                  0.0           0.0  \n",
       "4                            0.0                  0.0           0.0  "
      ],
      "text/html": "<div>\n<style scoped>\n    .dataframe tbody tr th:only-of-type {\n        vertical-align: middle;\n    }\n\n    .dataframe tbody tr th {\n        vertical-align: top;\n    }\n\n    .dataframe thead th {\n        text-align: right;\n    }\n</style>\n<table border=\"1\" class=\"dataframe\">\n  <thead>\n    <tr style=\"text-align: right;\">\n      <th></th>\n      <th>label</th>\n      <th>modzcta</th>\n      <th>pop_est</th>\n      <th>zcta</th>\n      <th>geometry</th>\n      <th>centroid</th>\n      <th>Child Health Center</th>\n      <th>Diagnostic &amp; Treatment Center</th>\n      <th>Acute Care Hospital</th>\n      <th>Nursing Home</th>\n    </tr>\n  </thead>\n  <tbody>\n    <tr>\n      <th>0</th>\n      <td>10001, 10118</td>\n      <td>10001</td>\n      <td>23072</td>\n      <td>10001, 10119, 10199</td>\n      <td>MULTIPOLYGON (((-73.98774 40.74407, -73.98819 ...</td>\n      <td>POINT (-73.99714 40.75069)</td>\n      <td>0.0</td>\n      <td>0.0</td>\n      <td>0.0</td>\n      <td>0.0</td>\n    </tr>\n    <tr>\n      <th>1</th>\n      <td>10002</td>\n      <td>10002</td>\n      <td>74993</td>\n      <td>10002</td>\n      <td>MULTIPOLYGON (((-73.99750 40.71407, -73.99709 ...</td>\n      <td>POINT (-73.98617 40.71578)</td>\n      <td>0.0</td>\n      <td>0.0</td>\n      <td>0.0</td>\n      <td>0.0</td>\n    </tr>\n    <tr>\n      <th>2</th>\n      <td>10003</td>\n      <td>10003</td>\n      <td>54682</td>\n      <td>10003</td>\n      <td>MULTIPOLYGON (((-73.98864 40.72293, -73.98876 ...</td>\n      <td>POINT (-73.98916 40.73183)</td>\n      <td>0.0</td>\n      <td>0.0</td>\n      <td>0.0</td>\n      <td>0.0</td>\n    </tr>\n    <tr>\n      <th>3</th>\n      <td>10004</td>\n      <td>10004</td>\n      <td>3028</td>\n      <td>10004</td>\n      <td>MULTIPOLYGON (((-74.00827 40.70772, -74.00937 ...</td>\n      <td>POINT (-74.01303 40.70375)</td>\n      <td>0.0</td>\n      <td>0.0</td>\n      <td>0.0</td>\n      <td>0.0</td>\n    </tr>\n    <tr>\n      <th>4</th>\n      <td>10005</td>\n      <td>10005</td>\n      <td>8831</td>\n      <td>10005, 10271</td>\n      <td>MULTIPOLYGON (((-74.00783 40.70309, -74.00786 ...</td>\n      <td>POINT (-74.00887 40.70610)</td>\n      <td>0.0</td>\n      <td>0.0</td>\n      <td>0.0</td>\n      <td>0.0</td>\n    </tr>\n  </tbody>\n</table>\n</div>"
     },
     "metadata": {},
     "execution_count": 30
    }
   ],
   "source": [
    "for kind in data_sel['CLASS'].unique():\n",
    "    geodata[kind] = 0.0\n",
    "geodata.head()"
   ]
  },
  {
   "cell_type": "code",
   "execution_count": 31,
   "metadata": {},
   "outputs": [
    {
     "output_type": "execute_result",
     "data": {
      "text/plain": [
       "-73.99713787189704"
      ]
     },
     "metadata": {},
     "execution_count": 31
    }
   ],
   "source": [
    "geodata.loc[0, 'centroid'].x"
   ]
  },
  {
   "cell_type": "code",
   "execution_count": 32,
   "metadata": {},
   "outputs": [
    {
     "output_type": "execute_result",
     "data": {
      "text/plain": [
       "          label modzcta pop_est                 zcta  \\\n",
       "0  10001, 10118   10001   23072  10001, 10119, 10199   \n",
       "1         10002   10002   74993                10002   \n",
       "2         10003   10003   54682                10003   \n",
       "3         10004   10004    3028                10004   \n",
       "4         10005   10005    8831         10005, 10271   \n",
       "\n",
       "                                            geometry  \\\n",
       "0  MULTIPOLYGON (((-73.98774 40.74407, -73.98819 ...   \n",
       "1  MULTIPOLYGON (((-73.99750 40.71407, -73.99709 ...   \n",
       "2  MULTIPOLYGON (((-73.98864 40.72293, -73.98876 ...   \n",
       "3  MULTIPOLYGON (((-74.00827 40.70772, -74.00937 ...   \n",
       "4  MULTIPOLYGON (((-74.00783 40.70309, -74.00786 ...   \n",
       "\n",
       "                     centroid  Child Health Center  \\\n",
       "0  POINT (-73.99714 40.75069)                  0.0   \n",
       "1  POINT (-73.98617 40.71578)                  0.0   \n",
       "2  POINT (-73.98916 40.73183)                  0.0   \n",
       "3  POINT (-74.01303 40.70375)                  0.0   \n",
       "4  POINT (-74.00887 40.70610)                  0.0   \n",
       "\n",
       "   Diagnostic & Treatment Center  Acute Care Hospital  Nursing Home  \\\n",
       "0                            0.0                  0.0           0.0   \n",
       "1                            0.0                  0.0           0.0   \n",
       "2                            0.0                  0.0           0.0   \n",
       "3                            0.0                  0.0           0.0   \n",
       "4                            0.0                  0.0           0.0   \n",
       "\n",
       "         lat        lng  \n",
       "0  40.750688 -73.997138  \n",
       "1  40.715780 -73.986174  \n",
       "2  40.731826 -73.989159  \n",
       "3  40.703747 -74.013032  \n",
       "4  40.706100 -74.008870  "
      ],
      "text/html": "<div>\n<style scoped>\n    .dataframe tbody tr th:only-of-type {\n        vertical-align: middle;\n    }\n\n    .dataframe tbody tr th {\n        vertical-align: top;\n    }\n\n    .dataframe thead th {\n        text-align: right;\n    }\n</style>\n<table border=\"1\" class=\"dataframe\">\n  <thead>\n    <tr style=\"text-align: right;\">\n      <th></th>\n      <th>label</th>\n      <th>modzcta</th>\n      <th>pop_est</th>\n      <th>zcta</th>\n      <th>geometry</th>\n      <th>centroid</th>\n      <th>Child Health Center</th>\n      <th>Diagnostic &amp; Treatment Center</th>\n      <th>Acute Care Hospital</th>\n      <th>Nursing Home</th>\n      <th>lat</th>\n      <th>lng</th>\n    </tr>\n  </thead>\n  <tbody>\n    <tr>\n      <th>0</th>\n      <td>10001, 10118</td>\n      <td>10001</td>\n      <td>23072</td>\n      <td>10001, 10119, 10199</td>\n      <td>MULTIPOLYGON (((-73.98774 40.74407, -73.98819 ...</td>\n      <td>POINT (-73.99714 40.75069)</td>\n      <td>0.0</td>\n      <td>0.0</td>\n      <td>0.0</td>\n      <td>0.0</td>\n      <td>40.750688</td>\n      <td>-73.997138</td>\n    </tr>\n    <tr>\n      <th>1</th>\n      <td>10002</td>\n      <td>10002</td>\n      <td>74993</td>\n      <td>10002</td>\n      <td>MULTIPOLYGON (((-73.99750 40.71407, -73.99709 ...</td>\n      <td>POINT (-73.98617 40.71578)</td>\n      <td>0.0</td>\n      <td>0.0</td>\n      <td>0.0</td>\n      <td>0.0</td>\n      <td>40.715780</td>\n      <td>-73.986174</td>\n    </tr>\n    <tr>\n      <th>2</th>\n      <td>10003</td>\n      <td>10003</td>\n      <td>54682</td>\n      <td>10003</td>\n      <td>MULTIPOLYGON (((-73.98864 40.72293, -73.98876 ...</td>\n      <td>POINT (-73.98916 40.73183)</td>\n      <td>0.0</td>\n      <td>0.0</td>\n      <td>0.0</td>\n      <td>0.0</td>\n      <td>40.731826</td>\n      <td>-73.989159</td>\n    </tr>\n    <tr>\n      <th>3</th>\n      <td>10004</td>\n      <td>10004</td>\n      <td>3028</td>\n      <td>10004</td>\n      <td>MULTIPOLYGON (((-74.00827 40.70772, -74.00937 ...</td>\n      <td>POINT (-74.01303 40.70375)</td>\n      <td>0.0</td>\n      <td>0.0</td>\n      <td>0.0</td>\n      <td>0.0</td>\n      <td>40.703747</td>\n      <td>-74.013032</td>\n    </tr>\n    <tr>\n      <th>4</th>\n      <td>10005</td>\n      <td>10005</td>\n      <td>8831</td>\n      <td>10005, 10271</td>\n      <td>MULTIPOLYGON (((-74.00783 40.70309, -74.00786 ...</td>\n      <td>POINT (-74.00887 40.70610)</td>\n      <td>0.0</td>\n      <td>0.0</td>\n      <td>0.0</td>\n      <td>0.0</td>\n      <td>40.706100</td>\n      <td>-74.008870</td>\n    </tr>\n  </tbody>\n</table>\n</div>"
     },
     "metadata": {},
     "execution_count": 32
    }
   ],
   "source": [
    "geodata['lat'] = geodata['centroid'].y\n",
    "geodata['lng'] = geodata['centroid'].x\n",
    "geodata.head()"
   ]
  },
  {
   "cell_type": "code",
   "execution_count": 33,
   "metadata": {},
   "outputs": [
    {
     "output_type": "execute_result",
     "data": {
      "text/plain": [
       "          label modzcta pop_est                 zcta  \\\n",
       "0  10001, 10118   10001   23072  10001, 10119, 10199   \n",
       "1         10002   10002   74993                10002   \n",
       "2         10003   10003   54682                10003   \n",
       "3         10004   10004    3028                10004   \n",
       "4         10005   10005    8831         10005, 10271   \n",
       "\n",
       "                                            geometry  \\\n",
       "0  MULTIPOLYGON (((-73.98774 40.74407, -73.98819 ...   \n",
       "1  MULTIPOLYGON (((-73.99750 40.71407, -73.99709 ...   \n",
       "2  MULTIPOLYGON (((-73.98864 40.72293, -73.98876 ...   \n",
       "3  MULTIPOLYGON (((-74.00827 40.70772, -74.00937 ...   \n",
       "4  MULTIPOLYGON (((-74.00783 40.70309, -74.00786 ...   \n",
       "\n",
       "                     centroid  Child Health Center  \\\n",
       "0  POINT (-73.99714 40.75069)          2127.586765   \n",
       "1  POINT (-73.98617 40.71578)           347.843275   \n",
       "2  POINT (-73.98916 40.73183)           829.635901   \n",
       "3  POINT (-74.01303 40.70375)          1595.998236   \n",
       "4  POINT (-74.00887 40.70610)          1158.106371   \n",
       "\n",
       "   Diagnostic & Treatment Center  Acute Care Hospital  Nursing Home  \\\n",
       "0                    4279.396073          2127.586765   4173.270211   \n",
       "1                     347.843275          2769.181559    347.843275   \n",
       "2                    2112.383868          1371.140909   2112.383868   \n",
       "3                    2374.707146          5035.970053   2374.707146   \n",
       "4                    1947.186133          4615.651015   1947.186133   \n",
       "\n",
       "         lat        lng  \n",
       "0  40.750688 -73.997138  \n",
       "1  40.715780 -73.986174  \n",
       "2  40.731826 -73.989159  \n",
       "3  40.703747 -74.013032  \n",
       "4  40.706100 -74.008870  "
      ],
      "text/html": "<div>\n<style scoped>\n    .dataframe tbody tr th:only-of-type {\n        vertical-align: middle;\n    }\n\n    .dataframe tbody tr th {\n        vertical-align: top;\n    }\n\n    .dataframe thead th {\n        text-align: right;\n    }\n</style>\n<table border=\"1\" class=\"dataframe\">\n  <thead>\n    <tr style=\"text-align: right;\">\n      <th></th>\n      <th>label</th>\n      <th>modzcta</th>\n      <th>pop_est</th>\n      <th>zcta</th>\n      <th>geometry</th>\n      <th>centroid</th>\n      <th>Child Health Center</th>\n      <th>Diagnostic &amp; Treatment Center</th>\n      <th>Acute Care Hospital</th>\n      <th>Nursing Home</th>\n      <th>lat</th>\n      <th>lng</th>\n    </tr>\n  </thead>\n  <tbody>\n    <tr>\n      <th>0</th>\n      <td>10001, 10118</td>\n      <td>10001</td>\n      <td>23072</td>\n      <td>10001, 10119, 10199</td>\n      <td>MULTIPOLYGON (((-73.98774 40.74407, -73.98819 ...</td>\n      <td>POINT (-73.99714 40.75069)</td>\n      <td>2127.586765</td>\n      <td>4279.396073</td>\n      <td>2127.586765</td>\n      <td>4173.270211</td>\n      <td>40.750688</td>\n      <td>-73.997138</td>\n    </tr>\n    <tr>\n      <th>1</th>\n      <td>10002</td>\n      <td>10002</td>\n      <td>74993</td>\n      <td>10002</td>\n      <td>MULTIPOLYGON (((-73.99750 40.71407, -73.99709 ...</td>\n      <td>POINT (-73.98617 40.71578)</td>\n      <td>347.843275</td>\n      <td>347.843275</td>\n      <td>2769.181559</td>\n      <td>347.843275</td>\n      <td>40.715780</td>\n      <td>-73.986174</td>\n    </tr>\n    <tr>\n      <th>2</th>\n      <td>10003</td>\n      <td>10003</td>\n      <td>54682</td>\n      <td>10003</td>\n      <td>MULTIPOLYGON (((-73.98864 40.72293, -73.98876 ...</td>\n      <td>POINT (-73.98916 40.73183)</td>\n      <td>829.635901</td>\n      <td>2112.383868</td>\n      <td>1371.140909</td>\n      <td>2112.383868</td>\n      <td>40.731826</td>\n      <td>-73.989159</td>\n    </tr>\n    <tr>\n      <th>3</th>\n      <td>10004</td>\n      <td>10004</td>\n      <td>3028</td>\n      <td>10004</td>\n      <td>MULTIPOLYGON (((-74.00827 40.70772, -74.00937 ...</td>\n      <td>POINT (-74.01303 40.70375)</td>\n      <td>1595.998236</td>\n      <td>2374.707146</td>\n      <td>5035.970053</td>\n      <td>2374.707146</td>\n      <td>40.703747</td>\n      <td>-74.013032</td>\n    </tr>\n    <tr>\n      <th>4</th>\n      <td>10005</td>\n      <td>10005</td>\n      <td>8831</td>\n      <td>10005, 10271</td>\n      <td>MULTIPOLYGON (((-74.00783 40.70309, -74.00786 ...</td>\n      <td>POINT (-74.00887 40.70610)</td>\n      <td>1158.106371</td>\n      <td>1947.186133</td>\n      <td>4615.651015</td>\n      <td>1947.186133</td>\n      <td>40.706100</td>\n      <td>-74.008870</td>\n    </tr>\n  </tbody>\n</table>\n</div>"
     },
     "metadata": {},
     "execution_count": 33
    }
   ],
   "source": [
    "for index, row in geodata.iterrows():\n",
    "    for kind in data_sel['CLASS'].unique():\n",
    "        dists = []\n",
    "        tmp = data_sel[data_sel['CLASS'] == kind]\n",
    "        for i, r in tmp.iterrows():\n",
    "            dists.append(geopy.distance.geodesic((r['lat'], r['lng']), (row['lat'], row['lng'])).meters)\n",
    "        geodata.loc[index, kind] = min(dists)\n",
    "geodata.head()"
   ]
  },
  {
   "cell_type": "code",
   "execution_count": 34,
   "metadata": {},
   "outputs": [
    {
     "output_type": "execute_result",
     "data": {
      "text/plain": [
       "    modzcta  Child Health Center  Diagnostic & Treatment Center  \\\n",
       "0     10001          2127.586765                    4279.396073   \n",
       "1     10002           347.843275                     347.843275   \n",
       "2     10003           829.635901                    2112.383868   \n",
       "3     10004          1595.998236                    2374.707146   \n",
       "4     10005          1158.106371                    1947.186133   \n",
       "..      ...                  ...                            ...   \n",
       "173   11692          9228.797828                   12378.533676   \n",
       "174   11693          9599.731907                   10695.707026   \n",
       "175   11694          8848.240451                   11321.351409   \n",
       "176   11697          5641.733786                   12577.620436   \n",
       "177   99999           463.683827                    3479.095615   \n",
       "\n",
       "     Acute Care Hospital  Nursing Home  \n",
       "0            2127.586765   4173.270211  \n",
       "1            2769.181559    347.843275  \n",
       "2            1371.140909   2112.383868  \n",
       "3            5035.970053   2374.707146  \n",
       "4            4615.651015   1947.186133  \n",
       "..                   ...           ...  \n",
       "173         13361.078865  14548.669328  \n",
       "174         12670.235781  12580.179662  \n",
       "175         10317.015143  12196.187302  \n",
       "176          5833.295459  11547.921409  \n",
       "177          1014.088769   4066.769067  \n",
       "\n",
       "[178 rows x 5 columns]"
      ],
      "text/html": "<div>\n<style scoped>\n    .dataframe tbody tr th:only-of-type {\n        vertical-align: middle;\n    }\n\n    .dataframe tbody tr th {\n        vertical-align: top;\n    }\n\n    .dataframe thead th {\n        text-align: right;\n    }\n</style>\n<table border=\"1\" class=\"dataframe\">\n  <thead>\n    <tr style=\"text-align: right;\">\n      <th></th>\n      <th>modzcta</th>\n      <th>Child Health Center</th>\n      <th>Diagnostic &amp; Treatment Center</th>\n      <th>Acute Care Hospital</th>\n      <th>Nursing Home</th>\n    </tr>\n  </thead>\n  <tbody>\n    <tr>\n      <th>0</th>\n      <td>10001</td>\n      <td>2127.586765</td>\n      <td>4279.396073</td>\n      <td>2127.586765</td>\n      <td>4173.270211</td>\n    </tr>\n    <tr>\n      <th>1</th>\n      <td>10002</td>\n      <td>347.843275</td>\n      <td>347.843275</td>\n      <td>2769.181559</td>\n      <td>347.843275</td>\n    </tr>\n    <tr>\n      <th>2</th>\n      <td>10003</td>\n      <td>829.635901</td>\n      <td>2112.383868</td>\n      <td>1371.140909</td>\n      <td>2112.383868</td>\n    </tr>\n    <tr>\n      <th>3</th>\n      <td>10004</td>\n      <td>1595.998236</td>\n      <td>2374.707146</td>\n      <td>5035.970053</td>\n      <td>2374.707146</td>\n    </tr>\n    <tr>\n      <th>4</th>\n      <td>10005</td>\n      <td>1158.106371</td>\n      <td>1947.186133</td>\n      <td>4615.651015</td>\n      <td>1947.186133</td>\n    </tr>\n    <tr>\n      <th>...</th>\n      <td>...</td>\n      <td>...</td>\n      <td>...</td>\n      <td>...</td>\n      <td>...</td>\n    </tr>\n    <tr>\n      <th>173</th>\n      <td>11692</td>\n      <td>9228.797828</td>\n      <td>12378.533676</td>\n      <td>13361.078865</td>\n      <td>14548.669328</td>\n    </tr>\n    <tr>\n      <th>174</th>\n      <td>11693</td>\n      <td>9599.731907</td>\n      <td>10695.707026</td>\n      <td>12670.235781</td>\n      <td>12580.179662</td>\n    </tr>\n    <tr>\n      <th>175</th>\n      <td>11694</td>\n      <td>8848.240451</td>\n      <td>11321.351409</td>\n      <td>10317.015143</td>\n      <td>12196.187302</td>\n    </tr>\n    <tr>\n      <th>176</th>\n      <td>11697</td>\n      <td>5641.733786</td>\n      <td>12577.620436</td>\n      <td>5833.295459</td>\n      <td>11547.921409</td>\n    </tr>\n    <tr>\n      <th>177</th>\n      <td>99999</td>\n      <td>463.683827</td>\n      <td>3479.095615</td>\n      <td>1014.088769</td>\n      <td>4066.769067</td>\n    </tr>\n  </tbody>\n</table>\n<p>178 rows × 5 columns</p>\n</div>"
     },
     "metadata": {},
     "execution_count": 34
    }
   ],
   "source": [
    "geo_sel = geodata[['modzcta'] + data_sel['CLASS'].unique().tolist()]\n",
    "geo_sel"
   ]
  },
  {
   "cell_type": "code",
   "execution_count": 35,
   "metadata": {},
   "outputs": [
    {
     "output_type": "execute_result",
     "data": {
      "text/plain": [
       "    modzcta  Child Health Center  Diagnostic & Treatment Center  \\\n",
       "0     10001          2127.586765                    4279.396073   \n",
       "1     10002           347.843275                     347.843275   \n",
       "2     10003           829.635901                    2112.383868   \n",
       "3     10004          1595.998236                    2374.707146   \n",
       "4     10005          1158.106371                    1947.186133   \n",
       "..      ...                  ...                            ...   \n",
       "173   11692          9228.797828                   12378.533676   \n",
       "174   11693          9599.731907                   10695.707026   \n",
       "175   11694          8848.240451                   11321.351409   \n",
       "176   11697          5641.733786                   12577.620436   \n",
       "177   99999           463.683827                    3479.095615   \n",
       "\n",
       "     Acute Care Hospital  Nursing Home           avg  \n",
       "0            2127.586765   4173.270211   3176.959954  \n",
       "1            2769.181559    347.843275    953.177846  \n",
       "2            1371.140909   2112.383868   1606.386137  \n",
       "3            5035.970053   2374.707146   2845.345645  \n",
       "4            4615.651015   1947.186133   2417.032413  \n",
       "..                   ...           ...           ...  \n",
       "173         13361.078865  14548.669328  12379.269924  \n",
       "174         12670.235781  12580.179662  11386.463594  \n",
       "175         10317.015143  12196.187302  10670.698576  \n",
       "176          5833.295459  11547.921409   8900.142773  \n",
       "177          1014.088769   4066.769067   2255.909320  \n",
       "\n",
       "[178 rows x 6 columns]"
      ],
      "text/html": "<div>\n<style scoped>\n    .dataframe tbody tr th:only-of-type {\n        vertical-align: middle;\n    }\n\n    .dataframe tbody tr th {\n        vertical-align: top;\n    }\n\n    .dataframe thead th {\n        text-align: right;\n    }\n</style>\n<table border=\"1\" class=\"dataframe\">\n  <thead>\n    <tr style=\"text-align: right;\">\n      <th></th>\n      <th>modzcta</th>\n      <th>Child Health Center</th>\n      <th>Diagnostic &amp; Treatment Center</th>\n      <th>Acute Care Hospital</th>\n      <th>Nursing Home</th>\n      <th>avg</th>\n    </tr>\n  </thead>\n  <tbody>\n    <tr>\n      <th>0</th>\n      <td>10001</td>\n      <td>2127.586765</td>\n      <td>4279.396073</td>\n      <td>2127.586765</td>\n      <td>4173.270211</td>\n      <td>3176.959954</td>\n    </tr>\n    <tr>\n      <th>1</th>\n      <td>10002</td>\n      <td>347.843275</td>\n      <td>347.843275</td>\n      <td>2769.181559</td>\n      <td>347.843275</td>\n      <td>953.177846</td>\n    </tr>\n    <tr>\n      <th>2</th>\n      <td>10003</td>\n      <td>829.635901</td>\n      <td>2112.383868</td>\n      <td>1371.140909</td>\n      <td>2112.383868</td>\n      <td>1606.386137</td>\n    </tr>\n    <tr>\n      <th>3</th>\n      <td>10004</td>\n      <td>1595.998236</td>\n      <td>2374.707146</td>\n      <td>5035.970053</td>\n      <td>2374.707146</td>\n      <td>2845.345645</td>\n    </tr>\n    <tr>\n      <th>4</th>\n      <td>10005</td>\n      <td>1158.106371</td>\n      <td>1947.186133</td>\n      <td>4615.651015</td>\n      <td>1947.186133</td>\n      <td>2417.032413</td>\n    </tr>\n    <tr>\n      <th>...</th>\n      <td>...</td>\n      <td>...</td>\n      <td>...</td>\n      <td>...</td>\n      <td>...</td>\n      <td>...</td>\n    </tr>\n    <tr>\n      <th>173</th>\n      <td>11692</td>\n      <td>9228.797828</td>\n      <td>12378.533676</td>\n      <td>13361.078865</td>\n      <td>14548.669328</td>\n      <td>12379.269924</td>\n    </tr>\n    <tr>\n      <th>174</th>\n      <td>11693</td>\n      <td>9599.731907</td>\n      <td>10695.707026</td>\n      <td>12670.235781</td>\n      <td>12580.179662</td>\n      <td>11386.463594</td>\n    </tr>\n    <tr>\n      <th>175</th>\n      <td>11694</td>\n      <td>8848.240451</td>\n      <td>11321.351409</td>\n      <td>10317.015143</td>\n      <td>12196.187302</td>\n      <td>10670.698576</td>\n    </tr>\n    <tr>\n      <th>176</th>\n      <td>11697</td>\n      <td>5641.733786</td>\n      <td>12577.620436</td>\n      <td>5833.295459</td>\n      <td>11547.921409</td>\n      <td>8900.142773</td>\n    </tr>\n    <tr>\n      <th>177</th>\n      <td>99999</td>\n      <td>463.683827</td>\n      <td>3479.095615</td>\n      <td>1014.088769</td>\n      <td>4066.769067</td>\n      <td>2255.909320</td>\n    </tr>\n  </tbody>\n</table>\n<p>178 rows × 6 columns</p>\n</div>"
     },
     "metadata": {},
     "execution_count": 35
    }
   ],
   "source": [
    "geo_sel['avg'] = (geo_sel['Child Health Center'] + geo_sel['Diagnostic & Treatment Center'] + geo_sel['Acute Care Hospital'] + geo_sel['Nursing Home']) / 4\n",
    "geo_sel"
   ]
  },
  {
   "cell_type": "code",
   "execution_count": 38,
   "metadata": {},
   "outputs": [
    {
     "output_type": "execute_result",
     "data": {
      "text/plain": [
       "modzcta                            int64\n",
       "Child Health Center              float64\n",
       "Diagnostic & Treatment Center    float64\n",
       "Acute Care Hospital              float64\n",
       "Nursing Home                     float64\n",
       "avg                              float64\n",
       "dtype: object"
      ]
     },
     "metadata": {},
     "execution_count": 38
    }
   ],
   "source": [
    "geo_sel = geo_sel.astype({'modzcta': 'int64'})\n",
    "geo_sel.dtypes"
   ]
  },
  {
   "cell_type": "code",
   "execution_count": 39,
   "metadata": {},
   "outputs": [],
   "source": [
    "geo_sel.to_csv('../datas/07-physical-new/medical-dist.csv', index=False)"
   ]
  },
  {
   "cell_type": "code",
   "execution_count": 40,
   "metadata": {},
   "outputs": [
    {
     "output_type": "execute_result",
     "data": {
      "text/plain": [
       "14861.51205180164"
      ]
     },
     "metadata": {},
     "execution_count": 40
    }
   ],
   "source": [
    "geo_sel['Child Health Center'].max()"
   ]
  },
  {
   "cell_type": "code",
   "execution_count": 41,
   "metadata": {},
   "outputs": [
    {
     "output_type": "execute_result",
     "data": {
      "text/plain": [
       "30478.930609291754"
      ]
     },
     "metadata": {},
     "execution_count": 41
    }
   ],
   "source": [
    "geo_sel['Diagnostic & Treatment Center'].max()"
   ]
  },
  {
   "cell_type": "code",
   "execution_count": 42,
   "metadata": {},
   "outputs": [
    {
     "output_type": "execute_result",
     "data": {
      "text/plain": [
       "24766.8406925235"
      ]
     },
     "metadata": {},
     "execution_count": 42
    }
   ],
   "source": [
    "geo_sel['Acute Care Hospital'].max()"
   ]
  },
  {
   "cell_type": "code",
   "execution_count": 43,
   "metadata": {},
   "outputs": [
    {
     "output_type": "execute_result",
     "data": {
      "text/plain": [
       "20249.516602029933"
      ]
     },
     "metadata": {},
     "execution_count": 43
    }
   ],
   "source": [
    "geo_sel['Nursing Home'].max()"
   ]
  },
  {
   "cell_type": "code",
   "execution_count": 44,
   "metadata": {},
   "outputs": [
    {
     "output_type": "execute_result",
     "data": {
      "text/plain": [
       "953.1778456787914"
      ]
     },
     "metadata": {},
     "execution_count": 44
    }
   ],
   "source": [
    "geo_sel['avg'].min()"
   ]
  },
  {
   "cell_type": "code",
   "execution_count": 45,
   "metadata": {},
   "outputs": [
    {
     "output_type": "execute_result",
     "data": {
      "text/plain": [
       "20912.30989159827"
      ]
     },
     "metadata": {},
     "execution_count": 45
    }
   ],
   "source": [
    "geo_sel['avg'].max()"
   ]
  },
  {
   "cell_type": "code",
   "execution_count": null,
   "metadata": {},
   "outputs": [],
   "source": []
  }
 ]
}