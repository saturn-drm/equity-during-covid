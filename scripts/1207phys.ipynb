{
 "metadata": {
  "language_info": {
   "codemirror_mode": {
    "name": "ipython",
    "version": 3
   },
   "file_extension": ".py",
   "mimetype": "text/x-python",
   "name": "python",
   "nbconvert_exporter": "python",
   "pygments_lexer": "ipython3",
   "version": "3.7.7-final"
  },
  "orig_nbformat": 2,
  "kernelspec": {
   "name": "python3",
   "display_name": "Python 3"
  }
 },
 "nbformat": 4,
 "nbformat_minor": 2,
 "cells": [
  {
   "source": [
    "# understading hospital POI"
   ],
   "cell_type": "markdown",
   "metadata": {}
  },
  {
   "cell_type": "code",
   "execution_count": 1,
   "metadata": {},
   "outputs": [],
   "source": [
    "import geopandas\n",
    "import pandas"
   ]
  },
  {
   "cell_type": "code",
   "execution_count": 2,
   "metadata": {},
   "outputs": [
    {
     "output_type": "execute_result",
     "data": {
      "text/plain": [
       "                               name source complexid saftype pri_add  \\\n",
       "0       HRD RAMP TO GWB OVER HRD SB    DCP       401       N       0   \n",
       "1                          GOETHALS    DCP         0       N       0   \n",
       "2  KOCH BR PEDESTRIAN AND BIKE PATH  DoITT         0       N       0   \n",
       "3       KOCH BR PEDESTRIAN AND BIKE  DoITT         0       N       0   \n",
       "4      14 AV OV BELT CROSS ISL PKWY    DCP         0       N       0   \n",
       "\n",
       "                    modified faci_dom facility_t     b7_sc  placeid bin sos  \\\n",
       "0  2020-03-12T00:00:00+00:00        8          6  11095502  1031153   0   1   \n",
       "1  2020-03-16T00:00:00+00:00        8          6  59703501    19954   0   1   \n",
       "2  2020-03-16T00:00:00+00:00        8          6  19792015  1026908   0   1   \n",
       "3  2020-03-16T00:00:00+00:00        8          6  49734017  1026909   0   1   \n",
       "4  2018-04-19T00:00:00+00:00        8          6  40074101  1031297   0   2   \n",
       "\n",
       "  segmentid borough                    created                    geometry  \n",
       "0    193927       1  2018-04-12T00:00:00+00:00  POINT (-73.93149 40.84419)  \n",
       "1    321726       5  2008-03-15T00:00:00+00:00  POINT (-74.19673 40.63526)  \n",
       "2    138896       1  2015-10-20T00:00:00+00:00  POINT (-73.95802 40.75849)  \n",
       "3    139388       4  2015-10-20T00:00:00+00:00  POINT (-73.95062 40.75530)  \n",
       "4    179357       4  2018-04-13T00:00:00+00:00  POINT (-73.81678 40.78815)  "
      ],
      "text/html": "<div>\n<style scoped>\n    .dataframe tbody tr th:only-of-type {\n        vertical-align: middle;\n    }\n\n    .dataframe tbody tr th {\n        vertical-align: top;\n    }\n\n    .dataframe thead th {\n        text-align: right;\n    }\n</style>\n<table border=\"1\" class=\"dataframe\">\n  <thead>\n    <tr style=\"text-align: right;\">\n      <th></th>\n      <th>name</th>\n      <th>source</th>\n      <th>complexid</th>\n      <th>saftype</th>\n      <th>pri_add</th>\n      <th>modified</th>\n      <th>faci_dom</th>\n      <th>facility_t</th>\n      <th>b7_sc</th>\n      <th>placeid</th>\n      <th>bin</th>\n      <th>sos</th>\n      <th>segmentid</th>\n      <th>borough</th>\n      <th>created</th>\n      <th>geometry</th>\n    </tr>\n  </thead>\n  <tbody>\n    <tr>\n      <th>0</th>\n      <td>HRD RAMP TO GWB OVER HRD SB</td>\n      <td>DCP</td>\n      <td>401</td>\n      <td>N</td>\n      <td>0</td>\n      <td>2020-03-12T00:00:00+00:00</td>\n      <td>8</td>\n      <td>6</td>\n      <td>11095502</td>\n      <td>1031153</td>\n      <td>0</td>\n      <td>1</td>\n      <td>193927</td>\n      <td>1</td>\n      <td>2018-04-12T00:00:00+00:00</td>\n      <td>POINT (-73.93149 40.84419)</td>\n    </tr>\n    <tr>\n      <th>1</th>\n      <td>GOETHALS</td>\n      <td>DCP</td>\n      <td>0</td>\n      <td>N</td>\n      <td>0</td>\n      <td>2020-03-16T00:00:00+00:00</td>\n      <td>8</td>\n      <td>6</td>\n      <td>59703501</td>\n      <td>19954</td>\n      <td>0</td>\n      <td>1</td>\n      <td>321726</td>\n      <td>5</td>\n      <td>2008-03-15T00:00:00+00:00</td>\n      <td>POINT (-74.19673 40.63526)</td>\n    </tr>\n    <tr>\n      <th>2</th>\n      <td>KOCH BR PEDESTRIAN AND BIKE PATH</td>\n      <td>DoITT</td>\n      <td>0</td>\n      <td>N</td>\n      <td>0</td>\n      <td>2020-03-16T00:00:00+00:00</td>\n      <td>8</td>\n      <td>6</td>\n      <td>19792015</td>\n      <td>1026908</td>\n      <td>0</td>\n      <td>1</td>\n      <td>138896</td>\n      <td>1</td>\n      <td>2015-10-20T00:00:00+00:00</td>\n      <td>POINT (-73.95802 40.75849)</td>\n    </tr>\n    <tr>\n      <th>3</th>\n      <td>KOCH BR PEDESTRIAN AND BIKE</td>\n      <td>DoITT</td>\n      <td>0</td>\n      <td>N</td>\n      <td>0</td>\n      <td>2020-03-16T00:00:00+00:00</td>\n      <td>8</td>\n      <td>6</td>\n      <td>49734017</td>\n      <td>1026909</td>\n      <td>0</td>\n      <td>1</td>\n      <td>139388</td>\n      <td>4</td>\n      <td>2015-10-20T00:00:00+00:00</td>\n      <td>POINT (-73.95062 40.75530)</td>\n    </tr>\n    <tr>\n      <th>4</th>\n      <td>14 AV OV BELT CROSS ISL PKWY</td>\n      <td>DCP</td>\n      <td>0</td>\n      <td>N</td>\n      <td>0</td>\n      <td>2018-04-19T00:00:00+00:00</td>\n      <td>8</td>\n      <td>6</td>\n      <td>40074101</td>\n      <td>1031297</td>\n      <td>0</td>\n      <td>2</td>\n      <td>179357</td>\n      <td>4</td>\n      <td>2018-04-13T00:00:00+00:00</td>\n      <td>POINT (-73.81678 40.78815)</td>\n    </tr>\n  </tbody>\n</table>\n</div>"
     },
     "metadata": {},
     "execution_count": 2
    }
   ],
   "source": [
    "raw = geopandas.read_file('../datas/05-physical/Points Of Interest.geojson')\n",
    "raw.head()"
   ]
  },
  {
   "cell_type": "code",
   "execution_count": 3,
   "metadata": {},
   "outputs": [
    {
     "output_type": "execute_result",
     "data": {
      "text/plain": [
       "                                                NAME  facility_t        lat  \\\n",
       "0  SOUTH BRONX MENTAL HEALTH COUNCIL COMMUNITY ME...          10  40.807560   \n",
       "1                            SUNY DOWNSTATE BAYRIDGE          10  40.615185   \n",
       "2            DAVITA SOUTH BROOKLYN NEPHROLOGY CENTER          10  40.606788   \n",
       "3                       BX PSYCH CTR CNTRL SVCS BLDG          10  40.847280   \n",
       "4               MOUNT SINAI ADOLESCENT HEALTH CENTER          10  40.782397   \n",
       "\n",
       "         lng  \n",
       "0 -73.908954  \n",
       "1 -74.022900  \n",
       "2 -73.923538  \n",
       "3 -73.840016  \n",
       "4 -73.947191  "
      ],
      "text/html": "<div>\n<style scoped>\n    .dataframe tbody tr th:only-of-type {\n        vertical-align: middle;\n    }\n\n    .dataframe tbody tr th {\n        vertical-align: top;\n    }\n\n    .dataframe thead th {\n        text-align: right;\n    }\n</style>\n<table border=\"1\" class=\"dataframe\">\n  <thead>\n    <tr style=\"text-align: right;\">\n      <th></th>\n      <th>NAME</th>\n      <th>facility_t</th>\n      <th>lat</th>\n      <th>lng</th>\n    </tr>\n  </thead>\n  <tbody>\n    <tr>\n      <th>0</th>\n      <td>SOUTH BRONX MENTAL HEALTH COUNCIL COMMUNITY ME...</td>\n      <td>10</td>\n      <td>40.807560</td>\n      <td>-73.908954</td>\n    </tr>\n    <tr>\n      <th>1</th>\n      <td>SUNY DOWNSTATE BAYRIDGE</td>\n      <td>10</td>\n      <td>40.615185</td>\n      <td>-74.022900</td>\n    </tr>\n    <tr>\n      <th>2</th>\n      <td>DAVITA SOUTH BROOKLYN NEPHROLOGY CENTER</td>\n      <td>10</td>\n      <td>40.606788</td>\n      <td>-73.923538</td>\n    </tr>\n    <tr>\n      <th>3</th>\n      <td>BX PSYCH CTR CNTRL SVCS BLDG</td>\n      <td>10</td>\n      <td>40.847280</td>\n      <td>-73.840016</td>\n    </tr>\n    <tr>\n      <th>4</th>\n      <td>MOUNT SINAI ADOLESCENT HEALTH CENTER</td>\n      <td>10</td>\n      <td>40.782397</td>\n      <td>-73.947191</td>\n    </tr>\n  </tbody>\n</table>\n</div>"
     },
     "metadata": {},
     "execution_count": 3
    }
   ],
   "source": [
    "data = pandas.read_csv('../201206_POI/POI_med.csv')\n",
    "data.head()"
   ]
  },
  {
   "cell_type": "code",
   "execution_count": 4,
   "metadata": {},
   "outputs": [
    {
     "output_type": "execute_result",
     "data": {
      "text/plain": [
       "(78, 15)"
      ]
     },
     "metadata": {},
     "execution_count": 4
    }
   ],
   "source": [
    "data = pandas.read_csv('../datas/07-physical-new/NYC_Health___Hospitals_patient_care_locations_-_2011.csv')\n",
    "data.shape"
   ]
  },
  {
   "cell_type": "code",
   "execution_count": 5,
   "metadata": {},
   "outputs": [
    {
     "output_type": "execute_result",
     "data": {
      "text/plain": [
       "                   Facility Type   Borough  \\\n",
       "0            Child Health Center  Brooklyn   \n",
       "1            Child Health Center    Queens   \n",
       "2            Child Health Center     Bronx   \n",
       "3            Child Health Center     Bronx   \n",
       "4  Diagnostic & Treatment Center     Bronx   \n",
       "\n",
       "                                       Facility Name  \\\n",
       "0              Ida G. Israel Community Health Center   \n",
       "1               South Queens Community Health Center   \n",
       "2                 Melrose Houses Child Health Clinic   \n",
       "3          Daniel Webster Houses Child Health Clinic   \n",
       "4  Segundo Ruiz Belvis Diagnostic & Treatment Center   \n",
       "\n",
       "                           Cross Streets         Phone  \\\n",
       "0              W. 22nd St. & W. 23rd St.  718-946-3400   \n",
       "1                                    NaN  718-883-6699   \n",
       "2  between Morris Ave. & Courtlandt Ave.  718-292-2820   \n",
       "3                 corner of Webster Ave.  718-538-2147   \n",
       "4                                    NaN  718-579-4000   \n",
       "\n",
       "                                          Location 1  Postcode   Latitude  \\\n",
       "0  2201 Neptune Avenue Brooklyn, NY 11224 (40.578...   11224.0  40.578468   \n",
       "1  114 02 Guy R Brewer Blvd Jamaica, NY 11434 (40...   11434.0  40.688615   \n",
       "2  348 156th Street Bronx, NY 10451 (40.821301194...       NaN        NaN   \n",
       "3  401 168th Street Bronx, NY 10456 (40.832279848...       NaN        NaN   \n",
       "4  545 142nd Street Bronx, NY 10454 (40.810121864...       NaN        NaN   \n",
       "\n",
       "   Longitude  Community Board  Council District  Census Tract        BIN  \\\n",
       "0 -73.989614             13.0              47.0         348.0  3188417.0   \n",
       "1 -73.785593             12.0              28.0         276.0  4264631.0   \n",
       "2        NaN              NaN               NaN           NaN        NaN   \n",
       "3        NaN              NaN               NaN           NaN        NaN   \n",
       "4        NaN              NaN               NaN           NaN        NaN   \n",
       "\n",
       "            BBL                   NTA  \n",
       "0  3.069900e+09  Seagate-Coney Island  \n",
       "1  4.122000e+09          Baisley Park  \n",
       "2           NaN                   NaN  \n",
       "3           NaN                   NaN  \n",
       "4           NaN                   NaN  "
      ],
      "text/html": "<div>\n<style scoped>\n    .dataframe tbody tr th:only-of-type {\n        vertical-align: middle;\n    }\n\n    .dataframe tbody tr th {\n        vertical-align: top;\n    }\n\n    .dataframe thead th {\n        text-align: right;\n    }\n</style>\n<table border=\"1\" class=\"dataframe\">\n  <thead>\n    <tr style=\"text-align: right;\">\n      <th></th>\n      <th>Facility Type</th>\n      <th>Borough</th>\n      <th>Facility Name</th>\n      <th>Cross Streets</th>\n      <th>Phone</th>\n      <th>Location 1</th>\n      <th>Postcode</th>\n      <th>Latitude</th>\n      <th>Longitude</th>\n      <th>Community Board</th>\n      <th>Council District</th>\n      <th>Census Tract</th>\n      <th>BIN</th>\n      <th>BBL</th>\n      <th>NTA</th>\n    </tr>\n  </thead>\n  <tbody>\n    <tr>\n      <th>0</th>\n      <td>Child Health Center</td>\n      <td>Brooklyn</td>\n      <td>Ida G. Israel Community Health Center</td>\n      <td>W. 22nd St. &amp; W. 23rd St.</td>\n      <td>718-946-3400</td>\n      <td>2201 Neptune Avenue Brooklyn, NY 11224 (40.578...</td>\n      <td>11224.0</td>\n      <td>40.578468</td>\n      <td>-73.989614</td>\n      <td>13.0</td>\n      <td>47.0</td>\n      <td>348.0</td>\n      <td>3188417.0</td>\n      <td>3.069900e+09</td>\n      <td>Seagate-Coney Island</td>\n    </tr>\n    <tr>\n      <th>1</th>\n      <td>Child Health Center</td>\n      <td>Queens</td>\n      <td>South Queens Community Health Center</td>\n      <td>NaN</td>\n      <td>718-883-6699</td>\n      <td>114 02 Guy R Brewer Blvd Jamaica, NY 11434 (40...</td>\n      <td>11434.0</td>\n      <td>40.688615</td>\n      <td>-73.785593</td>\n      <td>12.0</td>\n      <td>28.0</td>\n      <td>276.0</td>\n      <td>4264631.0</td>\n      <td>4.122000e+09</td>\n      <td>Baisley Park</td>\n    </tr>\n    <tr>\n      <th>2</th>\n      <td>Child Health Center</td>\n      <td>Bronx</td>\n      <td>Melrose Houses Child Health Clinic</td>\n      <td>between Morris Ave. &amp; Courtlandt Ave.</td>\n      <td>718-292-2820</td>\n      <td>348 156th Street Bronx, NY 10451 (40.821301194...</td>\n      <td>NaN</td>\n      <td>NaN</td>\n      <td>NaN</td>\n      <td>NaN</td>\n      <td>NaN</td>\n      <td>NaN</td>\n      <td>NaN</td>\n      <td>NaN</td>\n      <td>NaN</td>\n    </tr>\n    <tr>\n      <th>3</th>\n      <td>Child Health Center</td>\n      <td>Bronx</td>\n      <td>Daniel Webster Houses Child Health Clinic</td>\n      <td>corner of Webster Ave.</td>\n      <td>718-538-2147</td>\n      <td>401 168th Street Bronx, NY 10456 (40.832279848...</td>\n      <td>NaN</td>\n      <td>NaN</td>\n      <td>NaN</td>\n      <td>NaN</td>\n      <td>NaN</td>\n      <td>NaN</td>\n      <td>NaN</td>\n      <td>NaN</td>\n      <td>NaN</td>\n    </tr>\n    <tr>\n      <th>4</th>\n      <td>Diagnostic &amp; Treatment Center</td>\n      <td>Bronx</td>\n      <td>Segundo Ruiz Belvis Diagnostic &amp; Treatment Center</td>\n      <td>NaN</td>\n      <td>718-579-4000</td>\n      <td>545 142nd Street Bronx, NY 10454 (40.810121864...</td>\n      <td>NaN</td>\n      <td>NaN</td>\n      <td>NaN</td>\n      <td>NaN</td>\n      <td>NaN</td>\n      <td>NaN</td>\n      <td>NaN</td>\n      <td>NaN</td>\n      <td>NaN</td>\n    </tr>\n  </tbody>\n</table>\n</div>"
     },
     "metadata": {},
     "execution_count": 5
    }
   ],
   "source": [
    "data.head()"
   ]
  },
  {
   "cell_type": "code",
   "execution_count": 6,
   "metadata": {},
   "outputs": [
    {
     "output_type": "execute_result",
     "data": {
      "text/plain": [
       "array(['Child Health Center', 'Diagnostic & Treatment Center',\n",
       "       'Acute Care Hospital', 'Nursing Home'], dtype=object)"
      ]
     },
     "metadata": {},
     "execution_count": 6
    }
   ],
   "source": [
    "data['Facility Type'].unique()"
   ]
  },
  {
   "cell_type": "code",
   "execution_count": 14,
   "metadata": {},
   "outputs": [
    {
     "output_type": "execute_result",
     "data": {
      "text/plain": [
       "['40.578488319967', '-73.989497148121']"
      ]
     },
     "metadata": {},
     "execution_count": 14
    }
   ],
   "source": [
    "teststr = data.loc[0, 'Location 1']\n",
    "teststr.split('(')[-1].split(')')[0].split(', ')"
   ]
  },
  {
   "cell_type": "code",
   "execution_count": 15,
   "metadata": {},
   "outputs": [
    {
     "output_type": "execute_result",
     "data": {
      "text/plain": [
       "40.578468"
      ]
     },
     "metadata": {},
     "execution_count": 15
    }
   ],
   "source": [
    "data.loc[0, 'Latitude']"
   ]
  },
  {
   "cell_type": "code",
   "execution_count": 16,
   "metadata": {},
   "outputs": [
    {
     "output_type": "execute_result",
     "data": {
      "text/plain": [
       "                   Facility Type   Borough  \\\n",
       "0            Child Health Center  Brooklyn   \n",
       "1            Child Health Center    Queens   \n",
       "2            Child Health Center     Bronx   \n",
       "3            Child Health Center     Bronx   \n",
       "4  Diagnostic & Treatment Center     Bronx   \n",
       "\n",
       "                                       Facility Name  \\\n",
       "0              Ida G. Israel Community Health Center   \n",
       "1               South Queens Community Health Center   \n",
       "2                 Melrose Houses Child Health Clinic   \n",
       "3          Daniel Webster Houses Child Health Clinic   \n",
       "4  Segundo Ruiz Belvis Diagnostic & Treatment Center   \n",
       "\n",
       "                           Cross Streets         Phone  \\\n",
       "0              W. 22nd St. & W. 23rd St.  718-946-3400   \n",
       "1                                    NaN  718-883-6699   \n",
       "2  between Morris Ave. & Courtlandt Ave.  718-292-2820   \n",
       "3                 corner of Webster Ave.  718-538-2147   \n",
       "4                                    NaN  718-579-4000   \n",
       "\n",
       "                                          Location 1  Postcode  \\\n",
       "0  2201 Neptune Avenue Brooklyn, NY 11224 (40.578...   11224.0   \n",
       "1  114 02 Guy R Brewer Blvd Jamaica, NY 11434 (40...   11434.0   \n",
       "2  348 156th Street Bronx, NY 10451 (40.821301194...       NaN   \n",
       "3  401 168th Street Bronx, NY 10456 (40.832279848...       NaN   \n",
       "4  545 142nd Street Bronx, NY 10454 (40.810121864...       NaN   \n",
       "\n",
       "          Latitude         Longitude  Community Board  Council District  \\\n",
       "0  40.578488319967  -73.989497148121             13.0              47.0   \n",
       "1  40.676945262114  -73.775306901692             12.0              28.0   \n",
       "2  40.821301194646  -73.917709787212              NaN               NaN   \n",
       "3  40.832279848967  -73.909534601874              NaN               NaN   \n",
       "4  40.810121864043  -73.916811846348              NaN               NaN   \n",
       "\n",
       "   Census Tract        BIN           BBL                   NTA  \n",
       "0         348.0  3188417.0  3.069900e+09  Seagate-Coney Island  \n",
       "1         276.0  4264631.0  4.122000e+09          Baisley Park  \n",
       "2           NaN        NaN           NaN                   NaN  \n",
       "3           NaN        NaN           NaN                   NaN  \n",
       "4           NaN        NaN           NaN                   NaN  "
      ],
      "text/html": "<div>\n<style scoped>\n    .dataframe tbody tr th:only-of-type {\n        vertical-align: middle;\n    }\n\n    .dataframe tbody tr th {\n        vertical-align: top;\n    }\n\n    .dataframe thead th {\n        text-align: right;\n    }\n</style>\n<table border=\"1\" class=\"dataframe\">\n  <thead>\n    <tr style=\"text-align: right;\">\n      <th></th>\n      <th>Facility Type</th>\n      <th>Borough</th>\n      <th>Facility Name</th>\n      <th>Cross Streets</th>\n      <th>Phone</th>\n      <th>Location 1</th>\n      <th>Postcode</th>\n      <th>Latitude</th>\n      <th>Longitude</th>\n      <th>Community Board</th>\n      <th>Council District</th>\n      <th>Census Tract</th>\n      <th>BIN</th>\n      <th>BBL</th>\n      <th>NTA</th>\n    </tr>\n  </thead>\n  <tbody>\n    <tr>\n      <th>0</th>\n      <td>Child Health Center</td>\n      <td>Brooklyn</td>\n      <td>Ida G. Israel Community Health Center</td>\n      <td>W. 22nd St. &amp; W. 23rd St.</td>\n      <td>718-946-3400</td>\n      <td>2201 Neptune Avenue Brooklyn, NY 11224 (40.578...</td>\n      <td>11224.0</td>\n      <td>40.578488319967</td>\n      <td>-73.989497148121</td>\n      <td>13.0</td>\n      <td>47.0</td>\n      <td>348.0</td>\n      <td>3188417.0</td>\n      <td>3.069900e+09</td>\n      <td>Seagate-Coney Island</td>\n    </tr>\n    <tr>\n      <th>1</th>\n      <td>Child Health Center</td>\n      <td>Queens</td>\n      <td>South Queens Community Health Center</td>\n      <td>NaN</td>\n      <td>718-883-6699</td>\n      <td>114 02 Guy R Brewer Blvd Jamaica, NY 11434 (40...</td>\n      <td>11434.0</td>\n      <td>40.676945262114</td>\n      <td>-73.775306901692</td>\n      <td>12.0</td>\n      <td>28.0</td>\n      <td>276.0</td>\n      <td>4264631.0</td>\n      <td>4.122000e+09</td>\n      <td>Baisley Park</td>\n    </tr>\n    <tr>\n      <th>2</th>\n      <td>Child Health Center</td>\n      <td>Bronx</td>\n      <td>Melrose Houses Child Health Clinic</td>\n      <td>between Morris Ave. &amp; Courtlandt Ave.</td>\n      <td>718-292-2820</td>\n      <td>348 156th Street Bronx, NY 10451 (40.821301194...</td>\n      <td>NaN</td>\n      <td>40.821301194646</td>\n      <td>-73.917709787212</td>\n      <td>NaN</td>\n      <td>NaN</td>\n      <td>NaN</td>\n      <td>NaN</td>\n      <td>NaN</td>\n      <td>NaN</td>\n    </tr>\n    <tr>\n      <th>3</th>\n      <td>Child Health Center</td>\n      <td>Bronx</td>\n      <td>Daniel Webster Houses Child Health Clinic</td>\n      <td>corner of Webster Ave.</td>\n      <td>718-538-2147</td>\n      <td>401 168th Street Bronx, NY 10456 (40.832279848...</td>\n      <td>NaN</td>\n      <td>40.832279848967</td>\n      <td>-73.909534601874</td>\n      <td>NaN</td>\n      <td>NaN</td>\n      <td>NaN</td>\n      <td>NaN</td>\n      <td>NaN</td>\n      <td>NaN</td>\n    </tr>\n    <tr>\n      <th>4</th>\n      <td>Diagnostic &amp; Treatment Center</td>\n      <td>Bronx</td>\n      <td>Segundo Ruiz Belvis Diagnostic &amp; Treatment Center</td>\n      <td>NaN</td>\n      <td>718-579-4000</td>\n      <td>545 142nd Street Bronx, NY 10454 (40.810121864...</td>\n      <td>NaN</td>\n      <td>40.810121864043</td>\n      <td>-73.916811846348</td>\n      <td>NaN</td>\n      <td>NaN</td>\n      <td>NaN</td>\n      <td>NaN</td>\n      <td>NaN</td>\n      <td>NaN</td>\n    </tr>\n  </tbody>\n</table>\n</div>"
     },
     "metadata": {},
     "execution_count": 16
    }
   ],
   "source": [
    "for index, row in data.iterrows():\n",
    "    data.loc[index, 'Latitude'] = row['Location 1'].split('(')[-1].split(')')[0].split(', ')[0]\n",
    "    data.loc[index, 'Longitude'] = row['Location 1'].split('(')[-1].split(')')[0].split(', ')[1]\n",
    "data.head()"
   ]
  },
  {
   "cell_type": "code",
   "execution_count": 17,
   "metadata": {},
   "outputs": [
    {
     "output_type": "execute_result",
     "data": {
      "text/plain": [
       "                   Facility Type  \\\n",
       "0            Child Health Center   \n",
       "1            Child Health Center   \n",
       "2            Child Health Center   \n",
       "3            Child Health Center   \n",
       "4  Diagnostic & Treatment Center   \n",
       "\n",
       "                                       Facility Name  \\\n",
       "0              Ida G. Israel Community Health Center   \n",
       "1               South Queens Community Health Center   \n",
       "2                 Melrose Houses Child Health Clinic   \n",
       "3          Daniel Webster Houses Child Health Clinic   \n",
       "4  Segundo Ruiz Belvis Diagnostic & Treatment Center   \n",
       "\n",
       "                                          Location 1         Latitude  \\\n",
       "0  2201 Neptune Avenue Brooklyn, NY 11224 (40.578...  40.578488319967   \n",
       "1  114 02 Guy R Brewer Blvd Jamaica, NY 11434 (40...  40.676945262114   \n",
       "2  348 156th Street Bronx, NY 10451 (40.821301194...  40.821301194646   \n",
       "3  401 168th Street Bronx, NY 10456 (40.832279848...  40.832279848967   \n",
       "4  545 142nd Street Bronx, NY 10454 (40.810121864...  40.810121864043   \n",
       "\n",
       "          Longitude   Borough  \n",
       "0  -73.989497148121  Brooklyn  \n",
       "1  -73.775306901692    Queens  \n",
       "2  -73.917709787212     Bronx  \n",
       "3  -73.909534601874     Bronx  \n",
       "4  -73.916811846348     Bronx  "
      ],
      "text/html": "<div>\n<style scoped>\n    .dataframe tbody tr th:only-of-type {\n        vertical-align: middle;\n    }\n\n    .dataframe tbody tr th {\n        vertical-align: top;\n    }\n\n    .dataframe thead th {\n        text-align: right;\n    }\n</style>\n<table border=\"1\" class=\"dataframe\">\n  <thead>\n    <tr style=\"text-align: right;\">\n      <th></th>\n      <th>Facility Type</th>\n      <th>Facility Name</th>\n      <th>Location 1</th>\n      <th>Latitude</th>\n      <th>Longitude</th>\n      <th>Borough</th>\n    </tr>\n  </thead>\n  <tbody>\n    <tr>\n      <th>0</th>\n      <td>Child Health Center</td>\n      <td>Ida G. Israel Community Health Center</td>\n      <td>2201 Neptune Avenue Brooklyn, NY 11224 (40.578...</td>\n      <td>40.578488319967</td>\n      <td>-73.989497148121</td>\n      <td>Brooklyn</td>\n    </tr>\n    <tr>\n      <th>1</th>\n      <td>Child Health Center</td>\n      <td>South Queens Community Health Center</td>\n      <td>114 02 Guy R Brewer Blvd Jamaica, NY 11434 (40...</td>\n      <td>40.676945262114</td>\n      <td>-73.775306901692</td>\n      <td>Queens</td>\n    </tr>\n    <tr>\n      <th>2</th>\n      <td>Child Health Center</td>\n      <td>Melrose Houses Child Health Clinic</td>\n      <td>348 156th Street Bronx, NY 10451 (40.821301194...</td>\n      <td>40.821301194646</td>\n      <td>-73.917709787212</td>\n      <td>Bronx</td>\n    </tr>\n    <tr>\n      <th>3</th>\n      <td>Child Health Center</td>\n      <td>Daniel Webster Houses Child Health Clinic</td>\n      <td>401 168th Street Bronx, NY 10456 (40.832279848...</td>\n      <td>40.832279848967</td>\n      <td>-73.909534601874</td>\n      <td>Bronx</td>\n    </tr>\n    <tr>\n      <th>4</th>\n      <td>Diagnostic &amp; Treatment Center</td>\n      <td>Segundo Ruiz Belvis Diagnostic &amp; Treatment Center</td>\n      <td>545 142nd Street Bronx, NY 10454 (40.810121864...</td>\n      <td>40.810121864043</td>\n      <td>-73.916811846348</td>\n      <td>Bronx</td>\n    </tr>\n  </tbody>\n</table>\n</div>"
     },
     "metadata": {},
     "execution_count": 17
    }
   ],
   "source": [
    "data_sel = data[['Facility Type', 'Facility Name', 'Location 1', 'Latitude', 'Longitude', 'Borough']]\n",
    "data_sel.head()"
   ]
  },
  {
   "cell_type": "code",
   "execution_count": 18,
   "metadata": {},
   "outputs": [
    {
     "output_type": "execute_result",
     "data": {
      "text/plain": [
       "                           CLASS  \\\n",
       "0            Child Health Center   \n",
       "1            Child Health Center   \n",
       "2            Child Health Center   \n",
       "3            Child Health Center   \n",
       "4  Diagnostic & Treatment Center   \n",
       "\n",
       "                                                NAME  \\\n",
       "0              Ida G. Israel Community Health Center   \n",
       "1               South Queens Community Health Center   \n",
       "2                 Melrose Houses Child Health Clinic   \n",
       "3          Daniel Webster Houses Child Health Clinic   \n",
       "4  Segundo Ruiz Belvis Diagnostic & Treatment Center   \n",
       "\n",
       "                                             ADDRESS              lat  \\\n",
       "0  2201 Neptune Avenue Brooklyn, NY 11224 (40.578...  40.578488319967   \n",
       "1  114 02 Guy R Brewer Blvd Jamaica, NY 11434 (40...  40.676945262114   \n",
       "2  348 156th Street Bronx, NY 10451 (40.821301194...  40.821301194646   \n",
       "3  401 168th Street Bronx, NY 10456 (40.832279848...  40.832279848967   \n",
       "4  545 142nd Street Bronx, NY 10454 (40.810121864...  40.810121864043   \n",
       "\n",
       "                lng  DISTRICT  \n",
       "0  -73.989497148121  Brooklyn  \n",
       "1  -73.775306901692    Queens  \n",
       "2  -73.917709787212     Bronx  \n",
       "3  -73.909534601874     Bronx  \n",
       "4  -73.916811846348     Bronx  "
      ],
      "text/html": "<div>\n<style scoped>\n    .dataframe tbody tr th:only-of-type {\n        vertical-align: middle;\n    }\n\n    .dataframe tbody tr th {\n        vertical-align: top;\n    }\n\n    .dataframe thead th {\n        text-align: right;\n    }\n</style>\n<table border=\"1\" class=\"dataframe\">\n  <thead>\n    <tr style=\"text-align: right;\">\n      <th></th>\n      <th>CLASS</th>\n      <th>NAME</th>\n      <th>ADDRESS</th>\n      <th>lat</th>\n      <th>lng</th>\n      <th>DISTRICT</th>\n    </tr>\n  </thead>\n  <tbody>\n    <tr>\n      <th>0</th>\n      <td>Child Health Center</td>\n      <td>Ida G. Israel Community Health Center</td>\n      <td>2201 Neptune Avenue Brooklyn, NY 11224 (40.578...</td>\n      <td>40.578488319967</td>\n      <td>-73.989497148121</td>\n      <td>Brooklyn</td>\n    </tr>\n    <tr>\n      <th>1</th>\n      <td>Child Health Center</td>\n      <td>South Queens Community Health Center</td>\n      <td>114 02 Guy R Brewer Blvd Jamaica, NY 11434 (40...</td>\n      <td>40.676945262114</td>\n      <td>-73.775306901692</td>\n      <td>Queens</td>\n    </tr>\n    <tr>\n      <th>2</th>\n      <td>Child Health Center</td>\n      <td>Melrose Houses Child Health Clinic</td>\n      <td>348 156th Street Bronx, NY 10451 (40.821301194...</td>\n      <td>40.821301194646</td>\n      <td>-73.917709787212</td>\n      <td>Bronx</td>\n    </tr>\n    <tr>\n      <th>3</th>\n      <td>Child Health Center</td>\n      <td>Daniel Webster Houses Child Health Clinic</td>\n      <td>401 168th Street Bronx, NY 10456 (40.832279848...</td>\n      <td>40.832279848967</td>\n      <td>-73.909534601874</td>\n      <td>Bronx</td>\n    </tr>\n    <tr>\n      <th>4</th>\n      <td>Diagnostic &amp; Treatment Center</td>\n      <td>Segundo Ruiz Belvis Diagnostic &amp; Treatment Center</td>\n      <td>545 142nd Street Bronx, NY 10454 (40.810121864...</td>\n      <td>40.810121864043</td>\n      <td>-73.916811846348</td>\n      <td>Bronx</td>\n    </tr>\n  </tbody>\n</table>\n</div>"
     },
     "metadata": {},
     "execution_count": 18
    }
   ],
   "source": [
    "data_sel.rename(columns={'Facility Type': 'CLASS', 'Facility Name': 'NAME', 'Location 1': 'ADDRESS', 'Latitude': 'lat', 'Longitude': 'lng', 'Borough': 'DISTRICT'}, inplace=True)\n",
    "data_sel.head()"
   ]
  },
  {
   "cell_type": "code",
   "execution_count": 19,
   "metadata": {},
   "outputs": [
    {
     "output_type": "execute_result",
     "data": {
      "text/plain": [
       "(78, 6)"
      ]
     },
     "metadata": {},
     "execution_count": 19
    }
   ],
   "source": [
    "data_sel.shape"
   ]
  },
  {
   "cell_type": "code",
   "execution_count": 21,
   "metadata": {},
   "outputs": [],
   "source": [
    "data_sel.to_csv('../datas/07-physical-new/medical-loc.csv', index=False)"
   ]
  },
  {
   "cell_type": "code",
   "execution_count": 22,
   "metadata": {},
   "outputs": [
    {
     "output_type": "execute_result",
     "data": {
      "text/plain": [
       "CLASS       object\n",
       "NAME        object\n",
       "ADDRESS     object\n",
       "lat         object\n",
       "lng         object\n",
       "DISTRICT    object\n",
       "dtype: object"
      ]
     },
     "metadata": {},
     "execution_count": 22
    }
   ],
   "source": [
    "data_sel.dtypes"
   ]
  },
  {
   "cell_type": "code",
   "execution_count": 24,
   "metadata": {},
   "outputs": [
    {
     "output_type": "execute_result",
     "data": {
      "text/plain": [
       "CLASS        object\n",
       "NAME         object\n",
       "ADDRESS      object\n",
       "lat         float64\n",
       "lng         float64\n",
       "DISTRICT     object\n",
       "dtype: object"
      ]
     },
     "metadata": {},
     "execution_count": 24
    }
   ],
   "source": [
    "data_sel = data_sel.astype({'lat': 'float64', 'lng': 'float64'})\n",
    "data_sel.dtypes"
   ]
  },
  {
   "cell_type": "code",
   "execution_count": 25,
   "metadata": {},
   "outputs": [],
   "source": [
    "data_sel.to_csv('../datas/07-physical-new/medical-loc.csv', index=False)"
   ]
  },
  {
   "cell_type": "code",
   "execution_count": 26,
   "metadata": {},
   "outputs": [
    {
     "output_type": "execute_result",
     "data": {
      "text/plain": [
       "CLASS        object\n",
       "NAME         object\n",
       "ADDRESS      object\n",
       "lat         float64\n",
       "lng         float64\n",
       "DISTRICT     object\n",
       "dtype: object"
      ]
     },
     "metadata": {},
     "execution_count": 26
    }
   ],
   "source": [
    "test = pandas.read_csv('../datas/07-physical-new/medical-loc.csv')\n",
    "test.dtypes"
   ]
  },
  {
   "source": [
    "# distance calculation"
   ],
   "cell_type": "markdown",
   "metadata": {}
  },
  {
   "cell_type": "code",
   "execution_count": 27,
   "metadata": {},
   "outputs": [
    {
     "output_type": "execute_result",
     "data": {
      "text/plain": [
       "          label modzcta pop_est                 zcta  \\\n",
       "0  10001, 10118   10001   23072  10001, 10119, 10199   \n",
       "1         10002   10002   74993                10002   \n",
       "2         10003   10003   54682                10003   \n",
       "3         10004   10004    3028                10004   \n",
       "4         10005   10005    8831         10005, 10271   \n",
       "\n",
       "                                            geometry  \n",
       "0  MULTIPOLYGON (((-73.98774 40.74407, -73.98819 ...  \n",
       "1  MULTIPOLYGON (((-73.99750 40.71407, -73.99709 ...  \n",
       "2  MULTIPOLYGON (((-73.98864 40.72293, -73.98876 ...  \n",
       "3  MULTIPOLYGON (((-74.00827 40.70772, -74.00937 ...  \n",
       "4  MULTIPOLYGON (((-74.00783 40.70309, -74.00786 ...  "
      ],
      "text/html": "<div>\n<style scoped>\n    .dataframe tbody tr th:only-of-type {\n        vertical-align: middle;\n    }\n\n    .dataframe tbody tr th {\n        vertical-align: top;\n    }\n\n    .dataframe thead th {\n        text-align: right;\n    }\n</style>\n<table border=\"1\" class=\"dataframe\">\n  <thead>\n    <tr style=\"text-align: right;\">\n      <th></th>\n      <th>label</th>\n      <th>modzcta</th>\n      <th>pop_est</th>\n      <th>zcta</th>\n      <th>geometry</th>\n    </tr>\n  </thead>\n  <tbody>\n    <tr>\n      <th>0</th>\n      <td>10001, 10118</td>\n      <td>10001</td>\n      <td>23072</td>\n      <td>10001, 10119, 10199</td>\n      <td>MULTIPOLYGON (((-73.98774 40.74407, -73.98819 ...</td>\n    </tr>\n    <tr>\n      <th>1</th>\n      <td>10002</td>\n      <td>10002</td>\n      <td>74993</td>\n      <td>10002</td>\n      <td>MULTIPOLYGON (((-73.99750 40.71407, -73.99709 ...</td>\n    </tr>\n    <tr>\n      <th>2</th>\n      <td>10003</td>\n      <td>10003</td>\n      <td>54682</td>\n      <td>10003</td>\n      <td>MULTIPOLYGON (((-73.98864 40.72293, -73.98876 ...</td>\n    </tr>\n    <tr>\n      <th>3</th>\n      <td>10004</td>\n      <td>10004</td>\n      <td>3028</td>\n      <td>10004</td>\n      <td>MULTIPOLYGON (((-74.00827 40.70772, -74.00937 ...</td>\n    </tr>\n    <tr>\n      <th>4</th>\n      <td>10005</td>\n      <td>10005</td>\n      <td>8831</td>\n      <td>10005, 10271</td>\n      <td>MULTIPOLYGON (((-74.00783 40.70309, -74.00786 ...</td>\n    </tr>\n  </tbody>\n</table>\n</div>"
     },
     "metadata": {},
     "execution_count": 27
    }
   ],
   "source": [
    "geodata = geopandas.read_file('../datas/00-tractTOzcta/Modified Zip Code Tabulation Areas (MODZCTA).geojson')\n",
    "geodata.head()"
   ]
  },
  {
   "cell_type": "code",
   "execution_count": 28,
   "metadata": {},
   "outputs": [
    {
     "output_type": "execute_result",
     "data": {
      "text/plain": [
       "          label modzcta pop_est                 zcta  \\\n",
       "0  10001, 10118   10001   23072  10001, 10119, 10199   \n",
       "1         10002   10002   74993                10002   \n",
       "2         10003   10003   54682                10003   \n",
       "3         10004   10004    3028                10004   \n",
       "4         10005   10005    8831         10005, 10271   \n",
       "\n",
       "                                            geometry  \\\n",
       "0  MULTIPOLYGON (((-73.98774 40.74407, -73.98819 ...   \n",
       "1  MULTIPOLYGON (((-73.99750 40.71407, -73.99709 ...   \n",
       "2  MULTIPOLYGON (((-73.98864 40.72293, -73.98876 ...   \n",
       "3  MULTIPOLYGON (((-74.00827 40.70772, -74.00937 ...   \n",
       "4  MULTIPOLYGON (((-74.00783 40.70309, -74.00786 ...   \n",
       "\n",
       "                     centroid  \n",
       "0  POINT (-73.99714 40.75069)  \n",
       "1  POINT (-73.98617 40.71578)  \n",
       "2  POINT (-73.98916 40.73183)  \n",
       "3  POINT (-74.01303 40.70375)  \n",
       "4  POINT (-74.00887 40.70610)  "
      ],
      "text/html": "<div>\n<style scoped>\n    .dataframe tbody tr th:only-of-type {\n        vertical-align: middle;\n    }\n\n    .dataframe tbody tr th {\n        vertical-align: top;\n    }\n\n    .dataframe thead th {\n        text-align: right;\n    }\n</style>\n<table border=\"1\" class=\"dataframe\">\n  <thead>\n    <tr style=\"text-align: right;\">\n      <th></th>\n      <th>label</th>\n      <th>modzcta</th>\n      <th>pop_est</th>\n      <th>zcta</th>\n      <th>geometry</th>\n      <th>centroid</th>\n    </tr>\n  </thead>\n  <tbody>\n    <tr>\n      <th>0</th>\n      <td>10001, 10118</td>\n      <td>10001</td>\n      <td>23072</td>\n      <td>10001, 10119, 10199</td>\n      <td>MULTIPOLYGON (((-73.98774 40.74407, -73.98819 ...</td>\n      <td>POINT (-73.99714 40.75069)</td>\n    </tr>\n    <tr>\n      <th>1</th>\n      <td>10002</td>\n      <td>10002</td>\n      <td>74993</td>\n      <td>10002</td>\n      <td>MULTIPOLYGON (((-73.99750 40.71407, -73.99709 ...</td>\n      <td>POINT (-73.98617 40.71578)</td>\n    </tr>\n    <tr>\n      <th>2</th>\n      <td>10003</td>\n      <td>10003</td>\n      <td>54682</td>\n      <td>10003</td>\n      <td>MULTIPOLYGON (((-73.98864 40.72293, -73.98876 ...</td>\n      <td>POINT (-73.98916 40.73183)</td>\n    </tr>\n    <tr>\n      <th>3</th>\n      <td>10004</td>\n      <td>10004</td>\n      <td>3028</td>\n      <td>10004</td>\n      <td>MULTIPOLYGON (((-74.00827 40.70772, -74.00937 ...</td>\n      <td>POINT (-74.01303 40.70375)</td>\n    </tr>\n    <tr>\n      <th>4</th>\n      <td>10005</td>\n      <td>10005</td>\n      <td>8831</td>\n      <td>10005, 10271</td>\n      <td>MULTIPOLYGON (((-74.00783 40.70309, -74.00786 ...</td>\n      <td>POINT (-74.00887 40.70610)</td>\n    </tr>\n  </tbody>\n</table>\n</div>"
     },
     "metadata": {},
     "execution_count": 28
    }
   ],
   "source": [
    "geodata['centroid'] = geodata['geometry'].centroid\n",
    "geodata.head()"
   ]
  },
  {
   "cell_type": "code",
   "execution_count": 29,
   "metadata": {},
   "outputs": [],
   "source": [
    "import geopy.distance"
   ]
  },
  {
   "cell_type": "code",
   "execution_count": 30,
   "metadata": {},
   "outputs": [
    {
     "output_type": "execute_result",
     "data": {
      "text/plain": [
       "          label modzcta pop_est                 zcta  \\\n",
       "0  10001, 10118   10001   23072  10001, 10119, 10199   \n",
       "1         10002   10002   74993                10002   \n",
       "2         10003   10003   54682                10003   \n",
       "3         10004   10004    3028                10004   \n",
       "4         10005   10005    8831         10005, 10271   \n",
       "\n",
       "                                            geometry  \\\n",
       "0  MULTIPOLYGON (((-73.98774 40.74407, -73.98819 ...   \n",
       "1  MULTIPOLYGON (((-73.99750 40.71407, -73.99709 ...   \n",
       "2  MULTIPOLYGON (((-73.98864 40.72293, -73.98876 ...   \n",
       "3  MULTIPOLYGON (((-74.00827 40.70772, -74.00937 ...   \n",
       "4  MULTIPOLYGON (((-74.00783 40.70309, -74.00786 ...   \n",
       "\n",
       "                     centroid  Child Health Center  \\\n",
       "0  POINT (-73.99714 40.75069)                  0.0   \n",
       "1  POINT (-73.98617 40.71578)                  0.0   \n",
       "2  POINT (-73.98916 40.73183)                  0.0   \n",
       "3  POINT (-74.01303 40.70375)                  0.0   \n",
       "4  POINT (-74.00887 40.70610)                  0.0   \n",
       "\n",
       "   Diagnostic & Treatment Center  Acute Care Hospital  Nursing Home  \n",
       "0                            0.0                  0.0           0.0  \n",
       "1                            0.0                  0.0           0.0  \n",
       "2                            0.0                  0.0           0.0  \n",
       "3                            0.0                  0.0           0.0  \n",
       "4                            0.0                  0.0           0.0  "
      ],
      "text/html": "<div>\n<style scoped>\n    .dataframe tbody tr th:only-of-type {\n        vertical-align: middle;\n    }\n\n    .dataframe tbody tr th {\n        vertical-align: top;\n    }\n\n    .dataframe thead th {\n        text-align: right;\n    }\n</style>\n<table border=\"1\" class=\"dataframe\">\n  <thead>\n    <tr style=\"text-align: right;\">\n      <th></th>\n      <th>label</th>\n      <th>modzcta</th>\n      <th>pop_est</th>\n      <th>zcta</th>\n      <th>geometry</th>\n      <th>centroid</th>\n      <th>Child Health Center</th>\n      <th>Diagnostic &amp; Treatment Center</th>\n      <th>Acute Care Hospital</th>\n      <th>Nursing Home</th>\n    </tr>\n  </thead>\n  <tbody>\n    <tr>\n      <th>0</th>\n      <td>10001, 10118</td>\n      <td>10001</td>\n      <td>23072</td>\n      <td>10001, 10119, 10199</td>\n      <td>MULTIPOLYGON (((-73.98774 40.74407, -73.98819 ...</td>\n      <td>POINT (-73.99714 40.75069)</td>\n      <td>0.0</td>\n      <td>0.0</td>\n      <td>0.0</td>\n      <td>0.0</td>\n    </tr>\n    <tr>\n      <th>1</th>\n      <td>10002</td>\n      <td>10002</td>\n      <td>74993</td>\n      <td>10002</td>\n      <td>MULTIPOLYGON (((-73.99750 40.71407, -73.99709 ...</td>\n      <td>POINT (-73.98617 40.71578)</td>\n      <td>0.0</td>\n      <td>0.0</td>\n      <td>0.0</td>\n      <td>0.0</td>\n    </tr>\n    <tr>\n      <th>2</th>\n      <td>10003</td>\n      <td>10003</td>\n      <td>54682</td>\n      <td>10003</td>\n      <td>MULTIPOLYGON (((-73.98864 40.72293, -73.98876 ...</td>\n      <td>POINT (-73.98916 40.73183)</td>\n      <td>0.0</td>\n      <td>0.0</td>\n      <td>0.0</td>\n      <td>0.0</td>\n    </tr>\n    <tr>\n      <th>3</th>\n      <td>10004</td>\n      <td>10004</td>\n      <td>3028</td>\n      <td>10004</td>\n      <td>MULTIPOLYGON (((-74.00827 40.70772, -74.00937 ...</td>\n      <td>POINT (-74.01303 40.70375)</td>\n      <td>0.0</td>\n      <td>0.0</td>\n      <td>0.0</td>\n      <td>0.0</td>\n    </tr>\n    <tr>\n      <th>4</th>\n      <td>10005</td>\n      <td>10005</td>\n      <td>8831</td>\n      <td>10005, 10271</td>\n      <td>MULTIPOLYGON (((-74.00783 40.70309, -74.00786 ...</td>\n      <td>POINT (-74.00887 40.70610)</td>\n      <td>0.0</td>\n      <td>0.0</td>\n      <td>0.0</td>\n      <td>0.0</td>\n    </tr>\n  </tbody>\n</table>\n</div>"
     },
     "metadata": {},
     "execution_count": 30
    }
   ],
   "source": [
    "for kind in data_sel['CLASS'].unique():\n",
    "    geodata[kind] = 0.0\n",
    "geodata.head()"
   ]
  },
  {
   "cell_type": "code",
   "execution_count": 31,
   "metadata": {},
   "outputs": [
    {
     "output_type": "execute_result",
     "data": {
      "text/plain": [
       "-73.99713787189704"
      ]
     },
     "metadata": {},
     "execution_count": 31
    }
   ],
   "source": [
    "geodata.loc[0, 'centroid'].x"
   ]
  },
  {
   "cell_type": "code",
   "execution_count": 32,
   "metadata": {},
   "outputs": [
    {
     "output_type": "execute_result",
     "data": {
      "text/plain": [
       "          label modzcta pop_est                 zcta  \\\n",
       "0  10001, 10118   10001   23072  10001, 10119, 10199   \n",
       "1         10002   10002   74993                10002   \n",
       "2         10003   10003   54682                10003   \n",
       "3         10004   10004    3028                10004   \n",
       "4         10005   10005    8831         10005, 10271   \n",
       "\n",
       "                                            geometry  \\\n",
       "0  MULTIPOLYGON (((-73.98774 40.74407, -73.98819 ...   \n",
       "1  MULTIPOLYGON (((-73.99750 40.71407, -73.99709 ...   \n",
       "2  MULTIPOLYGON (((-73.98864 40.72293, -73.98876 ...   \n",
       "3  MULTIPOLYGON (((-74.00827 40.70772, -74.00937 ...   \n",
       "4  MULTIPOLYGON (((-74.00783 40.70309, -74.00786 ...   \n",
       "\n",
       "                     centroid  Child Health Center  \\\n",
       "0  POINT (-73.99714 40.75069)                  0.0   \n",
       "1  POINT (-73.98617 40.71578)                  0.0   \n",
       "2  POINT (-73.98916 40.73183)                  0.0   \n",
       "3  POINT (-74.01303 40.70375)                  0.0   \n",
       "4  POINT (-74.00887 40.70610)                  0.0   \n",
       "\n",
       "   Diagnostic & Treatment Center  Acute Care Hospital  Nursing Home  \\\n",
       "0                            0.0                  0.0           0.0   \n",
       "1                            0.0                  0.0           0.0   \n",
       "2                            0.0                  0.0           0.0   \n",
       "3                            0.0                  0.0           0.0   \n",
       "4                            0.0                  0.0           0.0   \n",
       "\n",
       "         lat        lng  \n",
       "0  40.750688 -73.997138  \n",
       "1  40.715780 -73.986174  \n",
       "2  40.731826 -73.989159  \n",
       "3  40.703747 -74.013032  \n",
       "4  40.706100 -74.008870  "
      ],
      "text/html": "<div>\n<style scoped>\n    .dataframe tbody tr th:only-of-type {\n        vertical-align: middle;\n    }\n\n    .dataframe tbody tr th {\n        vertical-align: top;\n    }\n\n    .dataframe thead th {\n        text-align: right;\n    }\n</style>\n<table border=\"1\" class=\"dataframe\">\n  <thead>\n    <tr style=\"text-align: right;\">\n      <th></th>\n      <th>label</th>\n      <th>modzcta</th>\n      <th>pop_est</th>\n      <th>zcta</th>\n      <th>geometry</th>\n      <th>centroid</th>\n      <th>Child Health Center</th>\n      <th>Diagnostic &amp; Treatment Center</th>\n      <th>Acute Care Hospital</th>\n      <th>Nursing Home</th>\n      <th>lat</th>\n      <th>lng</th>\n    </tr>\n  </thead>\n  <tbody>\n    <tr>\n      <th>0</th>\n      <td>10001, 10118</td>\n      <td>10001</td>\n      <td>23072</td>\n      <td>10001, 10119, 10199</td>\n      <td>MULTIPOLYGON (((-73.98774 40.74407, -73.98819 ...</td>\n      <td>POINT (-73.99714 40.75069)</td>\n      <td>0.0</td>\n      <td>0.0</td>\n      <td>0.0</td>\n      <td>0.0</td>\n      <td>40.750688</td>\n      <td>-73.997138</td>\n    </tr>\n    <tr>\n      <th>1</th>\n      <td>10002</td>\n      <td>10002</td>\n      <td>74993</td>\n      <td>10002</td>\n      <td>MULTIPOLYGON (((-73.99750 40.71407, -73.99709 ...</td>\n      <td>POINT (-73.98617 40.71578)</td>\n      <td>0.0</td>\n      <td>0.0</td>\n      <td>0.0</td>\n      <td>0.0</td>\n      <td>40.715780</td>\n      <td>-73.986174</td>\n    </tr>\n    <tr>\n      <th>2</th>\n      <td>10003</td>\n      <td>10003</td>\n      <td>54682</td>\n      <td>10003</td>\n      <td>MULTIPOLYGON (((-73.98864 40.72293, -73.98876 ...</td>\n      <td>POINT (-73.98916 40.73183)</td>\n      <td>0.0</td>\n      <td>0.0</td>\n      <td>0.0</td>\n      <td>0.0</td>\n      <td>40.731826</td>\n      <td>-73.989159</td>\n    </tr>\n    <tr>\n      <th>3</th>\n      <td>10004</td>\n      <td>10004</td>\n      <td>3028</td>\n      <td>10004</td>\n      <td>MULTIPOLYGON (((-74.00827 40.70772, -74.00937 ...</td>\n      <td>POINT (-74.01303 40.70375)</td>\n      <td>0.0</td>\n      <td>0.0</td>\n      <td>0.0</td>\n      <td>0.0</td>\n      <td>40.703747</td>\n      <td>-74.013032</td>\n    </tr>\n    <tr>\n      <th>4</th>\n      <td>10005</td>\n      <td>10005</td>\n      <td>8831</td>\n      <td>10005, 10271</td>\n      <td>MULTIPOLYGON (((-74.00783 40.70309, -74.00786 ...</td>\n      <td>POINT (-74.00887 40.70610)</td>\n      <td>0.0</td>\n      <td>0.0</td>\n      <td>0.0</td>\n      <td>0.0</td>\n      <td>40.706100</td>\n      <td>-74.008870</td>\n    </tr>\n  </tbody>\n</table>\n</div>"
     },
     "metadata": {},
     "execution_count": 32
    }
   ],
   "source": [
    "geodata['lat'] = geodata['centroid'].y\n",
    "geodata['lng'] = geodata['centroid'].x\n",
    "geodata.head()"
   ]
  },
  {
   "cell_type": "code",
   "execution_count": 33,
   "metadata": {},
   "outputs": [
    {
     "output_type": "execute_result",
     "data": {
      "text/plain": [
       "          label modzcta pop_est                 zcta  \\\n",
       "0  10001, 10118   10001   23072  10001, 10119, 10199   \n",
       "1         10002   10002   74993                10002   \n",
       "2         10003   10003   54682                10003   \n",
       "3         10004   10004    3028                10004   \n",
       "4         10005   10005    8831         10005, 10271   \n",
       "\n",
       "                                            geometry  \\\n",
       "0  MULTIPOLYGON (((-73.98774 40.74407, -73.98819 ...   \n",
       "1  MULTIPOLYGON (((-73.99750 40.71407, -73.99709 ...   \n",
       "2  MULTIPOLYGON (((-73.98864 40.72293, -73.98876 ...   \n",
       "3  MULTIPOLYGON (((-74.00827 40.70772, -74.00937 ...   \n",
       "4  MULTIPOLYGON (((-74.00783 40.70309, -74.00786 ...   \n",
       "\n",
       "                     centroid  Child Health Center  \\\n",
       "0  POINT (-73.99714 40.75069)          2127.586765   \n",
       "1  POINT (-73.98617 40.71578)           347.843275   \n",
       "2  POINT (-73.98916 40.73183)           829.635901   \n",
       "3  POINT (-74.01303 40.70375)          1595.998236   \n",
       "4  POINT (-74.00887 40.70610)          1158.106371   \n",
       "\n",
       "   Diagnostic & Treatment Center  Acute Care Hospital  Nursing Home  \\\n",
       "0                    4279.396073          2127.586765   4173.270211   \n",
       "1                     347.843275          2769.181559    347.843275   \n",
       "2                    2112.383868          1371.140909   2112.383868   \n",
       "3                    2374.707146          5035.970053   2374.707146   \n",
       "4                    1947.186133          4615.651015   1947.186133   \n",
       "\n",
       "         lat        lng  \n",
       "0  40.750688 -73.997138  \n",
       "1  40.715780 -73.986174  \n",
       "2  40.731826 -73.989159  \n",
       "3  40.703747 -74.013032  \n",
       "4  40.706100 -74.008870  "
      ],
      "text/html": "<div>\n<style scoped>\n    .dataframe tbody tr th:only-of-type {\n        vertical-align: middle;\n    }\n\n    .dataframe tbody tr th {\n        vertical-align: top;\n    }\n\n    .dataframe thead th {\n        text-align: right;\n    }\n</style>\n<table border=\"1\" class=\"dataframe\">\n  <thead>\n    <tr style=\"text-align: right;\">\n      <th></th>\n      <th>label</th>\n      <th>modzcta</th>\n      <th>pop_est</th>\n      <th>zcta</th>\n      <th>geometry</th>\n      <th>centroid</th>\n      <th>Child Health Center</th>\n      <th>Diagnostic &amp; Treatment Center</th>\n      <th>Acute Care Hospital</th>\n      <th>Nursing Home</th>\n      <th>lat</th>\n      <th>lng</th>\n    </tr>\n  </thead>\n  <tbody>\n    <tr>\n      <th>0</th>\n      <td>10001, 10118</td>\n      <td>10001</td>\n      <td>23072</td>\n      <td>10001, 10119, 10199</td>\n      <td>MULTIPOLYGON (((-73.98774 40.74407, -73.98819 ...</td>\n      <td>POINT (-73.99714 40.75069)</td>\n      <td>2127.586765</td>\n      <td>4279.396073</td>\n      <td>2127.586765</td>\n      <td>4173.270211</td>\n      <td>40.750688</td>\n      <td>-73.997138</td>\n    </tr>\n    <tr>\n      <th>1</th>\n      <td>10002</td>\n      <td>10002</td>\n      <td>74993</td>\n      <td>10002</td>\n      <td>MULTIPOLYGON (((-73.99750 40.71407, -73.99709 ...</td>\n      <td>POINT (-73.98617 40.71578)</td>\n      <td>347.843275</td>\n      <td>347.843275</td>\n      <td>2769.181559</td>\n      <td>347.843275</td>\n      <td>40.715780</td>\n      <td>-73.986174</td>\n    </tr>\n    <tr>\n      <th>2</th>\n      <td>10003</td>\n      <td>10003</td>\n      <td>54682</td>\n      <td>10003</td>\n      <td>MULTIPOLYGON (((-73.98864 40.72293, -73.98876 ...</td>\n      <td>POINT (-73.98916 40.73183)</td>\n      <td>829.635901</td>\n      <td>2112.383868</td>\n      <td>1371.140909</td>\n      <td>2112.383868</td>\n      <td>40.731826</td>\n      <td>-73.989159</td>\n    </tr>\n    <tr>\n      <th>3</th>\n      <td>10004</td>\n      <td>10004</td>\n      <td>3028</td>\n      <td>10004</td>\n      <td>MULTIPOLYGON (((-74.00827 40.70772, -74.00937 ...</td>\n      <td>POINT (-74.01303 40.70375)</td>\n      <td>1595.998236</td>\n      <td>2374.707146</td>\n      <td>5035.970053</td>\n      <td>2374.707146</td>\n      <td>40.703747</td>\n      <td>-74.013032</td>\n    </tr>\n    <tr>\n      <th>4</th>\n      <td>10005</td>\n      <td>10005</td>\n      <td>8831</td>\n      <td>10005, 10271</td>\n      <td>MULTIPOLYGON (((-74.00783 40.70309, -74.00786 ...</td>\n      <td>POINT (-74.00887 40.70610)</td>\n      <td>1158.106371</td>\n      <td>1947.186133</td>\n      <td>4615.651015</td>\n      <td>1947.186133</td>\n      <td>40.706100</td>\n      <td>-74.008870</td>\n    </tr>\n  </tbody>\n</table>\n</div>"
     },
     "metadata": {},
     "execution_count": 33
    }
   ],
   "source": [
    "for index, row in geodata.iterrows():\n",
    "    for kind in data_sel['CLASS'].unique():\n",
    "        dists = []\n",
    "        tmp = data_sel[data_sel['CLASS'] == kind]\n",
    "        for i, r in tmp.iterrows():\n",
    "            dists.append(geopy.distance.geodesic((r['lat'], r['lng']), (row['lat'], row['lng'])).meters)\n",
    "        geodata.loc[index, kind] = min(dists)\n",
    "geodata.head()"
   ]
  },
  {
   "cell_type": "code",
   "execution_count": 34,
   "metadata": {},
   "outputs": [
    {
     "output_type": "execute_result",
     "data": {
      "text/plain": [
       "    modzcta  Child Health Center  Diagnostic & Treatment Center  \\\n",
       "0     10001          2127.586765                    4279.396073   \n",
       "1     10002           347.843275                     347.843275   \n",
       "2     10003           829.635901                    2112.383868   \n",
       "3     10004          1595.998236                    2374.707146   \n",
       "4     10005          1158.106371                    1947.186133   \n",
       "..      ...                  ...                            ...   \n",
       "173   11692          9228.797828                   12378.533676   \n",
       "174   11693          9599.731907                   10695.707026   \n",
       "175   11694          8848.240451                   11321.351409   \n",
       "176   11697          5641.733786                   12577.620436   \n",
       "177   99999           463.683827                    3479.095615   \n",
       "\n",
       "     Acute Care Hospital  Nursing Home  \n",
       "0            2127.586765   4173.270211  \n",
       "1            2769.181559    347.843275  \n",
       "2            1371.140909   2112.383868  \n",
       "3            5035.970053   2374.707146  \n",
       "4            4615.651015   1947.186133  \n",
       "..                   ...           ...  \n",
       "173         13361.078865  14548.669328  \n",
       "174         12670.235781  12580.179662  \n",
       "175         10317.015143  12196.187302  \n",
       "176          5833.295459  11547.921409  \n",
       "177          1014.088769   4066.769067  \n",
       "\n",
       "[178 rows x 5 columns]"
      ],
      "text/html": "<div>\n<style scoped>\n    .dataframe tbody tr th:only-of-type {\n        vertical-align: middle;\n    }\n\n    .dataframe tbody tr th {\n        vertical-align: top;\n    }\n\n    .dataframe thead th {\n        text-align: right;\n    }\n</style>\n<table border=\"1\" class=\"dataframe\">\n  <thead>\n    <tr style=\"text-align: right;\">\n      <th></th>\n      <th>modzcta</th>\n      <th>Child Health Center</th>\n      <th>Diagnostic &amp; Treatment Center</th>\n      <th>Acute Care Hospital</th>\n      <th>Nursing Home</th>\n    </tr>\n  </thead>\n  <tbody>\n    <tr>\n      <th>0</th>\n      <td>10001</td>\n      <td>2127.586765</td>\n      <td>4279.396073</td>\n      <td>2127.586765</td>\n      <td>4173.270211</td>\n    </tr>\n    <tr>\n      <th>1</th>\n      <td>10002</td>\n      <td>347.843275</td>\n      <td>347.843275</td>\n      <td>2769.181559</td>\n      <td>347.843275</td>\n    </tr>\n    <tr>\n      <th>2</th>\n      <td>10003</td>\n      <td>829.635901</td>\n      <td>2112.383868</td>\n      <td>1371.140909</td>\n      <td>2112.383868</td>\n    </tr>\n    <tr>\n      <th>3</th>\n      <td>10004</td>\n      <td>1595.998236</td>\n      <td>2374.707146</td>\n      <td>5035.970053</td>\n      <td>2374.707146</td>\n    </tr>\n    <tr>\n      <th>4</th>\n      <td>10005</td>\n      <td>1158.106371</td>\n      <td>1947.186133</td>\n      <td>4615.651015</td>\n      <td>1947.186133</td>\n    </tr>\n    <tr>\n      <th>...</th>\n      <td>...</td>\n      <td>...</td>\n      <td>...</td>\n      <td>...</td>\n      <td>...</td>\n    </tr>\n    <tr>\n      <th>173</th>\n      <td>11692</td>\n      <td>9228.797828</td>\n      <td>12378.533676</td>\n      <td>13361.078865</td>\n      <td>14548.669328</td>\n    </tr>\n    <tr>\n      <th>174</th>\n      <td>11693</td>\n      <td>9599.731907</td>\n      <td>10695.707026</td>\n      <td>12670.235781</td>\n      <td>12580.179662</td>\n    </tr>\n    <tr>\n      <th>175</th>\n      <td>11694</td>\n      <td>8848.240451</td>\n      <td>11321.351409</td>\n      <td>10317.015143</td>\n      <td>12196.187302</td>\n    </tr>\n    <tr>\n      <th>176</th>\n      <td>11697</td>\n      <td>5641.733786</td>\n      <td>12577.620436</td>\n      <td>5833.295459</td>\n      <td>11547.921409</td>\n    </tr>\n    <tr>\n      <th>177</th>\n      <td>99999</td>\n      <td>463.683827</td>\n      <td>3479.095615</td>\n      <td>1014.088769</td>\n      <td>4066.769067</td>\n    </tr>\n  </tbody>\n</table>\n<p>178 rows × 5 columns</p>\n</div>"
     },
     "metadata": {},
     "execution_count": 34
    }
   ],
   "source": [
    "geo_sel = geodata[['modzcta'] + data_sel['CLASS'].unique().tolist()]\n",
    "geo_sel"
   ]
  },
  {
   "cell_type": "code",
   "execution_count": 35,
   "metadata": {},
   "outputs": [
    {
     "output_type": "execute_result",
     "data": {
      "text/plain": [
       "    modzcta  Child Health Center  Diagnostic & Treatment Center  \\\n",
       "0     10001          2127.586765                    4279.396073   \n",
       "1     10002           347.843275                     347.843275   \n",
       "2     10003           829.635901                    2112.383868   \n",
       "3     10004          1595.998236                    2374.707146   \n",
       "4     10005          1158.106371                    1947.186133   \n",
       "..      ...                  ...                            ...   \n",
       "173   11692          9228.797828                   12378.533676   \n",
       "174   11693          9599.731907                   10695.707026   \n",
       "175   11694          8848.240451                   11321.351409   \n",
       "176   11697          5641.733786                   12577.620436   \n",
       "177   99999           463.683827                    3479.095615   \n",
       "\n",
       "     Acute Care Hospital  Nursing Home           avg  \n",
       "0            2127.586765   4173.270211   3176.959954  \n",
       "1            2769.181559    347.843275    953.177846  \n",
       "2            1371.140909   2112.383868   1606.386137  \n",
       "3            5035.970053   2374.707146   2845.345645  \n",
       "4            4615.651015   1947.186133   2417.032413  \n",
       "..                   ...           ...           ...  \n",
       "173         13361.078865  14548.669328  12379.269924  \n",
       "174         12670.235781  12580.179662  11386.463594  \n",
       "175         10317.015143  12196.187302  10670.698576  \n",
       "176          5833.295459  11547.921409   8900.142773  \n",
       "177          1014.088769   4066.769067   2255.909320  \n",
       "\n",
       "[178 rows x 6 columns]"
      ],
      "text/html": "<div>\n<style scoped>\n    .dataframe tbody tr th:only-of-type {\n        vertical-align: middle;\n    }\n\n    .dataframe tbody tr th {\n        vertical-align: top;\n    }\n\n    .dataframe thead th {\n        text-align: right;\n    }\n</style>\n<table border=\"1\" class=\"dataframe\">\n  <thead>\n    <tr style=\"text-align: right;\">\n      <th></th>\n      <th>modzcta</th>\n      <th>Child Health Center</th>\n      <th>Diagnostic &amp; Treatment Center</th>\n      <th>Acute Care Hospital</th>\n      <th>Nursing Home</th>\n      <th>avg</th>\n    </tr>\n  </thead>\n  <tbody>\n    <tr>\n      <th>0</th>\n      <td>10001</td>\n      <td>2127.586765</td>\n      <td>4279.396073</td>\n      <td>2127.586765</td>\n      <td>4173.270211</td>\n      <td>3176.959954</td>\n    </tr>\n    <tr>\n      <th>1</th>\n      <td>10002</td>\n      <td>347.843275</td>\n      <td>347.843275</td>\n      <td>2769.181559</td>\n      <td>347.843275</td>\n      <td>953.177846</td>\n    </tr>\n    <tr>\n      <th>2</th>\n      <td>10003</td>\n      <td>829.635901</td>\n      <td>2112.383868</td>\n      <td>1371.140909</td>\n      <td>2112.383868</td>\n      <td>1606.386137</td>\n    </tr>\n    <tr>\n      <th>3</th>\n      <td>10004</td>\n      <td>1595.998236</td>\n      <td>2374.707146</td>\n      <td>5035.970053</td>\n      <td>2374.707146</td>\n      <td>2845.345645</td>\n    </tr>\n    <tr>\n      <th>4</th>\n      <td>10005</td>\n      <td>1158.106371</td>\n      <td>1947.186133</td>\n      <td>4615.651015</td>\n      <td>1947.186133</td>\n      <td>2417.032413</td>\n    </tr>\n    <tr>\n      <th>...</th>\n      <td>...</td>\n      <td>...</td>\n      <td>...</td>\n      <td>...</td>\n      <td>...</td>\n      <td>...</td>\n    </tr>\n    <tr>\n      <th>173</th>\n      <td>11692</td>\n      <td>9228.797828</td>\n      <td>12378.533676</td>\n      <td>13361.078865</td>\n      <td>14548.669328</td>\n      <td>12379.269924</td>\n    </tr>\n    <tr>\n      <th>174</th>\n      <td>11693</td>\n      <td>9599.731907</td>\n      <td>10695.707026</td>\n      <td>12670.235781</td>\n      <td>12580.179662</td>\n      <td>11386.463594</td>\n    </tr>\n    <tr>\n      <th>175</th>\n      <td>11694</td>\n      <td>8848.240451</td>\n      <td>11321.351409</td>\n      <td>10317.015143</td>\n      <td>12196.187302</td>\n      <td>10670.698576</td>\n    </tr>\n    <tr>\n      <th>176</th>\n      <td>11697</td>\n      <td>5641.733786</td>\n      <td>12577.620436</td>\n      <td>5833.295459</td>\n      <td>11547.921409</td>\n      <td>8900.142773</td>\n    </tr>\n    <tr>\n      <th>177</th>\n      <td>99999</td>\n      <td>463.683827</td>\n      <td>3479.095615</td>\n      <td>1014.088769</td>\n      <td>4066.769067</td>\n      <td>2255.909320</td>\n    </tr>\n  </tbody>\n</table>\n<p>178 rows × 6 columns</p>\n</div>"
     },
     "metadata": {},
     "execution_count": 35
    }
   ],
   "source": [
    "geo_sel['avg'] = (geo_sel['Child Health Center'] + geo_sel['Diagnostic & Treatment Center'] + geo_sel['Acute Care Hospital'] + geo_sel['Nursing Home']) / 4\n",
    "geo_sel"
   ]
  },
  {
   "cell_type": "code",
   "execution_count": 38,
   "metadata": {},
   "outputs": [
    {
     "output_type": "execute_result",
     "data": {
      "text/plain": [
       "modzcta                            int64\n",
       "Child Health Center              float64\n",
       "Diagnostic & Treatment Center    float64\n",
       "Acute Care Hospital              float64\n",
       "Nursing Home                     float64\n",
       "avg                              float64\n",
       "dtype: object"
      ]
     },
     "metadata": {},
     "execution_count": 38
    }
   ],
   "source": [
    "geo_sel = geo_sel.astype({'modzcta': 'int64'})\n",
    "geo_sel.dtypes"
   ]
  },
  {
   "cell_type": "code",
   "execution_count": 39,
   "metadata": {},
   "outputs": [],
   "source": [
    "geo_sel.to_csv('../datas/07-physical-new/medical-dist.csv', index=False)"
   ]
  },
  {
   "cell_type": "code",
   "execution_count": 40,
   "metadata": {},
   "outputs": [
    {
     "output_type": "execute_result",
     "data": {
      "text/plain": [
       "14861.51205180164"
      ]
     },
     "metadata": {},
     "execution_count": 40
    }
   ],
   "source": [
    "geo_sel['Child Health Center'].max()"
   ]
  },
  {
   "cell_type": "code",
   "execution_count": 41,
   "metadata": {},
   "outputs": [
    {
     "output_type": "execute_result",
     "data": {
      "text/plain": [
       "30478.930609291754"
      ]
     },
     "metadata": {},
     "execution_count": 41
    }
   ],
   "source": [
    "geo_sel['Diagnostic & Treatment Center'].max()"
   ]
  },
  {
   "cell_type": "code",
   "execution_count": 42,
   "metadata": {},
   "outputs": [
    {
     "output_type": "execute_result",
     "data": {
      "text/plain": [
       "24766.8406925235"
      ]
     },
     "metadata": {},
     "execution_count": 42
    }
   ],
   "source": [
    "geo_sel['Acute Care Hospital'].max()"
   ]
  },
  {
   "cell_type": "code",
   "execution_count": 43,
   "metadata": {},
   "outputs": [
    {
     "output_type": "execute_result",
     "data": {
      "text/plain": [
       "20249.516602029933"
      ]
     },
     "metadata": {},
     "execution_count": 43
    }
   ],
   "source": [
    "geo_sel['Nursing Home'].max()"
   ]
  },
  {
   "cell_type": "code",
   "execution_count": 44,
   "metadata": {},
   "outputs": [
    {
     "output_type": "execute_result",
     "data": {
      "text/plain": [
       "953.1778456787914"
      ]
     },
     "metadata": {},
     "execution_count": 44
    }
   ],
   "source": [
    "geo_sel['avg'].min()"
   ]
  },
  {
   "cell_type": "code",
   "execution_count": 45,
   "metadata": {},
   "outputs": [
    {
     "output_type": "execute_result",
     "data": {
      "text/plain": [
       "20912.30989159827"
      ]
     },
     "metadata": {},
     "execution_count": 45
    }
   ],
   "source": [
    "geo_sel['avg'].max()"
   ]
  },
  {
   "source": [
    "# ranks - physical"
   ],
   "cell_type": "markdown",
   "metadata": {}
  },
  {
   "cell_type": "code",
   "execution_count": 88,
   "metadata": {},
   "outputs": [
    {
     "output_type": "execute_result",
     "data": {
      "text/plain": [
       "     modzcta  Child Health Center  Diagnostic & Treatment Center  \\\n",
       "0      10001          2127.586765                    4279.396073   \n",
       "1      10002           347.843275                     347.843275   \n",
       "2      10003           829.635901                    2112.383868   \n",
       "3      10004          1595.998236                    2374.707146   \n",
       "4      10005          1158.106371                    1947.186133   \n",
       "..       ...                  ...                            ...   \n",
       "173    11692          9228.797828                   12378.533676   \n",
       "174    11693          9599.731907                   10695.707026   \n",
       "175    11694          8848.240451                   11321.351409   \n",
       "176    11697          5641.733786                   12577.620436   \n",
       "177    99999           463.683827                    3479.095615   \n",
       "\n",
       "     Acute Care Hospital  Nursing Home           avg  \n",
       "0            2127.586765   4173.270211   3176.959954  \n",
       "1            2769.181559    347.843275    953.177846  \n",
       "2            1371.140909   2112.383868   1606.386137  \n",
       "3            5035.970053   2374.707146   2845.345645  \n",
       "4            4615.651015   1947.186133   2417.032413  \n",
       "..                   ...           ...           ...  \n",
       "173         13361.078865  14548.669328  12379.269924  \n",
       "174         12670.235781  12580.179662  11386.463594  \n",
       "175         10317.015143  12196.187302  10670.698576  \n",
       "176          5833.295459  11547.921409   8900.142773  \n",
       "177          1014.088769   4066.769067   2255.909320  \n",
       "\n",
       "[178 rows x 6 columns]"
      ],
      "text/html": "<div>\n<style scoped>\n    .dataframe tbody tr th:only-of-type {\n        vertical-align: middle;\n    }\n\n    .dataframe tbody tr th {\n        vertical-align: top;\n    }\n\n    .dataframe thead th {\n        text-align: right;\n    }\n</style>\n<table border=\"1\" class=\"dataframe\">\n  <thead>\n    <tr style=\"text-align: right;\">\n      <th></th>\n      <th>modzcta</th>\n      <th>Child Health Center</th>\n      <th>Diagnostic &amp; Treatment Center</th>\n      <th>Acute Care Hospital</th>\n      <th>Nursing Home</th>\n      <th>avg</th>\n    </tr>\n  </thead>\n  <tbody>\n    <tr>\n      <th>0</th>\n      <td>10001</td>\n      <td>2127.586765</td>\n      <td>4279.396073</td>\n      <td>2127.586765</td>\n      <td>4173.270211</td>\n      <td>3176.959954</td>\n    </tr>\n    <tr>\n      <th>1</th>\n      <td>10002</td>\n      <td>347.843275</td>\n      <td>347.843275</td>\n      <td>2769.181559</td>\n      <td>347.843275</td>\n      <td>953.177846</td>\n    </tr>\n    <tr>\n      <th>2</th>\n      <td>10003</td>\n      <td>829.635901</td>\n      <td>2112.383868</td>\n      <td>1371.140909</td>\n      <td>2112.383868</td>\n      <td>1606.386137</td>\n    </tr>\n    <tr>\n      <th>3</th>\n      <td>10004</td>\n      <td>1595.998236</td>\n      <td>2374.707146</td>\n      <td>5035.970053</td>\n      <td>2374.707146</td>\n      <td>2845.345645</td>\n    </tr>\n    <tr>\n      <th>4</th>\n      <td>10005</td>\n      <td>1158.106371</td>\n      <td>1947.186133</td>\n      <td>4615.651015</td>\n      <td>1947.186133</td>\n      <td>2417.032413</td>\n    </tr>\n    <tr>\n      <th>...</th>\n      <td>...</td>\n      <td>...</td>\n      <td>...</td>\n      <td>...</td>\n      <td>...</td>\n      <td>...</td>\n    </tr>\n    <tr>\n      <th>173</th>\n      <td>11692</td>\n      <td>9228.797828</td>\n      <td>12378.533676</td>\n      <td>13361.078865</td>\n      <td>14548.669328</td>\n      <td>12379.269924</td>\n    </tr>\n    <tr>\n      <th>174</th>\n      <td>11693</td>\n      <td>9599.731907</td>\n      <td>10695.707026</td>\n      <td>12670.235781</td>\n      <td>12580.179662</td>\n      <td>11386.463594</td>\n    </tr>\n    <tr>\n      <th>175</th>\n      <td>11694</td>\n      <td>8848.240451</td>\n      <td>11321.351409</td>\n      <td>10317.015143</td>\n      <td>12196.187302</td>\n      <td>10670.698576</td>\n    </tr>\n    <tr>\n      <th>176</th>\n      <td>11697</td>\n      <td>5641.733786</td>\n      <td>12577.620436</td>\n      <td>5833.295459</td>\n      <td>11547.921409</td>\n      <td>8900.142773</td>\n    </tr>\n    <tr>\n      <th>177</th>\n      <td>99999</td>\n      <td>463.683827</td>\n      <td>3479.095615</td>\n      <td>1014.088769</td>\n      <td>4066.769067</td>\n      <td>2255.909320</td>\n    </tr>\n  </tbody>\n</table>\n<p>178 rows × 6 columns</p>\n</div>"
     },
     "metadata": {},
     "execution_count": 88
    }
   ],
   "source": [
    "geo_sel = pandas.read_csv('../datas/07-physical-new/medical-dist.csv')\n",
    "geo_sel"
   ]
  },
  {
   "cell_type": "code",
   "execution_count": 89,
   "metadata": {},
   "outputs": [
    {
     "output_type": "execute_result",
     "data": {
      "text/plain": [
       "     modzcta  Child Health Center  Diagnostic & Treatment Center  \\\n",
       "0      10001          2127.586765                    4279.396073   \n",
       "1      10002           347.843275                     347.843275   \n",
       "2      10003           829.635901                    2112.383868   \n",
       "3      10004          1595.998236                    2374.707146   \n",
       "4      10005          1158.106371                    1947.186133   \n",
       "..       ...                  ...                            ...   \n",
       "172    11691          7645.212152                   13774.152791   \n",
       "173    11692          9228.797828                   12378.533676   \n",
       "174    11693          9599.731907                   10695.707026   \n",
       "175    11694          8848.240451                   11321.351409   \n",
       "176    11697          5641.733786                   12577.620436   \n",
       "\n",
       "     Acute Care Hospital  Nursing Home           avg  \n",
       "0            2127.586765   4173.270211   3176.959954  \n",
       "1            2769.181559    347.843275    953.177846  \n",
       "2            1371.140909   2112.383868   1606.386137  \n",
       "3            5035.970053   2374.707146   2845.345645  \n",
       "4            4615.651015   1947.186133   2417.032413  \n",
       "..                   ...           ...           ...  \n",
       "172         12695.472946  16441.916368  12639.188564  \n",
       "173         13361.078865  14548.669328  12379.269924  \n",
       "174         12670.235781  12580.179662  11386.463594  \n",
       "175         10317.015143  12196.187302  10670.698576  \n",
       "176          5833.295459  11547.921409   8900.142773  \n",
       "\n",
       "[177 rows x 6 columns]"
      ],
      "text/html": "<div>\n<style scoped>\n    .dataframe tbody tr th:only-of-type {\n        vertical-align: middle;\n    }\n\n    .dataframe tbody tr th {\n        vertical-align: top;\n    }\n\n    .dataframe thead th {\n        text-align: right;\n    }\n</style>\n<table border=\"1\" class=\"dataframe\">\n  <thead>\n    <tr style=\"text-align: right;\">\n      <th></th>\n      <th>modzcta</th>\n      <th>Child Health Center</th>\n      <th>Diagnostic &amp; Treatment Center</th>\n      <th>Acute Care Hospital</th>\n      <th>Nursing Home</th>\n      <th>avg</th>\n    </tr>\n  </thead>\n  <tbody>\n    <tr>\n      <th>0</th>\n      <td>10001</td>\n      <td>2127.586765</td>\n      <td>4279.396073</td>\n      <td>2127.586765</td>\n      <td>4173.270211</td>\n      <td>3176.959954</td>\n    </tr>\n    <tr>\n      <th>1</th>\n      <td>10002</td>\n      <td>347.843275</td>\n      <td>347.843275</td>\n      <td>2769.181559</td>\n      <td>347.843275</td>\n      <td>953.177846</td>\n    </tr>\n    <tr>\n      <th>2</th>\n      <td>10003</td>\n      <td>829.635901</td>\n      <td>2112.383868</td>\n      <td>1371.140909</td>\n      <td>2112.383868</td>\n      <td>1606.386137</td>\n    </tr>\n    <tr>\n      <th>3</th>\n      <td>10004</td>\n      <td>1595.998236</td>\n      <td>2374.707146</td>\n      <td>5035.970053</td>\n      <td>2374.707146</td>\n      <td>2845.345645</td>\n    </tr>\n    <tr>\n      <th>4</th>\n      <td>10005</td>\n      <td>1158.106371</td>\n      <td>1947.186133</td>\n      <td>4615.651015</td>\n      <td>1947.186133</td>\n      <td>2417.032413</td>\n    </tr>\n    <tr>\n      <th>...</th>\n      <td>...</td>\n      <td>...</td>\n      <td>...</td>\n      <td>...</td>\n      <td>...</td>\n      <td>...</td>\n    </tr>\n    <tr>\n      <th>172</th>\n      <td>11691</td>\n      <td>7645.212152</td>\n      <td>13774.152791</td>\n      <td>12695.472946</td>\n      <td>16441.916368</td>\n      <td>12639.188564</td>\n    </tr>\n    <tr>\n      <th>173</th>\n      <td>11692</td>\n      <td>9228.797828</td>\n      <td>12378.533676</td>\n      <td>13361.078865</td>\n      <td>14548.669328</td>\n      <td>12379.269924</td>\n    </tr>\n    <tr>\n      <th>174</th>\n      <td>11693</td>\n      <td>9599.731907</td>\n      <td>10695.707026</td>\n      <td>12670.235781</td>\n      <td>12580.179662</td>\n      <td>11386.463594</td>\n    </tr>\n    <tr>\n      <th>175</th>\n      <td>11694</td>\n      <td>8848.240451</td>\n      <td>11321.351409</td>\n      <td>10317.015143</td>\n      <td>12196.187302</td>\n      <td>10670.698576</td>\n    </tr>\n    <tr>\n      <th>176</th>\n      <td>11697</td>\n      <td>5641.733786</td>\n      <td>12577.620436</td>\n      <td>5833.295459</td>\n      <td>11547.921409</td>\n      <td>8900.142773</td>\n    </tr>\n  </tbody>\n</table>\n<p>177 rows × 6 columns</p>\n</div>"
     },
     "metadata": {},
     "execution_count": 89
    }
   ],
   "source": [
    "geo_sel.drop([177], inplace=True)\n",
    "geo_sel"
   ]
  },
  {
   "cell_type": "code",
   "execution_count": 90,
   "metadata": {},
   "outputs": [
    {
     "output_type": "execute_result",
     "data": {
      "text/plain": [
       "     modzcta  Child Health Center  Diagnostic & Treatment Center  \\\n",
       "0      10001          2127.586765                    4279.396073   \n",
       "1      10002           347.843275                     347.843275   \n",
       "2      10003           829.635901                    2112.383868   \n",
       "3      10004          1595.998236                    2374.707146   \n",
       "4      10005          1158.106371                    1947.186133   \n",
       "..       ...                  ...                            ...   \n",
       "172    11691          7645.212152                   13774.152791   \n",
       "173    11692          9228.797828                   12378.533676   \n",
       "174    11693          9599.731907                   10695.707026   \n",
       "175    11694          8848.240451                   11321.351409   \n",
       "176    11697          5641.733786                   12577.620436   \n",
       "\n",
       "     Acute Care Hospital  Nursing Home  \n",
       "0            2127.586765   4173.270211  \n",
       "1            2769.181559    347.843275  \n",
       "2            1371.140909   2112.383868  \n",
       "3            5035.970053   2374.707146  \n",
       "4            4615.651015   1947.186133  \n",
       "..                   ...           ...  \n",
       "172         12695.472946  16441.916368  \n",
       "173         13361.078865  14548.669328  \n",
       "174         12670.235781  12580.179662  \n",
       "175         10317.015143  12196.187302  \n",
       "176          5833.295459  11547.921409  \n",
       "\n",
       "[177 rows x 5 columns]"
      ],
      "text/html": "<div>\n<style scoped>\n    .dataframe tbody tr th:only-of-type {\n        vertical-align: middle;\n    }\n\n    .dataframe tbody tr th {\n        vertical-align: top;\n    }\n\n    .dataframe thead th {\n        text-align: right;\n    }\n</style>\n<table border=\"1\" class=\"dataframe\">\n  <thead>\n    <tr style=\"text-align: right;\">\n      <th></th>\n      <th>modzcta</th>\n      <th>Child Health Center</th>\n      <th>Diagnostic &amp; Treatment Center</th>\n      <th>Acute Care Hospital</th>\n      <th>Nursing Home</th>\n    </tr>\n  </thead>\n  <tbody>\n    <tr>\n      <th>0</th>\n      <td>10001</td>\n      <td>2127.586765</td>\n      <td>4279.396073</td>\n      <td>2127.586765</td>\n      <td>4173.270211</td>\n    </tr>\n    <tr>\n      <th>1</th>\n      <td>10002</td>\n      <td>347.843275</td>\n      <td>347.843275</td>\n      <td>2769.181559</td>\n      <td>347.843275</td>\n    </tr>\n    <tr>\n      <th>2</th>\n      <td>10003</td>\n      <td>829.635901</td>\n      <td>2112.383868</td>\n      <td>1371.140909</td>\n      <td>2112.383868</td>\n    </tr>\n    <tr>\n      <th>3</th>\n      <td>10004</td>\n      <td>1595.998236</td>\n      <td>2374.707146</td>\n      <td>5035.970053</td>\n      <td>2374.707146</td>\n    </tr>\n    <tr>\n      <th>4</th>\n      <td>10005</td>\n      <td>1158.106371</td>\n      <td>1947.186133</td>\n      <td>4615.651015</td>\n      <td>1947.186133</td>\n    </tr>\n    <tr>\n      <th>...</th>\n      <td>...</td>\n      <td>...</td>\n      <td>...</td>\n      <td>...</td>\n      <td>...</td>\n    </tr>\n    <tr>\n      <th>172</th>\n      <td>11691</td>\n      <td>7645.212152</td>\n      <td>13774.152791</td>\n      <td>12695.472946</td>\n      <td>16441.916368</td>\n    </tr>\n    <tr>\n      <th>173</th>\n      <td>11692</td>\n      <td>9228.797828</td>\n      <td>12378.533676</td>\n      <td>13361.078865</td>\n      <td>14548.669328</td>\n    </tr>\n    <tr>\n      <th>174</th>\n      <td>11693</td>\n      <td>9599.731907</td>\n      <td>10695.707026</td>\n      <td>12670.235781</td>\n      <td>12580.179662</td>\n    </tr>\n    <tr>\n      <th>175</th>\n      <td>11694</td>\n      <td>8848.240451</td>\n      <td>11321.351409</td>\n      <td>10317.015143</td>\n      <td>12196.187302</td>\n    </tr>\n    <tr>\n      <th>176</th>\n      <td>11697</td>\n      <td>5641.733786</td>\n      <td>12577.620436</td>\n      <td>5833.295459</td>\n      <td>11547.921409</td>\n    </tr>\n  </tbody>\n</table>\n<p>177 rows × 5 columns</p>\n</div>"
     },
     "metadata": {},
     "execution_count": 90
    }
   ],
   "source": [
    "geo_sel.drop(columns=['avg'], inplace=True)\n",
    "geo_sel"
   ]
  },
  {
   "cell_type": "code",
   "execution_count": 91,
   "metadata": {},
   "outputs": [
    {
     "output_type": "execute_result",
     "data": {
      "text/plain": [
       "2127.586765473789"
      ]
     },
     "metadata": {},
     "execution_count": 91
    }
   ],
   "source": [
    "geo_sel.iloc[0][['Child Health Center', 'Diagnostic & Treatment Center', 'Acute Care Hospital', 'Nursing Home']].min()"
   ]
  },
  {
   "cell_type": "code",
   "execution_count": 92,
   "metadata": {},
   "outputs": [
    {
     "output_type": "execute_result",
     "data": {
      "text/plain": [
       "     modzcta  Child Health Center  Diagnostic & Treatment Center  \\\n",
       "0      10001          2127.586765                    4279.396073   \n",
       "1      10002           347.843275                     347.843275   \n",
       "2      10003           829.635901                    2112.383868   \n",
       "3      10004          1595.998236                    2374.707146   \n",
       "4      10005          1158.106371                    1947.186133   \n",
       "..       ...                  ...                            ...   \n",
       "172    11691          7645.212152                   13774.152791   \n",
       "173    11692          9228.797828                   12378.533676   \n",
       "174    11693          9599.731907                   10695.707026   \n",
       "175    11694          8848.240451                   11321.351409   \n",
       "176    11697          5641.733786                   12577.620436   \n",
       "\n",
       "     Acute Care Hospital  Nursing Home  mindist  \n",
       "0            2127.586765   4173.270211      0.0  \n",
       "1            2769.181559    347.843275      0.0  \n",
       "2            1371.140909   2112.383868      0.0  \n",
       "3            5035.970053   2374.707146      0.0  \n",
       "4            4615.651015   1947.186133      0.0  \n",
       "..                   ...           ...      ...  \n",
       "172         12695.472946  16441.916368      0.0  \n",
       "173         13361.078865  14548.669328      0.0  \n",
       "174         12670.235781  12580.179662      0.0  \n",
       "175         10317.015143  12196.187302      0.0  \n",
       "176          5833.295459  11547.921409      0.0  \n",
       "\n",
       "[177 rows x 6 columns]"
      ],
      "text/html": "<div>\n<style scoped>\n    .dataframe tbody tr th:only-of-type {\n        vertical-align: middle;\n    }\n\n    .dataframe tbody tr th {\n        vertical-align: top;\n    }\n\n    .dataframe thead th {\n        text-align: right;\n    }\n</style>\n<table border=\"1\" class=\"dataframe\">\n  <thead>\n    <tr style=\"text-align: right;\">\n      <th></th>\n      <th>modzcta</th>\n      <th>Child Health Center</th>\n      <th>Diagnostic &amp; Treatment Center</th>\n      <th>Acute Care Hospital</th>\n      <th>Nursing Home</th>\n      <th>mindist</th>\n    </tr>\n  </thead>\n  <tbody>\n    <tr>\n      <th>0</th>\n      <td>10001</td>\n      <td>2127.586765</td>\n      <td>4279.396073</td>\n      <td>2127.586765</td>\n      <td>4173.270211</td>\n      <td>0.0</td>\n    </tr>\n    <tr>\n      <th>1</th>\n      <td>10002</td>\n      <td>347.843275</td>\n      <td>347.843275</td>\n      <td>2769.181559</td>\n      <td>347.843275</td>\n      <td>0.0</td>\n    </tr>\n    <tr>\n      <th>2</th>\n      <td>10003</td>\n      <td>829.635901</td>\n      <td>2112.383868</td>\n      <td>1371.140909</td>\n      <td>2112.383868</td>\n      <td>0.0</td>\n    </tr>\n    <tr>\n      <th>3</th>\n      <td>10004</td>\n      <td>1595.998236</td>\n      <td>2374.707146</td>\n      <td>5035.970053</td>\n      <td>2374.707146</td>\n      <td>0.0</td>\n    </tr>\n    <tr>\n      <th>4</th>\n      <td>10005</td>\n      <td>1158.106371</td>\n      <td>1947.186133</td>\n      <td>4615.651015</td>\n      <td>1947.186133</td>\n      <td>0.0</td>\n    </tr>\n    <tr>\n      <th>...</th>\n      <td>...</td>\n      <td>...</td>\n      <td>...</td>\n      <td>...</td>\n      <td>...</td>\n      <td>...</td>\n    </tr>\n    <tr>\n      <th>172</th>\n      <td>11691</td>\n      <td>7645.212152</td>\n      <td>13774.152791</td>\n      <td>12695.472946</td>\n      <td>16441.916368</td>\n      <td>0.0</td>\n    </tr>\n    <tr>\n      <th>173</th>\n      <td>11692</td>\n      <td>9228.797828</td>\n      <td>12378.533676</td>\n      <td>13361.078865</td>\n      <td>14548.669328</td>\n      <td>0.0</td>\n    </tr>\n    <tr>\n      <th>174</th>\n      <td>11693</td>\n      <td>9599.731907</td>\n      <td>10695.707026</td>\n      <td>12670.235781</td>\n      <td>12580.179662</td>\n      <td>0.0</td>\n    </tr>\n    <tr>\n      <th>175</th>\n      <td>11694</td>\n      <td>8848.240451</td>\n      <td>11321.351409</td>\n      <td>10317.015143</td>\n      <td>12196.187302</td>\n      <td>0.0</td>\n    </tr>\n    <tr>\n      <th>176</th>\n      <td>11697</td>\n      <td>5641.733786</td>\n      <td>12577.620436</td>\n      <td>5833.295459</td>\n      <td>11547.921409</td>\n      <td>0.0</td>\n    </tr>\n  </tbody>\n</table>\n<p>177 rows × 6 columns</p>\n</div>"
     },
     "metadata": {},
     "execution_count": 92
    }
   ],
   "source": [
    "geo_sel['mindist'] = 0.0\n",
    "geo_sel"
   ]
  },
  {
   "cell_type": "code",
   "execution_count": 93,
   "metadata": {},
   "outputs": [
    {
     "output_type": "execute_result",
     "data": {
      "text/plain": [
       "(177, 6)"
      ]
     },
     "metadata": {},
     "execution_count": 93
    }
   ],
   "source": [
    "geo_sel.shape"
   ]
  },
  {
   "cell_type": "code",
   "execution_count": 94,
   "metadata": {},
   "outputs": [
    {
     "output_type": "execute_result",
     "data": {
      "text/plain": [
       "     modzcta  Child Health Center  Diagnostic & Treatment Center  \\\n",
       "0      10001          2127.586765                    4279.396073   \n",
       "1      10002           347.843275                     347.843275   \n",
       "2      10003           829.635901                    2112.383868   \n",
       "3      10004          1595.998236                    2374.707146   \n",
       "4      10005          1158.106371                    1947.186133   \n",
       "..       ...                  ...                            ...   \n",
       "172    11691          7645.212152                   13774.152791   \n",
       "173    11692          9228.797828                   12378.533676   \n",
       "174    11693          9599.731907                   10695.707026   \n",
       "175    11694          8848.240451                   11321.351409   \n",
       "176    11697          5641.733786                   12577.620436   \n",
       "\n",
       "     Acute Care Hospital  Nursing Home      mindist  \n",
       "0            2127.586765   4173.270211  2127.586765  \n",
       "1            2769.181559    347.843275   347.843275  \n",
       "2            1371.140909   2112.383868   829.635901  \n",
       "3            5035.970053   2374.707146  1595.998236  \n",
       "4            4615.651015   1947.186133  1158.106371  \n",
       "..                   ...           ...          ...  \n",
       "172         12695.472946  16441.916368  7645.212152  \n",
       "173         13361.078865  14548.669328  9228.797828  \n",
       "174         12670.235781  12580.179662  9599.731907  \n",
       "175         10317.015143  12196.187302  8848.240451  \n",
       "176          5833.295459  11547.921409  5641.733786  \n",
       "\n",
       "[177 rows x 6 columns]"
      ],
      "text/html": "<div>\n<style scoped>\n    .dataframe tbody tr th:only-of-type {\n        vertical-align: middle;\n    }\n\n    .dataframe tbody tr th {\n        vertical-align: top;\n    }\n\n    .dataframe thead th {\n        text-align: right;\n    }\n</style>\n<table border=\"1\" class=\"dataframe\">\n  <thead>\n    <tr style=\"text-align: right;\">\n      <th></th>\n      <th>modzcta</th>\n      <th>Child Health Center</th>\n      <th>Diagnostic &amp; Treatment Center</th>\n      <th>Acute Care Hospital</th>\n      <th>Nursing Home</th>\n      <th>mindist</th>\n    </tr>\n  </thead>\n  <tbody>\n    <tr>\n      <th>0</th>\n      <td>10001</td>\n      <td>2127.586765</td>\n      <td>4279.396073</td>\n      <td>2127.586765</td>\n      <td>4173.270211</td>\n      <td>2127.586765</td>\n    </tr>\n    <tr>\n      <th>1</th>\n      <td>10002</td>\n      <td>347.843275</td>\n      <td>347.843275</td>\n      <td>2769.181559</td>\n      <td>347.843275</td>\n      <td>347.843275</td>\n    </tr>\n    <tr>\n      <th>2</th>\n      <td>10003</td>\n      <td>829.635901</td>\n      <td>2112.383868</td>\n      <td>1371.140909</td>\n      <td>2112.383868</td>\n      <td>829.635901</td>\n    </tr>\n    <tr>\n      <th>3</th>\n      <td>10004</td>\n      <td>1595.998236</td>\n      <td>2374.707146</td>\n      <td>5035.970053</td>\n      <td>2374.707146</td>\n      <td>1595.998236</td>\n    </tr>\n    <tr>\n      <th>4</th>\n      <td>10005</td>\n      <td>1158.106371</td>\n      <td>1947.186133</td>\n      <td>4615.651015</td>\n      <td>1947.186133</td>\n      <td>1158.106371</td>\n    </tr>\n    <tr>\n      <th>...</th>\n      <td>...</td>\n      <td>...</td>\n      <td>...</td>\n      <td>...</td>\n      <td>...</td>\n      <td>...</td>\n    </tr>\n    <tr>\n      <th>172</th>\n      <td>11691</td>\n      <td>7645.212152</td>\n      <td>13774.152791</td>\n      <td>12695.472946</td>\n      <td>16441.916368</td>\n      <td>7645.212152</td>\n    </tr>\n    <tr>\n      <th>173</th>\n      <td>11692</td>\n      <td>9228.797828</td>\n      <td>12378.533676</td>\n      <td>13361.078865</td>\n      <td>14548.669328</td>\n      <td>9228.797828</td>\n    </tr>\n    <tr>\n      <th>174</th>\n      <td>11693</td>\n      <td>9599.731907</td>\n      <td>10695.707026</td>\n      <td>12670.235781</td>\n      <td>12580.179662</td>\n      <td>9599.731907</td>\n    </tr>\n    <tr>\n      <th>175</th>\n      <td>11694</td>\n      <td>8848.240451</td>\n      <td>11321.351409</td>\n      <td>10317.015143</td>\n      <td>12196.187302</td>\n      <td>8848.240451</td>\n    </tr>\n    <tr>\n      <th>176</th>\n      <td>11697</td>\n      <td>5641.733786</td>\n      <td>12577.620436</td>\n      <td>5833.295459</td>\n      <td>11547.921409</td>\n      <td>5641.733786</td>\n    </tr>\n  </tbody>\n</table>\n<p>177 rows × 6 columns</p>\n</div>"
     },
     "metadata": {},
     "execution_count": 94
    }
   ],
   "source": [
    "for index, row in geo_sel.iterrows():\n",
    "    mindist = row[['Child Health Center', 'Diagnostic & Treatment Center', 'Acute Care Hospital', 'Nursing Home']].min()\n",
    "    geo_sel.loc[index, 'mindist'] = mindist\n",
    "    # print(mindist)\n",
    "geo_sel"
   ]
  },
  {
   "cell_type": "code",
   "execution_count": 96,
   "metadata": {},
   "outputs": [
    {
     "output_type": "execute_result",
     "data": {
      "text/plain": [
       "     modzcta       mindist\n",
       "152    11413      4.619668\n",
       "142    11372      6.373010\n",
       "37     10044      8.454393\n",
       "115    11229     10.654769\n",
       "143    11373     18.057926\n",
       "..       ...           ...\n",
       "175    11694   8848.240451\n",
       "173    11692   9228.797828\n",
       "174    11693   9599.731907\n",
       "52     10309  10547.696738\n",
       "50     10307  13541.956213\n",
       "\n",
       "[177 rows x 2 columns]"
      ],
      "text/html": "<div>\n<style scoped>\n    .dataframe tbody tr th:only-of-type {\n        vertical-align: middle;\n    }\n\n    .dataframe tbody tr th {\n        vertical-align: top;\n    }\n\n    .dataframe thead th {\n        text-align: right;\n    }\n</style>\n<table border=\"1\" class=\"dataframe\">\n  <thead>\n    <tr style=\"text-align: right;\">\n      <th></th>\n      <th>modzcta</th>\n      <th>mindist</th>\n    </tr>\n  </thead>\n  <tbody>\n    <tr>\n      <th>152</th>\n      <td>11413</td>\n      <td>4.619668</td>\n    </tr>\n    <tr>\n      <th>142</th>\n      <td>11372</td>\n      <td>6.373010</td>\n    </tr>\n    <tr>\n      <th>37</th>\n      <td>10044</td>\n      <td>8.454393</td>\n    </tr>\n    <tr>\n      <th>115</th>\n      <td>11229</td>\n      <td>10.654769</td>\n    </tr>\n    <tr>\n      <th>143</th>\n      <td>11373</td>\n      <td>18.057926</td>\n    </tr>\n    <tr>\n      <th>...</th>\n      <td>...</td>\n      <td>...</td>\n    </tr>\n    <tr>\n      <th>175</th>\n      <td>11694</td>\n      <td>8848.240451</td>\n    </tr>\n    <tr>\n      <th>173</th>\n      <td>11692</td>\n      <td>9228.797828</td>\n    </tr>\n    <tr>\n      <th>174</th>\n      <td>11693</td>\n      <td>9599.731907</td>\n    </tr>\n    <tr>\n      <th>52</th>\n      <td>10309</td>\n      <td>10547.696738</td>\n    </tr>\n    <tr>\n      <th>50</th>\n      <td>10307</td>\n      <td>13541.956213</td>\n    </tr>\n  </tbody>\n</table>\n<p>177 rows × 2 columns</p>\n</div>"
     },
     "metadata": {},
     "execution_count": 96
    }
   ],
   "source": [
    "geo_sel = geo_sel[['modzcta', 'mindist']]\n",
    "geo_sel.sort_values(by=['mindist'], inplace=True)\n",
    "geo_sel"
   ]
  },
  {
   "cell_type": "code",
   "execution_count": 97,
   "metadata": {},
   "outputs": [
    {
     "output_type": "execute_result",
     "data": {
      "text/plain": [
       "     index  modzcta       mindist\n",
       "0        0    11413      4.619668\n",
       "1        1    11372      6.373010\n",
       "2        2    10044      8.454393\n",
       "3        3    11229     10.654769\n",
       "4        4    11373     18.057926\n",
       "..     ...      ...           ...\n",
       "172    172    11694   8848.240451\n",
       "173    173    11692   9228.797828\n",
       "174    174    11693   9599.731907\n",
       "175    175    10309  10547.696738\n",
       "176    176    10307  13541.956213\n",
       "\n",
       "[177 rows x 3 columns]"
      ],
      "text/html": "<div>\n<style scoped>\n    .dataframe tbody tr th:only-of-type {\n        vertical-align: middle;\n    }\n\n    .dataframe tbody tr th {\n        vertical-align: top;\n    }\n\n    .dataframe thead th {\n        text-align: right;\n    }\n</style>\n<table border=\"1\" class=\"dataframe\">\n  <thead>\n    <tr style=\"text-align: right;\">\n      <th></th>\n      <th>index</th>\n      <th>modzcta</th>\n      <th>mindist</th>\n    </tr>\n  </thead>\n  <tbody>\n    <tr>\n      <th>0</th>\n      <td>0</td>\n      <td>11413</td>\n      <td>4.619668</td>\n    </tr>\n    <tr>\n      <th>1</th>\n      <td>1</td>\n      <td>11372</td>\n      <td>6.373010</td>\n    </tr>\n    <tr>\n      <th>2</th>\n      <td>2</td>\n      <td>10044</td>\n      <td>8.454393</td>\n    </tr>\n    <tr>\n      <th>3</th>\n      <td>3</td>\n      <td>11229</td>\n      <td>10.654769</td>\n    </tr>\n    <tr>\n      <th>4</th>\n      <td>4</td>\n      <td>11373</td>\n      <td>18.057926</td>\n    </tr>\n    <tr>\n      <th>...</th>\n      <td>...</td>\n      <td>...</td>\n      <td>...</td>\n    </tr>\n    <tr>\n      <th>172</th>\n      <td>172</td>\n      <td>11694</td>\n      <td>8848.240451</td>\n    </tr>\n    <tr>\n      <th>173</th>\n      <td>173</td>\n      <td>11692</td>\n      <td>9228.797828</td>\n    </tr>\n    <tr>\n      <th>174</th>\n      <td>174</td>\n      <td>11693</td>\n      <td>9599.731907</td>\n    </tr>\n    <tr>\n      <th>175</th>\n      <td>175</td>\n      <td>10309</td>\n      <td>10547.696738</td>\n    </tr>\n    <tr>\n      <th>176</th>\n      <td>176</td>\n      <td>10307</td>\n      <td>13541.956213</td>\n    </tr>\n  </tbody>\n</table>\n<p>177 rows × 3 columns</p>\n</div>"
     },
     "metadata": {},
     "execution_count": 97
    }
   ],
   "source": [
    "geo_sel.reset_index(drop=True, inplace=True)\n",
    "geo_sel.reset_index(drop=False, inplace=True)\n",
    "geo_sel"
   ]
  },
  {
   "cell_type": "code",
   "execution_count": 98,
   "metadata": {},
   "outputs": [
    {
     "output_type": "execute_result",
     "data": {
      "text/plain": [
       "     physrnk  modzcta       mindist\n",
       "0          0    11413      4.619668\n",
       "1          1    11372      6.373010\n",
       "2          2    10044      8.454393\n",
       "3          3    11229     10.654769\n",
       "4          4    11373     18.057926\n",
       "..       ...      ...           ...\n",
       "172      172    11694   8848.240451\n",
       "173      173    11692   9228.797828\n",
       "174      174    11693   9599.731907\n",
       "175      175    10309  10547.696738\n",
       "176      176    10307  13541.956213\n",
       "\n",
       "[177 rows x 3 columns]"
      ],
      "text/html": "<div>\n<style scoped>\n    .dataframe tbody tr th:only-of-type {\n        vertical-align: middle;\n    }\n\n    .dataframe tbody tr th {\n        vertical-align: top;\n    }\n\n    .dataframe thead th {\n        text-align: right;\n    }\n</style>\n<table border=\"1\" class=\"dataframe\">\n  <thead>\n    <tr style=\"text-align: right;\">\n      <th></th>\n      <th>physrnk</th>\n      <th>modzcta</th>\n      <th>mindist</th>\n    </tr>\n  </thead>\n  <tbody>\n    <tr>\n      <th>0</th>\n      <td>0</td>\n      <td>11413</td>\n      <td>4.619668</td>\n    </tr>\n    <tr>\n      <th>1</th>\n      <td>1</td>\n      <td>11372</td>\n      <td>6.373010</td>\n    </tr>\n    <tr>\n      <th>2</th>\n      <td>2</td>\n      <td>10044</td>\n      <td>8.454393</td>\n    </tr>\n    <tr>\n      <th>3</th>\n      <td>3</td>\n      <td>11229</td>\n      <td>10.654769</td>\n    </tr>\n    <tr>\n      <th>4</th>\n      <td>4</td>\n      <td>11373</td>\n      <td>18.057926</td>\n    </tr>\n    <tr>\n      <th>...</th>\n      <td>...</td>\n      <td>...</td>\n      <td>...</td>\n    </tr>\n    <tr>\n      <th>172</th>\n      <td>172</td>\n      <td>11694</td>\n      <td>8848.240451</td>\n    </tr>\n    <tr>\n      <th>173</th>\n      <td>173</td>\n      <td>11692</td>\n      <td>9228.797828</td>\n    </tr>\n    <tr>\n      <th>174</th>\n      <td>174</td>\n      <td>11693</td>\n      <td>9599.731907</td>\n    </tr>\n    <tr>\n      <th>175</th>\n      <td>175</td>\n      <td>10309</td>\n      <td>10547.696738</td>\n    </tr>\n    <tr>\n      <th>176</th>\n      <td>176</td>\n      <td>10307</td>\n      <td>13541.956213</td>\n    </tr>\n  </tbody>\n</table>\n<p>177 rows × 3 columns</p>\n</div>"
     },
     "metadata": {},
     "execution_count": 98
    }
   ],
   "source": [
    "geo_sel.rename(columns={'index':'physrnk'}, inplace=True)\n",
    "geo_sel"
   ]
  },
  {
   "cell_type": "code",
   "execution_count": 99,
   "metadata": {},
   "outputs": [
    {
     "output_type": "execute_result",
     "data": {
      "text/plain": [
       "     infornk  modzcta      perc  physrnk      mindist\n",
       "0         23    10001  0.088226      122  2859.212963\n",
       "1        176    10002  0.340227       12   325.521726\n",
       "2         18    10003  0.076624       31   899.585186\n",
       "3          6    10004  0.013412      106  2371.392258\n",
       "4          5    10005  0.013202       83  1942.271324\n",
       "..       ...      ...       ...      ...          ...\n",
       "172      146    11691  0.218807      171  8009.689690\n",
       "173      127    11692  0.195215      173  9451.049595\n",
       "174      111    11693  0.179829      175  9958.602467\n",
       "175       93    11694  0.156592      174  9886.798887\n",
       "176       53    11697  0.121378      163  5719.471378\n",
       "\n",
       "[177 rows x 5 columns]"
      ],
      "text/html": "<div>\n<style scoped>\n    .dataframe tbody tr th:only-of-type {\n        vertical-align: middle;\n    }\n\n    .dataframe tbody tr th {\n        vertical-align: top;\n    }\n\n    .dataframe thead th {\n        text-align: right;\n    }\n</style>\n<table border=\"1\" class=\"dataframe\">\n  <thead>\n    <tr style=\"text-align: right;\">\n      <th></th>\n      <th>infornk</th>\n      <th>modzcta</th>\n      <th>perc</th>\n      <th>physrnk</th>\n      <th>mindist</th>\n    </tr>\n  </thead>\n  <tbody>\n    <tr>\n      <th>0</th>\n      <td>23</td>\n      <td>10001</td>\n      <td>0.088226</td>\n      <td>122</td>\n      <td>2859.212963</td>\n    </tr>\n    <tr>\n      <th>1</th>\n      <td>176</td>\n      <td>10002</td>\n      <td>0.340227</td>\n      <td>12</td>\n      <td>325.521726</td>\n    </tr>\n    <tr>\n      <th>2</th>\n      <td>18</td>\n      <td>10003</td>\n      <td>0.076624</td>\n      <td>31</td>\n      <td>899.585186</td>\n    </tr>\n    <tr>\n      <th>3</th>\n      <td>6</td>\n      <td>10004</td>\n      <td>0.013412</td>\n      <td>106</td>\n      <td>2371.392258</td>\n    </tr>\n    <tr>\n      <th>4</th>\n      <td>5</td>\n      <td>10005</td>\n      <td>0.013202</td>\n      <td>83</td>\n      <td>1942.271324</td>\n    </tr>\n    <tr>\n      <th>...</th>\n      <td>...</td>\n      <td>...</td>\n      <td>...</td>\n      <td>...</td>\n      <td>...</td>\n    </tr>\n    <tr>\n      <th>172</th>\n      <td>146</td>\n      <td>11691</td>\n      <td>0.218807</td>\n      <td>171</td>\n      <td>8009.689690</td>\n    </tr>\n    <tr>\n      <th>173</th>\n      <td>127</td>\n      <td>11692</td>\n      <td>0.195215</td>\n      <td>173</td>\n      <td>9451.049595</td>\n    </tr>\n    <tr>\n      <th>174</th>\n      <td>111</td>\n      <td>11693</td>\n      <td>0.179829</td>\n      <td>175</td>\n      <td>9958.602467</td>\n    </tr>\n    <tr>\n      <th>175</th>\n      <td>93</td>\n      <td>11694</td>\n      <td>0.156592</td>\n      <td>174</td>\n      <td>9886.798887</td>\n    </tr>\n    <tr>\n      <th>176</th>\n      <td>53</td>\n      <td>11697</td>\n      <td>0.121378</td>\n      <td>163</td>\n      <td>5719.471378</td>\n    </tr>\n  </tbody>\n</table>\n<p>177 rows × 5 columns</p>\n</div>"
     },
     "metadata": {},
     "execution_count": 99
    }
   ],
   "source": [
    "oldranks = pandas.read_csv('../datas/7-conclusionrnks.csv')\n",
    "oldranks"
   ]
  },
  {
   "cell_type": "code",
   "execution_count": 100,
   "metadata": {},
   "outputs": [
    {
     "output_type": "execute_result",
     "data": {
      "text/plain": [
       "     infornk  modzcta      perc\n",
       "0         23    10001  0.088226\n",
       "1        176    10002  0.340227\n",
       "2         18    10003  0.076624\n",
       "3          6    10004  0.013412\n",
       "4          5    10005  0.013202\n",
       "..       ...      ...       ...\n",
       "172      146    11691  0.218807\n",
       "173      127    11692  0.195215\n",
       "174      111    11693  0.179829\n",
       "175       93    11694  0.156592\n",
       "176       53    11697  0.121378\n",
       "\n",
       "[177 rows x 3 columns]"
      ],
      "text/html": "<div>\n<style scoped>\n    .dataframe tbody tr th:only-of-type {\n        vertical-align: middle;\n    }\n\n    .dataframe tbody tr th {\n        vertical-align: top;\n    }\n\n    .dataframe thead th {\n        text-align: right;\n    }\n</style>\n<table border=\"1\" class=\"dataframe\">\n  <thead>\n    <tr style=\"text-align: right;\">\n      <th></th>\n      <th>infornk</th>\n      <th>modzcta</th>\n      <th>perc</th>\n    </tr>\n  </thead>\n  <tbody>\n    <tr>\n      <th>0</th>\n      <td>23</td>\n      <td>10001</td>\n      <td>0.088226</td>\n    </tr>\n    <tr>\n      <th>1</th>\n      <td>176</td>\n      <td>10002</td>\n      <td>0.340227</td>\n    </tr>\n    <tr>\n      <th>2</th>\n      <td>18</td>\n      <td>10003</td>\n      <td>0.076624</td>\n    </tr>\n    <tr>\n      <th>3</th>\n      <td>6</td>\n      <td>10004</td>\n      <td>0.013412</td>\n    </tr>\n    <tr>\n      <th>4</th>\n      <td>5</td>\n      <td>10005</td>\n      <td>0.013202</td>\n    </tr>\n    <tr>\n      <th>...</th>\n      <td>...</td>\n      <td>...</td>\n      <td>...</td>\n    </tr>\n    <tr>\n      <th>172</th>\n      <td>146</td>\n      <td>11691</td>\n      <td>0.218807</td>\n    </tr>\n    <tr>\n      <th>173</th>\n      <td>127</td>\n      <td>11692</td>\n      <td>0.195215</td>\n    </tr>\n    <tr>\n      <th>174</th>\n      <td>111</td>\n      <td>11693</td>\n      <td>0.179829</td>\n    </tr>\n    <tr>\n      <th>175</th>\n      <td>93</td>\n      <td>11694</td>\n      <td>0.156592</td>\n    </tr>\n    <tr>\n      <th>176</th>\n      <td>53</td>\n      <td>11697</td>\n      <td>0.121378</td>\n    </tr>\n  </tbody>\n</table>\n<p>177 rows × 3 columns</p>\n</div>"
     },
     "metadata": {},
     "execution_count": 100
    }
   ],
   "source": [
    "oldranks.drop(columns=['physrnk', 'mindist'], inplace=True)\n",
    "oldranks"
   ]
  },
  {
   "cell_type": "code",
   "execution_count": 101,
   "metadata": {},
   "outputs": [
    {
     "output_type": "execute_result",
     "data": {
      "text/plain": [
       "     physrnk  modzcta       mindist\n",
       "0          1    11413      4.619668\n",
       "1          2    11372      6.373010\n",
       "2          3    10044      8.454393\n",
       "3          4    11229     10.654769\n",
       "4          5    11373     18.057926\n",
       "..       ...      ...           ...\n",
       "172      173    11694   8848.240451\n",
       "173      174    11692   9228.797828\n",
       "174      175    11693   9599.731907\n",
       "175      176    10309  10547.696738\n",
       "176      177    10307  13541.956213\n",
       "\n",
       "[177 rows x 3 columns]"
      ],
      "text/html": "<div>\n<style scoped>\n    .dataframe tbody tr th:only-of-type {\n        vertical-align: middle;\n    }\n\n    .dataframe tbody tr th {\n        vertical-align: top;\n    }\n\n    .dataframe thead th {\n        text-align: right;\n    }\n</style>\n<table border=\"1\" class=\"dataframe\">\n  <thead>\n    <tr style=\"text-align: right;\">\n      <th></th>\n      <th>physrnk</th>\n      <th>modzcta</th>\n      <th>mindist</th>\n    </tr>\n  </thead>\n  <tbody>\n    <tr>\n      <th>0</th>\n      <td>1</td>\n      <td>11413</td>\n      <td>4.619668</td>\n    </tr>\n    <tr>\n      <th>1</th>\n      <td>2</td>\n      <td>11372</td>\n      <td>6.373010</td>\n    </tr>\n    <tr>\n      <th>2</th>\n      <td>3</td>\n      <td>10044</td>\n      <td>8.454393</td>\n    </tr>\n    <tr>\n      <th>3</th>\n      <td>4</td>\n      <td>11229</td>\n      <td>10.654769</td>\n    </tr>\n    <tr>\n      <th>4</th>\n      <td>5</td>\n      <td>11373</td>\n      <td>18.057926</td>\n    </tr>\n    <tr>\n      <th>...</th>\n      <td>...</td>\n      <td>...</td>\n      <td>...</td>\n    </tr>\n    <tr>\n      <th>172</th>\n      <td>173</td>\n      <td>11694</td>\n      <td>8848.240451</td>\n    </tr>\n    <tr>\n      <th>173</th>\n      <td>174</td>\n      <td>11692</td>\n      <td>9228.797828</td>\n    </tr>\n    <tr>\n      <th>174</th>\n      <td>175</td>\n      <td>11693</td>\n      <td>9599.731907</td>\n    </tr>\n    <tr>\n      <th>175</th>\n      <td>176</td>\n      <td>10309</td>\n      <td>10547.696738</td>\n    </tr>\n    <tr>\n      <th>176</th>\n      <td>177</td>\n      <td>10307</td>\n      <td>13541.956213</td>\n    </tr>\n  </tbody>\n</table>\n<p>177 rows × 3 columns</p>\n</div>"
     },
     "metadata": {},
     "execution_count": 101
    }
   ],
   "source": [
    "geo_sel['physrnk'] += 1\n",
    "geo_sel"
   ]
  },
  {
   "cell_type": "code",
   "execution_count": 102,
   "metadata": {},
   "outputs": [
    {
     "output_type": "execute_result",
     "data": {
      "text/plain": [
       "     infornk  modzcta      perc  physrnk      mindist\n",
       "0         23    10001  0.088226      101  2127.586765\n",
       "1        176    10002  0.340227       20   347.843275\n",
       "2         18    10003  0.076624       44   829.635901\n",
       "3          6    10004  0.013412       78  1595.998236\n",
       "4          5    10005  0.013202       57  1158.106371\n",
       "..       ...      ...       ...      ...          ...\n",
       "172      146    11691  0.218807      170  7645.212152\n",
       "173      127    11692  0.195215      174  9228.797828\n",
       "174      111    11693  0.179829      175  9599.731907\n",
       "175       93    11694  0.156592      173  8848.240451\n",
       "176       53    11697  0.121378      164  5641.733786\n",
       "\n",
       "[177 rows x 5 columns]"
      ],
      "text/html": "<div>\n<style scoped>\n    .dataframe tbody tr th:only-of-type {\n        vertical-align: middle;\n    }\n\n    .dataframe tbody tr th {\n        vertical-align: top;\n    }\n\n    .dataframe thead th {\n        text-align: right;\n    }\n</style>\n<table border=\"1\" class=\"dataframe\">\n  <thead>\n    <tr style=\"text-align: right;\">\n      <th></th>\n      <th>infornk</th>\n      <th>modzcta</th>\n      <th>perc</th>\n      <th>physrnk</th>\n      <th>mindist</th>\n    </tr>\n  </thead>\n  <tbody>\n    <tr>\n      <th>0</th>\n      <td>23</td>\n      <td>10001</td>\n      <td>0.088226</td>\n      <td>101</td>\n      <td>2127.586765</td>\n    </tr>\n    <tr>\n      <th>1</th>\n      <td>176</td>\n      <td>10002</td>\n      <td>0.340227</td>\n      <td>20</td>\n      <td>347.843275</td>\n    </tr>\n    <tr>\n      <th>2</th>\n      <td>18</td>\n      <td>10003</td>\n      <td>0.076624</td>\n      <td>44</td>\n      <td>829.635901</td>\n    </tr>\n    <tr>\n      <th>3</th>\n      <td>6</td>\n      <td>10004</td>\n      <td>0.013412</td>\n      <td>78</td>\n      <td>1595.998236</td>\n    </tr>\n    <tr>\n      <th>4</th>\n      <td>5</td>\n      <td>10005</td>\n      <td>0.013202</td>\n      <td>57</td>\n      <td>1158.106371</td>\n    </tr>\n    <tr>\n      <th>...</th>\n      <td>...</td>\n      <td>...</td>\n      <td>...</td>\n      <td>...</td>\n      <td>...</td>\n    </tr>\n    <tr>\n      <th>172</th>\n      <td>146</td>\n      <td>11691</td>\n      <td>0.218807</td>\n      <td>170</td>\n      <td>7645.212152</td>\n    </tr>\n    <tr>\n      <th>173</th>\n      <td>127</td>\n      <td>11692</td>\n      <td>0.195215</td>\n      <td>174</td>\n      <td>9228.797828</td>\n    </tr>\n    <tr>\n      <th>174</th>\n      <td>111</td>\n      <td>11693</td>\n      <td>0.179829</td>\n      <td>175</td>\n      <td>9599.731907</td>\n    </tr>\n    <tr>\n      <th>175</th>\n      <td>93</td>\n      <td>11694</td>\n      <td>0.156592</td>\n      <td>173</td>\n      <td>8848.240451</td>\n    </tr>\n    <tr>\n      <th>176</th>\n      <td>53</td>\n      <td>11697</td>\n      <td>0.121378</td>\n      <td>164</td>\n      <td>5641.733786</td>\n    </tr>\n  </tbody>\n</table>\n<p>177 rows × 5 columns</p>\n</div>"
     },
     "metadata": {},
     "execution_count": 102
    }
   ],
   "source": [
    "newranks = oldranks.join(geo_sel.set_index('modzcta'), on='modzcta')\n",
    "newranks"
   ]
  },
  {
   "cell_type": "code",
   "execution_count": 103,
   "metadata": {},
   "outputs": [],
   "source": [
    "newranks.to_csv('../datas/7-conclusionrnks.csv', index=False)"
   ]
  },
  {
   "source": [
    "# combine with svi"
   ],
   "cell_type": "markdown",
   "metadata": {}
  },
  {
   "cell_type": "code",
   "execution_count": 104,
   "metadata": {},
   "outputs": [
    {
     "output_type": "execute_result",
     "data": {
      "text/plain": [
       "     infornk  modzcta      perc  physrnk      mindist\n",
       "0         23    10001  0.088226      101  2127.586765\n",
       "1        176    10002  0.340227       20   347.843275\n",
       "2         18    10003  0.076624       44   829.635901\n",
       "3          6    10004  0.013412       78  1595.998236\n",
       "4          5    10005  0.013202       57  1158.106371\n",
       "..       ...      ...       ...      ...          ...\n",
       "172      146    11691  0.218807      170  7645.212152\n",
       "173      127    11692  0.195215      174  9228.797828\n",
       "174      111    11693  0.179829      175  9599.731907\n",
       "175       93    11694  0.156592      173  8848.240451\n",
       "176       53    11697  0.121378      164  5641.733786\n",
       "\n",
       "[177 rows x 5 columns]"
      ],
      "text/html": "<div>\n<style scoped>\n    .dataframe tbody tr th:only-of-type {\n        vertical-align: middle;\n    }\n\n    .dataframe tbody tr th {\n        vertical-align: top;\n    }\n\n    .dataframe thead th {\n        text-align: right;\n    }\n</style>\n<table border=\"1\" class=\"dataframe\">\n  <thead>\n    <tr style=\"text-align: right;\">\n      <th></th>\n      <th>infornk</th>\n      <th>modzcta</th>\n      <th>perc</th>\n      <th>physrnk</th>\n      <th>mindist</th>\n    </tr>\n  </thead>\n  <tbody>\n    <tr>\n      <th>0</th>\n      <td>23</td>\n      <td>10001</td>\n      <td>0.088226</td>\n      <td>101</td>\n      <td>2127.586765</td>\n    </tr>\n    <tr>\n      <th>1</th>\n      <td>176</td>\n      <td>10002</td>\n      <td>0.340227</td>\n      <td>20</td>\n      <td>347.843275</td>\n    </tr>\n    <tr>\n      <th>2</th>\n      <td>18</td>\n      <td>10003</td>\n      <td>0.076624</td>\n      <td>44</td>\n      <td>829.635901</td>\n    </tr>\n    <tr>\n      <th>3</th>\n      <td>6</td>\n      <td>10004</td>\n      <td>0.013412</td>\n      <td>78</td>\n      <td>1595.998236</td>\n    </tr>\n    <tr>\n      <th>4</th>\n      <td>5</td>\n      <td>10005</td>\n      <td>0.013202</td>\n      <td>57</td>\n      <td>1158.106371</td>\n    </tr>\n    <tr>\n      <th>...</th>\n      <td>...</td>\n      <td>...</td>\n      <td>...</td>\n      <td>...</td>\n      <td>...</td>\n    </tr>\n    <tr>\n      <th>172</th>\n      <td>146</td>\n      <td>11691</td>\n      <td>0.218807</td>\n      <td>170</td>\n      <td>7645.212152</td>\n    </tr>\n    <tr>\n      <th>173</th>\n      <td>127</td>\n      <td>11692</td>\n      <td>0.195215</td>\n      <td>174</td>\n      <td>9228.797828</td>\n    </tr>\n    <tr>\n      <th>174</th>\n      <td>111</td>\n      <td>11693</td>\n      <td>0.179829</td>\n      <td>175</td>\n      <td>9599.731907</td>\n    </tr>\n    <tr>\n      <th>175</th>\n      <td>93</td>\n      <td>11694</td>\n      <td>0.156592</td>\n      <td>173</td>\n      <td>8848.240451</td>\n    </tr>\n    <tr>\n      <th>176</th>\n      <td>53</td>\n      <td>11697</td>\n      <td>0.121378</td>\n      <td>164</td>\n      <td>5641.733786</td>\n    </tr>\n  </tbody>\n</table>\n<p>177 rows × 5 columns</p>\n</div>"
     },
     "metadata": {},
     "execution_count": 104
    }
   ],
   "source": [
    "ranks = pandas.read_csv('../datas/7-conclusionrnks.csv')\n",
    "ranks"
   ]
  },
  {
   "cell_type": "code",
   "execution_count": 105,
   "metadata": {},
   "outputs": [
    {
     "output_type": "execute_result",
     "data": {
      "text/plain": [
       "infornk      int64\n",
       "modzcta      int64\n",
       "perc       float64\n",
       "physrnk      int64\n",
       "mindist    float64\n",
       "dtype: object"
      ]
     },
     "metadata": {},
     "execution_count": 105
    }
   ],
   "source": [
    "ranks.dtypes"
   ]
  },
  {
   "cell_type": "code",
   "execution_count": 111,
   "metadata": {},
   "outputs": [
    {
     "output_type": "execute_result",
     "data": {
      "text/plain": [
       "      infornk  modzcta      perc   physrnk      mindist    avgsvi\n",
       "0    0.129944    10001  0.088226  0.689266  2859.212963  0.373329\n",
       "1    0.994350    10002  0.340227  0.067797   325.521726  0.779647\n",
       "2    0.101695    10003  0.076624  0.175141   899.585186  0.323569\n",
       "3    0.033898    10004  0.013412  0.598870  2371.392258  0.178840\n",
       "4    0.028249    10005  0.013202  0.468927  1942.271324  0.192400\n",
       "..        ...      ...       ...       ...          ...       ...\n",
       "172  0.824859    11691  0.218807  0.966102  8009.689690  0.906325\n",
       "173  0.717514    11692  0.195215  0.977401  9451.049595  0.906629\n",
       "174  0.627119    11693  0.179829  0.988701  9958.602467  0.620375\n",
       "175  0.525424    11694  0.156592  0.983051  9886.798887  0.477767\n",
       "176  0.299435    11697  0.121378  0.920904  5719.471378  0.246600\n",
       "\n",
       "[177 rows x 6 columns]"
      ],
      "text/html": "<div>\n<style scoped>\n    .dataframe tbody tr th:only-of-type {\n        vertical-align: middle;\n    }\n\n    .dataframe tbody tr th {\n        vertical-align: top;\n    }\n\n    .dataframe thead th {\n        text-align: right;\n    }\n</style>\n<table border=\"1\" class=\"dataframe\">\n  <thead>\n    <tr style=\"text-align: right;\">\n      <th></th>\n      <th>infornk</th>\n      <th>modzcta</th>\n      <th>perc</th>\n      <th>physrnk</th>\n      <th>mindist</th>\n      <th>avgsvi</th>\n    </tr>\n  </thead>\n  <tbody>\n    <tr>\n      <th>0</th>\n      <td>0.129944</td>\n      <td>10001</td>\n      <td>0.088226</td>\n      <td>0.689266</td>\n      <td>2859.212963</td>\n      <td>0.373329</td>\n    </tr>\n    <tr>\n      <th>1</th>\n      <td>0.994350</td>\n      <td>10002</td>\n      <td>0.340227</td>\n      <td>0.067797</td>\n      <td>325.521726</td>\n      <td>0.779647</td>\n    </tr>\n    <tr>\n      <th>2</th>\n      <td>0.101695</td>\n      <td>10003</td>\n      <td>0.076624</td>\n      <td>0.175141</td>\n      <td>899.585186</td>\n      <td>0.323569</td>\n    </tr>\n    <tr>\n      <th>3</th>\n      <td>0.033898</td>\n      <td>10004</td>\n      <td>0.013412</td>\n      <td>0.598870</td>\n      <td>2371.392258</td>\n      <td>0.178840</td>\n    </tr>\n    <tr>\n      <th>4</th>\n      <td>0.028249</td>\n      <td>10005</td>\n      <td>0.013202</td>\n      <td>0.468927</td>\n      <td>1942.271324</td>\n      <td>0.192400</td>\n    </tr>\n    <tr>\n      <th>...</th>\n      <td>...</td>\n      <td>...</td>\n      <td>...</td>\n      <td>...</td>\n      <td>...</td>\n      <td>...</td>\n    </tr>\n    <tr>\n      <th>172</th>\n      <td>0.824859</td>\n      <td>11691</td>\n      <td>0.218807</td>\n      <td>0.966102</td>\n      <td>8009.689690</td>\n      <td>0.906325</td>\n    </tr>\n    <tr>\n      <th>173</th>\n      <td>0.717514</td>\n      <td>11692</td>\n      <td>0.195215</td>\n      <td>0.977401</td>\n      <td>9451.049595</td>\n      <td>0.906629</td>\n    </tr>\n    <tr>\n      <th>174</th>\n      <td>0.627119</td>\n      <td>11693</td>\n      <td>0.179829</td>\n      <td>0.988701</td>\n      <td>9958.602467</td>\n      <td>0.620375</td>\n    </tr>\n    <tr>\n      <th>175</th>\n      <td>0.525424</td>\n      <td>11694</td>\n      <td>0.156592</td>\n      <td>0.983051</td>\n      <td>9886.798887</td>\n      <td>0.477767</td>\n    </tr>\n    <tr>\n      <th>176</th>\n      <td>0.299435</td>\n      <td>11697</td>\n      <td>0.121378</td>\n      <td>0.920904</td>\n      <td>5719.471378</td>\n      <td>0.246600</td>\n    </tr>\n  </tbody>\n</table>\n<p>177 rows × 6 columns</p>\n</div>"
     },
     "metadata": {},
     "execution_count": 111
    }
   ],
   "source": [
    "svi_ranks = pandas.read_csv('../datas/8-svi_rnks.csv')\n",
    "svi_ranks"
   ]
  },
  {
   "cell_type": "code",
   "execution_count": 112,
   "metadata": {},
   "outputs": [
    {
     "output_type": "execute_result",
     "data": {
      "text/plain": [
       "     modzcta    avgsvi\n",
       "0      10001  0.373329\n",
       "1      10002  0.779647\n",
       "2      10003  0.323569\n",
       "3      10004  0.178840\n",
       "4      10005  0.192400\n",
       "..       ...       ...\n",
       "172    11691  0.906325\n",
       "173    11692  0.906629\n",
       "174    11693  0.620375\n",
       "175    11694  0.477767\n",
       "176    11697  0.246600\n",
       "\n",
       "[177 rows x 2 columns]"
      ],
      "text/html": "<div>\n<style scoped>\n    .dataframe tbody tr th:only-of-type {\n        vertical-align: middle;\n    }\n\n    .dataframe tbody tr th {\n        vertical-align: top;\n    }\n\n    .dataframe thead th {\n        text-align: right;\n    }\n</style>\n<table border=\"1\" class=\"dataframe\">\n  <thead>\n    <tr style=\"text-align: right;\">\n      <th></th>\n      <th>modzcta</th>\n      <th>avgsvi</th>\n    </tr>\n  </thead>\n  <tbody>\n    <tr>\n      <th>0</th>\n      <td>10001</td>\n      <td>0.373329</td>\n    </tr>\n    <tr>\n      <th>1</th>\n      <td>10002</td>\n      <td>0.779647</td>\n    </tr>\n    <tr>\n      <th>2</th>\n      <td>10003</td>\n      <td>0.323569</td>\n    </tr>\n    <tr>\n      <th>3</th>\n      <td>10004</td>\n      <td>0.178840</td>\n    </tr>\n    <tr>\n      <th>4</th>\n      <td>10005</td>\n      <td>0.192400</td>\n    </tr>\n    <tr>\n      <th>...</th>\n      <td>...</td>\n      <td>...</td>\n    </tr>\n    <tr>\n      <th>172</th>\n      <td>11691</td>\n      <td>0.906325</td>\n    </tr>\n    <tr>\n      <th>173</th>\n      <td>11692</td>\n      <td>0.906629</td>\n    </tr>\n    <tr>\n      <th>174</th>\n      <td>11693</td>\n      <td>0.620375</td>\n    </tr>\n    <tr>\n      <th>175</th>\n      <td>11694</td>\n      <td>0.477767</td>\n    </tr>\n    <tr>\n      <th>176</th>\n      <td>11697</td>\n      <td>0.246600</td>\n    </tr>\n  </tbody>\n</table>\n<p>177 rows × 2 columns</p>\n</div>"
     },
     "metadata": {},
     "execution_count": 112
    }
   ],
   "source": [
    "svi_ranks = svi_ranks[['modzcta', 'avgsvi']]\n",
    "svi_ranks"
   ]
  },
  {
   "cell_type": "code",
   "execution_count": 113,
   "metadata": {},
   "outputs": [
    {
     "output_type": "execute_result",
     "data": {
      "text/plain": [
       "    modzcta    avgsvi\n",
       "5     10006  0.108400\n",
       "14    10017  0.169480\n",
       "3     10004  0.178840\n",
       "42    10280  0.188250\n",
       "4     10005  0.192400\n",
       "..      ...       ...\n",
       "64    10459  0.981072\n",
       "61    10456  0.985020\n",
       "58    10453  0.986133\n",
       "62    10457  0.986700\n",
       "79    10474  0.988667\n",
       "\n",
       "[177 rows x 2 columns]"
      ],
      "text/html": "<div>\n<style scoped>\n    .dataframe tbody tr th:only-of-type {\n        vertical-align: middle;\n    }\n\n    .dataframe tbody tr th {\n        vertical-align: top;\n    }\n\n    .dataframe thead th {\n        text-align: right;\n    }\n</style>\n<table border=\"1\" class=\"dataframe\">\n  <thead>\n    <tr style=\"text-align: right;\">\n      <th></th>\n      <th>modzcta</th>\n      <th>avgsvi</th>\n    </tr>\n  </thead>\n  <tbody>\n    <tr>\n      <th>5</th>\n      <td>10006</td>\n      <td>0.108400</td>\n    </tr>\n    <tr>\n      <th>14</th>\n      <td>10017</td>\n      <td>0.169480</td>\n    </tr>\n    <tr>\n      <th>3</th>\n      <td>10004</td>\n      <td>0.178840</td>\n    </tr>\n    <tr>\n      <th>42</th>\n      <td>10280</td>\n      <td>0.188250</td>\n    </tr>\n    <tr>\n      <th>4</th>\n      <td>10005</td>\n      <td>0.192400</td>\n    </tr>\n    <tr>\n      <th>...</th>\n      <td>...</td>\n      <td>...</td>\n    </tr>\n    <tr>\n      <th>64</th>\n      <td>10459</td>\n      <td>0.981072</td>\n    </tr>\n    <tr>\n      <th>61</th>\n      <td>10456</td>\n      <td>0.985020</td>\n    </tr>\n    <tr>\n      <th>58</th>\n      <td>10453</td>\n      <td>0.986133</td>\n    </tr>\n    <tr>\n      <th>62</th>\n      <td>10457</td>\n      <td>0.986700</td>\n    </tr>\n    <tr>\n      <th>79</th>\n      <td>10474</td>\n      <td>0.988667</td>\n    </tr>\n  </tbody>\n</table>\n<p>177 rows × 2 columns</p>\n</div>"
     },
     "metadata": {},
     "execution_count": 113
    }
   ],
   "source": [
    "svi_ranks.sort_values(by=['avgsvi'], inplace=True)\n",
    "svi_ranks"
   ]
  },
  {
   "cell_type": "code",
   "execution_count": 114,
   "metadata": {},
   "outputs": [
    {
     "output_type": "execute_result",
     "data": {
      "text/plain": [
       "     svirnk  modzcta    avgsvi\n",
       "0         0    10006  0.108400\n",
       "1         1    10017  0.169480\n",
       "2         2    10004  0.178840\n",
       "3         3    10280  0.188250\n",
       "4         4    10005  0.192400\n",
       "..      ...      ...       ...\n",
       "172     172    10459  0.981072\n",
       "173     173    10456  0.985020\n",
       "174     174    10453  0.986133\n",
       "175     175    10457  0.986700\n",
       "176     176    10474  0.988667\n",
       "\n",
       "[177 rows x 3 columns]"
      ],
      "text/html": "<div>\n<style scoped>\n    .dataframe tbody tr th:only-of-type {\n        vertical-align: middle;\n    }\n\n    .dataframe tbody tr th {\n        vertical-align: top;\n    }\n\n    .dataframe thead th {\n        text-align: right;\n    }\n</style>\n<table border=\"1\" class=\"dataframe\">\n  <thead>\n    <tr style=\"text-align: right;\">\n      <th></th>\n      <th>svirnk</th>\n      <th>modzcta</th>\n      <th>avgsvi</th>\n    </tr>\n  </thead>\n  <tbody>\n    <tr>\n      <th>0</th>\n      <td>0</td>\n      <td>10006</td>\n      <td>0.108400</td>\n    </tr>\n    <tr>\n      <th>1</th>\n      <td>1</td>\n      <td>10017</td>\n      <td>0.169480</td>\n    </tr>\n    <tr>\n      <th>2</th>\n      <td>2</td>\n      <td>10004</td>\n      <td>0.178840</td>\n    </tr>\n    <tr>\n      <th>3</th>\n      <td>3</td>\n      <td>10280</td>\n      <td>0.188250</td>\n    </tr>\n    <tr>\n      <th>4</th>\n      <td>4</td>\n      <td>10005</td>\n      <td>0.192400</td>\n    </tr>\n    <tr>\n      <th>...</th>\n      <td>...</td>\n      <td>...</td>\n      <td>...</td>\n    </tr>\n    <tr>\n      <th>172</th>\n      <td>172</td>\n      <td>10459</td>\n      <td>0.981072</td>\n    </tr>\n    <tr>\n      <th>173</th>\n      <td>173</td>\n      <td>10456</td>\n      <td>0.985020</td>\n    </tr>\n    <tr>\n      <th>174</th>\n      <td>174</td>\n      <td>10453</td>\n      <td>0.986133</td>\n    </tr>\n    <tr>\n      <th>175</th>\n      <td>175</td>\n      <td>10457</td>\n      <td>0.986700</td>\n    </tr>\n    <tr>\n      <th>176</th>\n      <td>176</td>\n      <td>10474</td>\n      <td>0.988667</td>\n    </tr>\n  </tbody>\n</table>\n<p>177 rows × 3 columns</p>\n</div>"
     },
     "metadata": {},
     "execution_count": 114
    }
   ],
   "source": [
    "svi_ranks.reset_index(drop=True, inplace=True)\n",
    "svi_ranks.reset_index(drop=False, inplace=True)\n",
    "svi_ranks.rename(columns={'index': 'svirnk'}, inplace=True)\n",
    "svi_ranks"
   ]
  },
  {
   "cell_type": "code",
   "execution_count": 119,
   "metadata": {},
   "outputs": [
    {
     "output_type": "execute_result",
     "data": {
      "text/plain": [
       "     svirnk  modzcta    avgsvi\n",
       "0         1    10006  0.108400\n",
       "1         2    10017  0.169480\n",
       "2         3    10004  0.178840\n",
       "3         4    10280  0.188250\n",
       "4         5    10005  0.192400\n",
       "..      ...      ...       ...\n",
       "172     173    10459  0.981072\n",
       "173     174    10456  0.985020\n",
       "174     175    10453  0.986133\n",
       "175     176    10457  0.986700\n",
       "176     177    10474  0.988667\n",
       "\n",
       "[177 rows x 3 columns]"
      ],
      "text/html": "<div>\n<style scoped>\n    .dataframe tbody tr th:only-of-type {\n        vertical-align: middle;\n    }\n\n    .dataframe tbody tr th {\n        vertical-align: top;\n    }\n\n    .dataframe thead th {\n        text-align: right;\n    }\n</style>\n<table border=\"1\" class=\"dataframe\">\n  <thead>\n    <tr style=\"text-align: right;\">\n      <th></th>\n      <th>svirnk</th>\n      <th>modzcta</th>\n      <th>avgsvi</th>\n    </tr>\n  </thead>\n  <tbody>\n    <tr>\n      <th>0</th>\n      <td>1</td>\n      <td>10006</td>\n      <td>0.108400</td>\n    </tr>\n    <tr>\n      <th>1</th>\n      <td>2</td>\n      <td>10017</td>\n      <td>0.169480</td>\n    </tr>\n    <tr>\n      <th>2</th>\n      <td>3</td>\n      <td>10004</td>\n      <td>0.178840</td>\n    </tr>\n    <tr>\n      <th>3</th>\n      <td>4</td>\n      <td>10280</td>\n      <td>0.188250</td>\n    </tr>\n    <tr>\n      <th>4</th>\n      <td>5</td>\n      <td>10005</td>\n      <td>0.192400</td>\n    </tr>\n    <tr>\n      <th>...</th>\n      <td>...</td>\n      <td>...</td>\n      <td>...</td>\n    </tr>\n    <tr>\n      <th>172</th>\n      <td>173</td>\n      <td>10459</td>\n      <td>0.981072</td>\n    </tr>\n    <tr>\n      <th>173</th>\n      <td>174</td>\n      <td>10456</td>\n      <td>0.985020</td>\n    </tr>\n    <tr>\n      <th>174</th>\n      <td>175</td>\n      <td>10453</td>\n      <td>0.986133</td>\n    </tr>\n    <tr>\n      <th>175</th>\n      <td>176</td>\n      <td>10457</td>\n      <td>0.986700</td>\n    </tr>\n    <tr>\n      <th>176</th>\n      <td>177</td>\n      <td>10474</td>\n      <td>0.988667</td>\n    </tr>\n  </tbody>\n</table>\n<p>177 rows × 3 columns</p>\n</div>"
     },
     "metadata": {},
     "execution_count": 119
    }
   ],
   "source": [
    "svi_ranks['svirnk'] += 1\n",
    "svi_ranks"
   ]
  },
  {
   "cell_type": "code",
   "execution_count": 120,
   "metadata": {},
   "outputs": [
    {
     "output_type": "execute_result",
     "data": {
      "text/plain": [
       "svirnk       int64\n",
       "modzcta      int64\n",
       "avgsvi     float64\n",
       "dtype: object"
      ]
     },
     "metadata": {},
     "execution_count": 120
    }
   ],
   "source": [
    "svi_ranks.dtypes"
   ]
  },
  {
   "cell_type": "code",
   "execution_count": 121,
   "metadata": {},
   "outputs": [
    {
     "output_type": "execute_result",
     "data": {
      "text/plain": [
       "     infornk  modzcta      perc  physrnk      mindist\n",
       "0         23    10001  0.088226      101  2127.586765\n",
       "1        176    10002  0.340227       20   347.843275\n",
       "2         18    10003  0.076624       44   829.635901\n",
       "3          6    10004  0.013412       78  1595.998236\n",
       "4          5    10005  0.013202       57  1158.106371\n",
       "..       ...      ...       ...      ...          ...\n",
       "172      146    11691  0.218807      170  7645.212152\n",
       "173      127    11692  0.195215      174  9228.797828\n",
       "174      111    11693  0.179829      175  9599.731907\n",
       "175       93    11694  0.156592      173  8848.240451\n",
       "176       53    11697  0.121378      164  5641.733786\n",
       "\n",
       "[177 rows x 5 columns]"
      ],
      "text/html": "<div>\n<style scoped>\n    .dataframe tbody tr th:only-of-type {\n        vertical-align: middle;\n    }\n\n    .dataframe tbody tr th {\n        vertical-align: top;\n    }\n\n    .dataframe thead th {\n        text-align: right;\n    }\n</style>\n<table border=\"1\" class=\"dataframe\">\n  <thead>\n    <tr style=\"text-align: right;\">\n      <th></th>\n      <th>infornk</th>\n      <th>modzcta</th>\n      <th>perc</th>\n      <th>physrnk</th>\n      <th>mindist</th>\n    </tr>\n  </thead>\n  <tbody>\n    <tr>\n      <th>0</th>\n      <td>23</td>\n      <td>10001</td>\n      <td>0.088226</td>\n      <td>101</td>\n      <td>2127.586765</td>\n    </tr>\n    <tr>\n      <th>1</th>\n      <td>176</td>\n      <td>10002</td>\n      <td>0.340227</td>\n      <td>20</td>\n      <td>347.843275</td>\n    </tr>\n    <tr>\n      <th>2</th>\n      <td>18</td>\n      <td>10003</td>\n      <td>0.076624</td>\n      <td>44</td>\n      <td>829.635901</td>\n    </tr>\n    <tr>\n      <th>3</th>\n      <td>6</td>\n      <td>10004</td>\n      <td>0.013412</td>\n      <td>78</td>\n      <td>1595.998236</td>\n    </tr>\n    <tr>\n      <th>4</th>\n      <td>5</td>\n      <td>10005</td>\n      <td>0.013202</td>\n      <td>57</td>\n      <td>1158.106371</td>\n    </tr>\n    <tr>\n      <th>...</th>\n      <td>...</td>\n      <td>...</td>\n      <td>...</td>\n      <td>...</td>\n      <td>...</td>\n    </tr>\n    <tr>\n      <th>172</th>\n      <td>146</td>\n      <td>11691</td>\n      <td>0.218807</td>\n      <td>170</td>\n      <td>7645.212152</td>\n    </tr>\n    <tr>\n      <th>173</th>\n      <td>127</td>\n      <td>11692</td>\n      <td>0.195215</td>\n      <td>174</td>\n      <td>9228.797828</td>\n    </tr>\n    <tr>\n      <th>174</th>\n      <td>111</td>\n      <td>11693</td>\n      <td>0.179829</td>\n      <td>175</td>\n      <td>9599.731907</td>\n    </tr>\n    <tr>\n      <th>175</th>\n      <td>93</td>\n      <td>11694</td>\n      <td>0.156592</td>\n      <td>173</td>\n      <td>8848.240451</td>\n    </tr>\n    <tr>\n      <th>176</th>\n      <td>53</td>\n      <td>11697</td>\n      <td>0.121378</td>\n      <td>164</td>\n      <td>5641.733786</td>\n    </tr>\n  </tbody>\n</table>\n<p>177 rows × 5 columns</p>\n</div>"
     },
     "metadata": {},
     "execution_count": 121
    }
   ],
   "source": [
    "ranks"
   ]
  },
  {
   "cell_type": "code",
   "execution_count": 122,
   "metadata": {},
   "outputs": [
    {
     "output_type": "execute_result",
     "data": {
      "text/plain": [
       "     infornk  modzcta      perc  physrnk      mindist  svirnk    avgsvi\n",
       "0         23    10001  0.088226      101  2127.586765      33  0.373329\n",
       "1        176    10002  0.340227       20   347.843275     139  0.779647\n",
       "2         18    10003  0.076624       44   829.635901      25  0.323569\n",
       "3          6    10004  0.013412       78  1595.998236       3  0.178840\n",
       "4          5    10005  0.013202       57  1158.106371       5  0.192400\n",
       "..       ...      ...       ...      ...          ...     ...       ...\n",
       "172      146    11691  0.218807      170  7645.212152     161  0.906325\n",
       "173      127    11692  0.195215      174  9228.797828     162  0.906629\n",
       "174      111    11693  0.179829      175  9599.731907      86  0.620375\n",
       "175       93    11694  0.156592      173  8848.240451      52  0.477767\n",
       "176       53    11697  0.121378      164  5641.733786      16  0.246600\n",
       "\n",
       "[177 rows x 7 columns]"
      ],
      "text/html": "<div>\n<style scoped>\n    .dataframe tbody tr th:only-of-type {\n        vertical-align: middle;\n    }\n\n    .dataframe tbody tr th {\n        vertical-align: top;\n    }\n\n    .dataframe thead th {\n        text-align: right;\n    }\n</style>\n<table border=\"1\" class=\"dataframe\">\n  <thead>\n    <tr style=\"text-align: right;\">\n      <th></th>\n      <th>infornk</th>\n      <th>modzcta</th>\n      <th>perc</th>\n      <th>physrnk</th>\n      <th>mindist</th>\n      <th>svirnk</th>\n      <th>avgsvi</th>\n    </tr>\n  </thead>\n  <tbody>\n    <tr>\n      <th>0</th>\n      <td>23</td>\n      <td>10001</td>\n      <td>0.088226</td>\n      <td>101</td>\n      <td>2127.586765</td>\n      <td>33</td>\n      <td>0.373329</td>\n    </tr>\n    <tr>\n      <th>1</th>\n      <td>176</td>\n      <td>10002</td>\n      <td>0.340227</td>\n      <td>20</td>\n      <td>347.843275</td>\n      <td>139</td>\n      <td>0.779647</td>\n    </tr>\n    <tr>\n      <th>2</th>\n      <td>18</td>\n      <td>10003</td>\n      <td>0.076624</td>\n      <td>44</td>\n      <td>829.635901</td>\n      <td>25</td>\n      <td>0.323569</td>\n    </tr>\n    <tr>\n      <th>3</th>\n      <td>6</td>\n      <td>10004</td>\n      <td>0.013412</td>\n      <td>78</td>\n      <td>1595.998236</td>\n      <td>3</td>\n      <td>0.178840</td>\n    </tr>\n    <tr>\n      <th>4</th>\n      <td>5</td>\n      <td>10005</td>\n      <td>0.013202</td>\n      <td>57</td>\n      <td>1158.106371</td>\n      <td>5</td>\n      <td>0.192400</td>\n    </tr>\n    <tr>\n      <th>...</th>\n      <td>...</td>\n      <td>...</td>\n      <td>...</td>\n      <td>...</td>\n      <td>...</td>\n      <td>...</td>\n      <td>...</td>\n    </tr>\n    <tr>\n      <th>172</th>\n      <td>146</td>\n      <td>11691</td>\n      <td>0.218807</td>\n      <td>170</td>\n      <td>7645.212152</td>\n      <td>161</td>\n      <td>0.906325</td>\n    </tr>\n    <tr>\n      <th>173</th>\n      <td>127</td>\n      <td>11692</td>\n      <td>0.195215</td>\n      <td>174</td>\n      <td>9228.797828</td>\n      <td>162</td>\n      <td>0.906629</td>\n    </tr>\n    <tr>\n      <th>174</th>\n      <td>111</td>\n      <td>11693</td>\n      <td>0.179829</td>\n      <td>175</td>\n      <td>9599.731907</td>\n      <td>86</td>\n      <td>0.620375</td>\n    </tr>\n    <tr>\n      <th>175</th>\n      <td>93</td>\n      <td>11694</td>\n      <td>0.156592</td>\n      <td>173</td>\n      <td>8848.240451</td>\n      <td>52</td>\n      <td>0.477767</td>\n    </tr>\n    <tr>\n      <th>176</th>\n      <td>53</td>\n      <td>11697</td>\n      <td>0.121378</td>\n      <td>164</td>\n      <td>5641.733786</td>\n      <td>16</td>\n      <td>0.246600</td>\n    </tr>\n  </tbody>\n</table>\n<p>177 rows × 7 columns</p>\n</div>"
     },
     "metadata": {},
     "execution_count": 122
    }
   ],
   "source": [
    "allrnks = ranks.join(svi_ranks.set_index('modzcta'), on='modzcta')\n",
    "allrnks"
   ]
  },
  {
   "cell_type": "code",
   "execution_count": 123,
   "metadata": {},
   "outputs": [
    {
     "output_type": "execute_result",
     "data": {
      "text/plain": [
       "177"
      ]
     },
     "metadata": {},
     "execution_count": 123
    }
   ],
   "source": [
    "len(allrnks)"
   ]
  },
  {
   "cell_type": "code",
   "execution_count": 124,
   "metadata": {},
   "outputs": [
    {
     "output_type": "execute_result",
     "data": {
      "text/plain": [
       "      infornk  modzcta      perc   physrnk      mindist    svirnk    avgsvi\n",
       "0    0.129944    10001  0.088226  0.570621  2127.586765  0.186441  0.373329\n",
       "1    0.994350    10002  0.340227  0.112994   347.843275  0.785311  0.779647\n",
       "2    0.101695    10003  0.076624  0.248588   829.635901  0.141243  0.323569\n",
       "3    0.033898    10004  0.013412  0.440678  1595.998236  0.016949  0.178840\n",
       "4    0.028249    10005  0.013202  0.322034  1158.106371  0.028249  0.192400\n",
       "..        ...      ...       ...       ...          ...       ...       ...\n",
       "172  0.824859    11691  0.218807  0.960452  7645.212152  0.909605  0.906325\n",
       "173  0.717514    11692  0.195215  0.983051  9228.797828  0.915254  0.906629\n",
       "174  0.627119    11693  0.179829  0.988701  9599.731907  0.485876  0.620375\n",
       "175  0.525424    11694  0.156592  0.977401  8848.240451  0.293785  0.477767\n",
       "176  0.299435    11697  0.121378  0.926554  5641.733786  0.090395  0.246600\n",
       "\n",
       "[177 rows x 7 columns]"
      ],
      "text/html": "<div>\n<style scoped>\n    .dataframe tbody tr th:only-of-type {\n        vertical-align: middle;\n    }\n\n    .dataframe tbody tr th {\n        vertical-align: top;\n    }\n\n    .dataframe thead th {\n        text-align: right;\n    }\n</style>\n<table border=\"1\" class=\"dataframe\">\n  <thead>\n    <tr style=\"text-align: right;\">\n      <th></th>\n      <th>infornk</th>\n      <th>modzcta</th>\n      <th>perc</th>\n      <th>physrnk</th>\n      <th>mindist</th>\n      <th>svirnk</th>\n      <th>avgsvi</th>\n    </tr>\n  </thead>\n  <tbody>\n    <tr>\n      <th>0</th>\n      <td>0.129944</td>\n      <td>10001</td>\n      <td>0.088226</td>\n      <td>0.570621</td>\n      <td>2127.586765</td>\n      <td>0.186441</td>\n      <td>0.373329</td>\n    </tr>\n    <tr>\n      <th>1</th>\n      <td>0.994350</td>\n      <td>10002</td>\n      <td>0.340227</td>\n      <td>0.112994</td>\n      <td>347.843275</td>\n      <td>0.785311</td>\n      <td>0.779647</td>\n    </tr>\n    <tr>\n      <th>2</th>\n      <td>0.101695</td>\n      <td>10003</td>\n      <td>0.076624</td>\n      <td>0.248588</td>\n      <td>829.635901</td>\n      <td>0.141243</td>\n      <td>0.323569</td>\n    </tr>\n    <tr>\n      <th>3</th>\n      <td>0.033898</td>\n      <td>10004</td>\n      <td>0.013412</td>\n      <td>0.440678</td>\n      <td>1595.998236</td>\n      <td>0.016949</td>\n      <td>0.178840</td>\n    </tr>\n    <tr>\n      <th>4</th>\n      <td>0.028249</td>\n      <td>10005</td>\n      <td>0.013202</td>\n      <td>0.322034</td>\n      <td>1158.106371</td>\n      <td>0.028249</td>\n      <td>0.192400</td>\n    </tr>\n    <tr>\n      <th>...</th>\n      <td>...</td>\n      <td>...</td>\n      <td>...</td>\n      <td>...</td>\n      <td>...</td>\n      <td>...</td>\n      <td>...</td>\n    </tr>\n    <tr>\n      <th>172</th>\n      <td>0.824859</td>\n      <td>11691</td>\n      <td>0.218807</td>\n      <td>0.960452</td>\n      <td>7645.212152</td>\n      <td>0.909605</td>\n      <td>0.906325</td>\n    </tr>\n    <tr>\n      <th>173</th>\n      <td>0.717514</td>\n      <td>11692</td>\n      <td>0.195215</td>\n      <td>0.983051</td>\n      <td>9228.797828</td>\n      <td>0.915254</td>\n      <td>0.906629</td>\n    </tr>\n    <tr>\n      <th>174</th>\n      <td>0.627119</td>\n      <td>11693</td>\n      <td>0.179829</td>\n      <td>0.988701</td>\n      <td>9599.731907</td>\n      <td>0.485876</td>\n      <td>0.620375</td>\n    </tr>\n    <tr>\n      <th>175</th>\n      <td>0.525424</td>\n      <td>11694</td>\n      <td>0.156592</td>\n      <td>0.977401</td>\n      <td>8848.240451</td>\n      <td>0.293785</td>\n      <td>0.477767</td>\n    </tr>\n    <tr>\n      <th>176</th>\n      <td>0.299435</td>\n      <td>11697</td>\n      <td>0.121378</td>\n      <td>0.926554</td>\n      <td>5641.733786</td>\n      <td>0.090395</td>\n      <td>0.246600</td>\n    </tr>\n  </tbody>\n</table>\n<p>177 rows × 7 columns</p>\n</div>"
     },
     "metadata": {},
     "execution_count": 124
    }
   ],
   "source": [
    "allrnks['infornk'] = allrnks['infornk'] / 177\n",
    "allrnks['physrnk'] = allrnks['physrnk'] / 177\n",
    "allrnks['svirnk'] = allrnks['svirnk'] / 177\n",
    "allrnks"
   ]
  },
  {
   "cell_type": "code",
   "execution_count": 125,
   "metadata": {},
   "outputs": [],
   "source": [
    "allrnks.to_csv('../datas/8-svi_rnks-fixed.csv', index=False)"
   ]
  },
  {
   "source": [
    "# internet range"
   ],
   "cell_type": "markdown",
   "metadata": {}
  },
  {
   "cell_type": "code",
   "execution_count": 126,
   "metadata": {},
   "outputs": [
    {
     "output_type": "execute_result",
     "data": {
      "text/plain": [
       "     modzcta  no highschool  highschool   college      perc\n",
       "0      11370       0.186111    0.535966  0.277922  0.146145\n",
       "1      10473       0.241479    0.578220  0.180301  0.205641\n",
       "2      10454       0.414125    0.499723  0.086152  0.330787\n",
       "3      10455       0.366078    0.496865  0.137058  0.276181\n",
       "4      10472       0.373730    0.502283  0.123987  0.257344\n",
       "..       ...            ...         ...       ...       ...\n",
       "172    10312       0.068602    0.593879  0.337519  0.101062\n",
       "173    10314       0.097319    0.555236  0.347445  0.119923\n",
       "174    10307       0.073383    0.565547  0.361071  0.115211\n",
       "175    10309       0.075594    0.573091  0.351315  0.118634\n",
       "176    10303       0.189567    0.563822  0.246611  0.218108\n",
       "\n",
       "[177 rows x 5 columns]"
      ],
      "text/html": "<div>\n<style scoped>\n    .dataframe tbody tr th:only-of-type {\n        vertical-align: middle;\n    }\n\n    .dataframe tbody tr th {\n        vertical-align: top;\n    }\n\n    .dataframe thead th {\n        text-align: right;\n    }\n</style>\n<table border=\"1\" class=\"dataframe\">\n  <thead>\n    <tr style=\"text-align: right;\">\n      <th></th>\n      <th>modzcta</th>\n      <th>no highschool</th>\n      <th>highschool</th>\n      <th>college</th>\n      <th>perc</th>\n    </tr>\n  </thead>\n  <tbody>\n    <tr>\n      <th>0</th>\n      <td>11370</td>\n      <td>0.186111</td>\n      <td>0.535966</td>\n      <td>0.277922</td>\n      <td>0.146145</td>\n    </tr>\n    <tr>\n      <th>1</th>\n      <td>10473</td>\n      <td>0.241479</td>\n      <td>0.578220</td>\n      <td>0.180301</td>\n      <td>0.205641</td>\n    </tr>\n    <tr>\n      <th>2</th>\n      <td>10454</td>\n      <td>0.414125</td>\n      <td>0.499723</td>\n      <td>0.086152</td>\n      <td>0.330787</td>\n    </tr>\n    <tr>\n      <th>3</th>\n      <td>10455</td>\n      <td>0.366078</td>\n      <td>0.496865</td>\n      <td>0.137058</td>\n      <td>0.276181</td>\n    </tr>\n    <tr>\n      <th>4</th>\n      <td>10472</td>\n      <td>0.373730</td>\n      <td>0.502283</td>\n      <td>0.123987</td>\n      <td>0.257344</td>\n    </tr>\n    <tr>\n      <th>...</th>\n      <td>...</td>\n      <td>...</td>\n      <td>...</td>\n      <td>...</td>\n      <td>...</td>\n    </tr>\n    <tr>\n      <th>172</th>\n      <td>10312</td>\n      <td>0.068602</td>\n      <td>0.593879</td>\n      <td>0.337519</td>\n      <td>0.101062</td>\n    </tr>\n    <tr>\n      <th>173</th>\n      <td>10314</td>\n      <td>0.097319</td>\n      <td>0.555236</td>\n      <td>0.347445</td>\n      <td>0.119923</td>\n    </tr>\n    <tr>\n      <th>174</th>\n      <td>10307</td>\n      <td>0.073383</td>\n      <td>0.565547</td>\n      <td>0.361071</td>\n      <td>0.115211</td>\n    </tr>\n    <tr>\n      <th>175</th>\n      <td>10309</td>\n      <td>0.075594</td>\n      <td>0.573091</td>\n      <td>0.351315</td>\n      <td>0.118634</td>\n    </tr>\n    <tr>\n      <th>176</th>\n      <td>10303</td>\n      <td>0.189567</td>\n      <td>0.563822</td>\n      <td>0.246611</td>\n      <td>0.218108</td>\n    </tr>\n  </tbody>\n</table>\n<p>177 rows × 5 columns</p>\n</div>"
     },
     "metadata": {},
     "execution_count": 126
    }
   ],
   "source": [
    "internet = pandas.read_csv('../datas/2-InternetMerged.csv')\n",
    "internet"
   ]
  },
  {
   "cell_type": "code",
   "execution_count": 128,
   "metadata": {},
   "outputs": [
    {
     "output_type": "execute_result",
     "data": {
      "text/plain": [
       "0.0"
      ]
     },
     "metadata": {},
     "execution_count": 128
    }
   ],
   "source": [
    "internet['perc'].min()"
   ]
  },
  {
   "cell_type": "code",
   "execution_count": 129,
   "metadata": {},
   "outputs": [
    {
     "output_type": "execute_result",
     "data": {
      "text/plain": [
       "0.342007343"
      ]
     },
     "metadata": {},
     "execution_count": 129
    }
   ],
   "source": [
    "internet['perc'].max()"
   ]
  },
  {
   "cell_type": "code",
   "execution_count": null,
   "metadata": {},
   "outputs": [],
   "source": []
  }
 ]
}