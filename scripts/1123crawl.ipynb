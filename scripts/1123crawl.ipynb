{
 "metadata": {
  "language_info": {
   "codemirror_mode": {
    "name": "ipython",
    "version": 3
   },
   "file_extension": ".py",
   "mimetype": "text/x-python",
   "name": "python",
   "nbconvert_exporter": "python",
   "pygments_lexer": "ipython3",
   "version": "3.7.7-final"
  },
  "orig_nbformat": 2,
  "kernelspec": {
   "name": "python37664bit12f9c6bab4384a7f877256d950d8a987",
   "display_name": "Python 3.7.6 64-bit"
  }
 },
 "nbformat": 4,
 "nbformat_minor": 2,
 "cells": [
  {
   "cell_type": "code",
   "execution_count": 3,
   "metadata": {},
   "outputs": [],
   "source": [
    "import requests\n",
    "import bs4"
   ]
  },
  {
   "cell_type": "code",
   "execution_count": 4,
   "metadata": {},
   "outputs": [],
   "source": [
    "proxies = {\n",
    "    'https': 'https://127.0.0.1:58591',\n",
    "    'http': 'http://127.0.0.1:58591'\n",
    "}\n",
    "headers = {\n",
    "    'Referer': 'https://www.nychealthandhospitals.org/wp-content/themes/hhc/images/fb.png', \n",
    "    'User-Agent': 'Mozilla/5.0 (Macintosh; Intel Mac OS X 11_0_1) AppleWebKit/537.36 (KHTML, like Gecko) Chrome/87.0.4280.67 Safari/537.36'\n",
    "}"
   ]
  },
  {
   "cell_type": "code",
   "execution_count": 5,
   "metadata": {},
   "outputs": [],
   "source": [
    "url = 'https://www.nychealthandhospitals.org/covid-19-testing-sites/'\n",
    "res = requests.get(url, proxies=None, headers=headers)\n",
    "res.raise_for_status()\n",
    "res.encoding = 'utf-8'"
   ]
  },
  {
   "cell_type": "code",
   "execution_count": 6,
   "metadata": {},
   "outputs": [],
   "source": [
    "soup = bs4.BeautifulSoup(res.text, 'lxml')"
   ]
  },
  {
   "cell_type": "code",
   "execution_count": 7,
   "metadata": {},
   "outputs": [
    {
     "output_type": "execute_result",
     "data": {
      "text/plain": [
       "'\\n'"
      ]
     },
     "metadata": {},
     "execution_count": 7
    }
   ],
   "source": [
    "test = soup.find('h4', {'id': 'mobile'})\n",
    "test.nextSibling.nextSibling.nextSibling"
   ]
  },
  {
   "source": [
    "mobileTestingSites = []\n",
    "mobilehead = soup.find('h4', {'id': 'mobile'})\n",
    "mobilenext = mobilehead.nextSibling.nextSibling\n",
    "while mobilenext.name != 'h4':\n",
    "    mobileTestingSites.append(mobilenext.text)\n",
    "    mobilenext = mobilenext.nextSibling.nextSibling\n",
    "mobileTestingSites"
   ],
   "cell_type": "code",
   "metadata": {},
   "execution_count": 8,
   "outputs": [
    {
     "output_type": "execute_result",
     "data": {
      "text/plain": [
       "['NYCHA/Marcy Houses\\nOut front of Building #22, Marcy Houses Driveway Loop\\n602 Park Avenue\\nBrooklyn, NY 11206\\nMonday, Wednesday, & Friday, 10 a.m. – 4 p.m.\\nDates: November 23, 25, & 27\\n',\n",
       " 'NYCHA/Cypress Hills\\nBuilding #4 Parking Lot\\n1250 Sutter Avenue\\nBrooklyn, 11208\\nMonday, Wednesday, & Friday, 10 a.m. – 4 p.m.\\nDates: November 23, 25, & 27\\n']"
      ]
     },
     "metadata": {},
     "execution_count": 8
    }
   ]
  },
  {
   "cell_type": "code",
   "execution_count": 9,
   "metadata": {},
   "outputs": [
    {
     "output_type": "execute_result",
     "data": {
      "text/plain": [
       "['Regal Cinemas/United Artists Theater\\n2474 Forest Ave\\nStaten Island, NY 10303\\n8 a.m. – 6 p.m.\\nDates: November 24, 25, 27, 28, 29\\n',\n",
       " 'Penn Station Arrivals Hall\\nW 31st St & 8th Ave\\nNew York, NY 10001\\nMonday – Friday, 8 a.m. – 6:30 p.m.\\n',\n",
       " 'Port Authority Bus Terminal\\n625 8th Ave\\nNew York, NY 10018\\nMonday – Friday, 8 a.m. – 6:30 p.m.\\n',\n",
       " 'Shri Shaki Mariammen Temple\\n105-20 101 Avenue\\nOzone Park, NY 11419\\nMonday, 10 a.m. – 4 p.m.\\nDate: November 23\\n',\n",
       " 'Shiloh Baptist Church\\n173-70 106th Avenue\\nJamaica, NY\\nTueaday, 12 p.m. – 4 p.m.\\nDate: November 24\\n']"
      ]
     },
     "metadata": {},
     "execution_count": 9
    }
   ],
   "source": [
    "selfTestingSites = []\n",
    "selfhead = soup.find('h4', {'id': 'self'})\n",
    "selfnext = selfhead.nextSibling.nextSibling\n",
    "while selfnext.name != 'h4':\n",
    "    selfTestingSites.append(selfnext.text)\n",
    "    selfnext = selfnext.nextSibling.nextSibling\n",
    "selfTestingSites"
   ]
  },
  {
   "cell_type": "code",
   "execution_count": 10,
   "metadata": {},
   "outputs": [
    {
     "output_type": "execute_result",
     "data": {
      "text/plain": [
       "['51-30 Northern Boulevard\\n51-30 Northern Boulevard\\nWoodside, NY 11377\\nMonday – Sunday, 9 a.m. – 7 p.m.\\n',\n",
       " 'Borough Park\\n4002 Fort Hamilton Pkwy\\nBrooklyn, NY 11218\\nMonday – Sunday, 9 a.m. – 7 p.m.',\n",
       " 'Far Rockaway\\n39-20 Rockaway Beach Boulevard\\nQueens, NY 11691\\nMonday – Sunday, 9 a.m. – 7 p.m. ',\n",
       " 'Bensonhurst\\n6315 14th Avenue\\nBrooklyn, NY 11219\\nMonday – Sunday, 9 a.m. – 7 p.m.\\n',\n",
       " 'Edward Grant\\n1302 Edward L Grant Highway (Entrance on W 169th and Cromwell)\\nBronx, NY 10452\\nMonday – Sunday, 9 a.m. – 7 p.m.',\n",
       " 'Kew Gardens Hills Library\\n72-33 Vleigh Pl\\nQueens, NY 11367\\nMonday – Sunday, 9 a.m. – 7 p.m.\\n',\n",
       " 'Midwood Pre-K\\n1223 Coney Island Avenue\\nBrooklyn, NY 11230\\nMonday – Sunday, 9 a.m. – 7 p.m. ',\n",
       " 'Mt. Loretto Sportsplex\\n6581 Hylan Boulevard\\nStaten Island, NY, 10309\\nMonday – Sunday, 9 a.m. – 7 p.m.\\n',\n",
       " 'St James Rec Center\\n2530 Jerome Avenue\\nBronx, NY 10468\\nMonday – Sunday, 9 a.m. – 7 p.m.\\n',\n",
       " 'Starrett City\\n1279 Pennsylvania Ave\\nBrooklyn, NY 11239\\nMonday – Sunday, 9 a.m – 7 p.m.',\n",
       " 'Staten Island Ferry Terminal\\n1 Bay St, Retail Space 103 (Level 1 of the Ferry Terminal, next to the North Shore Esplanade exit)\\nStaten Island, NY 10301\\nMonday – Sunday, 9 a.m. – 7 p.m.\\n',\n",
       " 'Queens Public Library at Lefferts\\n103-34 Lefferts Blvd\\nSouth Richmond Hill, NY 11419\\nMonday – Sunday, 9 a.m. – 7 p.m.\\n']"
      ]
     },
     "metadata": {},
     "execution_count": 10
    }
   ],
   "source": [
    "rapidPointOfCareTesting = []\n",
    "rapidhead = soup.find('h4', {'id': 'rapid'})\n",
    "rapidnext = rapidhead.nextSibling.nextSibling\n",
    "while rapidnext.name != 'h4':\n",
    "    rapidPointOfCareTesting.append(rapidnext.text)\n",
    "    rapidnext = rapidnext.nextSibling.nextSibling\n",
    "rapidPointOfCareTesting"
   ]
  },
  {
   "source": [
    "# hospitals"
   ],
   "cell_type": "markdown",
   "metadata": {}
  },
  {
   "cell_type": "code",
   "execution_count": 11,
   "metadata": {},
   "outputs": [],
   "source": [
    "url2 = 'https://www.nychealthandhospitals.org/covid-19-testing-sites/'\n",
    "res2 = requests.get(url + 'hospitals/', proxies=None, headers=headers)\n",
    "res2.raise_for_status()\n",
    "res2.encoding = 'utf-8'"
   ]
  },
  {
   "cell_type": "code",
   "execution_count": 12,
   "metadata": {},
   "outputs": [],
   "source": [
    "soup2 = bs4.BeautifulSoup(res2.text, 'lxml')"
   ]
  },
  {
   "cell_type": "code",
   "execution_count": 13,
   "metadata": {},
   "outputs": [
    {
     "output_type": "execute_result",
     "data": {
      "text/plain": [
       "'NYC Health + Hospitals/Jacobi\\n1400 Pelham Parkway South\\nBronx, New York 10461\\n718-918-5000'"
      ]
     },
     "metadata": {},
     "execution_count": 13
    }
   ],
   "source": [
    "test2 = soup2.find('h3', {'class': 'title-city'})\n",
    "test2.nextSibling.nextSibling.li.text"
   ]
  },
  {
   "cell_type": "code",
   "execution_count": 14,
   "metadata": {},
   "outputs": [],
   "source": [
    "test2.nextSibling.nextSibling.nextSibling.nextSibling.nextSibling.nextSibling.nextSibling.nextSibling"
   ]
  },
  {
   "cell_type": "code",
   "execution_count": 15,
   "metadata": {},
   "outputs": [
    {
     "output_type": "execute_result",
     "data": {
      "text/plain": [
       "{'BRONX': ['NYC Health + Hospitals/Jacobi\\n1400 Pelham Parkway South\\nBronx, New York 10461\\n718-918-5000',\n",
       "  'NYC Health + Hospitals/Lincoln\\n234 East 149th Street\\nBronx, New York 10451\\n718-579-5000',\n",
       "  'NYC Health + Hospitals/North Central Bronx\\n3424 Kossuth Avenue\\nBronx, New York 10467\\nAppointments: 844-692-4692\\nGeneral Information: 718-918-5700'],\n",
       " 'BROOKLYN': ['NYC Health + Hospitals/Coney Island\\n2601 Ocean Parkway\\nBrooklyn, New York 11235\\n718-616-3000',\n",
       "  'NYC Health + Hospitals/Kings County\\n451 Clarkson Avenue\\nBrooklyn, New York 11203\\n718-245-3131',\n",
       "  'NYC Health + Hospitals/Woodhull\\n760 Broadway\\nBrooklyn, New York 11206\\n718-963-8000'],\n",
       " 'MANHATTAN': ['NYC Health + Hospitals/Bellevue\\n462 First Avenue\\nNew York, New York 10016\\n212-562-5555',\n",
       "  'NYC Health + Hospitals/Harlem\\n506 Lenox Avenue\\nNew York, New York 10037\\n212-939-1000',\n",
       "  'NYC Health + Hospitals/Metropolitan\\n1901 First Avenue\\nNew York, New York 10029\\n212-423-6262'],\n",
       " 'QUEENS': ['NYC Health + Hospitals/Elmhurst\\n79-01 Broadway\\nElmhurst, New York 11373\\n718-334-4000',\n",
       "  'NYC Health + Hospitals/Queens\\n82-68 164th Street\\nJamaica, New York 11432\\n718-883-3000']}"
      ]
     },
     "metadata": {},
     "execution_count": 15
    }
   ],
   "source": [
    "cities = soup2.findAll('h3', {'class': 'title-city'})\n",
    "sites = {}\n",
    "for city in cities:\n",
    "    citylist = []\n",
    "    nextsite = city.nextSibling.nextSibling\n",
    "    while nextsite != None:\n",
    "        citylist.append(nextsite.li.text)\n",
    "        nextsite = nextsite.nextSibling.nextSibling\n",
    "    sites[city.text] = citylist\n",
    "sites"
   ]
  },
  {
   "cell_type": "code",
   "execution_count": 16,
   "metadata": {},
   "outputs": [],
   "source": [
    "res3 = requests.get(url + 'community-healthcare-centers/', proxies=None, headers=headers)\n",
    "res3.raise_for_status()\n",
    "res3.encoding = 'utf-8'\n",
    "soup3 = bs4.BeautifulSoup(res3.text, 'lxml')"
   ]
  },
  {
   "cell_type": "code",
   "execution_count": 17,
   "metadata": {},
   "outputs": [
    {
     "output_type": "execute_result",
     "data": {
      "text/plain": [
       "'NYC Health + Hospitals/Gotham Health\\nTremont\\n1826 Arthur Avenue\\n646-815-9700\\n'"
      ]
     },
     "metadata": {},
     "execution_count": 17
    }
   ],
   "source": [
    "test3 = soup3.find('h3', {'class': 'title-city'})\n",
    "test3.nextSibling.nextSibling.nextSibling.nextSibling.text"
   ]
  },
  {
   "cell_type": "code",
   "execution_count": 18,
   "metadata": {},
   "outputs": [
    {
     "output_type": "execute_result",
     "data": {
      "text/plain": [
       "[<h3 class=\"title-city\">BRONX</h3>,\n",
       " <h3 class=\"title-city\">MANHATTAN</h3>,\n",
       " <h3 class=\"title-city\">QUEENS</h3>,\n",
       " <h3 class=\"title-city\">BROOKLYN</h3>,\n",
       " <h3 class=\"title-city\">STATEN ISLAND</h3>]"
      ]
     },
     "metadata": {},
     "execution_count": 18
    }
   ],
   "source": [
    "cities3 = soup3.findAll('h3', {'class': 'title-city'})\n",
    "cities3"
   ]
  },
  {
   "cell_type": "code",
   "execution_count": 23,
   "metadata": {},
   "outputs": [
    {
     "output_type": "execute_result",
     "data": {
      "text/plain": [
       "{'BRONX': ['NYC Health + Hospitals/Gotham Health\\nGunhill\\n1012 East Gunhill Road\\nBronx, NY 10469\\n718-918-8850',\n",
       "  'NYC Health + Hospitals/Gotham Health\\nTremont\\n1826 Arthur Avenue\\n646-815-9700\\n',\n",
       "  'NYC Health + Hospitals/Gotham Health\\nJudson\\n34 Spring Street\\nNew York, NY 10012\\n212-925-5000',\n",
       "  'NYC Health + Hospitals/Gotham Health\\nRoberto Clemente\\n540 East 13th Street\\nNew York, NY 10009\\n212-387-7400',\n",
       "  'NYC Health + Hospitals/Gotham Health\\nLa Clinica Del Barrio\\n413 East 120th Street\\nNew York, NY 10035\\n212-410-7940',\n",
       "  'NYC Health + Hospitals/Gotham Health\\nSt. Nicholas\\n281 West 127th Street\\nNew York, NY 10027\\n212-865-1300',\n",
       "  'NYC Health + Hospitals/Gotham Health\\nDyckman-Clinica de Las Americas\\n175 Nagle Avenue\\nNew York, NY 10034\\n212-544-2001\\n',\n",
       "  'NYC Health + Hospitals/Gotham Health\\nJackson Heights\\n34-33 Junction Boulevard\\nQueens, NY 11372\\n718-334-6150',\n",
       "  'NYC Health + Hospitals/Gotham Health\\nWomen’s Health Center\\n59-17 Junction Boulevard\\nQueens, NY 11368\\n718-334-6300',\n",
       "  'NYC Health + Hospitals/Gotham Health\\nRidgewood\\n769 Onderdonk Avenue\\nQueens, NY 11385\\n718-334-6190',\n",
       "  'NYC Health + Hospitals/Gotham Health\\nParsons\\n90-37 Parsons Boulevard\\nQueens, NY 11432\\n718-334-6440',\n",
       "  'NYC Health + Hospitals/Gotham Health\\nSpringfield Gardens\\n134-64 Springfield Boulevard\\nQueens, NY 11413\\n718-334-6800',\n",
       "  'NYC Health + Hospitals/Gotham Health\\nSouth Queens\\n114-02 Guy R. Brewer Boulevard\\nQueens, NY 11434\\n718-883-6699',\n",
       "  'NYC Health + Hospitals/Gotham Health\\nWoodside\\n50-53 Newtown Road\\nQueens, NY 11377\\n718-334-6140\\n'],\n",
       " 'MANHATTAN': ['NYC Health + Hospitals/Gotham Health\\nJudson\\n34 Spring Street\\nNew York, NY 10012\\n212-925-5000',\n",
       "  'NYC Health + Hospitals/Gotham Health\\nRoberto Clemente\\n540 East 13th Street\\nNew York, NY 10009\\n212-387-7400',\n",
       "  'NYC Health + Hospitals/Gotham Health\\nLa Clinica Del Barrio\\n413 East 120th Street\\nNew York, NY 10035\\n212-410-7940',\n",
       "  'NYC Health + Hospitals/Gotham Health\\nSt. Nicholas\\n281 West 127th Street\\nNew York, NY 10027\\n212-865-1300',\n",
       "  'NYC Health + Hospitals/Gotham Health\\nDyckman-Clinica de Las Americas\\n175 Nagle Avenue\\nNew York, NY 10034\\n212-544-2001\\n',\n",
       "  'NYC Health + Hospitals/Gotham Health\\nJackson Heights\\n34-33 Junction Boulevard\\nQueens, NY 11372\\n718-334-6150',\n",
       "  'NYC Health + Hospitals/Gotham Health\\nWomen’s Health Center\\n59-17 Junction Boulevard\\nQueens, NY 11368\\n718-334-6300',\n",
       "  'NYC Health + Hospitals/Gotham Health\\nRidgewood\\n769 Onderdonk Avenue\\nQueens, NY 11385\\n718-334-6190',\n",
       "  'NYC Health + Hospitals/Gotham Health\\nParsons\\n90-37 Parsons Boulevard\\nQueens, NY 11432\\n718-334-6440',\n",
       "  'NYC Health + Hospitals/Gotham Health\\nSpringfield Gardens\\n134-64 Springfield Boulevard\\nQueens, NY 11413\\n718-334-6800',\n",
       "  'NYC Health + Hospitals/Gotham Health\\nSouth Queens\\n114-02 Guy R. Brewer Boulevard\\nQueens, NY 11434\\n718-883-6699',\n",
       "  'NYC Health + Hospitals/Gotham Health\\nWoodside\\n50-53 Newtown Road\\nQueens, NY 11377\\n718-334-6140\\n'],\n",
       " 'QUEENS': ['NYC Health + Hospitals/Gotham Health\\nJackson Heights\\n34-33 Junction Boulevard\\nQueens, NY 11372\\n718-334-6150',\n",
       "  'NYC Health + Hospitals/Gotham Health\\nWomen’s Health Center\\n59-17 Junction Boulevard\\nQueens, NY 11368\\n718-334-6300',\n",
       "  'NYC Health + Hospitals/Gotham Health\\nRidgewood\\n769 Onderdonk Avenue\\nQueens, NY 11385\\n718-334-6190',\n",
       "  'NYC Health + Hospitals/Gotham Health\\nParsons\\n90-37 Parsons Boulevard\\nQueens, NY 11432\\n718-334-6440',\n",
       "  'NYC Health + Hospitals/Gotham Health\\nSpringfield Gardens\\n134-64 Springfield Boulevard\\nQueens, NY 11413\\n718-334-6800',\n",
       "  'NYC Health + Hospitals/Gotham Health\\nSouth Queens\\n114-02 Guy R. Brewer Boulevard\\nQueens, NY 11434\\n718-883-6699',\n",
       "  'NYC Health + Hospitals/Gotham Health\\nWoodside\\n50-53 Newtown Road\\nQueens, NY 11377\\n718-334-6140\\n'],\n",
       " 'BROOKLYN': ['NYC Health + Hospitals/Gotham Health\\nBedford\\n485 Throop Avenue\\nBrooklyn, New York 11221',\n",
       "  'NYC Health + Hospitals/Gotham Health\\nBushwick\\n335 Central Avenue\\nBrooklyn, NY 11221\\n718-573-4860',\n",
       "  'NYC Health + Hospitals/Gotham Health\\nGreenpoint\\n875 Manhattan Avenue\\nBrooklyn, NY 11222\\n718-630-3220',\n",
       "  'NYC Health + Hospitals/Gotham Health\\nWilliamsburg\\n279 Graham Avenue\\nBrooklyn, NY 11211\\n718-384-0563 ',\n",
       "  'NYC Health + Hospitals/Gotham Health\\nFort Greene\\n295 Flatbush Avenue Extension\\nBrooklyn, NY 11201\\n718-388-5889',\n",
       "  'NYC Health + Hospitals/Gotham Health\\nSumner\\n47 Marcus Garvey Boulevard\\nBrooklyn, NY 11206\\n718-455-3884 ',\n",
       "  'NYC Health + Hospitals/Gotham Health\\nJonathan Williams\\n333 Roebling Street\\nBrooklyn, NY 11211\\n718-387-6470',\n",
       "  'NYC Health + Hospitals/Gotham Health\\nBrownsville\\n259 Bristol Street\\nBrooklyn, NY 11212\\n718-495-7283',\n",
       "  'NYC Health + Hospitals/Gotham Health\\nCrown Heights\\n1218 Prospect Place\\nBrooklyn, NY 11213\\n718-388-5889',\n",
       "  'NYC Health + Hospitals/Gotham Health\\nIda G. Israel\\n2925 West 19th Street\\nBrooklyn, NY 11224\\n844-872-6639\\n',\n",
       "  'NYC Health + Hospitals/Gotham Health\\nHomecrest\\n1601 Avenue S\\nBrooklyn, NY 11229\\n718-616-5102\\n',\n",
       "  'NYC Health + Hospitals/Gotham Health\\nMariner’s Harbor\\n2040 Forest Avenue\\nStaten Island, NY 10303\\n718-266-6328\\n'],\n",
       " 'STATEN ISLAND': ['NYC Health + Hospitals/Gotham Health\\nMariner’s Harbor\\n2040 Forest Avenue\\nStaten Island, NY 10303\\n718-266-6328\\n']}"
      ]
     },
     "metadata": {},
     "execution_count": 23
    }
   ],
   "source": [
    "sites = {}\n",
    "for city in cities3:\n",
    "    cityList = []\n",
    "    next = city.nextSibling.nextSibling\n",
    "    while True:\n",
    "        try:\n",
    "            next.name\n",
    "        except:\n",
    "            break\n",
    "        if next.name != 'h3':\n",
    "            if next.text != '':\n",
    "                cityList.append(next.text)\n",
    "        next = next.nextSibling.nextSibling\n",
    "    sites[city.text] = cityList\n",
    "sites"
   ]
  },
  {
   "cell_type": "code",
   "execution_count": 22,
   "metadata": {},
   "outputs": [],
   "source": [
    "cities3[-1].nextSibling.nextSibling.nextSibling.nextSibling"
   ]
  },
  {
   "cell_type": "code",
   "execution_count": 24,
   "metadata": {},
   "outputs": [],
   "source": [
    "res4 = requests.get(url + 'long-term-care-facilities/', proxies=None, headers=headers)\n",
    "res4.raise_for_status()\n",
    "res4.encoding = 'utf-8'\n",
    "soup4 = bs4.BeautifulSoup(res4.text, 'lxml')"
   ]
  },
  {
   "cell_type": "code",
   "execution_count": 25,
   "metadata": {},
   "outputs": [
    {
     "output_type": "execute_result",
     "data": {
      "text/plain": [
       "[<h3 class=\"title-city\">MANHATTAN</h3>,\n",
       " <h3 class=\"title-city\">BROOKLYN</h3>,\n",
       " <h3 class=\"title-city\">STATEN ISLAND</h3>]"
      ]
     },
     "metadata": {},
     "execution_count": 25
    }
   ],
   "source": [
    "cities4 = soup4.findAll('h3', {'class': 'title-city'})\n",
    "cities4"
   ]
  },
  {
   "cell_type": "code",
   "execution_count": 32,
   "metadata": {},
   "outputs": [
    {
     "output_type": "execute_result",
     "data": {
      "text/plain": [
       "<ul class=\"custom-bullet\">\n",
       "<li><a href=\"/seaview\" rel=\"noopener noreferrer\" target=\"_blank\">NYC Health + Hospitals/Sea View </a><br/>\n",
       "460 Brielle Avenue<br/>\n",
       "Staten Island, New York 10314<br/>\n",
       "<span class=\"tel_link\" data-mob=\"tel:718-317-3000\">718-317-3000</span></li>\n",
       "</ul>"
      ]
     },
     "metadata": {},
     "execution_count": 32
    }
   ],
   "source": [
    "cities4[2].nextSibling.nextSibling"
   ]
  },
  {
   "cell_type": "code",
   "execution_count": null,
   "metadata": {},
   "outputs": [],
   "source": []
  }
 ]
}