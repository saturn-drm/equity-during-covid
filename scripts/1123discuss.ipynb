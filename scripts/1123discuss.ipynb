{
 "metadata": {
  "language_info": {
   "codemirror_mode": {
    "name": "ipython",
    "version": 3
   },
   "file_extension": ".py",
   "mimetype": "text/x-python",
   "name": "python",
   "nbconvert_exporter": "python",
   "pygments_lexer": "ipython3",
   "version": "3.7.7-final"
  },
  "orig_nbformat": 2,
  "kernelspec": {
   "name": "python37664bit12f9c6bab4384a7f877256d950d8a987",
   "display_name": "Python 3.7.6 64-bit"
  }
 },
 "nbformat": 4,
 "nbformat_minor": 2,
 "cells": [
  {
   "source": [
    "import pandas\n",
    "path1 = '../datas/02-internet/ACS_Internet_Access_by_Education_Variables_-_Boundaries/Tract_2.csv'\n",
    "path2 = '../datas/02-internet/ACS_Internet_Connectivity_Variables_-_Boundaries/Tract_2.csv'\n",
    "\n",
    "df1 = pandas.read_csv(path1)\n",
    "df2 = pandas.read_csv(path2)\n"
   ],
   "cell_type": "code",
   "metadata": {},
   "execution_count": 9,
   "outputs": []
  },
  {
   "cell_type": "code",
   "execution_count": 10,
   "metadata": {},
   "outputs": [
    {
     "output_type": "stream",
     "name": "stdout",
     "text": [
      "Index(['Object ID', 'Geographic Identifier - FIPS Code',\n       'Area of Land (Square Meters)', 'Area of Water (Square Meters)', 'Name',\n       'State', 'County', 'Total Population 25 Years and Over in Households',\n       'Total Population 25 Years and Over in Households - Margin of Error',\n       'Population 25 Years and Over With Less Than High School Graduate or Equivalency in Households',\n       'Population 25 Years and Over With Less Than High School Graduate or Equivalency in Households - Margin of Error',\n       'All Population 25 Years and Over With Less Than High School Graduate or Equivalency in Households that Have a Computer',\n       'All Population 25 Years and Over With Less Than High School Graduate or Equivalency in Households that Have a Computer - Margin of Error',\n       'Population 25 Years and Over With Less Than High School Graduate or Equivalency in Households that Have a Computer with Dial-up Internet Subscription Alone',\n       'Population 25 Years and Over With Less Than High School Graduate or Equivalency in Households that Have a Computer with Dial-up Internet Subscription Alone - Margin of Error',\n       'Population 25 Years and Over With Less Than High School Graduate or Equivalency in Households that Have a Computer with a Broadband Internet Subscription',\n       'Population 25 Years and Over With Less Than High School Graduate or Equivalency in Households that Have a Computer with a Broadband Internet Subscription - Margin of Error',\n       'Population 25 Years and Over With Less Than High School Graduate or Equivalency in Households that Have a Computer without an Internet Subscription',\n       'Population 25 Years and Over With Less Than High School Graduate or Equivalency in Households that Have a Computer without an Internet Subscription - Margin of Error',\n       'Population 25 Years and Over With Less Than High School Graduate or Equivalency in Households that Have No Computer',\n       'Population 25 Years and Over With Less Than High School Graduate or Equivalency in Households that Have No Computer - Margin of Error',\n       'Population 25 Years and Over who are High School Graduates (Includes Equivalency) or Have Some College or Associate's Degree in Households',\n       'Population 25 Years and Over who are High School Graduates (Includes Equivalency) or Have Some College or Associate's Degree in Households - Margin of Error',\n       'All Population 25 Years and Over who are High School Graduates (Includes Equivalency) or Have Some College or Associate's Degree in Households that Have a Computer',\n       'All Population 25 Years and Over who are High School Graduates (Includes Equivalency) or Have Some College or Associate's Degree in Households that Have a Computer - Margin of Error',\n       'Population 25 Years and Over who are High School Graduates (Includes Equivalency) or Have Some College or Associate's Degree in Households that Have a Computer with Dial-up Internet Subscription Alone',\n       'Population 25 Years and Over who are High School Graduates (Includes Equivalency) or Have Some College or Associate's Degree in Households that Have a Computer with Dial-up Internet Subscription Alone - Margin of Error',\n       'Population 25 Years and Over who are High School Graduates (Includes Equivalency) or Have Some College or Associate's Degree in Households that Have a Computer with a Broadband Internet Subscription',\n       'Population 25 Years and Over who are High School Graduates (Includes Equivalency) or Have Some College or Associate's Degree in Households that Have a Computer with a Broadband Internet Subscription - Margin of Error',\n       'Population 25 Years and Over who are High School Graduates (Includes Equivalency) or Have Some College or Associate's Degree in Households that Have a Computer without an Internet Subscription',\n       'Population 25 Years and Over who are High School Graduates (Includes Equivalency) or Have Some College or Associate's Degree in Households that Have a Computer without an Internet Subscription - Margin of Error',\n       'Population 25 Years and Over who are High School Graduates (Includes Equivalency) or Have Some College or Associate's Degree in Households that Have No Computer',\n       'Population 25 Years and Over who are High School Graduates (Includes Equivalency) or Have Some College or Associate's Degree in Households that Have No Computer - Margin of Error',\n       'Population 25 Years and Over who Hold a Bachelor's Degree or Higher in Households',\n       'Population 25 Years and Over who Hold a Bachelor's Degree or Higher in Households - Margin of Error',\n       'All Population 25 Years and Over who Hold a Bachelor's Degree or Higher in Households that Have a Computer',\n       'All Population 25 Years and Over who Hold a Bachelor's Degree or Higher in Households that Have a Computer - Margin of Error',\n       'Population 25 Years and Over who Hold a Bachelor's Degree or Higher in Households that Have a Computer with Dial-up Internet Subscription Alone',\n       'Population 25 Years and Over who Hold a Bachelor's Degree or Higher in Households that Have a Computer with Dial-up Internet Subscription Alone - Margin of Error',\n       'Population 25 Years and Over who Hold a Bachelor's Degree or Higher in Households that Have a Computer with a Broadband Internet Subscription',\n       'Population 25 Years and Over who Hold a Bachelor's Degree or Higher in Households that Have a Computer with a Broadband Internet Subscription - Margin of Error',\n       'Population 25 Years and Over who Hold a Bachelor's Degree or Higher in Households that Have a Computer without an Internet Subsription',\n       'Population 25 Years and Over who Hold a Bachelor's Degree or Higher in Households that Have a Computer without an Internet Subsription - Margin of Error',\n       'Population 25 Years and Over who Hold a Bachelor's Degree or Higher in Households that Have No Computer',\n       'Population 25 Years and Over who Hold a Bachelor's Degree or Higher in Households that Have No Computer - Margin of Error',\n       'Population 25 Years and Over in Households that Have No Computer',\n       'Population 25 Years and Over in Households that Have No Computer - Margin of Error',\n       'Percent of Population 25 Years and Over in Households that Have No Computer',\n       'Percent of Population 25 Years and Over in Households that Have No Computer - Margin of Error',\n       'Percent of Population 25 Years and Over who are Not High School Graduates in Households that Have No Computer',\n       'Percent of Population 25 Years and Over who are Not High School Graduates in Households that Have No Computer - Margin of Error',\n       'Percent of Population 25 Years and Over who are High School Graduates (Includes Equivalency) or Have Some College or Associate's Degree in Households that Have No Computer',\n       'Percent of Population 25 Years and Over who are High School Graduates (Includes Equivalency) or Have Some College or Associate's Degree in Households that Have No Computer - Margin of Error',\n       'Percent of Population 25 Years and Over who Hold a Bachelor's Degree or Higher in Households that Have No Computer',\n       'Percent of Population 25 Years and Over who Hold a Bachelor's Degree or Higher in Households that Have No Computer - Margin of Error',\n       'Shape Area', 'Shape Length'],\n      dtype='object')\n"
     ]
    }
   ],
   "source": [
    "print(df1.columns)"
   ]
  },
  {
   "cell_type": "code",
   "execution_count": 11,
   "metadata": {},
   "outputs": [
    {
     "output_type": "stream",
     "name": "stdout",
     "text": [
      "Index(['Object ID', 'Geographic Identifier - FIPS Code',\n       'Area of Land (Square Meters)', 'Area of Water (Square Meters)', 'Name',\n       'State', 'County', 'Total households',\n       'Total households - Margin of Error',\n       'All Households that Have One or More Types of Computing Devices',\n       'All Households that Have One or More Types of Computing Devices - Margin of Error',\n       'All Households that Have a Desktop or Laptop',\n       'All Households that Have a Desktop or Laptop - Margin of Error',\n       'Households that have a Desktop or Laptop with No Other Type of Computing Device',\n       'Households that have a Desktop or Laptop with No Other Type of Computing Device - Margin of Error',\n       'All Households that Have a Smartphone',\n       'All Households that Have a Smartphone - Margin of Error',\n       'Households that Have a Smartphone with No Other Type of Computing Device',\n       'Households that Have a Smartphone with No Other Type of Computing Device - Margin of Error',\n       'All Households that Have a Tablet or Other Portable Wireless Computer',\n       'All Households that Have a Tablet or Other Portable Wireless Computer - Margin of Error',\n       'Households that Have a Tablet or Other Portable Wireless Computer with No Other Type of Computing Device',\n       'Households that Have a Tablet or Other Portable Wireless Computer with No Other Type of Computing Device - Margin of Error',\n       'All Households that Have an Other Computer',\n       'All Households that Have an Other Computer - Margin of Error',\n       'Households that Have an Other Computer with No Other Type of Computing Device',\n       'Households that Have an Other Computer with No Other Type of Computing Device - Margin of Error',\n       'Households that Have No Computer',\n       'Households that Have No Computer - Margin of Error',\n       'Percent of Households that Have No Computer, Smartphone, or Tablet',\n       'Percent of Households that Have No Computer, Smartphone, or Tablet - Margin of Error',\n       'All Households with an Internet Subscription',\n       'All Households with an Internet Subscription - Margin of Error',\n       'Households with Dial-up with No Other Type of Internet Subscription',\n       'Households with Dial-up with No Other Type of Internet Subscription - Margin of Error',\n       'Households with Broadband of Any Type',\n       'Households with Broadband of Any Type - Margin of Error',\n       'All Households with Cellular Data Plan',\n       'All Households with Cellular Data Plan - Margin of Error',\n       'Households with Cellular Data Plan with No Other Type of Internet Subscription',\n       'Households with Cellular Data Plan with No Other Type of Internet Subscription - Margin of Error',\n       'All Households with Broadband such as Cable, Fiber Optic or DSL',\n       'All Households with Broadband such as Cable, Fiber Optic or DSL - Margin of Error',\n       'Households with Broadband such as Cable, Fiber Optic or DSL with No Other Type of Internet Subscription',\n       'Households with Broadband such as Cable, Fiber Optic or DSL with No Other Type of Internet Subscription - Margin of Error',\n       'All Households with Satellite Internet Service',\n       'All Households with Satellite Internet Service - Margin of Error',\n       'Households with Satellite Internet Service with No Other Type of Internet Subscription',\n       'Households with Satellite Internet Service with No Other Type of Internet Subscription - Margin of Error',\n       'Households with Other Service with No Other Type of Internet Subscription',\n       'Households with Other Service with No Other Type of Internet Subscription - Margin of Error',\n       'Households with Internet Access without a Subscription',\n       'Households with Internet Access without a Subscription - Margin of Error',\n       'Households with No Internet Access',\n       'Households with No Internet Access - Margin of Error',\n       'Percent of Households with No Internet Access',\n       'Percent of Households with No Internet Access - Margin of Error',\n       'Shape Area', 'Shape Length'],\n      dtype='object')\n"
     ]
    }
   ],
   "source": [
    "print(df2.columns)"
   ]
  },
  {
   "cell_type": "code",
   "execution_count": null,
   "metadata": {},
   "outputs": [],
   "source": []
  }
 ]
}