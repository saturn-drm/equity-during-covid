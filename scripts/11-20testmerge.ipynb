{
 "metadata": {
  "language_info": {
   "codemirror_mode": {
    "name": "ipython",
    "version": 3
   },
   "file_extension": ".py",
   "mimetype": "text/x-python",
   "name": "python",
   "nbconvert_exporter": "python",
   "pygments_lexer": "ipython3",
   "version": "3.7.7-final"
  },
  "orig_nbformat": 2,
  "kernelspec": {
   "name": "python37664bit12f9c6bab4384a7f877256d950d8a987",
   "display_name": "Python 3.7.6 64-bit"
  }
 },
 "nbformat": 4,
 "nbformat_minor": 2,
 "cells": [
  {
   "cell_type": "code",
   "execution_count": 1,
   "metadata": {},
   "outputs": [],
   "source": [
    "import pandas\n",
    "csv_path = '../datas/2-InternetConnectivity.csv'\n",
    "raw_data = pandas.read_csv(csv_path)"
   ]
  },
  {
   "cell_type": "code",
   "execution_count": 2,
   "metadata": {},
   "outputs": [
    {
     "output_type": "execute_result",
     "data": {
      "text/plain": [
       "(2894, 36)"
      ]
     },
     "metadata": {},
     "execution_count": 2
    }
   ],
   "source": [
    "raw_data.shape"
   ]
  },
  {
   "cell_type": "code",
   "execution_count": 8,
   "metadata": {},
   "outputs": [],
   "source": [
    "selected_cols = raw_data[['ZCTA5', 'modzcta', 'Percent of Households with No Internet Access', 'Total households']]\n",
    "selected_cols.dropna(inplace=True)"
   ]
  },
  {
   "cell_type": "code",
   "execution_count": 25,
   "metadata": {},
   "outputs": [
    {
     "output_type": "execute_result",
     "data": {
      "text/plain": [
       "      ZCTA5  modzcta  Percent of Households with No Internet Access  \\\n",
       "1     10473    10473                                           13.9   \n",
       "2     10473    10473                                           12.4   \n",
       "3     10473    10473                                           21.2   \n",
       "4     10454    10454                                           10.9   \n",
       "5     10455    10455                                           10.9   \n",
       "...     ...      ...                                            ...   \n",
       "2889  10303    10303                                            6.9   \n",
       "2890  10314    10314                                            6.9   \n",
       "2891  10303    10303                                           53.2   \n",
       "2892  10303    10303                                           35.3   \n",
       "2893  10303    10303                                           13.0   \n",
       "\n",
       "      Total households  households no internet  \n",
       "1                 1328                 184.592  \n",
       "2                 1963                 243.412  \n",
       "3                 1982                 420.184  \n",
       "4                  929                 101.261  \n",
       "5                  929                 101.261  \n",
       "...                ...                     ...  \n",
       "2889              1964                 135.516  \n",
       "2890              1964                 135.516  \n",
       "2891              1055                 561.260  \n",
       "2892              1670                 589.510  \n",
       "2893               440                  57.200  \n",
       "\n",
       "[2838 rows x 5 columns]"
      ],
      "text/html": "<div>\n<style scoped>\n    .dataframe tbody tr th:only-of-type {\n        vertical-align: middle;\n    }\n\n    .dataframe tbody tr th {\n        vertical-align: top;\n    }\n\n    .dataframe thead th {\n        text-align: right;\n    }\n</style>\n<table border=\"1\" class=\"dataframe\">\n  <thead>\n    <tr style=\"text-align: right;\">\n      <th></th>\n      <th>ZCTA5</th>\n      <th>modzcta</th>\n      <th>Percent of Households with No Internet Access</th>\n      <th>Total households</th>\n      <th>households no internet</th>\n    </tr>\n  </thead>\n  <tbody>\n    <tr>\n      <th>1</th>\n      <td>10473</td>\n      <td>10473</td>\n      <td>13.9</td>\n      <td>1328</td>\n      <td>184.592</td>\n    </tr>\n    <tr>\n      <th>2</th>\n      <td>10473</td>\n      <td>10473</td>\n      <td>12.4</td>\n      <td>1963</td>\n      <td>243.412</td>\n    </tr>\n    <tr>\n      <th>3</th>\n      <td>10473</td>\n      <td>10473</td>\n      <td>21.2</td>\n      <td>1982</td>\n      <td>420.184</td>\n    </tr>\n    <tr>\n      <th>4</th>\n      <td>10454</td>\n      <td>10454</td>\n      <td>10.9</td>\n      <td>929</td>\n      <td>101.261</td>\n    </tr>\n    <tr>\n      <th>5</th>\n      <td>10455</td>\n      <td>10455</td>\n      <td>10.9</td>\n      <td>929</td>\n      <td>101.261</td>\n    </tr>\n    <tr>\n      <th>...</th>\n      <td>...</td>\n      <td>...</td>\n      <td>...</td>\n      <td>...</td>\n      <td>...</td>\n    </tr>\n    <tr>\n      <th>2889</th>\n      <td>10303</td>\n      <td>10303</td>\n      <td>6.9</td>\n      <td>1964</td>\n      <td>135.516</td>\n    </tr>\n    <tr>\n      <th>2890</th>\n      <td>10314</td>\n      <td>10314</td>\n      <td>6.9</td>\n      <td>1964</td>\n      <td>135.516</td>\n    </tr>\n    <tr>\n      <th>2891</th>\n      <td>10303</td>\n      <td>10303</td>\n      <td>53.2</td>\n      <td>1055</td>\n      <td>561.260</td>\n    </tr>\n    <tr>\n      <th>2892</th>\n      <td>10303</td>\n      <td>10303</td>\n      <td>35.3</td>\n      <td>1670</td>\n      <td>589.510</td>\n    </tr>\n    <tr>\n      <th>2893</th>\n      <td>10303</td>\n      <td>10303</td>\n      <td>13.0</td>\n      <td>440</td>\n      <td>57.200</td>\n    </tr>\n  </tbody>\n</table>\n<p>2838 rows × 5 columns</p>\n</div>"
     },
     "metadata": {},
     "execution_count": 25
    }
   ],
   "source": [
    "selected_cols['households no internet'] = selected_cols['Percent of Households with No Internet Access'] * selected_cols['Total households'] / 100\n",
    "selected_cols"
   ]
  },
  {
   "cell_type": "code",
   "execution_count": 39,
   "metadata": {},
   "outputs": [
    {
     "output_type": "execute_result",
     "data": {
      "text/plain": [
       "Empty DataFrame\n",
       "Columns: [modzcta, perc]\n",
       "Index: []"
      ],
      "text/html": "<div>\n<style scoped>\n    .dataframe tbody tr th:only-of-type {\n        vertical-align: middle;\n    }\n\n    .dataframe tbody tr th {\n        vertical-align: top;\n    }\n\n    .dataframe thead th {\n        text-align: right;\n    }\n</style>\n<table border=\"1\" class=\"dataframe\">\n  <thead>\n    <tr style=\"text-align: right;\">\n      <th></th>\n      <th>modzcta</th>\n      <th>perc</th>\n    </tr>\n  </thead>\n  <tbody>\n  </tbody>\n</table>\n</div>"
     },
     "metadata": {},
     "execution_count": 39
    }
   ],
   "source": [
    "merged = pandas.DataFrame(columns=['modzcta', 'perc'])\n",
    "merged"
   ]
  },
  {
   "cell_type": "code",
   "execution_count": 35,
   "metadata": {},
   "outputs": [
    {
     "output_type": "execute_result",
     "data": {
      "text/plain": [
       "{'modzcta': 10473, 'perc': 0.20564059307133015}"
      ]
     },
     "metadata": {},
     "execution_count": 35
    }
   ],
   "source": [
    "tmpseries = selected_cols[selected_cols['modzcta'] == 10473]\n",
    "tmpseries['households no internet'].sum() / tmpseries['Total households'].sum()\n",
    "tmpdic['modzcta'] = 10473\n",
    "tmpdic['perc'] = tmpseries['households no internet'].sum() / tmpseries['Total households'].sum()\n",
    "tmpdic"
   ]
  },
  {
   "cell_type": "code",
   "execution_count": 40,
   "metadata": {},
   "outputs": [
    {
     "output_type": "execute_result",
     "data": {
      "text/plain": [
       "     modzcta      perc\n",
       "0    10473.0  0.205641\n",
       "1    10454.0  0.330787\n",
       "2    10455.0  0.276181\n",
       "3    10472.0  0.257344\n",
       "4    10451.0  0.276997\n",
       "..       ...       ...\n",
       "172  10312.0  0.101062\n",
       "173  10314.0  0.119923\n",
       "174  10307.0  0.115211\n",
       "175  10309.0  0.118634\n",
       "176  10303.0  0.218108\n",
       "\n",
       "[177 rows x 2 columns]"
      ],
      "text/html": "<div>\n<style scoped>\n    .dataframe tbody tr th:only-of-type {\n        vertical-align: middle;\n    }\n\n    .dataframe tbody tr th {\n        vertical-align: top;\n    }\n\n    .dataframe thead th {\n        text-align: right;\n    }\n</style>\n<table border=\"1\" class=\"dataframe\">\n  <thead>\n    <tr style=\"text-align: right;\">\n      <th></th>\n      <th>modzcta</th>\n      <th>perc</th>\n    </tr>\n  </thead>\n  <tbody>\n    <tr>\n      <th>0</th>\n      <td>10473.0</td>\n      <td>0.205641</td>\n    </tr>\n    <tr>\n      <th>1</th>\n      <td>10454.0</td>\n      <td>0.330787</td>\n    </tr>\n    <tr>\n      <th>2</th>\n      <td>10455.0</td>\n      <td>0.276181</td>\n    </tr>\n    <tr>\n      <th>3</th>\n      <td>10472.0</td>\n      <td>0.257344</td>\n    </tr>\n    <tr>\n      <th>4</th>\n      <td>10451.0</td>\n      <td>0.276997</td>\n    </tr>\n    <tr>\n      <th>...</th>\n      <td>...</td>\n      <td>...</td>\n    </tr>\n    <tr>\n      <th>172</th>\n      <td>10312.0</td>\n      <td>0.101062</td>\n    </tr>\n    <tr>\n      <th>173</th>\n      <td>10314.0</td>\n      <td>0.119923</td>\n    </tr>\n    <tr>\n      <th>174</th>\n      <td>10307.0</td>\n      <td>0.115211</td>\n    </tr>\n    <tr>\n      <th>175</th>\n      <td>10309.0</td>\n      <td>0.118634</td>\n    </tr>\n    <tr>\n      <th>176</th>\n      <td>10303.0</td>\n      <td>0.218108</td>\n    </tr>\n  </tbody>\n</table>\n<p>177 rows × 2 columns</p>\n</div>"
     },
     "metadata": {},
     "execution_count": 40
    }
   ],
   "source": [
    "for modzcta in list(selected_cols['modzcta'].unique()):\n",
    "    tmpdic = {}\n",
    "    tmpseries = selected_cols[selected_cols['modzcta'] == modzcta]\n",
    "    tmpdic['modzcta'] = modzcta\n",
    "    tmpdic['perc'] = tmpseries['households no internet'].sum() / tmpseries['Total households'].sum()\n",
    "    merged = merged.append(tmpdic, ignore_index=True)\n",
    "merged"
   ]
  },
  {
   "cell_type": "code",
   "execution_count": 41,
   "metadata": {},
   "outputs": [],
   "source": [
    "merged.to_csv('../datas/2-InternetMerged.csv', index=False)"
   ]
  },
  {
   "source": [
    "111"
   ],
   "cell_type": "markdown",
   "metadata": {}
  },
  {
   "source": [
    "# internet"
   ],
   "cell_type": "markdown",
   "metadata": {}
  },
  {
   "cell_type": "code",
   "execution_count": 1,
   "metadata": {},
   "outputs": [],
   "source": [
    "import pandas"
   ]
  },
  {
   "cell_type": "code",
   "execution_count": 2,
   "metadata": {},
   "outputs": [
    {
     "output_type": "execute_result",
     "data": {
      "text/plain": [
       "   Object ID  ZCTA5  modzcta  Geographic Identifier - FIPS Code  \\\n",
       "0      48167  11370    11370                        36005000100   \n",
       "1      48168  10473    10473                        36005000200   \n",
       "2      48169  10473    10473                        36005000400   \n",
       "3      48170  10473    10473                        36005001600   \n",
       "4      48171  10454    10454                        36005001900   \n",
       "\n",
       "   Area of Land (Square Meters)  Area of Water (Square Meters)  \\\n",
       "0                       1677210                        1035011   \n",
       "1                        479463                         852046   \n",
       "2                        770689                         690794   \n",
       "3                        485079                              0   \n",
       "4                       1668013                        1143135   \n",
       "\n",
       "              Name     State        County  \\\n",
       "0   Census Tract 1  New York  Bronx County   \n",
       "1   Census Tract 2  New York  Bronx County   \n",
       "2   Census Tract 4  New York  Bronx County   \n",
       "3  Census Tract 16  New York  Bronx County   \n",
       "4  Census Tract 19  New York  Bronx County   \n",
       "\n",
       "   Total Population 25 Years and Over in Households  ...  \\\n",
       "0                                                 0  ...   \n",
       "1                                              3044  ...   \n",
       "2                                              3947  ...   \n",
       "3                                              3441  ...   \n",
       "4                                              1437  ...   \n",
       "\n",
       "   Population 25 Years and Over who Hold a Bachelor's Degree or Higher in Households that Have a Computer with a Broadband Internet Subscription  \\\n",
       "0                                                  0                                                                                               \n",
       "1                                                664                                                                                               \n",
       "2                                               1105                                                                                               \n",
       "3                                                582                                                                                               \n",
       "4                                                335                                                                                               \n",
       "\n",
       "   Population 25 Years and Over who Hold a Bachelor's Degree or Higher in Households that Have a Computer without an Internet Subsription  \\\n",
       "0                                                  0                                                                                        \n",
       "1                                                 44                                                                                        \n",
       "2                                                 60                                                                                        \n",
       "3                                                 24                                                                                        \n",
       "4                                                 11                                                                                        \n",
       "\n",
       "   Population 25 Years and Over who Hold a Bachelor's Degree or Higher in Households that Have No Computer  \\\n",
       "0                                                  0                                                         \n",
       "1                                                  0                                                         \n",
       "2                                                  4                                                         \n",
       "3                                                 25                                                         \n",
       "4                                                 10                                                         \n",
       "\n",
       "   Population 25 Years and Over in Households that Have No Computer  \\\n",
       "0                                                  0                  \n",
       "1                                                164                  \n",
       "2                                                387                  \n",
       "3                                                446                  \n",
       "4                                                 69                  \n",
       "\n",
       "   Percent of Population 25 Years and Over in Households that Have No Computer  \\\n",
       "0                                                NaN                             \n",
       "1                                                5.4                             \n",
       "2                                                9.8                             \n",
       "3                                               13.0                             \n",
       "4                                                4.8                             \n",
       "\n",
       "   Percent of Population 25 Years and Over who are Not High School Graduates in Households that Have No Computer  \\\n",
       "0                                                NaN                                                               \n",
       "1                                               14.0                                                               \n",
       "2                                               47.8                                                               \n",
       "3                                               27.1                                                               \n",
       "4                                                5.7                                                               \n",
       "\n",
       "   Percent of Population 25 Years and Over who are High School Graduates (Includes Equivalency) or Have Some College or Associate's Degree in Households that Have No Computer  \\\n",
       "0                                                NaN                                                                                                                             \n",
       "1                                                3.7                                                                                                                             \n",
       "2                                                6.8                                                                                                                             \n",
       "3                                                9.6                                                                                                                             \n",
       "4                                                5.4                                                                                                                             \n",
       "\n",
       "   Percent of Population 25 Years and Over who Hold a Bachelor's Degree or Higher in Households that Have No Computer  \\\n",
       "0                                                NaN                                                                    \n",
       "1                                                0.0                                                                    \n",
       "2                                                0.3                                                                    \n",
       "3                                                4.0                                                                    \n",
       "4                                                2.8                                                                    \n",
       "\n",
       "     Shape Area  Shape Length  \n",
       "0  2.733874e+06   6859.256905  \n",
       "1  8.316785e+05   5722.479186  \n",
       "2  1.558096e+06   9823.218030  \n",
       "3  8.478126e+05   3898.163232  \n",
       "4  2.859324e+06  12087.013655  \n",
       "\n",
       "[5 rows x 35 columns]"
      ],
      "text/html": "<div>\n<style scoped>\n    .dataframe tbody tr th:only-of-type {\n        vertical-align: middle;\n    }\n\n    .dataframe tbody tr th {\n        vertical-align: top;\n    }\n\n    .dataframe thead th {\n        text-align: right;\n    }\n</style>\n<table border=\"1\" class=\"dataframe\">\n  <thead>\n    <tr style=\"text-align: right;\">\n      <th></th>\n      <th>Object ID</th>\n      <th>ZCTA5</th>\n      <th>modzcta</th>\n      <th>Geographic Identifier - FIPS Code</th>\n      <th>Area of Land (Square Meters)</th>\n      <th>Area of Water (Square Meters)</th>\n      <th>Name</th>\n      <th>State</th>\n      <th>County</th>\n      <th>Total Population 25 Years and Over in Households</th>\n      <th>...</th>\n      <th>Population 25 Years and Over who Hold a Bachelor's Degree or Higher in Households that Have a Computer with a Broadband Internet Subscription</th>\n      <th>Population 25 Years and Over who Hold a Bachelor's Degree or Higher in Households that Have a Computer without an Internet Subsription</th>\n      <th>Population 25 Years and Over who Hold a Bachelor's Degree or Higher in Households that Have No Computer</th>\n      <th>Population 25 Years and Over in Households that Have No Computer</th>\n      <th>Percent of Population 25 Years and Over in Households that Have No Computer</th>\n      <th>Percent of Population 25 Years and Over who are Not High School Graduates in Households that Have No Computer</th>\n      <th>Percent of Population 25 Years and Over who are High School Graduates (Includes Equivalency) or Have Some College or Associate's Degree in Households that Have No Computer</th>\n      <th>Percent of Population 25 Years and Over who Hold a Bachelor's Degree or Higher in Households that Have No Computer</th>\n      <th>Shape Area</th>\n      <th>Shape Length</th>\n    </tr>\n  </thead>\n  <tbody>\n    <tr>\n      <th>0</th>\n      <td>48167</td>\n      <td>11370</td>\n      <td>11370</td>\n      <td>36005000100</td>\n      <td>1677210</td>\n      <td>1035011</td>\n      <td>Census Tract 1</td>\n      <td>New York</td>\n      <td>Bronx County</td>\n      <td>0</td>\n      <td>...</td>\n      <td>0</td>\n      <td>0</td>\n      <td>0</td>\n      <td>0</td>\n      <td>NaN</td>\n      <td>NaN</td>\n      <td>NaN</td>\n      <td>NaN</td>\n      <td>2.733874e+06</td>\n      <td>6859.256905</td>\n    </tr>\n    <tr>\n      <th>1</th>\n      <td>48168</td>\n      <td>10473</td>\n      <td>10473</td>\n      <td>36005000200</td>\n      <td>479463</td>\n      <td>852046</td>\n      <td>Census Tract 2</td>\n      <td>New York</td>\n      <td>Bronx County</td>\n      <td>3044</td>\n      <td>...</td>\n      <td>664</td>\n      <td>44</td>\n      <td>0</td>\n      <td>164</td>\n      <td>5.4</td>\n      <td>14.0</td>\n      <td>3.7</td>\n      <td>0.0</td>\n      <td>8.316785e+05</td>\n      <td>5722.479186</td>\n    </tr>\n    <tr>\n      <th>2</th>\n      <td>48169</td>\n      <td>10473</td>\n      <td>10473</td>\n      <td>36005000400</td>\n      <td>770689</td>\n      <td>690794</td>\n      <td>Census Tract 4</td>\n      <td>New York</td>\n      <td>Bronx County</td>\n      <td>3947</td>\n      <td>...</td>\n      <td>1105</td>\n      <td>60</td>\n      <td>4</td>\n      <td>387</td>\n      <td>9.8</td>\n      <td>47.8</td>\n      <td>6.8</td>\n      <td>0.3</td>\n      <td>1.558096e+06</td>\n      <td>9823.218030</td>\n    </tr>\n    <tr>\n      <th>3</th>\n      <td>48170</td>\n      <td>10473</td>\n      <td>10473</td>\n      <td>36005001600</td>\n      <td>485079</td>\n      <td>0</td>\n      <td>Census Tract 16</td>\n      <td>New York</td>\n      <td>Bronx County</td>\n      <td>3441</td>\n      <td>...</td>\n      <td>582</td>\n      <td>24</td>\n      <td>25</td>\n      <td>446</td>\n      <td>13.0</td>\n      <td>27.1</td>\n      <td>9.6</td>\n      <td>4.0</td>\n      <td>8.478126e+05</td>\n      <td>3898.163232</td>\n    </tr>\n    <tr>\n      <th>4</th>\n      <td>48171</td>\n      <td>10454</td>\n      <td>10454</td>\n      <td>36005001900</td>\n      <td>1668013</td>\n      <td>1143135</td>\n      <td>Census Tract 19</td>\n      <td>New York</td>\n      <td>Bronx County</td>\n      <td>1437</td>\n      <td>...</td>\n      <td>335</td>\n      <td>11</td>\n      <td>10</td>\n      <td>69</td>\n      <td>4.8</td>\n      <td>5.7</td>\n      <td>5.4</td>\n      <td>2.8</td>\n      <td>2.859324e+06</td>\n      <td>12087.013655</td>\n    </tr>\n  </tbody>\n</table>\n<p>5 rows × 35 columns</p>\n</div>"
     },
     "metadata": {},
     "execution_count": 2
    }
   ],
   "source": [
    "data = pandas.read_csv('../datas/0-InternetEducation.csv')\n",
    "data.head()"
   ]
  },
  {
   "cell_type": "code",
   "execution_count": 3,
   "metadata": {},
   "outputs": [
    {
     "output_type": "execute_result",
     "data": {
      "text/plain": [
       "Index(['Object ID', 'ZCTA5', 'modzcta', 'Geographic Identifier - FIPS Code',\n",
       "       'Area of Land (Square Meters)', 'Area of Water (Square Meters)', 'Name',\n",
       "       'State', 'County', 'Total Population 25 Years and Over in Households',\n",
       "       'Population 25 Years and Over With Less Than High School Graduate or Equivalency in Households',\n",
       "       'All Population 25 Years and Over With Less Than High School Graduate or Equivalency in Households that Have a Computer',\n",
       "       'Population 25 Years and Over With Less Than High School Graduate or Equivalency in Households that Have a Computer with Dial-up Internet Subscription Alone',\n",
       "       'Population 25 Years and Over With Less Than High School Graduate or Equivalency in Households that Have a Computer with a Broadband Internet Subscription',\n",
       "       'Population 25 Years and Over With Less Than High School Graduate or Equivalency in Households that Have a Computer without an Internet Subscription',\n",
       "       'Population 25 Years and Over With Less Than High School Graduate or Equivalency in Households that Have No Computer',\n",
       "       'Population 25 Years and Over who are High School Graduates (Includes Equivalency) or Have Some College or Associate's Degree in Households',\n",
       "       'All Population 25 Years and Over who are High School Graduates (Includes Equivalency) or Have Some College or Associate's Degree in Households that Have a Computer',\n",
       "       'Population 25 Years and Over who are High School Graduates (Includes Equivalency) or Have Some College or Associate's Degree in Households that Have a Computer with Dial-up Internet Subscription Alone',\n",
       "       'Population 25 Years and Over who are High School Graduates (Includes Equivalency) or Have Some College or Associate's Degree in Households that Have a Computer with a Broadband Internet Subscription',\n",
       "       'Population 25 Years and Over who are High School Graduates (Includes Equivalency) or Have Some College or Associate's Degree in Households that Have a Computer without an Internet Subscription',\n",
       "       'Population 25 Years and Over who are High School Graduates (Includes Equivalency) or Have Some College or Associate's Degree in Households that Have No Computer',\n",
       "       'Population 25 Years and Over who Hold a Bachelor's Degree or Higher in Households',\n",
       "       'All Population 25 Years and Over who Hold a Bachelor's Degree or Higher in Households that Have a Computer',\n",
       "       'Population 25 Years and Over who Hold a Bachelor's Degree or Higher in Households that Have a Computer with Dial-up Internet Subscription Alone',\n",
       "       'Population 25 Years and Over who Hold a Bachelor's Degree or Higher in Households that Have a Computer with a Broadband Internet Subscription',\n",
       "       'Population 25 Years and Over who Hold a Bachelor's Degree or Higher in Households that Have a Computer without an Internet Subsription',\n",
       "       'Population 25 Years and Over who Hold a Bachelor's Degree or Higher in Households that Have No Computer',\n",
       "       'Population 25 Years and Over in Households that Have No Computer',\n",
       "       'Percent of Population 25 Years and Over in Households that Have No Computer',\n",
       "       'Percent of Population 25 Years and Over who are Not High School Graduates in Households that Have No Computer',\n",
       "       'Percent of Population 25 Years and Over who are High School Graduates (Includes Equivalency) or Have Some College or Associate's Degree in Households that Have No Computer',\n",
       "       'Percent of Population 25 Years and Over who Hold a Bachelor's Degree or Higher in Households that Have No Computer',\n",
       "       'Shape Area', 'Shape Length'],\n",
       "      dtype='object')"
      ]
     },
     "metadata": {},
     "execution_count": 3
    }
   ],
   "source": [
    "data.columns"
   ]
  },
  {
   "cell_type": "code",
   "execution_count": 4,
   "metadata": {},
   "outputs": [],
   "source": [
    "data = data[['modzcta', 'Total Population 25 Years and Over in Households', 'Population 25 Years and Over With Less Than High School Graduate or Equivalency in Households', 'Population 25 Years and Over who are High School Graduates (Includes Equivalency) or Have Some College or Associate\\'s Degree in Households', 'Population 25 Years and Over who Hold a Bachelor\\'s Degree or Higher in Households']]"
   ]
  },
  {
   "cell_type": "code",
   "execution_count": 5,
   "metadata": {},
   "outputs": [
    {
     "output_type": "execute_result",
     "data": {
      "text/plain": [
       "   modzcta  Total Population 25 Years and Over in Households  \\\n",
       "0    11370                                                 0   \n",
       "1    10473                                              3044   \n",
       "2    10473                                              3947   \n",
       "3    10473                                              3441   \n",
       "4    10454                                              1437   \n",
       "\n",
       "   Population 25 Years and Over With Less Than High School Graduate or Equivalency in Households  \\\n",
       "0                                                  0                                               \n",
       "1                                                757                                               \n",
       "2                                                473                                               \n",
       "3                                                868                                               \n",
       "4                                                247                                               \n",
       "\n",
       "   Population 25 Years and Over who are High School Graduates (Includes Equivalency) or Have Some College or Associate's Degree in Households  \\\n",
       "0                                                  0                                                                                            \n",
       "1                                               1579                                                                                            \n",
       "2                                               2305                                                                                            \n",
       "3                                               1942                                                                                            \n",
       "4                                                834                                                                                            \n",
       "\n",
       "   Population 25 Years and Over who Hold a Bachelor's Degree or Higher in Households  \n",
       "0                                                  0                                  \n",
       "1                                                708                                  \n",
       "2                                               1169                                  \n",
       "3                                                631                                  \n",
       "4                                                356                                  "
      ],
      "text/html": "<div>\n<style scoped>\n    .dataframe tbody tr th:only-of-type {\n        vertical-align: middle;\n    }\n\n    .dataframe tbody tr th {\n        vertical-align: top;\n    }\n\n    .dataframe thead th {\n        text-align: right;\n    }\n</style>\n<table border=\"1\" class=\"dataframe\">\n  <thead>\n    <tr style=\"text-align: right;\">\n      <th></th>\n      <th>modzcta</th>\n      <th>Total Population 25 Years and Over in Households</th>\n      <th>Population 25 Years and Over With Less Than High School Graduate or Equivalency in Households</th>\n      <th>Population 25 Years and Over who are High School Graduates (Includes Equivalency) or Have Some College or Associate's Degree in Households</th>\n      <th>Population 25 Years and Over who Hold a Bachelor's Degree or Higher in Households</th>\n    </tr>\n  </thead>\n  <tbody>\n    <tr>\n      <th>0</th>\n      <td>11370</td>\n      <td>0</td>\n      <td>0</td>\n      <td>0</td>\n      <td>0</td>\n    </tr>\n    <tr>\n      <th>1</th>\n      <td>10473</td>\n      <td>3044</td>\n      <td>757</td>\n      <td>1579</td>\n      <td>708</td>\n    </tr>\n    <tr>\n      <th>2</th>\n      <td>10473</td>\n      <td>3947</td>\n      <td>473</td>\n      <td>2305</td>\n      <td>1169</td>\n    </tr>\n    <tr>\n      <th>3</th>\n      <td>10473</td>\n      <td>3441</td>\n      <td>868</td>\n      <td>1942</td>\n      <td>631</td>\n    </tr>\n    <tr>\n      <th>4</th>\n      <td>10454</td>\n      <td>1437</td>\n      <td>247</td>\n      <td>834</td>\n      <td>356</td>\n    </tr>\n  </tbody>\n</table>\n</div>"
     },
     "metadata": {},
     "execution_count": 5
    }
   ],
   "source": [
    "data.head()"
   ]
  },
  {
   "cell_type": "code",
   "execution_count": 9,
   "metadata": {},
   "outputs": [
    {
     "output_type": "execute_result",
     "data": {
      "text/plain": [
       "modzcta                                                                                                                                       int64\n",
       "Total Population 25 Years and Over in Households                                                                                              int64\n",
       "Population 25 Years and Over With Less Than High School Graduate or Equivalency in Households                                                 int64\n",
       "Population 25 Years and Over who are High School Graduates (Includes Equivalency) or Have Some College or Associate's Degree in Households    int64\n",
       "Population 25 Years and Over who Hold a Bachelor's Degree or Higher in Households                                                             int64\n",
       "dtype: object"
      ]
     },
     "metadata": {},
     "execution_count": 9
    }
   ],
   "source": [
    "data.dtypes"
   ]
  },
  {
   "cell_type": "code",
   "execution_count": 21,
   "metadata": {},
   "outputs": [
    {
     "output_type": "execute_result",
     "data": {
      "text/plain": [
       "     modzcta  no highschool  highschool   college\n",
       "0    11370.0       0.186111    0.535966  0.277922\n",
       "1    10473.0       0.241479    0.578220  0.180301\n",
       "2    10454.0       0.414125    0.499723  0.086152\n",
       "3    10455.0       0.366078    0.496865  0.137058\n",
       "4    10472.0       0.373730    0.502283  0.123987\n",
       "..       ...            ...         ...       ...\n",
       "172  10312.0       0.068602    0.593879  0.337519\n",
       "173  10314.0       0.097319    0.555236  0.347445\n",
       "174  10307.0       0.073383    0.565547  0.361071\n",
       "175  10309.0       0.075594    0.573091  0.351315\n",
       "176  10303.0       0.189567    0.563822  0.246611\n",
       "\n",
       "[177 rows x 4 columns]"
      ],
      "text/html": "<div>\n<style scoped>\n    .dataframe tbody tr th:only-of-type {\n        vertical-align: middle;\n    }\n\n    .dataframe tbody tr th {\n        vertical-align: top;\n    }\n\n    .dataframe thead th {\n        text-align: right;\n    }\n</style>\n<table border=\"1\" class=\"dataframe\">\n  <thead>\n    <tr style=\"text-align: right;\">\n      <th></th>\n      <th>modzcta</th>\n      <th>no highschool</th>\n      <th>highschool</th>\n      <th>college</th>\n    </tr>\n  </thead>\n  <tbody>\n    <tr>\n      <th>0</th>\n      <td>11370.0</td>\n      <td>0.186111</td>\n      <td>0.535966</td>\n      <td>0.277922</td>\n    </tr>\n    <tr>\n      <th>1</th>\n      <td>10473.0</td>\n      <td>0.241479</td>\n      <td>0.578220</td>\n      <td>0.180301</td>\n    </tr>\n    <tr>\n      <th>2</th>\n      <td>10454.0</td>\n      <td>0.414125</td>\n      <td>0.499723</td>\n      <td>0.086152</td>\n    </tr>\n    <tr>\n      <th>3</th>\n      <td>10455.0</td>\n      <td>0.366078</td>\n      <td>0.496865</td>\n      <td>0.137058</td>\n    </tr>\n    <tr>\n      <th>4</th>\n      <td>10472.0</td>\n      <td>0.373730</td>\n      <td>0.502283</td>\n      <td>0.123987</td>\n    </tr>\n    <tr>\n      <th>...</th>\n      <td>...</td>\n      <td>...</td>\n      <td>...</td>\n      <td>...</td>\n    </tr>\n    <tr>\n      <th>172</th>\n      <td>10312.0</td>\n      <td>0.068602</td>\n      <td>0.593879</td>\n      <td>0.337519</td>\n    </tr>\n    <tr>\n      <th>173</th>\n      <td>10314.0</td>\n      <td>0.097319</td>\n      <td>0.555236</td>\n      <td>0.347445</td>\n    </tr>\n    <tr>\n      <th>174</th>\n      <td>10307.0</td>\n      <td>0.073383</td>\n      <td>0.565547</td>\n      <td>0.361071</td>\n    </tr>\n    <tr>\n      <th>175</th>\n      <td>10309.0</td>\n      <td>0.075594</td>\n      <td>0.573091</td>\n      <td>0.351315</td>\n    </tr>\n    <tr>\n      <th>176</th>\n      <td>10303.0</td>\n      <td>0.189567</td>\n      <td>0.563822</td>\n      <td>0.246611</td>\n    </tr>\n  </tbody>\n</table>\n<p>177 rows × 4 columns</p>\n</div>"
     },
     "metadata": {},
     "execution_count": 21
    }
   ],
   "source": [
    "merged = pandas.DataFrame(columns=['modzcta', 'no highschool', 'highschool', 'college'])\n",
    "for mod in data['modzcta'].unique():\n",
    "    tmp = {}\n",
    "    ser = data[data['modzcta'] == mod]\n",
    "    tmp['modzcta'] = mod\n",
    "    tmp['no highschool'] = ser['Population 25 Years and Over With Less Than High School Graduate or Equivalency in Households'].sum() / ser['Total Population 25 Years and Over in Households'].sum()\n",
    "    tmp['highschool'] = ser['Population 25 Years and Over who are High School Graduates (Includes Equivalency) or Have Some College or Associate\\'s Degree in Households'].sum() / ser['Total Population 25 Years and Over in Households'].sum()\n",
    "    tmp['college'] = ser['Population 25 Years and Over who Hold a Bachelor\\'s Degree or Higher in Households'].sum() / ser['Total Population 25 Years and Over in Households'].sum()\n",
    "    merged = merged.append(tmp, ignore_index=True)\n",
    "merged"
   ]
  },
  {
   "cell_type": "code",
   "execution_count": 13,
   "metadata": {},
   "outputs": [
    {
     "output_type": "execute_result",
     "data": {
      "text/plain": [
       "26511"
      ]
     },
     "metadata": {},
     "execution_count": 13
    }
   ],
   "source": [
    "data[data['modzcta'] == 11370]['Total Population 25 Years and Over in Households'].sum()"
   ]
  },
  {
   "cell_type": "code",
   "execution_count": 14,
   "metadata": {},
   "outputs": [
    {
     "output_type": "execute_result",
     "data": {
      "text/plain": [
       "4934"
      ]
     },
     "metadata": {},
     "execution_count": 14
    }
   ],
   "source": [
    "data[data['modzcta'] == 11370]['Population 25 Years and Over With Less Than High School Graduate or Equivalency in Households'].sum()"
   ]
  },
  {
   "cell_type": "code",
   "execution_count": 15,
   "metadata": {},
   "outputs": [
    {
     "output_type": "execute_result",
     "data": {
      "text/plain": [
       "0.18611142544604126"
      ]
     },
     "metadata": {},
     "execution_count": 15
    }
   ],
   "source": [
    "4934 / 26511"
   ]
  },
  {
   "cell_type": "code",
   "execution_count": 23,
   "metadata": {},
   "outputs": [
    {
     "output_type": "execute_result",
     "data": {
      "text/plain": [
       "   modzcta      perc  no highschool  highschool   college\n",
       "0    10473  0.205641       0.186111    0.535966  0.277922\n",
       "1    10454  0.330787       0.241479    0.578220  0.180301\n",
       "2    10455  0.276181       0.414125    0.499723  0.086152\n",
       "3    10472  0.257344       0.366078    0.496865  0.137058\n",
       "4    10451  0.276997       0.373730    0.502283  0.123987"
      ],
      "text/html": "<div>\n<style scoped>\n    .dataframe tbody tr th:only-of-type {\n        vertical-align: middle;\n    }\n\n    .dataframe tbody tr th {\n        vertical-align: top;\n    }\n\n    .dataframe thead th {\n        text-align: right;\n    }\n</style>\n<table border=\"1\" class=\"dataframe\">\n  <thead>\n    <tr style=\"text-align: right;\">\n      <th></th>\n      <th>modzcta</th>\n      <th>perc</th>\n      <th>no highschool</th>\n      <th>highschool</th>\n      <th>college</th>\n    </tr>\n  </thead>\n  <tbody>\n    <tr>\n      <th>0</th>\n      <td>10473</td>\n      <td>0.205641</td>\n      <td>0.186111</td>\n      <td>0.535966</td>\n      <td>0.277922</td>\n    </tr>\n    <tr>\n      <th>1</th>\n      <td>10454</td>\n      <td>0.330787</td>\n      <td>0.241479</td>\n      <td>0.578220</td>\n      <td>0.180301</td>\n    </tr>\n    <tr>\n      <th>2</th>\n      <td>10455</td>\n      <td>0.276181</td>\n      <td>0.414125</td>\n      <td>0.499723</td>\n      <td>0.086152</td>\n    </tr>\n    <tr>\n      <th>3</th>\n      <td>10472</td>\n      <td>0.257344</td>\n      <td>0.366078</td>\n      <td>0.496865</td>\n      <td>0.137058</td>\n    </tr>\n    <tr>\n      <th>4</th>\n      <td>10451</td>\n      <td>0.276997</td>\n      <td>0.373730</td>\n      <td>0.502283</td>\n      <td>0.123987</td>\n    </tr>\n  </tbody>\n</table>\n</div>"
     },
     "metadata": {},
     "execution_count": 23
    }
   ],
   "source": [
    "wrong = pandas.read_csv('../datas/2-InternetMerged.csv')\n",
    "wrong.head()"
   ]
  },
  {
   "cell_type": "code",
   "execution_count": 24,
   "metadata": {},
   "outputs": [
    {
     "output_type": "execute_result",
     "data": {
      "text/plain": [
       "   modzcta      perc\n",
       "0    10473  0.205641\n",
       "1    10454  0.330787\n",
       "2    10455  0.276181\n",
       "3    10472  0.257344\n",
       "4    10451  0.276997"
      ],
      "text/html": "<div>\n<style scoped>\n    .dataframe tbody tr th:only-of-type {\n        vertical-align: middle;\n    }\n\n    .dataframe tbody tr th {\n        vertical-align: top;\n    }\n\n    .dataframe thead th {\n        text-align: right;\n    }\n</style>\n<table border=\"1\" class=\"dataframe\">\n  <thead>\n    <tr style=\"text-align: right;\">\n      <th></th>\n      <th>modzcta</th>\n      <th>perc</th>\n    </tr>\n  </thead>\n  <tbody>\n    <tr>\n      <th>0</th>\n      <td>10473</td>\n      <td>0.205641</td>\n    </tr>\n    <tr>\n      <th>1</th>\n      <td>10454</td>\n      <td>0.330787</td>\n    </tr>\n    <tr>\n      <th>2</th>\n      <td>10455</td>\n      <td>0.276181</td>\n    </tr>\n    <tr>\n      <th>3</th>\n      <td>10472</td>\n      <td>0.257344</td>\n    </tr>\n    <tr>\n      <th>4</th>\n      <td>10451</td>\n      <td>0.276997</td>\n    </tr>\n  </tbody>\n</table>\n</div>"
     },
     "metadata": {},
     "execution_count": 24
    }
   ],
   "source": [
    "wrong.drop(columns=['no highschool', 'highschool', 'college'], inplace=True)\n",
    "wrong.head()"
   ]
  },
  {
   "cell_type": "code",
   "execution_count": 25,
   "metadata": {},
   "outputs": [
    {
     "output_type": "execute_result",
     "data": {
      "text/plain": [
       "     modzcta  no highschool  highschool   college      perc\n",
       "0    11370.0       0.186111    0.535966  0.277922  0.146145\n",
       "1    10473.0       0.241479    0.578220  0.180301  0.205641\n",
       "2    10454.0       0.414125    0.499723  0.086152  0.330787\n",
       "3    10455.0       0.366078    0.496865  0.137058  0.276181\n",
       "4    10472.0       0.373730    0.502283  0.123987  0.257344\n",
       "..       ...            ...         ...       ...       ...\n",
       "172  10312.0       0.068602    0.593879  0.337519  0.101062\n",
       "173  10314.0       0.097319    0.555236  0.347445  0.119923\n",
       "174  10307.0       0.073383    0.565547  0.361071  0.115211\n",
       "175  10309.0       0.075594    0.573091  0.351315  0.118634\n",
       "176  10303.0       0.189567    0.563822  0.246611  0.218108\n",
       "\n",
       "[177 rows x 5 columns]"
      ],
      "text/html": "<div>\n<style scoped>\n    .dataframe tbody tr th:only-of-type {\n        vertical-align: middle;\n    }\n\n    .dataframe tbody tr th {\n        vertical-align: top;\n    }\n\n    .dataframe thead th {\n        text-align: right;\n    }\n</style>\n<table border=\"1\" class=\"dataframe\">\n  <thead>\n    <tr style=\"text-align: right;\">\n      <th></th>\n      <th>modzcta</th>\n      <th>no highschool</th>\n      <th>highschool</th>\n      <th>college</th>\n      <th>perc</th>\n    </tr>\n  </thead>\n  <tbody>\n    <tr>\n      <th>0</th>\n      <td>11370.0</td>\n      <td>0.186111</td>\n      <td>0.535966</td>\n      <td>0.277922</td>\n      <td>0.146145</td>\n    </tr>\n    <tr>\n      <th>1</th>\n      <td>10473.0</td>\n      <td>0.241479</td>\n      <td>0.578220</td>\n      <td>0.180301</td>\n      <td>0.205641</td>\n    </tr>\n    <tr>\n      <th>2</th>\n      <td>10454.0</td>\n      <td>0.414125</td>\n      <td>0.499723</td>\n      <td>0.086152</td>\n      <td>0.330787</td>\n    </tr>\n    <tr>\n      <th>3</th>\n      <td>10455.0</td>\n      <td>0.366078</td>\n      <td>0.496865</td>\n      <td>0.137058</td>\n      <td>0.276181</td>\n    </tr>\n    <tr>\n      <th>4</th>\n      <td>10472.0</td>\n      <td>0.373730</td>\n      <td>0.502283</td>\n      <td>0.123987</td>\n      <td>0.257344</td>\n    </tr>\n    <tr>\n      <th>...</th>\n      <td>...</td>\n      <td>...</td>\n      <td>...</td>\n      <td>...</td>\n      <td>...</td>\n    </tr>\n    <tr>\n      <th>172</th>\n      <td>10312.0</td>\n      <td>0.068602</td>\n      <td>0.593879</td>\n      <td>0.337519</td>\n      <td>0.101062</td>\n    </tr>\n    <tr>\n      <th>173</th>\n      <td>10314.0</td>\n      <td>0.097319</td>\n      <td>0.555236</td>\n      <td>0.347445</td>\n      <td>0.119923</td>\n    </tr>\n    <tr>\n      <th>174</th>\n      <td>10307.0</td>\n      <td>0.073383</td>\n      <td>0.565547</td>\n      <td>0.361071</td>\n      <td>0.115211</td>\n    </tr>\n    <tr>\n      <th>175</th>\n      <td>10309.0</td>\n      <td>0.075594</td>\n      <td>0.573091</td>\n      <td>0.351315</td>\n      <td>0.118634</td>\n    </tr>\n    <tr>\n      <th>176</th>\n      <td>10303.0</td>\n      <td>0.189567</td>\n      <td>0.563822</td>\n      <td>0.246611</td>\n      <td>0.218108</td>\n    </tr>\n  </tbody>\n</table>\n<p>177 rows × 5 columns</p>\n</div>"
     },
     "metadata": {},
     "execution_count": 25
    }
   ],
   "source": [
    "merged = merged.join(wrong.set_index('modzcta'), on='modzcta')\n",
    "merged"
   ]
  },
  {
   "cell_type": "code",
   "execution_count": 27,
   "metadata": {},
   "outputs": [
    {
     "output_type": "execute_result",
     "data": {
      "text/plain": [
       "     modzcta  no highschool  highschool   college      perc\n",
       "0      11370       0.186111    0.535966  0.277922  0.146145\n",
       "1      10473       0.241479    0.578220  0.180301  0.205641\n",
       "2      10454       0.414125    0.499723  0.086152  0.330787\n",
       "3      10455       0.366078    0.496865  0.137058  0.276181\n",
       "4      10472       0.373730    0.502283  0.123987  0.257344\n",
       "..       ...            ...         ...       ...       ...\n",
       "172    10312       0.068602    0.593879  0.337519  0.101062\n",
       "173    10314       0.097319    0.555236  0.347445  0.119923\n",
       "174    10307       0.073383    0.565547  0.361071  0.115211\n",
       "175    10309       0.075594    0.573091  0.351315  0.118634\n",
       "176    10303       0.189567    0.563822  0.246611  0.218108\n",
       "\n",
       "[177 rows x 5 columns]"
      ],
      "text/html": "<div>\n<style scoped>\n    .dataframe tbody tr th:only-of-type {\n        vertical-align: middle;\n    }\n\n    .dataframe tbody tr th {\n        vertical-align: top;\n    }\n\n    .dataframe thead th {\n        text-align: right;\n    }\n</style>\n<table border=\"1\" class=\"dataframe\">\n  <thead>\n    <tr style=\"text-align: right;\">\n      <th></th>\n      <th>modzcta</th>\n      <th>no highschool</th>\n      <th>highschool</th>\n      <th>college</th>\n      <th>perc</th>\n    </tr>\n  </thead>\n  <tbody>\n    <tr>\n      <th>0</th>\n      <td>11370</td>\n      <td>0.186111</td>\n      <td>0.535966</td>\n      <td>0.277922</td>\n      <td>0.146145</td>\n    </tr>\n    <tr>\n      <th>1</th>\n      <td>10473</td>\n      <td>0.241479</td>\n      <td>0.578220</td>\n      <td>0.180301</td>\n      <td>0.205641</td>\n    </tr>\n    <tr>\n      <th>2</th>\n      <td>10454</td>\n      <td>0.414125</td>\n      <td>0.499723</td>\n      <td>0.086152</td>\n      <td>0.330787</td>\n    </tr>\n    <tr>\n      <th>3</th>\n      <td>10455</td>\n      <td>0.366078</td>\n      <td>0.496865</td>\n      <td>0.137058</td>\n      <td>0.276181</td>\n    </tr>\n    <tr>\n      <th>4</th>\n      <td>10472</td>\n      <td>0.373730</td>\n      <td>0.502283</td>\n      <td>0.123987</td>\n      <td>0.257344</td>\n    </tr>\n    <tr>\n      <th>...</th>\n      <td>...</td>\n      <td>...</td>\n      <td>...</td>\n      <td>...</td>\n      <td>...</td>\n    </tr>\n    <tr>\n      <th>172</th>\n      <td>10312</td>\n      <td>0.068602</td>\n      <td>0.593879</td>\n      <td>0.337519</td>\n      <td>0.101062</td>\n    </tr>\n    <tr>\n      <th>173</th>\n      <td>10314</td>\n      <td>0.097319</td>\n      <td>0.555236</td>\n      <td>0.347445</td>\n      <td>0.119923</td>\n    </tr>\n    <tr>\n      <th>174</th>\n      <td>10307</td>\n      <td>0.073383</td>\n      <td>0.565547</td>\n      <td>0.361071</td>\n      <td>0.115211</td>\n    </tr>\n    <tr>\n      <th>175</th>\n      <td>10309</td>\n      <td>0.075594</td>\n      <td>0.573091</td>\n      <td>0.351315</td>\n      <td>0.118634</td>\n    </tr>\n    <tr>\n      <th>176</th>\n      <td>10303</td>\n      <td>0.189567</td>\n      <td>0.563822</td>\n      <td>0.246611</td>\n      <td>0.218108</td>\n    </tr>\n  </tbody>\n</table>\n<p>177 rows × 5 columns</p>\n</div>"
     },
     "metadata": {},
     "execution_count": 27
    }
   ],
   "source": [
    "merged = merged.astype({'modzcta': 'int64'})\n",
    "merged"
   ]
  },
  {
   "cell_type": "code",
   "execution_count": 28,
   "metadata": {},
   "outputs": [],
   "source": [
    "merged.to_csv('../datas/2-InternetMerged.csv', index=False)"
   ]
  },
  {
   "cell_type": "code",
   "execution_count": null,
   "metadata": {},
   "outputs": [],
   "source": []
  }
 ]
}