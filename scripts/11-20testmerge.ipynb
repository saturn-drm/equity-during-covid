{
 "metadata": {
  "language_info": {
   "codemirror_mode": {
    "name": "ipython",
    "version": 3
   },
   "file_extension": ".py",
   "mimetype": "text/x-python",
   "name": "python",
   "nbconvert_exporter": "python",
   "pygments_lexer": "ipython3",
   "version": "3.7.7-final"
  },
  "orig_nbformat": 2,
  "kernelspec": {
   "name": "python37664bit12f9c6bab4384a7f877256d950d8a987",
   "display_name": "Python 3.7.6 64-bit"
  }
 },
 "nbformat": 4,
 "nbformat_minor": 2,
 "cells": [
  {
   "cell_type": "code",
   "execution_count": 1,
   "metadata": {},
   "outputs": [],
   "source": [
    "import pandas\n",
    "csv_path = '../datas/2-InternetConnectivity.csv'\n",
    "raw_data = pandas.read_csv(csv_path)"
   ]
  },
  {
   "cell_type": "code",
   "execution_count": 2,
   "metadata": {},
   "outputs": [
    {
     "output_type": "execute_result",
     "data": {
      "text/plain": [
       "(2894, 36)"
      ]
     },
     "metadata": {},
     "execution_count": 2
    }
   ],
   "source": [
    "raw_data.shape"
   ]
  },
  {
   "cell_type": "code",
   "execution_count": 8,
   "metadata": {},
   "outputs": [],
   "source": [
    "selected_cols = raw_data[['ZCTA5', 'modzcta', 'Percent of Households with No Internet Access', 'Total households']]\n",
    "selected_cols.dropna(inplace=True)"
   ]
  },
  {
   "cell_type": "code",
   "execution_count": 25,
   "metadata": {},
   "outputs": [
    {
     "output_type": "execute_result",
     "data": {
      "text/plain": [
       "      ZCTA5  modzcta  Percent of Households with No Internet Access  \\\n",
       "1     10473    10473                                           13.9   \n",
       "2     10473    10473                                           12.4   \n",
       "3     10473    10473                                           21.2   \n",
       "4     10454    10454                                           10.9   \n",
       "5     10455    10455                                           10.9   \n",
       "...     ...      ...                                            ...   \n",
       "2889  10303    10303                                            6.9   \n",
       "2890  10314    10314                                            6.9   \n",
       "2891  10303    10303                                           53.2   \n",
       "2892  10303    10303                                           35.3   \n",
       "2893  10303    10303                                           13.0   \n",
       "\n",
       "      Total households  households no internet  \n",
       "1                 1328                 184.592  \n",
       "2                 1963                 243.412  \n",
       "3                 1982                 420.184  \n",
       "4                  929                 101.261  \n",
       "5                  929                 101.261  \n",
       "...                ...                     ...  \n",
       "2889              1964                 135.516  \n",
       "2890              1964                 135.516  \n",
       "2891              1055                 561.260  \n",
       "2892              1670                 589.510  \n",
       "2893               440                  57.200  \n",
       "\n",
       "[2838 rows x 5 columns]"
      ],
      "text/html": "<div>\n<style scoped>\n    .dataframe tbody tr th:only-of-type {\n        vertical-align: middle;\n    }\n\n    .dataframe tbody tr th {\n        vertical-align: top;\n    }\n\n    .dataframe thead th {\n        text-align: right;\n    }\n</style>\n<table border=\"1\" class=\"dataframe\">\n  <thead>\n    <tr style=\"text-align: right;\">\n      <th></th>\n      <th>ZCTA5</th>\n      <th>modzcta</th>\n      <th>Percent of Households with No Internet Access</th>\n      <th>Total households</th>\n      <th>households no internet</th>\n    </tr>\n  </thead>\n  <tbody>\n    <tr>\n      <th>1</th>\n      <td>10473</td>\n      <td>10473</td>\n      <td>13.9</td>\n      <td>1328</td>\n      <td>184.592</td>\n    </tr>\n    <tr>\n      <th>2</th>\n      <td>10473</td>\n      <td>10473</td>\n      <td>12.4</td>\n      <td>1963</td>\n      <td>243.412</td>\n    </tr>\n    <tr>\n      <th>3</th>\n      <td>10473</td>\n      <td>10473</td>\n      <td>21.2</td>\n      <td>1982</td>\n      <td>420.184</td>\n    </tr>\n    <tr>\n      <th>4</th>\n      <td>10454</td>\n      <td>10454</td>\n      <td>10.9</td>\n      <td>929</td>\n      <td>101.261</td>\n    </tr>\n    <tr>\n      <th>5</th>\n      <td>10455</td>\n      <td>10455</td>\n      <td>10.9</td>\n      <td>929</td>\n      <td>101.261</td>\n    </tr>\n    <tr>\n      <th>...</th>\n      <td>...</td>\n      <td>...</td>\n      <td>...</td>\n      <td>...</td>\n      <td>...</td>\n    </tr>\n    <tr>\n      <th>2889</th>\n      <td>10303</td>\n      <td>10303</td>\n      <td>6.9</td>\n      <td>1964</td>\n      <td>135.516</td>\n    </tr>\n    <tr>\n      <th>2890</th>\n      <td>10314</td>\n      <td>10314</td>\n      <td>6.9</td>\n      <td>1964</td>\n      <td>135.516</td>\n    </tr>\n    <tr>\n      <th>2891</th>\n      <td>10303</td>\n      <td>10303</td>\n      <td>53.2</td>\n      <td>1055</td>\n      <td>561.260</td>\n    </tr>\n    <tr>\n      <th>2892</th>\n      <td>10303</td>\n      <td>10303</td>\n      <td>35.3</td>\n      <td>1670</td>\n      <td>589.510</td>\n    </tr>\n    <tr>\n      <th>2893</th>\n      <td>10303</td>\n      <td>10303</td>\n      <td>13.0</td>\n      <td>440</td>\n      <td>57.200</td>\n    </tr>\n  </tbody>\n</table>\n<p>2838 rows × 5 columns</p>\n</div>"
     },
     "metadata": {},
     "execution_count": 25
    }
   ],
   "source": [
    "selected_cols['households no internet'] = selected_cols['Percent of Households with No Internet Access'] * selected_cols['Total households'] / 100\n",
    "selected_cols"
   ]
  },
  {
   "cell_type": "code",
   "execution_count": 39,
   "metadata": {},
   "outputs": [
    {
     "output_type": "execute_result",
     "data": {
      "text/plain": [
       "Empty DataFrame\n",
       "Columns: [modzcta, perc]\n",
       "Index: []"
      ],
      "text/html": "<div>\n<style scoped>\n    .dataframe tbody tr th:only-of-type {\n        vertical-align: middle;\n    }\n\n    .dataframe tbody tr th {\n        vertical-align: top;\n    }\n\n    .dataframe thead th {\n        text-align: right;\n    }\n</style>\n<table border=\"1\" class=\"dataframe\">\n  <thead>\n    <tr style=\"text-align: right;\">\n      <th></th>\n      <th>modzcta</th>\n      <th>perc</th>\n    </tr>\n  </thead>\n  <tbody>\n  </tbody>\n</table>\n</div>"
     },
     "metadata": {},
     "execution_count": 39
    }
   ],
   "source": [
    "merged = pandas.DataFrame(columns=['modzcta', 'perc'])\n",
    "merged"
   ]
  },
  {
   "cell_type": "code",
   "execution_count": 35,
   "metadata": {},
   "outputs": [
    {
     "output_type": "execute_result",
     "data": {
      "text/plain": [
       "{'modzcta': 10473, 'perc': 0.20564059307133015}"
      ]
     },
     "metadata": {},
     "execution_count": 35
    }
   ],
   "source": [
    "tmpseries = selected_cols[selected_cols['modzcta'] == 10473]\n",
    "tmpseries['households no internet'].sum() / tmpseries['Total households'].sum()\n",
    "tmpdic['modzcta'] = 10473\n",
    "tmpdic['perc'] = tmpseries['households no internet'].sum() / tmpseries['Total households'].sum()\n",
    "tmpdic"
   ]
  },
  {
   "cell_type": "code",
   "execution_count": 40,
   "metadata": {},
   "outputs": [
    {
     "output_type": "execute_result",
     "data": {
      "text/plain": [
       "     modzcta      perc\n",
       "0    10473.0  0.205641\n",
       "1    10454.0  0.330787\n",
       "2    10455.0  0.276181\n",
       "3    10472.0  0.257344\n",
       "4    10451.0  0.276997\n",
       "..       ...       ...\n",
       "172  10312.0  0.101062\n",
       "173  10314.0  0.119923\n",
       "174  10307.0  0.115211\n",
       "175  10309.0  0.118634\n",
       "176  10303.0  0.218108\n",
       "\n",
       "[177 rows x 2 columns]"
      ],
      "text/html": "<div>\n<style scoped>\n    .dataframe tbody tr th:only-of-type {\n        vertical-align: middle;\n    }\n\n    .dataframe tbody tr th {\n        vertical-align: top;\n    }\n\n    .dataframe thead th {\n        text-align: right;\n    }\n</style>\n<table border=\"1\" class=\"dataframe\">\n  <thead>\n    <tr style=\"text-align: right;\">\n      <th></th>\n      <th>modzcta</th>\n      <th>perc</th>\n    </tr>\n  </thead>\n  <tbody>\n    <tr>\n      <th>0</th>\n      <td>10473.0</td>\n      <td>0.205641</td>\n    </tr>\n    <tr>\n      <th>1</th>\n      <td>10454.0</td>\n      <td>0.330787</td>\n    </tr>\n    <tr>\n      <th>2</th>\n      <td>10455.0</td>\n      <td>0.276181</td>\n    </tr>\n    <tr>\n      <th>3</th>\n      <td>10472.0</td>\n      <td>0.257344</td>\n    </tr>\n    <tr>\n      <th>4</th>\n      <td>10451.0</td>\n      <td>0.276997</td>\n    </tr>\n    <tr>\n      <th>...</th>\n      <td>...</td>\n      <td>...</td>\n    </tr>\n    <tr>\n      <th>172</th>\n      <td>10312.0</td>\n      <td>0.101062</td>\n    </tr>\n    <tr>\n      <th>173</th>\n      <td>10314.0</td>\n      <td>0.119923</td>\n    </tr>\n    <tr>\n      <th>174</th>\n      <td>10307.0</td>\n      <td>0.115211</td>\n    </tr>\n    <tr>\n      <th>175</th>\n      <td>10309.0</td>\n      <td>0.118634</td>\n    </tr>\n    <tr>\n      <th>176</th>\n      <td>10303.0</td>\n      <td>0.218108</td>\n    </tr>\n  </tbody>\n</table>\n<p>177 rows × 2 columns</p>\n</div>"
     },
     "metadata": {},
     "execution_count": 40
    }
   ],
   "source": [
    "for modzcta in list(selected_cols['modzcta'].unique()):\n",
    "    tmpdic = {}\n",
    "    tmpseries = selected_cols[selected_cols['modzcta'] == modzcta]\n",
    "    tmpdic['modzcta'] = modzcta\n",
    "    tmpdic['perc'] = tmpseries['households no internet'].sum() / tmpseries['Total households'].sum()\n",
    "    merged = merged.append(tmpdic, ignore_index=True)\n",
    "merged"
   ]
  },
  {
   "cell_type": "code",
   "execution_count": 41,
   "metadata": {},
   "outputs": [],
   "source": [
    "merged.to_csv('../datas/2-InternetMerged.csv', index=False)"
   ]
  },
  {
   "cell_type": "code",
   "execution_count": null,
   "metadata": {},
   "outputs": [],
   "source": []
  }
 ]
}