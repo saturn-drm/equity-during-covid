{
 "metadata": {
  "language_info": {
   "codemirror_mode": {
    "name": "ipython",
    "version": 3
   },
   "file_extension": ".py",
   "mimetype": "text/x-python",
   "name": "python",
   "nbconvert_exporter": "python",
   "pygments_lexer": "ipython3",
   "version": "3.7.7-final"
  },
  "orig_nbformat": 2,
  "kernelspec": {
   "name": "python37664bit12f9c6bab4384a7f877256d950d8a987",
   "display_name": "Python 3.7.6 64-bit"
  }
 },
 "nbformat": 4,
 "nbformat_minor": 2,
 "cells": [
  {
   "source": [
    "# convert and merge SVI"
   ],
   "cell_type": "markdown",
   "metadata": {}
  },
  {
   "cell_type": "code",
   "execution_count": 35,
   "metadata": {},
   "outputs": [],
   "source": [
    "import geopandas\n",
    "import pandas"
   ]
  },
  {
   "cell_type": "code",
   "execution_count": 36,
   "metadata": {},
   "outputs": [],
   "source": [
    "data = geopandas.read_file('../datas/04-svi/query.geojson')\n",
    "data.drop(columns=['geometry']).to_csv('../datas/04-svi/svi.csv', index=False)"
   ]
  },
  {
   "cell_type": "code",
   "execution_count": 37,
   "metadata": {},
   "outputs": [
    {
     "output_type": "execute_result",
     "data": {
      "text/plain": [
       "   ST     STATE ST_ABBR  COUNTY         FIPS  \\\n",
       "0  36  NEW YORK      NY  Albany  36001000100   \n",
       "1  36  NEW YORK      NY  Albany  36001000200   \n",
       "2  36  NEW YORK      NY  Albany  36001000300   \n",
       "3  36  NEW YORK      NY  Albany  36001000401   \n",
       "4  36  NEW YORK      NY  Albany  36001000403   \n",
       "\n",
       "                                     LOCATION  RPL_THEMES  \n",
       "0     Census Tract 1, Albany County, New York      0.8524  \n",
       "1     Census Tract 2, Albany County, New York      0.7603  \n",
       "2     Census Tract 3, Albany County, New York      0.8359  \n",
       "3  Census Tract 4.01, Albany County, New York      0.4764  \n",
       "4  Census Tract 4.03, Albany County, New York      0.3459  "
      ],
      "text/html": "<div>\n<style scoped>\n    .dataframe tbody tr th:only-of-type {\n        vertical-align: middle;\n    }\n\n    .dataframe tbody tr th {\n        vertical-align: top;\n    }\n\n    .dataframe thead th {\n        text-align: right;\n    }\n</style>\n<table border=\"1\" class=\"dataframe\">\n  <thead>\n    <tr style=\"text-align: right;\">\n      <th></th>\n      <th>ST</th>\n      <th>STATE</th>\n      <th>ST_ABBR</th>\n      <th>COUNTY</th>\n      <th>FIPS</th>\n      <th>LOCATION</th>\n      <th>RPL_THEMES</th>\n    </tr>\n  </thead>\n  <tbody>\n    <tr>\n      <th>0</th>\n      <td>36</td>\n      <td>NEW YORK</td>\n      <td>NY</td>\n      <td>Albany</td>\n      <td>36001000100</td>\n      <td>Census Tract 1, Albany County, New York</td>\n      <td>0.8524</td>\n    </tr>\n    <tr>\n      <th>1</th>\n      <td>36</td>\n      <td>NEW YORK</td>\n      <td>NY</td>\n      <td>Albany</td>\n      <td>36001000200</td>\n      <td>Census Tract 2, Albany County, New York</td>\n      <td>0.7603</td>\n    </tr>\n    <tr>\n      <th>2</th>\n      <td>36</td>\n      <td>NEW YORK</td>\n      <td>NY</td>\n      <td>Albany</td>\n      <td>36001000300</td>\n      <td>Census Tract 3, Albany County, New York</td>\n      <td>0.8359</td>\n    </tr>\n    <tr>\n      <th>3</th>\n      <td>36</td>\n      <td>NEW YORK</td>\n      <td>NY</td>\n      <td>Albany</td>\n      <td>36001000401</td>\n      <td>Census Tract 4.01, Albany County, New York</td>\n      <td>0.4764</td>\n    </tr>\n    <tr>\n      <th>4</th>\n      <td>36</td>\n      <td>NEW YORK</td>\n      <td>NY</td>\n      <td>Albany</td>\n      <td>36001000403</td>\n      <td>Census Tract 4.03, Albany County, New York</td>\n      <td>0.3459</td>\n    </tr>\n  </tbody>\n</table>\n</div>"
     },
     "metadata": {},
     "execution_count": 37
    }
   ],
   "source": [
    "csvdata = pandas.read_csv('../datas/04-svi/svi.csv')\n",
    "csvdata.head()"
   ]
  },
  {
   "cell_type": "code",
   "execution_count": 38,
   "metadata": {},
   "outputs": [
    {
     "output_type": "execute_result",
     "data": {
      "text/plain": [
       "          label modzcta pop_est                 zcta  \\\n",
       "0  10001, 10118   10001   23072  10001, 10119, 10199   \n",
       "1         10002   10002   74993                10002   \n",
       "2         10003   10003   54682                10003   \n",
       "3         10004   10004    3028                10004   \n",
       "4         10005   10005    8831         10005, 10271   \n",
       "\n",
       "                                            geometry  \n",
       "0  MULTIPOLYGON (((-73.98774 40.74407, -73.98819 ...  \n",
       "1  MULTIPOLYGON (((-73.99750 40.71407, -73.99709 ...  \n",
       "2  MULTIPOLYGON (((-73.98864 40.72293, -73.98876 ...  \n",
       "3  MULTIPOLYGON (((-74.00827 40.70772, -74.00937 ...  \n",
       "4  MULTIPOLYGON (((-74.00783 40.70309, -74.00786 ...  "
      ],
      "text/html": "<div>\n<style scoped>\n    .dataframe tbody tr th:only-of-type {\n        vertical-align: middle;\n    }\n\n    .dataframe tbody tr th {\n        vertical-align: top;\n    }\n\n    .dataframe thead th {\n        text-align: right;\n    }\n</style>\n<table border=\"1\" class=\"dataframe\">\n  <thead>\n    <tr style=\"text-align: right;\">\n      <th></th>\n      <th>label</th>\n      <th>modzcta</th>\n      <th>pop_est</th>\n      <th>zcta</th>\n      <th>geometry</th>\n    </tr>\n  </thead>\n  <tbody>\n    <tr>\n      <th>0</th>\n      <td>10001, 10118</td>\n      <td>10001</td>\n      <td>23072</td>\n      <td>10001, 10119, 10199</td>\n      <td>MULTIPOLYGON (((-73.98774 40.74407, -73.98819 ...</td>\n    </tr>\n    <tr>\n      <th>1</th>\n      <td>10002</td>\n      <td>10002</td>\n      <td>74993</td>\n      <td>10002</td>\n      <td>MULTIPOLYGON (((-73.99750 40.71407, -73.99709 ...</td>\n    </tr>\n    <tr>\n      <th>2</th>\n      <td>10003</td>\n      <td>10003</td>\n      <td>54682</td>\n      <td>10003</td>\n      <td>MULTIPOLYGON (((-73.98864 40.72293, -73.98876 ...</td>\n    </tr>\n    <tr>\n      <th>3</th>\n      <td>10004</td>\n      <td>10004</td>\n      <td>3028</td>\n      <td>10004</td>\n      <td>MULTIPOLYGON (((-74.00827 40.70772, -74.00937 ...</td>\n    </tr>\n    <tr>\n      <th>4</th>\n      <td>10005</td>\n      <td>10005</td>\n      <td>8831</td>\n      <td>10005, 10271</td>\n      <td>MULTIPOLYGON (((-74.00783 40.70309, -74.00786 ...</td>\n    </tr>\n  </tbody>\n</table>\n</div>"
     },
     "metadata": {},
     "execution_count": 38
    }
   ],
   "source": [
    "geodata = geopandas.read_file('../datas/00-tractTOzcta/Modified Zip Code Tabulation Areas (MODZCTA).geojson')\n",
    "geodata.head()"
   ]
  },
  {
   "cell_type": "code",
   "execution_count": 39,
   "metadata": {},
   "outputs": [
    {
     "output_type": "execute_result",
     "data": {
      "text/plain": [
       "   ZCTA5  STATE  COUNTY   TRACT        GEOID  POPPT  HUPT    AREAPT  \\\n",
       "0    601     72       1  956300  72001956300   4271  1706  44663250   \n",
       "1    601     72       1  956400  72001956400   2384  1037  32830481   \n",
       "2    601     72       1  956500  72001956500   3126  1240  44969548   \n",
       "3    601     72       1  956600  72001956600   2329   972   1981101   \n",
       "4    601     72       1  956700  72001956700   2053   948   1380041   \n",
       "\n",
       "    AREALANDPT   ZPOP  ...    TRAREA  TRAREALAND  ZPOPPCT  ZHUPCT  ZAREAPCT  \\\n",
       "0     44572589  18570  ...  44924558    44833897    23.00   22.03     26.67   \n",
       "1     32492074  18570  ...  37782601    37191697    12.84   13.39     19.61   \n",
       "2     44809680  18570  ...  44969548    44809680    16.83   16.01     26.85   \n",
       "3      1981101  18570  ...   1981101     1981101    12.54   12.55      1.18   \n",
       "4      1380041  18570  ...   1380041     1380041    11.06   12.24      0.82   \n",
       "\n",
       "   ZAREALANDPCT  TRPOPPCT  TRHUPCT  TRAREAPCT  TRAREALANDPCT  \n",
       "0         26.74      98.5    98.33      99.42          99.42  \n",
       "1         19.50      79.6    80.14      86.89          87.36  \n",
       "2         26.89     100.0   100.00     100.00         100.00  \n",
       "3          1.19     100.0   100.00     100.00         100.00  \n",
       "4          0.83     100.0   100.00     100.00         100.00  \n",
       "\n",
       "[5 rows x 25 columns]"
      ],
      "text/html": "<div>\n<style scoped>\n    .dataframe tbody tr th:only-of-type {\n        vertical-align: middle;\n    }\n\n    .dataframe tbody tr th {\n        vertical-align: top;\n    }\n\n    .dataframe thead th {\n        text-align: right;\n    }\n</style>\n<table border=\"1\" class=\"dataframe\">\n  <thead>\n    <tr style=\"text-align: right;\">\n      <th></th>\n      <th>ZCTA5</th>\n      <th>STATE</th>\n      <th>COUNTY</th>\n      <th>TRACT</th>\n      <th>GEOID</th>\n      <th>POPPT</th>\n      <th>HUPT</th>\n      <th>AREAPT</th>\n      <th>AREALANDPT</th>\n      <th>ZPOP</th>\n      <th>...</th>\n      <th>TRAREA</th>\n      <th>TRAREALAND</th>\n      <th>ZPOPPCT</th>\n      <th>ZHUPCT</th>\n      <th>ZAREAPCT</th>\n      <th>ZAREALANDPCT</th>\n      <th>TRPOPPCT</th>\n      <th>TRHUPCT</th>\n      <th>TRAREAPCT</th>\n      <th>TRAREALANDPCT</th>\n    </tr>\n  </thead>\n  <tbody>\n    <tr>\n      <th>0</th>\n      <td>601</td>\n      <td>72</td>\n      <td>1</td>\n      <td>956300</td>\n      <td>72001956300</td>\n      <td>4271</td>\n      <td>1706</td>\n      <td>44663250</td>\n      <td>44572589</td>\n      <td>18570</td>\n      <td>...</td>\n      <td>44924558</td>\n      <td>44833897</td>\n      <td>23.00</td>\n      <td>22.03</td>\n      <td>26.67</td>\n      <td>26.74</td>\n      <td>98.5</td>\n      <td>98.33</td>\n      <td>99.42</td>\n      <td>99.42</td>\n    </tr>\n    <tr>\n      <th>1</th>\n      <td>601</td>\n      <td>72</td>\n      <td>1</td>\n      <td>956400</td>\n      <td>72001956400</td>\n      <td>2384</td>\n      <td>1037</td>\n      <td>32830481</td>\n      <td>32492074</td>\n      <td>18570</td>\n      <td>...</td>\n      <td>37782601</td>\n      <td>37191697</td>\n      <td>12.84</td>\n      <td>13.39</td>\n      <td>19.61</td>\n      <td>19.50</td>\n      <td>79.6</td>\n      <td>80.14</td>\n      <td>86.89</td>\n      <td>87.36</td>\n    </tr>\n    <tr>\n      <th>2</th>\n      <td>601</td>\n      <td>72</td>\n      <td>1</td>\n      <td>956500</td>\n      <td>72001956500</td>\n      <td>3126</td>\n      <td>1240</td>\n      <td>44969548</td>\n      <td>44809680</td>\n      <td>18570</td>\n      <td>...</td>\n      <td>44969548</td>\n      <td>44809680</td>\n      <td>16.83</td>\n      <td>16.01</td>\n      <td>26.85</td>\n      <td>26.89</td>\n      <td>100.0</td>\n      <td>100.00</td>\n      <td>100.00</td>\n      <td>100.00</td>\n    </tr>\n    <tr>\n      <th>3</th>\n      <td>601</td>\n      <td>72</td>\n      <td>1</td>\n      <td>956600</td>\n      <td>72001956600</td>\n      <td>2329</td>\n      <td>972</td>\n      <td>1981101</td>\n      <td>1981101</td>\n      <td>18570</td>\n      <td>...</td>\n      <td>1981101</td>\n      <td>1981101</td>\n      <td>12.54</td>\n      <td>12.55</td>\n      <td>1.18</td>\n      <td>1.19</td>\n      <td>100.0</td>\n      <td>100.00</td>\n      <td>100.00</td>\n      <td>100.00</td>\n    </tr>\n    <tr>\n      <th>4</th>\n      <td>601</td>\n      <td>72</td>\n      <td>1</td>\n      <td>956700</td>\n      <td>72001956700</td>\n      <td>2053</td>\n      <td>948</td>\n      <td>1380041</td>\n      <td>1380041</td>\n      <td>18570</td>\n      <td>...</td>\n      <td>1380041</td>\n      <td>1380041</td>\n      <td>11.06</td>\n      <td>12.24</td>\n      <td>0.82</td>\n      <td>0.83</td>\n      <td>100.0</td>\n      <td>100.00</td>\n      <td>100.00</td>\n      <td>100.00</td>\n    </tr>\n  </tbody>\n</table>\n<p>5 rows × 25 columns</p>\n</div>"
     },
     "metadata": {},
     "execution_count": 39
    }
   ],
   "source": [
    "txtdata = pandas.read_csv('../datas/00-tractTOzcta/zcta_tract_rel_10.txt')\n",
    "txtdata.head()"
   ]
  },
  {
   "cell_type": "code",
   "execution_count": 41,
   "metadata": {},
   "outputs": [
    {
     "output_type": "execute_result",
     "data": {
      "text/plain": [
       "   ZCTA5        GEOID\n",
       "0    601  72001956300\n",
       "1    601  72001956400\n",
       "2    601  72001956500\n",
       "3    601  72001956600\n",
       "4    601  72001956700"
      ],
      "text/html": "<div>\n<style scoped>\n    .dataframe tbody tr th:only-of-type {\n        vertical-align: middle;\n    }\n\n    .dataframe tbody tr th {\n        vertical-align: top;\n    }\n\n    .dataframe thead th {\n        text-align: right;\n    }\n</style>\n<table border=\"1\" class=\"dataframe\">\n  <thead>\n    <tr style=\"text-align: right;\">\n      <th></th>\n      <th>ZCTA5</th>\n      <th>GEOID</th>\n    </tr>\n  </thead>\n  <tbody>\n    <tr>\n      <th>0</th>\n      <td>601</td>\n      <td>72001956300</td>\n    </tr>\n    <tr>\n      <th>1</th>\n      <td>601</td>\n      <td>72001956400</td>\n    </tr>\n    <tr>\n      <th>2</th>\n      <td>601</td>\n      <td>72001956500</td>\n    </tr>\n    <tr>\n      <th>3</th>\n      <td>601</td>\n      <td>72001956600</td>\n    </tr>\n    <tr>\n      <th>4</th>\n      <td>601</td>\n      <td>72001956700</td>\n    </tr>\n  </tbody>\n</table>\n</div>"
     },
     "metadata": {},
     "execution_count": 41
    }
   ],
   "source": [
    "txtdata = txtdata[['ZCTA5', 'GEOID']]\n",
    "txtdata.head()"
   ]
  },
  {
   "cell_type": "code",
   "execution_count": 42,
   "metadata": {},
   "outputs": [
    {
     "output_type": "execute_result",
     "data": {
      "text/plain": [
       "ZCTA5    int64\n",
       "GEOID    int64\n",
       "dtype: object"
      ]
     },
     "metadata": {},
     "execution_count": 42
    }
   ],
   "source": [
    "txtdata.dtypes"
   ]
  },
  {
   "cell_type": "code",
   "execution_count": 43,
   "metadata": {},
   "outputs": [
    {
     "output_type": "execute_result",
     "data": {
      "text/plain": [
       "label         object\n",
       "modzcta       object\n",
       "pop_est       object\n",
       "zcta          object\n",
       "geometry    geometry\n",
       "dtype: object"
      ]
     },
     "metadata": {},
     "execution_count": 43
    }
   ],
   "source": [
    "geodata.dtypes"
   ]
  },
  {
   "cell_type": "code",
   "execution_count": 44,
   "metadata": {},
   "outputs": [
    {
     "output_type": "execute_result",
     "data": {
      "text/plain": [
       "     ZCTA5  modzcta\n",
       "0    10001    10001\n",
       "1    10119    10001\n",
       "2    10199    10001\n",
       "3    10002    10002\n",
       "4    10003    10003\n",
       "..     ...      ...\n",
       "209  11691    11691\n",
       "210  11692    11692\n",
       "211  11693    11693\n",
       "212  11694    11694\n",
       "213  11697    11697\n",
       "\n",
       "[214 rows x 2 columns]"
      ],
      "text/html": "<div>\n<style scoped>\n    .dataframe tbody tr th:only-of-type {\n        vertical-align: middle;\n    }\n\n    .dataframe tbody tr th {\n        vertical-align: top;\n    }\n\n    .dataframe thead th {\n        text-align: right;\n    }\n</style>\n<table border=\"1\" class=\"dataframe\">\n  <thead>\n    <tr style=\"text-align: right;\">\n      <th></th>\n      <th>ZCTA5</th>\n      <th>modzcta</th>\n    </tr>\n  </thead>\n  <tbody>\n    <tr>\n      <th>0</th>\n      <td>10001</td>\n      <td>10001</td>\n    </tr>\n    <tr>\n      <th>1</th>\n      <td>10119</td>\n      <td>10001</td>\n    </tr>\n    <tr>\n      <th>2</th>\n      <td>10199</td>\n      <td>10001</td>\n    </tr>\n    <tr>\n      <th>3</th>\n      <td>10002</td>\n      <td>10002</td>\n    </tr>\n    <tr>\n      <th>4</th>\n      <td>10003</td>\n      <td>10003</td>\n    </tr>\n    <tr>\n      <th>...</th>\n      <td>...</td>\n      <td>...</td>\n    </tr>\n    <tr>\n      <th>209</th>\n      <td>11691</td>\n      <td>11691</td>\n    </tr>\n    <tr>\n      <th>210</th>\n      <td>11692</td>\n      <td>11692</td>\n    </tr>\n    <tr>\n      <th>211</th>\n      <td>11693</td>\n      <td>11693</td>\n    </tr>\n    <tr>\n      <th>212</th>\n      <td>11694</td>\n      <td>11694</td>\n    </tr>\n    <tr>\n      <th>213</th>\n      <td>11697</td>\n      <td>11697</td>\n    </tr>\n  </tbody>\n</table>\n<p>214 rows × 2 columns</p>\n</div>"
     },
     "metadata": {},
     "execution_count": 44
    }
   ],
   "source": [
    "tmp = {}\n",
    "for index, row in geodata.iterrows():\n",
    "    if row['modzcta'] != '99999':\n",
    "        for zcta in row['zcta'].split(', '):\n",
    "            tmp[zcta] = row['modzcta']\n",
    "geodatacleaned = pandas.DataFrame(tmp.items(), columns=['ZCTA5', 'modzcta'])\n",
    "geodatacleaned = geodatacleaned.astype({'ZCTA5': 'int64', 'modzcta': 'int64'})\n",
    "geodatacleaned"
   ]
  },
  {
   "cell_type": "code",
   "execution_count": 45,
   "metadata": {},
   "outputs": [
    {
     "output_type": "execute_result",
     "data": {
      "text/plain": [
       "       ZCTA5        GEOID  modzcta\n",
       "9554   10001  36061005800    10001\n",
       "9555   10001  36061007600    10001\n",
       "9556   10001  36061009100    10001\n",
       "9557   10001  36061009300    10001\n",
       "9558   10001  36061009500    10001\n",
       "...      ...          ...      ...\n",
       "13406  11694  36081093800    11694\n",
       "13407  11694  36081094201    11694\n",
       "13408  11697  36081091601    11697\n",
       "13409  11697  36081091602    11697\n",
       "13410  11697  36081091800    11697\n",
       "\n",
       "[2894 rows x 3 columns]"
      ],
      "text/html": "<div>\n<style scoped>\n    .dataframe tbody tr th:only-of-type {\n        vertical-align: middle;\n    }\n\n    .dataframe tbody tr th {\n        vertical-align: top;\n    }\n\n    .dataframe thead th {\n        text-align: right;\n    }\n</style>\n<table border=\"1\" class=\"dataframe\">\n  <thead>\n    <tr style=\"text-align: right;\">\n      <th></th>\n      <th>ZCTA5</th>\n      <th>GEOID</th>\n      <th>modzcta</th>\n    </tr>\n  </thead>\n  <tbody>\n    <tr>\n      <th>9554</th>\n      <td>10001</td>\n      <td>36061005800</td>\n      <td>10001</td>\n    </tr>\n    <tr>\n      <th>9555</th>\n      <td>10001</td>\n      <td>36061007600</td>\n      <td>10001</td>\n    </tr>\n    <tr>\n      <th>9556</th>\n      <td>10001</td>\n      <td>36061009100</td>\n      <td>10001</td>\n    </tr>\n    <tr>\n      <th>9557</th>\n      <td>10001</td>\n      <td>36061009300</td>\n      <td>10001</td>\n    </tr>\n    <tr>\n      <th>9558</th>\n      <td>10001</td>\n      <td>36061009500</td>\n      <td>10001</td>\n    </tr>\n    <tr>\n      <th>...</th>\n      <td>...</td>\n      <td>...</td>\n      <td>...</td>\n    </tr>\n    <tr>\n      <th>13406</th>\n      <td>11694</td>\n      <td>36081093800</td>\n      <td>11694</td>\n    </tr>\n    <tr>\n      <th>13407</th>\n      <td>11694</td>\n      <td>36081094201</td>\n      <td>11694</td>\n    </tr>\n    <tr>\n      <th>13408</th>\n      <td>11697</td>\n      <td>36081091601</td>\n      <td>11697</td>\n    </tr>\n    <tr>\n      <th>13409</th>\n      <td>11697</td>\n      <td>36081091602</td>\n      <td>11697</td>\n    </tr>\n    <tr>\n      <th>13410</th>\n      <td>11697</td>\n      <td>36081091800</td>\n      <td>11697</td>\n    </tr>\n  </tbody>\n</table>\n<p>2894 rows × 3 columns</p>\n</div>"
     },
     "metadata": {},
     "execution_count": 45
    }
   ],
   "source": [
    "txt_geo = txtdata.join(geodatacleaned.set_index('ZCTA5'), on='ZCTA5').dropna(subset=None, inplace=False)\n",
    "txt_geo = txt_geo.astype({'modzcta': 'int64'})\n",
    "txt_geo"
   ]
  },
  {
   "cell_type": "code",
   "execution_count": 46,
   "metadata": {},
   "outputs": [
    {
     "output_type": "execute_result",
     "data": {
      "text/plain": [
       "ST              int64\n",
       "STATE          object\n",
       "ST_ABBR        object\n",
       "COUNTY         object\n",
       "FIPS            int64\n",
       "LOCATION       object\n",
       "RPL_THEMES    float64\n",
       "dtype: object"
      ]
     },
     "metadata": {},
     "execution_count": 46
    }
   ],
   "source": [
    "csvdata.dtypes"
   ]
  },
  {
   "cell_type": "code",
   "execution_count": 54,
   "metadata": {},
   "outputs": [
    {
     "output_type": "execute_result",
     "data": {
      "text/plain": [
       "      ST     STATE ST_ABBR COUNTY         FIPS  \\\n",
       "0     36  NEW YORK      NY  Bronx  36005000100   \n",
       "1     36  NEW YORK      NY  Bronx  36005000200   \n",
       "2     36  NEW YORK      NY  Bronx  36005000400   \n",
       "3     36  NEW YORK      NY  Bronx  36005001600   \n",
       "4     36  NEW YORK      NY  Bronx  36005001900   \n",
       "...   ..       ...     ...    ...          ...   \n",
       "1358  36  NEW YORK      NY  Kings  36047123700   \n",
       "1359  36  NEW YORK      NY  Kings  36047150200   \n",
       "1360  36  NEW YORK      NY  Kings  36047150200   \n",
       "1361  36  NEW YORK      NY  Kings  36047152200   \n",
       "1362  36  NEW YORK      NY  Kings  36047152200   \n",
       "\n",
       "                                       LOCATION  RPL_THEMES  ZCTA5  modzcta  \n",
       "0        Census Tract 1, Bronx County, New York   -999.0000  11370    11370  \n",
       "1        Census Tract 2, Bronx County, New York      0.9544  10473    10473  \n",
       "2        Census Tract 4, Bronx County, New York      0.6322  10473    10473  \n",
       "3       Census Tract 16, Bronx County, New York      0.9761  10473    10473  \n",
       "4       Census Tract 19, Bronx County, New York      0.9752  10454    10454  \n",
       "...                                         ...         ...    ...      ...  \n",
       "1358  Census Tract 1237, Kings County, New York      0.6982  11205    11205  \n",
       "1359  Census Tract 1502, Kings County, New York      0.2405  11215    11215  \n",
       "1360  Census Tract 1502, Kings County, New York      0.2405  11218    11218  \n",
       "1361  Census Tract 1522, Kings County, New York      0.4982  11218    11218  \n",
       "1362  Census Tract 1522, Kings County, New York      0.4982  11226    11226  \n",
       "\n",
       "[1363 rows x 9 columns]"
      ],
      "text/html": "<div>\n<style scoped>\n    .dataframe tbody tr th:only-of-type {\n        vertical-align: middle;\n    }\n\n    .dataframe tbody tr th {\n        vertical-align: top;\n    }\n\n    .dataframe thead th {\n        text-align: right;\n    }\n</style>\n<table border=\"1\" class=\"dataframe\">\n  <thead>\n    <tr style=\"text-align: right;\">\n      <th></th>\n      <th>ST</th>\n      <th>STATE</th>\n      <th>ST_ABBR</th>\n      <th>COUNTY</th>\n      <th>FIPS</th>\n      <th>LOCATION</th>\n      <th>RPL_THEMES</th>\n      <th>ZCTA5</th>\n      <th>modzcta</th>\n    </tr>\n  </thead>\n  <tbody>\n    <tr>\n      <th>0</th>\n      <td>36</td>\n      <td>NEW YORK</td>\n      <td>NY</td>\n      <td>Bronx</td>\n      <td>36005000100</td>\n      <td>Census Tract 1, Bronx County, New York</td>\n      <td>-999.0000</td>\n      <td>11370</td>\n      <td>11370</td>\n    </tr>\n    <tr>\n      <th>1</th>\n      <td>36</td>\n      <td>NEW YORK</td>\n      <td>NY</td>\n      <td>Bronx</td>\n      <td>36005000200</td>\n      <td>Census Tract 2, Bronx County, New York</td>\n      <td>0.9544</td>\n      <td>10473</td>\n      <td>10473</td>\n    </tr>\n    <tr>\n      <th>2</th>\n      <td>36</td>\n      <td>NEW YORK</td>\n      <td>NY</td>\n      <td>Bronx</td>\n      <td>36005000400</td>\n      <td>Census Tract 4, Bronx County, New York</td>\n      <td>0.6322</td>\n      <td>10473</td>\n      <td>10473</td>\n    </tr>\n    <tr>\n      <th>3</th>\n      <td>36</td>\n      <td>NEW YORK</td>\n      <td>NY</td>\n      <td>Bronx</td>\n      <td>36005001600</td>\n      <td>Census Tract 16, Bronx County, New York</td>\n      <td>0.9761</td>\n      <td>10473</td>\n      <td>10473</td>\n    </tr>\n    <tr>\n      <th>4</th>\n      <td>36</td>\n      <td>NEW YORK</td>\n      <td>NY</td>\n      <td>Bronx</td>\n      <td>36005001900</td>\n      <td>Census Tract 19, Bronx County, New York</td>\n      <td>0.9752</td>\n      <td>10454</td>\n      <td>10454</td>\n    </tr>\n    <tr>\n      <th>...</th>\n      <td>...</td>\n      <td>...</td>\n      <td>...</td>\n      <td>...</td>\n      <td>...</td>\n      <td>...</td>\n      <td>...</td>\n      <td>...</td>\n      <td>...</td>\n    </tr>\n    <tr>\n      <th>1358</th>\n      <td>36</td>\n      <td>NEW YORK</td>\n      <td>NY</td>\n      <td>Kings</td>\n      <td>36047123700</td>\n      <td>Census Tract 1237, Kings County, New York</td>\n      <td>0.6982</td>\n      <td>11205</td>\n      <td>11205</td>\n    </tr>\n    <tr>\n      <th>1359</th>\n      <td>36</td>\n      <td>NEW YORK</td>\n      <td>NY</td>\n      <td>Kings</td>\n      <td>36047150200</td>\n      <td>Census Tract 1502, Kings County, New York</td>\n      <td>0.2405</td>\n      <td>11215</td>\n      <td>11215</td>\n    </tr>\n    <tr>\n      <th>1360</th>\n      <td>36</td>\n      <td>NEW YORK</td>\n      <td>NY</td>\n      <td>Kings</td>\n      <td>36047150200</td>\n      <td>Census Tract 1502, Kings County, New York</td>\n      <td>0.2405</td>\n      <td>11218</td>\n      <td>11218</td>\n    </tr>\n    <tr>\n      <th>1361</th>\n      <td>36</td>\n      <td>NEW YORK</td>\n      <td>NY</td>\n      <td>Kings</td>\n      <td>36047152200</td>\n      <td>Census Tract 1522, Kings County, New York</td>\n      <td>0.4982</td>\n      <td>11218</td>\n      <td>11218</td>\n    </tr>\n    <tr>\n      <th>1362</th>\n      <td>36</td>\n      <td>NEW YORK</td>\n      <td>NY</td>\n      <td>Kings</td>\n      <td>36047152200</td>\n      <td>Census Tract 1522, Kings County, New York</td>\n      <td>0.4982</td>\n      <td>11226</td>\n      <td>11226</td>\n    </tr>\n  </tbody>\n</table>\n<p>1363 rows × 9 columns</p>\n</div>"
     },
     "metadata": {},
     "execution_count": 54
    }
   ],
   "source": [
    "csv_txt_geo = csvdata.join(txt_geo.set_index('GEOID'), on='FIPS').dropna(subset=['ZCTA5', 'modzcta'], inplace=False).astype({'ZCTA5': 'int64', 'modzcta':'int64'})\n",
    "csv_txt_geo = csv_txt_geo.reset_index(drop=True)\n",
    "csv_txt_geo"
   ]
  },
  {
   "cell_type": "code",
   "execution_count": 55,
   "metadata": {},
   "outputs": [],
   "source": [
    "csv_txt_geo.to_csv('../datas/04-svi/svi-cleaned.csv', index=False)"
   ]
  },
  {
   "cell_type": "code",
   "execution_count": 57,
   "metadata": {},
   "outputs": [
    {
     "output_type": "execute_result",
     "data": {
      "text/plain": [
       "(2000, 3)"
      ]
     },
     "metadata": {},
     "execution_count": 57
    }
   ],
   "source": [
    "test = geopandas.read_file('../datas/04-svi/querynew.geojson')\n",
    "test.shape"
   ]
  },
  {
   "cell_type": "code",
   "execution_count": 58,
   "metadata": {},
   "outputs": [
    {
     "output_type": "execute_result",
     "data": {
      "text/plain": [
       "array(['Bronx County', 'Kings County', 'Nassau County', 'New York County',\n",
       "       'Queens County', 'Richmond County'], dtype=object)"
      ]
     },
     "metadata": {},
     "execution_count": 58
    }
   ],
   "source": [
    "countys = pandas.read_csv('../datas/0-InternetEducation.csv')\n",
    "countys['County'].unique()"
   ]
  },
  {
   "cell_type": "code",
   "execution_count": 59,
   "metadata": {},
   "outputs": [
    {
     "output_type": "execute_result",
     "data": {
      "text/plain": [
       "(5294, 25)"
      ]
     },
     "metadata": {},
     "execution_count": 59
    }
   ],
   "source": [
    "csvdata = pandas.read_csv('../datas/04-svi/cdcsvi.csv')\n",
    "csvdata.shape"
   ]
  },
  {
   "cell_type": "code",
   "execution_count": 61,
   "metadata": {},
   "outputs": [
    {
     "output_type": "execute_result",
     "data": {
      "text/plain": [
       "array(['Richmond', 'Ulster', 'New York', 'Hudson', 'Dutchess', 'Kings',\n",
       "       'Westchester', 'Nassau', 'Queens', 'Rockland', 'Suffolk',\n",
       "       'Sullivan', 'Putnam', 'Orange', 'Bronx', ' Bronx', 'Fairfield',\n",
       "       'Litchfield', 'New Haven', 'Somerset', 'Ocean', 'Passaic',\n",
       "       'Morris', 'Warren', 'Bergen', 'Mercer', 'Monmouth', 'Essex',\n",
       "       'Hunterdon', 'Sussex', 'Union', 'Middlesex'], dtype=object)"
      ]
     },
     "metadata": {},
     "execution_count": 61
    }
   ],
   "source": [
    "csvdata['County'].unique()"
   ]
  },
  {
   "cell_type": "code",
   "execution_count": 65,
   "metadata": {},
   "outputs": [
    {
     "output_type": "execute_result",
     "data": {
      "text/plain": [
       "               NAMELSAD10  Pop_T  SV_Index2\n",
       "0         Census Tract 17   1788   0.353482\n",
       "1          Census Tract 6   2408   0.433675\n",
       "2          Census Tract 7   4915   0.409195\n",
       "3         Census Tract 18    731   0.374946\n",
       "4          Census Tract 3   1927   0.390923\n",
       "...                   ...    ...        ...\n",
       "3297     Census Tract 185   7466   0.445247\n",
       "3298     Census Tract 209   4361   0.469949\n",
       "3299     Census Tract 222   3425   0.422964\n",
       "3300     Census Tract 238   2615   0.377509\n",
       "3301  Census Tract 375.04   3677   0.454758\n",
       "\n",
       "[2442 rows x 3 columns]"
      ],
      "text/html": "<div>\n<style scoped>\n    .dataframe tbody tr th:only-of-type {\n        vertical-align: middle;\n    }\n\n    .dataframe tbody tr th {\n        vertical-align: top;\n    }\n\n    .dataframe thead th {\n        text-align: right;\n    }\n</style>\n<table border=\"1\" class=\"dataframe\">\n  <thead>\n    <tr style=\"text-align: right;\">\n      <th></th>\n      <th>NAMELSAD10</th>\n      <th>Pop_T</th>\n      <th>SV_Index2</th>\n    </tr>\n  </thead>\n  <tbody>\n    <tr>\n      <th>0</th>\n      <td>Census Tract 17</td>\n      <td>1788</td>\n      <td>0.353482</td>\n    </tr>\n    <tr>\n      <th>1</th>\n      <td>Census Tract 6</td>\n      <td>2408</td>\n      <td>0.433675</td>\n    </tr>\n    <tr>\n      <th>2</th>\n      <td>Census Tract 7</td>\n      <td>4915</td>\n      <td>0.409195</td>\n    </tr>\n    <tr>\n      <th>3</th>\n      <td>Census Tract 18</td>\n      <td>731</td>\n      <td>0.374946</td>\n    </tr>\n    <tr>\n      <th>4</th>\n      <td>Census Tract 3</td>\n      <td>1927</td>\n      <td>0.390923</td>\n    </tr>\n    <tr>\n      <th>...</th>\n      <td>...</td>\n      <td>...</td>\n      <td>...</td>\n    </tr>\n    <tr>\n      <th>3297</th>\n      <td>Census Tract 185</td>\n      <td>7466</td>\n      <td>0.445247</td>\n    </tr>\n    <tr>\n      <th>3298</th>\n      <td>Census Tract 209</td>\n      <td>4361</td>\n      <td>0.469949</td>\n    </tr>\n    <tr>\n      <th>3299</th>\n      <td>Census Tract 222</td>\n      <td>3425</td>\n      <td>0.422964</td>\n    </tr>\n    <tr>\n      <th>3300</th>\n      <td>Census Tract 238</td>\n      <td>2615</td>\n      <td>0.377509</td>\n    </tr>\n    <tr>\n      <th>3301</th>\n      <td>Census Tract 375.04</td>\n      <td>3677</td>\n      <td>0.454758</td>\n    </tr>\n  </tbody>\n</table>\n<p>2442 rows × 3 columns</p>\n</div>"
     },
     "metadata": {},
     "execution_count": 65
    }
   ],
   "source": [
    "csvdata = csvdata[csvdata['County'].isin(['Bronx', 'Kings', 'Nassau', 'New York', 'Queens', 'Richmond'])]\n",
    "csvdata = csvdata[['NAMELSAD10','Pop_T','SV_Index2']]\n",
    "csvdata"
   ]
  },
  {
   "cell_type": "code",
   "execution_count": 68,
   "metadata": {},
   "outputs": [],
   "source": [
    "bronx = geopandas.read_file('../datas/04-svi/querybronx.geojson')\n",
    "kings = geopandas.read_file('../datas/04-svi/querykings.geojson')\n",
    "nassau = geopandas.read_file('../datas/04-svi/querynassau.geojson')\n",
    "ny = geopandas.read_file('../datas/04-svi/queryny.geojson')\n",
    "queens = geopandas.read_file('../datas/04-svi/queryqueens.geojson')\n",
    "richmond = geopandas.read_file('../datas/04-svi/queryrichmond.geojson')"
   ]
  },
  {
   "cell_type": "code",
   "execution_count": 77,
   "metadata": {},
   "outputs": [],
   "source": [
    "csvdatanew = pandas.concat([bronx, kings, nassau, ny, queens, richmond], ignore_index=True).drop(columns=['geometry'], inplace=False)\n",
    "csvdatanew = csvdatanew.astype({'FIPS': 'int64'})\n",
    "csvdatanew.to_csv('../datas/04-svi/gissvi-concat.csv', index=False)"
   ]
  },
  {
   "cell_type": "code",
   "execution_count": 85,
   "metadata": {},
   "outputs": [
    {
     "output_type": "execute_result",
     "data": {
      "text/plain": [
       "             FIPS  RPL_THEMES    COUNTY\n",
       "0     36005000100   -999.0000     Bronx\n",
       "1     36005000200      0.9544     Bronx\n",
       "2     36005000400      0.6322     Bronx\n",
       "3     36005001600      0.9761     Bronx\n",
       "4     36005001900      0.9752     Bronx\n",
       "...           ...         ...       ...\n",
       "2539  37153970900      0.6960  Richmond\n",
       "2540  37153971000      0.9082  Richmond\n",
       "2541  37153971100      0.9082  Richmond\n",
       "2542  51159040100      0.6738  Richmond\n",
       "2543  51159040200      0.5659  Richmond\n",
       "\n",
       "[2544 rows x 3 columns]"
      ],
      "text/html": "<div>\n<style scoped>\n    .dataframe tbody tr th:only-of-type {\n        vertical-align: middle;\n    }\n\n    .dataframe tbody tr th {\n        vertical-align: top;\n    }\n\n    .dataframe thead th {\n        text-align: right;\n    }\n</style>\n<table border=\"1\" class=\"dataframe\">\n  <thead>\n    <tr style=\"text-align: right;\">\n      <th></th>\n      <th>FIPS</th>\n      <th>RPL_THEMES</th>\n      <th>COUNTY</th>\n    </tr>\n  </thead>\n  <tbody>\n    <tr>\n      <th>0</th>\n      <td>36005000100</td>\n      <td>-999.0000</td>\n      <td>Bronx</td>\n    </tr>\n    <tr>\n      <th>1</th>\n      <td>36005000200</td>\n      <td>0.9544</td>\n      <td>Bronx</td>\n    </tr>\n    <tr>\n      <th>2</th>\n      <td>36005000400</td>\n      <td>0.6322</td>\n      <td>Bronx</td>\n    </tr>\n    <tr>\n      <th>3</th>\n      <td>36005001600</td>\n      <td>0.9761</td>\n      <td>Bronx</td>\n    </tr>\n    <tr>\n      <th>4</th>\n      <td>36005001900</td>\n      <td>0.9752</td>\n      <td>Bronx</td>\n    </tr>\n    <tr>\n      <th>...</th>\n      <td>...</td>\n      <td>...</td>\n      <td>...</td>\n    </tr>\n    <tr>\n      <th>2539</th>\n      <td>37153970900</td>\n      <td>0.6960</td>\n      <td>Richmond</td>\n    </tr>\n    <tr>\n      <th>2540</th>\n      <td>37153971000</td>\n      <td>0.9082</td>\n      <td>Richmond</td>\n    </tr>\n    <tr>\n      <th>2541</th>\n      <td>37153971100</td>\n      <td>0.9082</td>\n      <td>Richmond</td>\n    </tr>\n    <tr>\n      <th>2542</th>\n      <td>51159040100</td>\n      <td>0.6738</td>\n      <td>Richmond</td>\n    </tr>\n    <tr>\n      <th>2543</th>\n      <td>51159040200</td>\n      <td>0.5659</td>\n      <td>Richmond</td>\n    </tr>\n  </tbody>\n</table>\n<p>2544 rows × 3 columns</p>\n</div>"
     },
     "metadata": {},
     "execution_count": 85
    }
   ],
   "source": [
    "csvdatanew"
   ]
  },
  {
   "cell_type": "code",
   "execution_count": 74,
   "metadata": {},
   "outputs": [
    {
     "output_type": "execute_result",
     "data": {
      "text/plain": [
       "       ZCTA5        GEOID  modzcta\n",
       "9554   10001  36061005800    10001\n",
       "9555   10001  36061007600    10001\n",
       "9556   10001  36061009100    10001\n",
       "9557   10001  36061009300    10001\n",
       "9558   10001  36061009500    10001\n",
       "...      ...          ...      ...\n",
       "13406  11694  36081093800    11694\n",
       "13407  11694  36081094201    11694\n",
       "13408  11697  36081091601    11697\n",
       "13409  11697  36081091602    11697\n",
       "13410  11697  36081091800    11697\n",
       "\n",
       "[2894 rows x 3 columns]"
      ],
      "text/html": "<div>\n<style scoped>\n    .dataframe tbody tr th:only-of-type {\n        vertical-align: middle;\n    }\n\n    .dataframe tbody tr th {\n        vertical-align: top;\n    }\n\n    .dataframe thead th {\n        text-align: right;\n    }\n</style>\n<table border=\"1\" class=\"dataframe\">\n  <thead>\n    <tr style=\"text-align: right;\">\n      <th></th>\n      <th>ZCTA5</th>\n      <th>GEOID</th>\n      <th>modzcta</th>\n    </tr>\n  </thead>\n  <tbody>\n    <tr>\n      <th>9554</th>\n      <td>10001</td>\n      <td>36061005800</td>\n      <td>10001</td>\n    </tr>\n    <tr>\n      <th>9555</th>\n      <td>10001</td>\n      <td>36061007600</td>\n      <td>10001</td>\n    </tr>\n    <tr>\n      <th>9556</th>\n      <td>10001</td>\n      <td>36061009100</td>\n      <td>10001</td>\n    </tr>\n    <tr>\n      <th>9557</th>\n      <td>10001</td>\n      <td>36061009300</td>\n      <td>10001</td>\n    </tr>\n    <tr>\n      <th>9558</th>\n      <td>10001</td>\n      <td>36061009500</td>\n      <td>10001</td>\n    </tr>\n    <tr>\n      <th>...</th>\n      <td>...</td>\n      <td>...</td>\n      <td>...</td>\n    </tr>\n    <tr>\n      <th>13406</th>\n      <td>11694</td>\n      <td>36081093800</td>\n      <td>11694</td>\n    </tr>\n    <tr>\n      <th>13407</th>\n      <td>11694</td>\n      <td>36081094201</td>\n      <td>11694</td>\n    </tr>\n    <tr>\n      <th>13408</th>\n      <td>11697</td>\n      <td>36081091601</td>\n      <td>11697</td>\n    </tr>\n    <tr>\n      <th>13409</th>\n      <td>11697</td>\n      <td>36081091602</td>\n      <td>11697</td>\n    </tr>\n    <tr>\n      <th>13410</th>\n      <td>11697</td>\n      <td>36081091800</td>\n      <td>11697</td>\n    </tr>\n  </tbody>\n</table>\n<p>2894 rows × 3 columns</p>\n</div>"
     },
     "metadata": {},
     "execution_count": 74
    }
   ],
   "source": [
    "txt_geo"
   ]
  },
  {
   "cell_type": "code",
   "execution_count": 78,
   "metadata": {},
   "outputs": [
    {
     "output_type": "execute_result",
     "data": {
      "text/plain": [
       "FIPS            int64\n",
       "RPL_THEMES    float64\n",
       "COUNTY         object\n",
       "dtype: object"
      ]
     },
     "metadata": {},
     "execution_count": 78
    }
   ],
   "source": [
    "csvdatanew.dtypes"
   ]
  },
  {
   "cell_type": "code",
   "execution_count": 83,
   "metadata": {},
   "outputs": [
    {
     "output_type": "execute_result",
     "data": {
      "text/plain": [
       "             FIPS  RPL_THEMES    COUNTY  ZCTA5  modzcta\n",
       "0     36005000100   -999.0000     Bronx  11370    11370\n",
       "1     36005000200      0.9544     Bronx  10473    10473\n",
       "2     36005000400      0.6322     Bronx  10473    10473\n",
       "3     36005001600      0.9761     Bronx  10473    10473\n",
       "4     36005001900      0.9752     Bronx  10454    10454\n",
       "...           ...         ...       ...    ...      ...\n",
       "2889  36085030302      0.5113  Richmond  10303    10303\n",
       "2890  36085030302      0.5113  Richmond  10314    10314\n",
       "2891  36085031901      0.9625  Richmond  10303    10303\n",
       "2892  36085031902      0.9183  Richmond  10303    10303\n",
       "2893  36085032300      0.5075  Richmond  10303    10303\n",
       "\n",
       "[2894 rows x 5 columns]"
      ],
      "text/html": "<div>\n<style scoped>\n    .dataframe tbody tr th:only-of-type {\n        vertical-align: middle;\n    }\n\n    .dataframe tbody tr th {\n        vertical-align: top;\n    }\n\n    .dataframe thead th {\n        text-align: right;\n    }\n</style>\n<table border=\"1\" class=\"dataframe\">\n  <thead>\n    <tr style=\"text-align: right;\">\n      <th></th>\n      <th>FIPS</th>\n      <th>RPL_THEMES</th>\n      <th>COUNTY</th>\n      <th>ZCTA5</th>\n      <th>modzcta</th>\n    </tr>\n  </thead>\n  <tbody>\n    <tr>\n      <th>0</th>\n      <td>36005000100</td>\n      <td>-999.0000</td>\n      <td>Bronx</td>\n      <td>11370</td>\n      <td>11370</td>\n    </tr>\n    <tr>\n      <th>1</th>\n      <td>36005000200</td>\n      <td>0.9544</td>\n      <td>Bronx</td>\n      <td>10473</td>\n      <td>10473</td>\n    </tr>\n    <tr>\n      <th>2</th>\n      <td>36005000400</td>\n      <td>0.6322</td>\n      <td>Bronx</td>\n      <td>10473</td>\n      <td>10473</td>\n    </tr>\n    <tr>\n      <th>3</th>\n      <td>36005001600</td>\n      <td>0.9761</td>\n      <td>Bronx</td>\n      <td>10473</td>\n      <td>10473</td>\n    </tr>\n    <tr>\n      <th>4</th>\n      <td>36005001900</td>\n      <td>0.9752</td>\n      <td>Bronx</td>\n      <td>10454</td>\n      <td>10454</td>\n    </tr>\n    <tr>\n      <th>...</th>\n      <td>...</td>\n      <td>...</td>\n      <td>...</td>\n      <td>...</td>\n      <td>...</td>\n    </tr>\n    <tr>\n      <th>2889</th>\n      <td>36085030302</td>\n      <td>0.5113</td>\n      <td>Richmond</td>\n      <td>10303</td>\n      <td>10303</td>\n    </tr>\n    <tr>\n      <th>2890</th>\n      <td>36085030302</td>\n      <td>0.5113</td>\n      <td>Richmond</td>\n      <td>10314</td>\n      <td>10314</td>\n    </tr>\n    <tr>\n      <th>2891</th>\n      <td>36085031901</td>\n      <td>0.9625</td>\n      <td>Richmond</td>\n      <td>10303</td>\n      <td>10303</td>\n    </tr>\n    <tr>\n      <th>2892</th>\n      <td>36085031902</td>\n      <td>0.9183</td>\n      <td>Richmond</td>\n      <td>10303</td>\n      <td>10303</td>\n    </tr>\n    <tr>\n      <th>2893</th>\n      <td>36085032300</td>\n      <td>0.5075</td>\n      <td>Richmond</td>\n      <td>10303</td>\n      <td>10303</td>\n    </tr>\n  </tbody>\n</table>\n<p>2894 rows × 5 columns</p>\n</div>"
     },
     "metadata": {},
     "execution_count": 83
    }
   ],
   "source": [
    "csv_txt_geo = csvdatanew.join(txt_geo.set_index('GEOID'), on='FIPS').dropna(subset=['ZCTA5', 'modzcta', 'FIPS'], inplace=False).astype({'ZCTA5': 'int64', 'modzcta':'int64'})\n",
    "csv_txt_geo = csv_txt_geo.reset_index(drop=True)\n",
    "csv_txt_geo"
   ]
  },
  {
   "cell_type": "code",
   "execution_count": 84,
   "metadata": {},
   "outputs": [
    {
     "output_type": "execute_result",
     "data": {
      "text/plain": [
       "FIPS            int64\n",
       "RPL_THEMES    float64\n",
       "COUNTY         object\n",
       "ZCTA5           int64\n",
       "modzcta         int64\n",
       "dtype: object"
      ]
     },
     "metadata": {},
     "execution_count": 84
    }
   ],
   "source": [
    "csv_txt_geo.dtypes"
   ]
  },
  {
   "cell_type": "code",
   "execution_count": 86,
   "metadata": {},
   "outputs": [],
   "source": [
    "csv_txt_geo.to_csv('../datas/04-svi/svi-cleaned.csv', index=False)"
   ]
  },
  {
   "cell_type": "code",
   "execution_count": 88,
   "metadata": {},
   "outputs": [
    {
     "output_type": "execute_result",
     "data": {
      "text/plain": [
       "      ZCTA5        GEOID  modzcta  RPL_THEMES    COUNTY\n",
       "0     10001  36061005800    10001      0.1429  New York\n",
       "1     10001  36061007600    10001      0.2589  New York\n",
       "2     10001  36061009100    10001      0.3534  New York\n",
       "3     10001  36061009300    10001      0.5049  New York\n",
       "4     10001  36061009500    10001      0.3847  New York\n",
       "...     ...          ...      ...         ...       ...\n",
       "2889  11694  36081093800    11694      0.8598    Queens\n",
       "2890  11694  36081094201    11694      0.7239    Queens\n",
       "2891  11697  36081091601    11697      0.2466    Queens\n",
       "2892  11697  36081091602    11697   -999.0000    Queens\n",
       "2893  11697  36081091800    11697   -999.0000    Queens\n",
       "\n",
       "[2894 rows x 5 columns]"
      ],
      "text/html": "<div>\n<style scoped>\n    .dataframe tbody tr th:only-of-type {\n        vertical-align: middle;\n    }\n\n    .dataframe tbody tr th {\n        vertical-align: top;\n    }\n\n    .dataframe thead th {\n        text-align: right;\n    }\n</style>\n<table border=\"1\" class=\"dataframe\">\n  <thead>\n    <tr style=\"text-align: right;\">\n      <th></th>\n      <th>ZCTA5</th>\n      <th>GEOID</th>\n      <th>modzcta</th>\n      <th>RPL_THEMES</th>\n      <th>COUNTY</th>\n    </tr>\n  </thead>\n  <tbody>\n    <tr>\n      <th>0</th>\n      <td>10001</td>\n      <td>36061005800</td>\n      <td>10001</td>\n      <td>0.1429</td>\n      <td>New York</td>\n    </tr>\n    <tr>\n      <th>1</th>\n      <td>10001</td>\n      <td>36061007600</td>\n      <td>10001</td>\n      <td>0.2589</td>\n      <td>New York</td>\n    </tr>\n    <tr>\n      <th>2</th>\n      <td>10001</td>\n      <td>36061009100</td>\n      <td>10001</td>\n      <td>0.3534</td>\n      <td>New York</td>\n    </tr>\n    <tr>\n      <th>3</th>\n      <td>10001</td>\n      <td>36061009300</td>\n      <td>10001</td>\n      <td>0.5049</td>\n      <td>New York</td>\n    </tr>\n    <tr>\n      <th>4</th>\n      <td>10001</td>\n      <td>36061009500</td>\n      <td>10001</td>\n      <td>0.3847</td>\n      <td>New York</td>\n    </tr>\n    <tr>\n      <th>...</th>\n      <td>...</td>\n      <td>...</td>\n      <td>...</td>\n      <td>...</td>\n      <td>...</td>\n    </tr>\n    <tr>\n      <th>2889</th>\n      <td>11694</td>\n      <td>36081093800</td>\n      <td>11694</td>\n      <td>0.8598</td>\n      <td>Queens</td>\n    </tr>\n    <tr>\n      <th>2890</th>\n      <td>11694</td>\n      <td>36081094201</td>\n      <td>11694</td>\n      <td>0.7239</td>\n      <td>Queens</td>\n    </tr>\n    <tr>\n      <th>2891</th>\n      <td>11697</td>\n      <td>36081091601</td>\n      <td>11697</td>\n      <td>0.2466</td>\n      <td>Queens</td>\n    </tr>\n    <tr>\n      <th>2892</th>\n      <td>11697</td>\n      <td>36081091602</td>\n      <td>11697</td>\n      <td>-999.0000</td>\n      <td>Queens</td>\n    </tr>\n    <tr>\n      <th>2893</th>\n      <td>11697</td>\n      <td>36081091800</td>\n      <td>11697</td>\n      <td>-999.0000</td>\n      <td>Queens</td>\n    </tr>\n  </tbody>\n</table>\n<p>2894 rows × 5 columns</p>\n</div>"
     },
     "metadata": {},
     "execution_count": 88
    }
   ],
   "source": [
    "csv_txt_geo = txt_geo.join(csvdatanew.set_index('FIPS'), on='GEOID').dropna(subset=['ZCTA5', 'modzcta'], inplace=False).astype({'ZCTA5': 'int64', 'modzcta':'int64'})\n",
    "csv_txt_geo = csv_txt_geo.reset_index(drop=True)\n",
    "csv_txt_geo"
   ]
  },
  {
   "cell_type": "code",
   "execution_count": 89,
   "metadata": {},
   "outputs": [
    {
     "output_type": "execute_result",
     "data": {
      "text/plain": [
       "2182"
      ]
     },
     "metadata": {},
     "execution_count": 89
    }
   ],
   "source": [
    "len(txt_geo['GEOID'].unique())"
   ]
  },
  {
   "cell_type": "code",
   "execution_count": 90,
   "metadata": {},
   "outputs": [
    {
     "output_type": "execute_result",
     "data": {
      "text/plain": [
       "2544"
      ]
     },
     "metadata": {},
     "execution_count": 90
    }
   ],
   "source": [
    "len(csvdatanew['FIPS'].unique())"
   ]
  },
  {
   "source": [
    "# merge data"
   ],
   "cell_type": "markdown",
   "metadata": {}
  },
  {
   "cell_type": "code",
   "execution_count": 91,
   "metadata": {},
   "outputs": [],
   "source": [
    "import pandas"
   ]
  },
  {
   "cell_type": "code",
   "execution_count": 92,
   "metadata": {},
   "outputs": [
    {
     "output_type": "execute_result",
     "data": {
      "text/plain": [
       "(2894, 5)"
      ]
     },
     "metadata": {},
     "execution_count": 92
    }
   ],
   "source": [
    "data = pandas.read_csv('../datas/04-svi/svi-cleaned.csv')\n",
    "data.shape"
   ]
  },
  {
   "cell_type": "code",
   "execution_count": 93,
   "metadata": {},
   "outputs": [
    {
     "output_type": "execute_result",
     "data": {
      "text/plain": [
       "          FIPS  RPL_THEMES COUNTY  ZCTA5  modzcta\n",
       "0  36005000100   -999.0000  Bronx  11370    11370\n",
       "1  36005000200      0.9544  Bronx  10473    10473\n",
       "2  36005000400      0.6322  Bronx  10473    10473\n",
       "3  36005001600      0.9761  Bronx  10473    10473\n",
       "4  36005001900      0.9752  Bronx  10454    10454"
      ],
      "text/html": "<div>\n<style scoped>\n    .dataframe tbody tr th:only-of-type {\n        vertical-align: middle;\n    }\n\n    .dataframe tbody tr th {\n        vertical-align: top;\n    }\n\n    .dataframe thead th {\n        text-align: right;\n    }\n</style>\n<table border=\"1\" class=\"dataframe\">\n  <thead>\n    <tr style=\"text-align: right;\">\n      <th></th>\n      <th>FIPS</th>\n      <th>RPL_THEMES</th>\n      <th>COUNTY</th>\n      <th>ZCTA5</th>\n      <th>modzcta</th>\n    </tr>\n  </thead>\n  <tbody>\n    <tr>\n      <th>0</th>\n      <td>36005000100</td>\n      <td>-999.0000</td>\n      <td>Bronx</td>\n      <td>11370</td>\n      <td>11370</td>\n    </tr>\n    <tr>\n      <th>1</th>\n      <td>36005000200</td>\n      <td>0.9544</td>\n      <td>Bronx</td>\n      <td>10473</td>\n      <td>10473</td>\n    </tr>\n    <tr>\n      <th>2</th>\n      <td>36005000400</td>\n      <td>0.6322</td>\n      <td>Bronx</td>\n      <td>10473</td>\n      <td>10473</td>\n    </tr>\n    <tr>\n      <th>3</th>\n      <td>36005001600</td>\n      <td>0.9761</td>\n      <td>Bronx</td>\n      <td>10473</td>\n      <td>10473</td>\n    </tr>\n    <tr>\n      <th>4</th>\n      <td>36005001900</td>\n      <td>0.9752</td>\n      <td>Bronx</td>\n      <td>10454</td>\n      <td>10454</td>\n    </tr>\n  </tbody>\n</table>\n</div>"
     },
     "metadata": {},
     "execution_count": 93
    }
   ],
   "source": [
    "data.head()"
   ]
  },
  {
   "cell_type": "code",
   "execution_count": 94,
   "metadata": {},
   "outputs": [
    {
     "output_type": "execute_result",
     "data": {
      "text/plain": [
       "   modzcta  RPL_THEMES\n",
       "0    11370   -999.0000\n",
       "1    10473      0.9544\n",
       "2    10473      0.6322\n",
       "3    10473      0.9761\n",
       "4    10454      0.9752"
      ],
      "text/html": "<div>\n<style scoped>\n    .dataframe tbody tr th:only-of-type {\n        vertical-align: middle;\n    }\n\n    .dataframe tbody tr th {\n        vertical-align: top;\n    }\n\n    .dataframe thead th {\n        text-align: right;\n    }\n</style>\n<table border=\"1\" class=\"dataframe\">\n  <thead>\n    <tr style=\"text-align: right;\">\n      <th></th>\n      <th>modzcta</th>\n      <th>RPL_THEMES</th>\n    </tr>\n  </thead>\n  <tbody>\n    <tr>\n      <th>0</th>\n      <td>11370</td>\n      <td>-999.0000</td>\n    </tr>\n    <tr>\n      <th>1</th>\n      <td>10473</td>\n      <td>0.9544</td>\n    </tr>\n    <tr>\n      <th>2</th>\n      <td>10473</td>\n      <td>0.6322</td>\n    </tr>\n    <tr>\n      <th>3</th>\n      <td>10473</td>\n      <td>0.9761</td>\n    </tr>\n    <tr>\n      <th>4</th>\n      <td>10454</td>\n      <td>0.9752</td>\n    </tr>\n  </tbody>\n</table>\n</div>"
     },
     "metadata": {},
     "execution_count": 94
    }
   ],
   "source": [
    "data = data[['modzcta', 'RPL_THEMES']]\n",
    "data.head()"
   ]
  },
  {
   "cell_type": "code",
   "execution_count": 95,
   "metadata": {},
   "outputs": [
    {
     "output_type": "execute_result",
     "data": {
      "text/plain": [
       "      modzcta  RPL_THEMES\n",
       "1       10473      0.9544\n",
       "2       10473      0.6322\n",
       "3       10473      0.9761\n",
       "4       10454      0.9752\n",
       "5       10455      0.9752\n",
       "...       ...         ...\n",
       "2889    10303      0.5113\n",
       "2890    10314      0.5113\n",
       "2891    10303      0.9625\n",
       "2892    10303      0.9183\n",
       "2893    10303      0.5075\n",
       "\n",
       "[2830 rows x 2 columns]"
      ],
      "text/html": "<div>\n<style scoped>\n    .dataframe tbody tr th:only-of-type {\n        vertical-align: middle;\n    }\n\n    .dataframe tbody tr th {\n        vertical-align: top;\n    }\n\n    .dataframe thead th {\n        text-align: right;\n    }\n</style>\n<table border=\"1\" class=\"dataframe\">\n  <thead>\n    <tr style=\"text-align: right;\">\n      <th></th>\n      <th>modzcta</th>\n      <th>RPL_THEMES</th>\n    </tr>\n  </thead>\n  <tbody>\n    <tr>\n      <th>1</th>\n      <td>10473</td>\n      <td>0.9544</td>\n    </tr>\n    <tr>\n      <th>2</th>\n      <td>10473</td>\n      <td>0.6322</td>\n    </tr>\n    <tr>\n      <th>3</th>\n      <td>10473</td>\n      <td>0.9761</td>\n    </tr>\n    <tr>\n      <th>4</th>\n      <td>10454</td>\n      <td>0.9752</td>\n    </tr>\n    <tr>\n      <th>5</th>\n      <td>10455</td>\n      <td>0.9752</td>\n    </tr>\n    <tr>\n      <th>...</th>\n      <td>...</td>\n      <td>...</td>\n    </tr>\n    <tr>\n      <th>2889</th>\n      <td>10303</td>\n      <td>0.5113</td>\n    </tr>\n    <tr>\n      <th>2890</th>\n      <td>10314</td>\n      <td>0.5113</td>\n    </tr>\n    <tr>\n      <th>2891</th>\n      <td>10303</td>\n      <td>0.9625</td>\n    </tr>\n    <tr>\n      <th>2892</th>\n      <td>10303</td>\n      <td>0.9183</td>\n    </tr>\n    <tr>\n      <th>2893</th>\n      <td>10303</td>\n      <td>0.5075</td>\n    </tr>\n  </tbody>\n</table>\n<p>2830 rows × 2 columns</p>\n</div>"
     },
     "metadata": {},
     "execution_count": 95
    }
   ],
   "source": [
    "data = data[data['RPL_THEMES'] != -999.0000]\n",
    "data"
   ]
  },
  {
   "cell_type": "code",
   "execution_count": 98,
   "metadata": {},
   "outputs": [
    {
     "output_type": "execute_result",
     "data": {
      "text/plain": [
       "    modzcta  RPL_THEMES\n",
       "1     10473      0.9544\n",
       "2     10473      0.6322\n",
       "3     10473      0.9761\n",
       "6     10473      0.9710\n",
       "8     10473      0.1060\n",
       "12    10473      0.8002\n",
       "19    10473      0.8665\n",
       "23    10473      0.9496\n",
       "27    10473      0.9890\n",
       "57    10473      0.8427\n",
       "67    10473      0.6015\n",
       "70    10473      0.9719\n",
       "74    10473      0.9801\n",
       "80    10473      0.8537"
      ],
      "text/html": "<div>\n<style scoped>\n    .dataframe tbody tr th:only-of-type {\n        vertical-align: middle;\n    }\n\n    .dataframe tbody tr th {\n        vertical-align: top;\n    }\n\n    .dataframe thead th {\n        text-align: right;\n    }\n</style>\n<table border=\"1\" class=\"dataframe\">\n  <thead>\n    <tr style=\"text-align: right;\">\n      <th></th>\n      <th>modzcta</th>\n      <th>RPL_THEMES</th>\n    </tr>\n  </thead>\n  <tbody>\n    <tr>\n      <th>1</th>\n      <td>10473</td>\n      <td>0.9544</td>\n    </tr>\n    <tr>\n      <th>2</th>\n      <td>10473</td>\n      <td>0.6322</td>\n    </tr>\n    <tr>\n      <th>3</th>\n      <td>10473</td>\n      <td>0.9761</td>\n    </tr>\n    <tr>\n      <th>6</th>\n      <td>10473</td>\n      <td>0.9710</td>\n    </tr>\n    <tr>\n      <th>8</th>\n      <td>10473</td>\n      <td>0.1060</td>\n    </tr>\n    <tr>\n      <th>12</th>\n      <td>10473</td>\n      <td>0.8002</td>\n    </tr>\n    <tr>\n      <th>19</th>\n      <td>10473</td>\n      <td>0.8665</td>\n    </tr>\n    <tr>\n      <th>23</th>\n      <td>10473</td>\n      <td>0.9496</td>\n    </tr>\n    <tr>\n      <th>27</th>\n      <td>10473</td>\n      <td>0.9890</td>\n    </tr>\n    <tr>\n      <th>57</th>\n      <td>10473</td>\n      <td>0.8427</td>\n    </tr>\n    <tr>\n      <th>67</th>\n      <td>10473</td>\n      <td>0.6015</td>\n    </tr>\n    <tr>\n      <th>70</th>\n      <td>10473</td>\n      <td>0.9719</td>\n    </tr>\n    <tr>\n      <th>74</th>\n      <td>10473</td>\n      <td>0.9801</td>\n    </tr>\n    <tr>\n      <th>80</th>\n      <td>10473</td>\n      <td>0.8537</td>\n    </tr>\n  </tbody>\n</table>\n</div>"
     },
     "metadata": {},
     "execution_count": 98
    }
   ],
   "source": [
    "data[data['modzcta'] == 10473]"
   ]
  },
  {
   "cell_type": "code",
   "execution_count": 103,
   "metadata": {},
   "outputs": [
    {
     "output_type": "execute_result",
     "data": {
      "text/plain": [
       "Empty DataFrame\n",
       "Columns: [modzcta, avgsvi]\n",
       "Index: []"
      ],
      "text/html": "<div>\n<style scoped>\n    .dataframe tbody tr th:only-of-type {\n        vertical-align: middle;\n    }\n\n    .dataframe tbody tr th {\n        vertical-align: top;\n    }\n\n    .dataframe thead th {\n        text-align: right;\n    }\n</style>\n<table border=\"1\" class=\"dataframe\">\n  <thead>\n    <tr style=\"text-align: right;\">\n      <th></th>\n      <th>modzcta</th>\n      <th>avgsvi</th>\n    </tr>\n  </thead>\n  <tbody>\n  </tbody>\n</table>\n</div>"
     },
     "metadata": {},
     "execution_count": 103
    }
   ],
   "source": [
    "merged = pandas.DataFrame(columns=['modzcta', 'avgsvi'])\n",
    "merged"
   ]
  },
  {
   "cell_type": "code",
   "execution_count": 104,
   "metadata": {},
   "outputs": [
    {
     "output_type": "execute_result",
     "data": {
      "text/plain": [
       "     modzcta    avgsvi\n",
       "0      10473  0.821064\n",
       "1      10454  0.975442\n",
       "2      10455  0.961394\n",
       "3      10472  0.956680\n",
       "4      10451  0.938777\n",
       "..       ...       ...\n",
       "172    10312  0.233494\n",
       "173    10314  0.410404\n",
       "174    10307  0.215775\n",
       "175    10309  0.208713\n",
       "176    10303  0.694758\n",
       "\n",
       "[177 rows x 2 columns]"
      ],
      "text/html": "<div>\n<style scoped>\n    .dataframe tbody tr th:only-of-type {\n        vertical-align: middle;\n    }\n\n    .dataframe tbody tr th {\n        vertical-align: top;\n    }\n\n    .dataframe thead th {\n        text-align: right;\n    }\n</style>\n<table border=\"1\" class=\"dataframe\">\n  <thead>\n    <tr style=\"text-align: right;\">\n      <th></th>\n      <th>modzcta</th>\n      <th>avgsvi</th>\n    </tr>\n  </thead>\n  <tbody>\n    <tr>\n      <th>0</th>\n      <td>10473</td>\n      <td>0.821064</td>\n    </tr>\n    <tr>\n      <th>1</th>\n      <td>10454</td>\n      <td>0.975442</td>\n    </tr>\n    <tr>\n      <th>2</th>\n      <td>10455</td>\n      <td>0.961394</td>\n    </tr>\n    <tr>\n      <th>3</th>\n      <td>10472</td>\n      <td>0.956680</td>\n    </tr>\n    <tr>\n      <th>4</th>\n      <td>10451</td>\n      <td>0.938777</td>\n    </tr>\n    <tr>\n      <th>...</th>\n      <td>...</td>\n      <td>...</td>\n    </tr>\n    <tr>\n      <th>172</th>\n      <td>10312</td>\n      <td>0.233494</td>\n    </tr>\n    <tr>\n      <th>173</th>\n      <td>10314</td>\n      <td>0.410404</td>\n    </tr>\n    <tr>\n      <th>174</th>\n      <td>10307</td>\n      <td>0.215775</td>\n    </tr>\n    <tr>\n      <th>175</th>\n      <td>10309</td>\n      <td>0.208713</td>\n    </tr>\n    <tr>\n      <th>176</th>\n      <td>10303</td>\n      <td>0.694758</td>\n    </tr>\n  </tbody>\n</table>\n<p>177 rows × 2 columns</p>\n</div>"
     },
     "metadata": {},
     "execution_count": 104
    }
   ],
   "source": [
    "for mod in data['modzcta'].unique():\n",
    "    tmpdict = {}\n",
    "    tmpdata = data[data['modzcta'] == mod]\n",
    "    tmpdict['modzcta'] = mod\n",
    "    tmpdict['avgsvi'] = tmpdata['RPL_THEMES'].sum() / len(tmpdata)\n",
    "    merged = merged.append(tmpdict, ignore_index=True)\n",
    "merged = merged.astype({'modzcta': 'int64'})\n",
    "merged"
   ]
  },
  {
   "cell_type": "code",
   "execution_count": 105,
   "metadata": {},
   "outputs": [],
   "source": [
    "merged.to_csv('../datas/04-svi/svi-merged.csv', index=False)"
   ]
  },
  {
   "cell_type": "code",
   "execution_count": null,
   "metadata": {},
   "outputs": [],
   "source": []
  }
 ]
}