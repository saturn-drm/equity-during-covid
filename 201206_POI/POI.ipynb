{
 "cells": [
  {
   "cell_type": "code",
   "execution_count": 33,
   "metadata": {},
   "outputs": [],
   "source": [
    "import pandas as pd\n",
    "import numpy as np\n",
    "import zipfile\n",
    "import csv\n",
    "import geopandas as gpd\n",
    "import json"
   ]
  },
  {
   "cell_type": "code",
   "execution_count": 38,
   "metadata": {},
   "outputs": [],
   "source": [
    "json_file = open(\"../99_RESOURCES/POI/Points Of Interest.geojson\", 'r')\n",
    "POI_list = json_obj[\"features\"]\n",
    "name_list = []\n",
    "type_list = []\n",
    "lat_list = []\n",
    "lng_list = []\n",
    "\n",
    "for i in POI_list:\n",
    "    name_list.append(i[\"properties\"][\"name\"])\n",
    "\n",
    "for i in POI_list:\n",
    "    type_list.append(i[\"properties\"][\"facility_t\"])\n",
    "\n",
    "for i in POI_list:\n",
    "    lat_list.append(i[\"geometry\"][\"coordinates\"][1])\n",
    "\n",
    "for i in POI_list:\n",
    "    lng_list.append(i[\"geometry\"][\"coordinates\"][0])\n",
    "    \n",
    "    \n",
    "POI_df = pd.DataFrame(\n",
    "    {'Name': name_list,\n",
    "     'facility_t': type_list,\n",
    "     'lat': lat_list,\n",
    "     'lng': lng_list\n",
    "    })\n",
    "\n",
    "POI_med_df = POI_df[POI_df['facility_t'] ==\"10\"]\n",
    "\n",
    "POI_med_df.to_csv('01_EXPORT CSV/POI_med.csv',index=False)"
   ]
  },
  {
   "cell_type": "code",
   "execution_count": null,
   "metadata": {},
   "outputs": [],
   "source": []
  }
 ],
 "metadata": {
  "kernelspec": {
   "display_name": "Python 3",
   "language": "python",
   "name": "python3"
  },
  "language_info": {
   "codemirror_mode": {
    "name": "ipython",
    "version": 3
   },
   "file_extension": ".py",
   "mimetype": "text/x-python",
   "name": "python",
   "nbconvert_exporter": "python",
   "pygments_lexer": "ipython3",
   "version": "3.8.3"
  }
 },
 "nbformat": 4,
 "nbformat_minor": 4
}
